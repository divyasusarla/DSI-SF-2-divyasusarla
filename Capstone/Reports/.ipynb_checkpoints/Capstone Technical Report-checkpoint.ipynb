{
 "cells": [
  {
   "cell_type": "markdown",
   "metadata": {},
   "source": [
    "## Technical report requirements\n",
    "1. Clearly defined problem statement/goal.\n",
    "2. Description of data, including the source.\n",
    "3. Description of relevant data cleaning and munging.\n",
    "        a. Code included where appropriate.\n",
    "4. EDA relevant to your problem statement.\n",
    "        a. Record of any changes to data informed by EDA.\n",
    "        b. Record of quality assessment and any assumptions that you are making based on the EDA.\n",
    "5. Description of model selection.\n",
    "        a. This should address why you have selected the model or models to answer your question\n",
    "        b. Why the choice is appropriate.\n",
    "6. Well-documented code of modeling you performed to answer your question.\n",
    "7. Description of results.\n",
    "        a. Includes relevant code, metrics, and visualizations that describe your results.\n",
    "        b. Explanation of all metrics and charts.\n",
    "8. Conclusion.\n",
    "        a. Summarize your findings, addressing the strengths and weaknesses of your approach.\n",
    "        b. Recommendations and future directions.\n",
    "\n",
    "\n",
    "NOTE: Your code should be well-organized, well-documented, and limited to only the code that is relevant in the report. If you have a lot of parsing/munging code that distracts from the flow of the report you can keep this in another submitted file and mention it or link to it. Make sure to explain why you perform coding steps along the way."
   ]
  },
  {
   "cell_type": "markdown",
   "metadata": {},
   "source": [
    "## Goal:\n",
    "\n",
    "Selecting a bottle of wine, whether for yourself or a friend can be a daunting task. What if there were taste profiles that you could look towards with a preset list of types of wines you would enjoy to choose from? That's the goal of my project, to create taste profiles and make the process of selecting wine more enjoyable."
   ]
  },
  {
   "cell_type": "markdown",
   "metadata": {},
   "source": [
    "## The Data:\n",
    "\n",
    "I began the process of data collection by sourcing many different websites that had curated lists of wines. I eventually landed on using the site vivino.com as it had one of the largest databases of wine. I set up four different scraping notebooks split by red wine and white wine. \n",
    "\n",
    "Data Gathering process:\n",
    "\n",
    "Step 1: I needed to use webdriver from Selenium to pull my links for each wine page. I scraped the site vivino for the urls to each wine and saved every 100 instances to a txt file. I ran this code for both red wine links and white wine links separately.\n",
    "\n",
    "Step 2: Once I had all of the links, I set up iterations that ran through each url and utilizing xpaths grabbed the underlying wine details.\n",
    "\n",
    "Step 3: Using the same wine urls, I set up another iteration to run through each page and using both webdriver and xpaths, I was able to gather the data for the wine, user and reviews of the particular wine.\n",
    "\n",
    "Step 4: I used the OS package in python to find all the iterations of raw data files that I gathered and concatenated them into 4 datasets. \n",
    "\n",
    "Key Takeaways/Lessons Learned:\n",
    "It was important to save every 100 instances to a file since the scraping itself took hours to complete. At one point I lost connection and so it was necessary to save as I went to be able to pick up where the data gathering process stopped. Running wine details and wine reviews in separate notebooks and splitting each by red and white wine was imperative to getting the scraping finished so that I could run the notebooks in parallel. \n",
    "\n",
    "Data I have to work with:\n",
    "\n",
    "4 csv files:\n",
    "\n",
    "   1. Red Wine Details: wine name, winery, region, country, avg rating and avg price\n",
    "   2. White Wine Details: wine name, winery, region, country, avg rating and avg price\n",
    "   3. Red Wine Reviews: wine, user and reviews\n",
    "   4. White Wine Reviews: wine, user and reviews\n",
    "\n",
    "Here is the link to the raw data gathering code:\n",
    "[Raw Data](https://github.com/divyasusarla/DSI-SF-2-divyasusarla/tree/master/Capstone/Raw_Data)"
   ]
  },
  {
   "cell_type": "markdown",
   "metadata": {},
   "source": [
    "## Data Cleaning:\n",
    "\n",
    "Cleaning the wine details (both red and white) data steps:\n",
    "1. Create an index for the wine (to be able to plot)\n",
    "2. Change column headers to match the column information\n",
    "3. Convert average ratings and average price data from objects to floats\n",
    "4. Pull out year from the wine names\n",
    "5. Clean up wine, wineries, regions, countries from unicode.\n",
    "\n",
    "In both the details datasets, where there were missing values, I converted them to null (NaN) values.\n",
    "\n",
    "Initial cleaning of the reviews data:\n",
    "1. Created an index for the review\n",
    "2. Removed the \\n characters from the review text.\n",
    "\n",
    "Here is the link to the data cleaning code:\n",
    "[Clean Data](https://github.com/divyasusarla/DSI-SF-2-divyasusarla/tree/master/Capstone/Clean_Data)"
   ]
  },
  {
   "cell_type": "markdown",
   "metadata": {},
   "source": [
    "## EDA relevant to creating wine taste profiles"
   ]
  },
  {
   "cell_type": "markdown",
   "metadata": {},
   "source": [
    "To get a better sense of the wine details data I plotted the wines to see the spread across prices, countries, regions, year and ratings. I didn't make any further changes to the details data through plotting. \n",
    "\n",
    "Here is the link to the plotting:\n",
    "[Plotting Code](https://github.com/divyasusarla/DSI-SF-2-divyasusarla/tree/master/Capstone/Plotting%20EDA)\n",
    "\n",
    "\n",
    "For the reviews data, I have constructed LDA topic modeling to get features with the highest probability of being in a review. The topic modeling was the toughest piece to refine the documents passed through the topic model to garner fruitful information. I am still in the process of refining this aspect and constructing the white wine topic model. \n",
    "\n",
    "Here is the link to the topic modeling:\n",
    "[Red Wine LDA analysis](https://github.com/divyasusarla/DSI-SF-2-divyasusarla/tree/master/Capstone/LDA%20analysis)\n",
    "Will add White Wine LDA"
   ]
  },
  {
   "cell_type": "markdown",
   "metadata": {
    "collapsed": true
   },
   "source": [
    "# Model, Results, Conclusion\n",
    "\n",
    "I will be working with clustering algorithms to create my taste profiles. Stay tuned!"
   ]
  },
  {
   "cell_type": "code",
   "execution_count": null,
   "metadata": {
    "collapsed": true
   },
   "outputs": [],
   "source": []
  }
 ],
 "metadata": {
  "anaconda-cloud": {},
  "kernelspec": {
   "display_name": "Python [dsi]",
   "language": "python",
   "name": "Python [dsi]"
  },
  "language_info": {
   "codemirror_mode": {
    "name": "ipython",
    "version": 2
   },
   "file_extension": ".py",
   "mimetype": "text/x-python",
   "name": "python",
   "nbconvert_exporter": "python",
   "pygments_lexer": "ipython2",
   "version": "2.7.12"
  }
 },
 "nbformat": 4,
 "nbformat_minor": 0
}
