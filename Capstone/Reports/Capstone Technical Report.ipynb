{
 "cells": [
  {
   "cell_type": "markdown",
   "metadata": {},
   "source": [
    "# Goal:\n",
    "\n",
    "How can we improve the process of selecting a bottle of wine?"
   ]
  },
  {
   "cell_type": "markdown",
   "metadata": {},
   "source": [
    "# The Data:\n",
    "\n",
    "I began the process of data collection by sourcing many different websites that had curated lists of wines. I eventually landed on using the site vivino.com as it had one of the largest databases of wine. I set up four different scraping notebooks split by red wine and white wine. \n",
    "\n",
    "Data Gathering process:\n",
    "\n",
    "Step 1: I needed to use webdriver from Selenium to pull my links for each wine page. I scraped the site vivino for the urls to each wine and saved every 100 instances to a txt file. I ran this code for both red wine links and white wine links separately.\n",
    "\n",
    "Step 2: Once I had all of the links, I set up iterations that ran through each url and utilizing xpaths grabbed the underlying wine details.\n",
    "\n",
    "Step 3: Using the same wine urls, I set up another iteration to run through each page and using both webdriver and xpaths, I was able to gather the data for the wine, user and reviews of the particular wine.\n",
    "\n",
    "Step 4: I used the OS package in python to find all the iterations of raw data files that I gathered and concatenated them into 4 datasets. \n",
    "\n",
    "Key Takeaways/Lessons Learned:\n",
    "It was important to save every 100 instances to a file since the scraping itself took hours to complete. At one point I lost connection and so it was necessary to save as I went to be able to pick up where the data gathering process stopped. Running wine details and wine reviews in separate notebooks and splitting each by red and white wine was imperative to getting the scraping finished so that I could run the notebooks in parallel. \n",
    "\n",
    "Data I have to work with:\n",
    "\n",
    "4 csv files:\n",
    "\n",
    "   1. Red Wine Details: wine name, winery, region, country, avg rating and avg price\n",
    "   2. White Wine Details: wine name, winery, region, country, avg rating and avg price\n",
    "   3. Red Wine Reviews: wine, user and reviews\n",
    "   4. White Wine Reviews: wine, user and reviews\n",
    "\n",
    "Here is the link to the raw data gathering code:\n",
    "[Raw Data](https://github.com/divyasusarla/DSI-SF-2-divyasusarla/tree/master/Capstone/Raw_Data)"
   ]
  },
  {
   "cell_type": "markdown",
   "metadata": {},
   "source": [
    "# Data Cleaning:\n",
    "\n",
    "Cleaning the wine details (both red and white) data steps:\n",
    "1. Create an index for the wine (to be able to plot)\n",
    "2. Change column headers to match the column information\n",
    "3. Convert average ratings and average price data from objects to floats\n",
    "4. Pull out year from the wine names\n",
    "5. Clean up wine, wineries, regions, countries from unicode.\n",
    "\n",
    "In both the details datasets, where there were missing values, I converted them to null (NaN) values.\n",
    "\n",
    "Initial cleaning of the reviews data:\n",
    "1. Created an index for the review\n",
    "2. Removed the \\n characters from the review text.\n",
    "\n",
    "Here is the link to the data cleaning code:\n",
    "[Clean Data](https://github.com/divyasusarla/DSI-SF-2-divyasusarla/tree/master/Capstone/Clean_Data)"
   ]
  },
  {
   "cell_type": "markdown",
   "metadata": {},
   "source": [
    "# Relevant EDA:"
   ]
  },
  {
   "cell_type": "markdown",
   "metadata": {},
   "source": [
    "To get a better sense of the wine details data I plotted the wines to see the spread across prices, countries, regions, year and ratings. I didn't make any further changes to the details data through plotting. \n",
    "\n",
    "Here is the link to the plotting:\n",
    "[Plotting Code](https://github.com/divyasusarla/DSI-SF-2-divyasusarla/tree/master/Capstone/Plotting_EDA)\n",
    "\n",
    "\n",
    "For the reviews data, I have constructed LDA topic modeling to get features with the highest probability of being in a review. The topic modeling was the toughest piece to refine the documents passed through the topic model to garner fruitful information. Adding parameters to the LDA model was essential to finding more relevant topics.  \n",
    "\n",
    "Here is the link to the topic modeling:\n",
    "[LDA analysis](https://github.com/divyasusarla/DSI-SF-2-divyasusarla/tree/master/Capstone/LDA_analysis)"
   ]
  },
  {
   "cell_type": "markdown",
   "metadata": {
    "collapsed": true
   },
   "source": [
    "# Model, Results:"
   ]
  },
  {
   "cell_type": "markdown",
   "metadata": {
    "collapsed": true
   },
   "source": [
    "From the topic modeling, I merged my wine details, reviews and topic probabilities datasets to see what the impact of the topics on the wine prices and ratings would be. In the merging of my data frames, I lost some of my wines as there were a few wine names that were not discernible from each other, I made the decision to not inlcude them.\n",
    "\n",
    "I wanted to see if certain topics could lend themselves to higher priced wines or higher rated wines.\n",
    "\n",
    "Model: \n",
    "\n",
    "Since I have continuous data and want to predict the price and ratings fromt the topic probabilites I chose linear regression. I ran two linear regressions each for white and red wine. In the first, I set price as my target and my topic probabiliites as my predictors, and in the second I set ratings as my target with the same predictor matrix.\n",
    "\n",
    "Results: In fact, the topics did not have a correlation to the prices or the wine ratings. I found this particularly suprising with the ratings, it appears to be that despite what the reviewer said about the wines, there was no correlation to their rating of the wine. \n",
    "\n",
    "Here is a link to the linear regression modeling:\n",
    "[Linear Regression Models](https://github.com/divyasusarla/DSI-SF-2-divyasusarla/tree/master/Capstone/Modeling)"
   ]
  },
  {
   "cell_type": "markdown",
   "metadata": {},
   "source": [
    "# Conclusion and Next Steps:\n",
    "\n",
    "While the topic modeling was effective to understand what was being discussed in the wine reviews, it was interesting to see that the ratings in particular had no correlation to the review topics themselves. It could be a better approach to see if sentiment analysis would be more correlated to the ratings than the topics.\n",
    "\n",
    "Since my goal is to improve the process of selecting a wine, I think building a recommender system would be a good aproach."
   ]
  }
 ],
 "metadata": {
  "anaconda-cloud": {},
  "kernelspec": {
   "display_name": "Python [dsi]",
   "language": "python",
   "name": "Python [dsi]"
  },
  "language_info": {
   "codemirror_mode": {
    "name": "ipython",
    "version": 2
   },
   "file_extension": ".py",
   "mimetype": "text/x-python",
   "name": "python",
   "nbconvert_exporter": "python",
   "pygments_lexer": "ipython2",
   "version": "2.7.12"
  }
 },
 "nbformat": 4,
 "nbformat_minor": 0
}
