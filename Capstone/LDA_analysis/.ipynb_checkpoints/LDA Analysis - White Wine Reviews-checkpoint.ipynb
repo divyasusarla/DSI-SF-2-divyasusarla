{
 "cells": [
  {
   "cell_type": "markdown",
   "metadata": {},
   "source": [
    "# LDA Analysis on White Wine Reviews:"
   ]
  },
  {
   "cell_type": "code",
   "execution_count": 1,
   "metadata": {
    "collapsed": true
   },
   "outputs": [],
   "source": [
    "import pandas as pd\n",
    "import numpy as np\n",
    "from sklearn.feature_extraction.text import TfidfVectorizer, CountVectorizer\n",
    "from sklearn.decomposition import NMF, LatentDirichletAllocation\n",
    "from sklearn.feature_extraction import text\n",
    "from gensim import corpora, models, matutils\n",
    "import nltk\n",
    "import re\n",
    "from nltk.corpus import stopwords\n",
    "import seaborn as sns\n",
    "import matplotlib.pyplot as plt\n",
    "\n",
    "%matplotlib inline\n",
    "plt.style.use('fivethirtyeight')"
   ]
  },
  {
   "cell_type": "code",
   "execution_count": 2,
   "metadata": {
    "collapsed": true
   },
   "outputs": [],
   "source": [
    "white_clean = pd.read_csv('/Users/divyasusarla/Desktop/DSI-SF-2-divyasusarla/Capstone/Clean_Data/white_reviews_clean.csv', encoding='utf-8')"
   ]
  },
  {
   "cell_type": "code",
   "execution_count": 3,
   "metadata": {
    "collapsed": true
   },
   "outputs": [],
   "source": [
    "del white_clean['Unnamed: 0']\n",
    "white_clean.dropna(inplace=True)"
   ]
  },
  {
   "cell_type": "code",
   "execution_count": 24,
   "metadata": {
    "collapsed": false,
    "scrolled": true
   },
   "outputs": [
    {
     "data": {
      "text/plain": [
       "(96407, 4)"
      ]
     },
     "execution_count": 24,
     "metadata": {},
     "output_type": "execute_result"
    }
   ],
   "source": [
    "white_clean.shape"
   ]
  },
  {
   "cell_type": "markdown",
   "metadata": {},
   "source": [
    "# Create stopwords:"
   ]
  },
  {
   "cell_type": "code",
   "execution_count": 9,
   "metadata": {
    "collapsed": true
   },
   "outputs": [],
   "source": [
    "def identify_stop_words(data):\n",
    "    white_clean['word_check'] = white_clean.white_review.map(\n",
    "        lambda x: re.findall(r'\\w*\\d\\w*', x) if len(re.findall(r'\\w*\\d\\w*', x))>0 else np.nan)\n",
    "    corpus_words = [word for sent in white_clean.word_check[~white_clean.word_check.isnull()] for word in sent]\n",
    "    corpus_words = list(set(corpus_words))\n",
    "    nltk_stop = list(stopwords.words('english'))\n",
    "    white_clean.drop('word_check',axis=1,inplace=True)\n",
    "    my_stop_words = nltk_stop + corpus_words\n",
    "    return my_stop_words"
   ]
  },
  {
   "cell_type": "code",
   "execution_count": 10,
   "metadata": {
    "collapsed": false
   },
   "outputs": [],
   "source": [
    "my_stop_words = identify_stop_words(white_clean.white_review) + ['great', 'wine', 'nice', 'needs', 'time', 'white', \n",
    "                                                            'good', 'nose', 'bottle', 'palate', 'little', \n",
    "                                                             'best', 'wines', 'years', 'colour', 'color', 'excellent', \n",
    "                                                             'price', 'point', 'mouth', 'feel', 'value', 'lovely', \n",
    "                                                             'another', 'easy', 'drink', 'drinking', 'birthday', 'wife', \n",
    "                                                             'day', 'amongst', 'across', 'hours', 'hour', 'year', \n",
    "                                                             'wonderfull', 'amazing', 'well', 'one', 'second', 'new', \n",
    "                                                             'dinner', 'perfect', 'wow', 'buy', 'nicely', \n",
    "                                                             'beautifully', 'ever', 'tasted', 'sauv', 'blanc', \n",
    "                                                                'sauvignon', 'blanc', 'pinot', 'grigio']"
   ]
  },
  {
   "cell_type": "code",
   "execution_count": 11,
   "metadata": {
    "collapsed": true
   },
   "outputs": [],
   "source": [
    "review = white_clean['white_review']"
   ]
  },
  {
   "cell_type": "markdown",
   "metadata": {},
   "source": [
    "# Visualize the spread of words by count and percentile:"
   ]
  },
  {
   "cell_type": "code",
   "execution_count": 12,
   "metadata": {
    "collapsed": true
   },
   "outputs": [],
   "source": [
    "vectorizer = CountVectorizer(stop_words= my_stop_words, ngram_range=(2,2))\n",
    "X = vectorizer.fit_transform(review)\n",
    "X = X.todense()"
   ]
  },
  {
   "cell_type": "code",
   "execution_count": 13,
   "metadata": {
    "collapsed": true
   },
   "outputs": [],
   "source": [
    "# words = pd.DataFrame(X, columns=vectorizer.get_feature_names())\n",
    "# word_count = words.sum(axis=0).reset_index()\n",
    "# word_count.columns = ['words','counts']\n",
    "# word_count.sort_values('counts', ascending=False, inplace=True)\n",
    "# word_count.head(50).plot(x='words', y='counts', kind='bar', figsize=(18,7))"
   ]
  },
  {
   "cell_type": "code",
   "execution_count": 14,
   "metadata": {
    "collapsed": true
   },
   "outputs": [],
   "source": [
    "# word_count_percentiles = pd.DataFrame({\n",
    "#         'percentile':np.arange(1,100,1),\n",
    "#         'word_count':np.percentile(word_count.counts, np.arange(1., 100., 1))\n",
    "#     })\n",
    "# word_count_percentiles.plot(x='percentile', y='word_count', kind='bar', figsize=(18,7))"
   ]
  },
  {
   "cell_type": "markdown",
   "metadata": {},
   "source": [
    "# Set up LDA"
   ]
  },
  {
   "cell_type": "code",
   "execution_count": 16,
   "metadata": {
    "collapsed": true
   },
   "outputs": [],
   "source": [
    "# use the counter option to get the most common words. \n",
    "from collections import Counter\n",
    "# Count the most common tokens \n",
    "summaries = \"\".join(white_clean['white_review'])\n",
    "vocab_summaries = vectorizer.build_analyzer()(summaries)\n",
    "white_vocab = Counter(vocab_summaries).most_common(5000)\n",
    "white_vocab = dict(white_vocab)\n",
    "\n",
    "vectorizer2 = CountVectorizer(vocabulary=white_vocab.keys(), stop_words= my_stop_words, ngram_range=(2,2))\n",
    "X2 = vectorizer2.fit_transform(review)\n",
    "X2.shape\n",
    "X2.todense()\n",
    "\n",
    "vocab2 = {v: k for k, v in vectorizer2.vocabulary_.iteritems()}\n",
    "\n",
    "lda2 = models.LdaModel(\n",
    "   matutils.Sparse2Corpus(X2, documents_columns=False),\n",
    "   num_topics  =  25,\n",
    "   passes      =  25,\n",
    "   iterations = 2500,\n",
    "   id2word     =  vocab2,\n",
    "   eval_every = 100,\n",
    "   chunksize = 2000\n",
    ")"
   ]
  },
  {
   "cell_type": "code",
   "execution_count": 17,
   "metadata": {
    "collapsed": false
   },
   "outputs": [
    {
     "data": {
      "text/plain": [
       "[(0,\n",
       "  u'0.041*long finish + 0.040*green apple + 0.037*medium plus + 0.028*semi dry + 0.027*acidity long + 0.026*orange blossom + 0.026*acidity finish + 0.025*dry sweet + 0.022*buttery finish + 0.016*clean fresh'),\n",
       " (1,\n",
       "  u'0.066*light crisp + 0.061*medium acidity + 0.054*fruity sweet + 0.040*crisp dry + 0.040*full body + 0.028*dry medium + 0.021*lime zest + 0.019*creamy texture + 0.018*oak vanilla + 0.016*sweet finish'),\n",
       " (2,\n",
       "  u'0.052*crisp clean + 0.043*fruity dry + 0.032*sweet fruity + 0.027*med body + 0.027*fruit notes + 0.020*citrus peach + 0.017*fruity fresh + 0.014*ever tasted + 0.014*med finish + 0.014*toasted oak'),\n",
       " (3,\n",
       "  u'0.062*light refreshing + 0.058*light fruity + 0.056*green apples + 0.023*hint oak + 0.021*lemon green + 0.018*fruity taste + 0.017*dry slightly + 0.015*bone dry + 0.014*fruity flavor + 0.013*fruit apple'),\n",
       " (4,\n",
       "  u'0.048*sauv blanc + 0.036*crisp fruity + 0.032*peach apricot + 0.025*apple peach + 0.024*cut grass + 0.022*stone fruit + 0.021*perfectly balanced + 0.018*old world + 0.015*peach melon + 0.014*stone fruits'),\n",
       " (5,\n",
       "  u'0.047*citrus notes + 0.033*fresh crisp + 0.031*slightly sweet + 0.029*sweet dry + 0.018*pear apple + 0.017*light golden + 0.015*fresh acidity + 0.013*oak finish + 0.013*citrus flavours + 0.012*light fresh'),\n",
       " (6,\n",
       "  u'0.080*medium bodied + 0.042*light citrus + 0.029*pale straw + 0.025*citrus finish + 0.022*oak butter + 0.018*sweet taste + 0.018*light fruit + 0.017*stone fruit + 0.015*citrus grapefruit + 0.015*sweet light'),\n",
       " (7,\n",
       "  u'0.064*high acidity + 0.064*dry finish + 0.028*long finish + 0.020*pear lemon + 0.015*malolactic fermentation + 0.013*medium full + 0.012*pear pineapple + 0.012*full body + 0.012*peach notes + 0.011*yellow plum'),\n",
       " (8,\n",
       "  u'0.124*long finish + 0.035*citrus fruit + 0.032*dry riesling + 0.024*fruit flavors + 0.021*hints citrus + 0.021*california chardonnay + 0.020*lemon grapefruit + 0.019*smells like + 0.018*slightly dry + 0.015*stone fruit'),\n",
       " (9,\n",
       "  u'0.132*full bodied + 0.043*lingering finish + 0.035*light bodied + 0.031*light oak + 0.020*lemon peel + 0.019*grand cru + 0.014*smooth fruity + 0.013*crisp tart + 0.013*citrus taste + 0.012*light butter'),\n",
       " (10,\n",
       "  u'0.180*sauvignon blanc + 0.021*slightly acidic + 0.019*vanilla oak + 0.018*fresh citrus + 0.015*citrus aromas + 0.015*acidic finish + 0.014*citrus zest + 0.013*red apple + 0.012*oaked chardonnay + 0.011*refreshing finish'),\n",
       " (11,\n",
       "  u'0.109*medium body + 0.052*medium finish + 0.041*stone fruits + 0.034*acidity medium + 0.031*pale lemon + 0.026*light medium + 0.026*apple lemon + 0.026*high acidity + 0.021*body medium + 0.020*clear pale'),\n",
       " (12,\n",
       "  u'0.047*fruit forward + 0.036*crisp finish + 0.029*bright acidity + 0.027*fresh fruity + 0.027*green pepper + 0.027*green fruit + 0.023*hot summer + 0.019*smooth light + 0.019*really like + 0.016*long legs'),\n",
       " (13,\n",
       "  u'0.041*short finish + 0.028*balance fruit + 0.024*fruity refreshing + 0.023*fruit acidity + 0.023*residual sugar + 0.023*light dry + 0.019*acidity balance + 0.016*german riesling + 0.014*slightly floral + 0.013*ripe apple'),\n",
       " (14,\n",
       "  u'0.038*crisp acidity + 0.029*balance acidity + 0.020*yellow green + 0.019*floral aromas + 0.018*pear peach + 0.016*apples pears + 0.015*crisp taste + 0.015*lively acidity + 0.015*medium intensity + 0.014*dry clean'),\n",
       " (15,\n",
       "  u'0.071*dry crisp + 0.050*passion fruit + 0.035*taste like + 0.025*semi sweet + 0.023*ripe fruit + 0.022*pinot noir + 0.018*light floral + 0.013*like pinot + 0.013*tart finish + 0.012*creme br\\xfbl\\xe9e'),\n",
       " (16,\n",
       "  u'0.051*mineral finish + 0.034*fruity light + 0.034*fruity crisp + 0.024*citrus flavors + 0.021*bit sweet + 0.021*overly sweet + 0.017*citrus flavor + 0.016*apple pineapple + 0.015*meyer lemon + 0.015*spicy food'),\n",
       " (17,\n",
       "  u'0.069*balanced acidity + 0.047*sav blanc + 0.047*clean finish + 0.030*fruity smooth + 0.027*crisp fresh + 0.021*almost like + 0.018*tropical notes + 0.016*right amount + 0.016*oak notes + 0.015*ripe peach'),\n",
       " (18,\n",
       "  u'0.143*green apple + 0.077*apple pear + 0.042*pale yellow + 0.038*tastes like + 0.018*rich creamy + 0.018*ripe pear + 0.015*fruit finish + 0.014*smooth balanced + 0.013*crisp green + 0.012*refreshing acidity'),\n",
       " (19,\n",
       "  u'0.045*smooth finish + 0.023*citrus lemon + 0.022*touch oak + 0.020*acidity minerality + 0.020*high alcohol + 0.020*peach pear + 0.018*creamy buttery + 0.017*medium dry + 0.016*dry smooth + 0.016*notes citrus'),\n",
       " (20,\n",
       "  u'0.063*floral notes + 0.035*pinot gris + 0.031*green apple + 0.029*light yellow + 0.028*high acid + 0.027*nothing special + 0.027*light straw + 0.024*low acidity + 0.020*apple lime + 0.019*fruit citrus'),\n",
       " (21,\n",
       "  u'0.044*green apple + 0.032*apple citrus + 0.029*unoaked chardonnay + 0.029*crisp citrus + 0.028*citrus fruits + 0.027*dry light + 0.026*much better + 0.023*lemon curd + 0.023*grapefruit lemon + 0.021*apple notes'),\n",
       " (22,\n",
       "  u'0.063*lemon lime + 0.047*light body + 0.036*mineral notes + 0.024*really enjoyed + 0.017*peach lemon + 0.015*notes pear + 0.015*pear notes + 0.014*pear melon + 0.013*dry mineral + 0.013*bit acidic'),\n",
       " (23,\n",
       "  u'0.066*stone fruit + 0.060*tropical fruits + 0.054*crisp refreshing + 0.044*lemon zest + 0.040*clean crisp + 0.039*straw yellow + 0.039*dry fruity + 0.026*lemon citrus + 0.020*pear citrus + 0.020*smooth buttery'),\n",
       " (24,\n",
       "  u'0.147*tropical fruit + 0.072*pinot grigio + 0.036*french oak + 0.032*crisp light + 0.023*chenin blanc + 0.020*crisp apple + 0.019*citrus green + 0.015*golden yellow + 0.014*fruit flavours + 0.014*butter oak')]"
      ]
     },
     "execution_count": 17,
     "metadata": {},
     "output_type": "execute_result"
    }
   ],
   "source": [
    "lda2.print_topics(num_topics=25, num_words=10)"
   ]
  },
  {
   "cell_type": "markdown",
   "metadata": {},
   "source": [
    "## Get the probabilities by topic into a dataframe:\n",
    "\n",
    "Below I am turning my documents into a format that can pass through the get_document_topics function, but I am also checking to see how many documents I have that contain data."
   ]
  },
  {
   "cell_type": "code",
   "execution_count": 18,
   "metadata": {
    "collapsed": true
   },
   "outputs": [],
   "source": [
    "bow = []\n",
    "blank_documents = 0\n",
    "for document in X2.toarray():\n",
    "    single_document = []\n",
    "    for token_id, token_count in enumerate(document):\n",
    "        \n",
    "        if token_count > 0:\n",
    "              single_document.append((token_id, token_count))\n",
    "            \n",
    "    if len(single_document)>0:\n",
    "        bow.append(single_document)\n",
    "    else:\n",
    "        blank_documents += 1\n",
    "        bow.append([])"
   ]
  },
  {
   "cell_type": "code",
   "execution_count": 19,
   "metadata": {
    "collapsed": false
   },
   "outputs": [
    {
     "data": {
      "text/plain": [
       "(96407, 31327)"
      ]
     },
     "execution_count": 19,
     "metadata": {},
     "output_type": "execute_result"
    }
   ],
   "source": [
    "len(bow), blank_documents"
   ]
  },
  {
   "cell_type": "code",
   "execution_count": 20,
   "metadata": {
    "collapsed": false
   },
   "outputs": [
    {
     "data": {
      "text/plain": [
       "[(0, 0.013333333333333334),\n",
       " (1, 0.013333333333333334),\n",
       " (2, 0.013333333333333334),\n",
       " (3, 0.013333333333333334),\n",
       " (4, 0.013333333333333334),\n",
       " (5, 0.013333333333333334),\n",
       " (6, 0.013333333333333334),\n",
       " (7, 0.013333333333333334),\n",
       " (8, 0.013333333333333334),\n",
       " (9, 0.013333333333333334),\n",
       " (10, 0.013333333333333334),\n",
       " (11, 0.013333333333333334),\n",
       " (12, 0.013333333333333334),\n",
       " (13, 0.013333333333333334),\n",
       " (14, 0.013333333333333334),\n",
       " (15, 0.013333333333333334),\n",
       " (16, 0.34666666666668405),\n",
       " (17, 0.013333333333333334),\n",
       " (18, 0.013333333333333334),\n",
       " (19, 0.013333333333333334),\n",
       " (20, 0.013333333333333334),\n",
       " (21, 0.013333333333333334),\n",
       " (22, 0.013333333333333334),\n",
       " (23, 0.013333333333333334),\n",
       " (24, 0.3466666666666493)]"
      ]
     },
     "execution_count": 20,
     "metadata": {},
     "output_type": "execute_result"
    }
   ],
   "source": [
    "lda2.get_document_topics(bow[6])"
   ]
  },
  {
   "cell_type": "code",
   "execution_count": 21,
   "metadata": {
    "collapsed": true
   },
   "outputs": [],
   "source": [
    "topic_proba =lda2.get_document_topics(bow)"
   ]
  },
  {
   "cell_type": "code",
   "execution_count": 22,
   "metadata": {
    "collapsed": true
   },
   "outputs": [],
   "source": [
    "topic_df = np.zeros((len(topic_proba), 25))\n",
    "for rowid, tp in enumerate(topic_proba):\n",
    "    for colid, p in tp:\n",
    "        topic_df[rowid, colid] = p\n",
    "        \n",
    "topic_df = pd.DataFrame(topic_df, columns=['t'+str(i+1) for i in range(topic_df.shape[1])])"
   ]
  },
  {
   "cell_type": "code",
   "execution_count": 23,
   "metadata": {
    "collapsed": false
   },
   "outputs": [
    {
     "data": {
      "text/html": [
       "<div>\n",
       "<table border=\"1\" class=\"dataframe\">\n",
       "  <thead>\n",
       "    <tr style=\"text-align: right;\">\n",
       "      <th></th>\n",
       "      <th>t1</th>\n",
       "      <th>t2</th>\n",
       "      <th>t3</th>\n",
       "      <th>t4</th>\n",
       "      <th>t5</th>\n",
       "      <th>t6</th>\n",
       "      <th>t7</th>\n",
       "      <th>t8</th>\n",
       "      <th>t9</th>\n",
       "      <th>t10</th>\n",
       "      <th>...</th>\n",
       "      <th>t16</th>\n",
       "      <th>t17</th>\n",
       "      <th>t18</th>\n",
       "      <th>t19</th>\n",
       "      <th>t20</th>\n",
       "      <th>t21</th>\n",
       "      <th>t22</th>\n",
       "      <th>t23</th>\n",
       "      <th>t24</th>\n",
       "      <th>t25</th>\n",
       "    </tr>\n",
       "  </thead>\n",
       "  <tbody>\n",
       "    <tr>\n",
       "      <th>0</th>\n",
       "      <td>0.010000</td>\n",
       "      <td>0.010000</td>\n",
       "      <td>0.010000</td>\n",
       "      <td>0.010000</td>\n",
       "      <td>0.010000</td>\n",
       "      <td>0.010000</td>\n",
       "      <td>0.010000</td>\n",
       "      <td>0.010000</td>\n",
       "      <td>0.010000</td>\n",
       "      <td>0.010000</td>\n",
       "      <td>...</td>\n",
       "      <td>0.010000</td>\n",
       "      <td>0.510000</td>\n",
       "      <td>0.010000</td>\n",
       "      <td>0.010000</td>\n",
       "      <td>0.010000</td>\n",
       "      <td>0.010000</td>\n",
       "      <td>0.010000</td>\n",
       "      <td>0.010000</td>\n",
       "      <td>0.010000</td>\n",
       "      <td>0.010000</td>\n",
       "    </tr>\n",
       "    <tr>\n",
       "      <th>1</th>\n",
       "      <td>0.013333</td>\n",
       "      <td>0.013333</td>\n",
       "      <td>0.013333</td>\n",
       "      <td>0.013333</td>\n",
       "      <td>0.013333</td>\n",
       "      <td>0.013333</td>\n",
       "      <td>0.013333</td>\n",
       "      <td>0.013333</td>\n",
       "      <td>0.680000</td>\n",
       "      <td>0.013333</td>\n",
       "      <td>...</td>\n",
       "      <td>0.013333</td>\n",
       "      <td>0.013333</td>\n",
       "      <td>0.013333</td>\n",
       "      <td>0.013333</td>\n",
       "      <td>0.013333</td>\n",
       "      <td>0.013333</td>\n",
       "      <td>0.013333</td>\n",
       "      <td>0.013333</td>\n",
       "      <td>0.013333</td>\n",
       "      <td>0.013333</td>\n",
       "    </tr>\n",
       "    <tr>\n",
       "      <th>2</th>\n",
       "      <td>0.020000</td>\n",
       "      <td>0.020000</td>\n",
       "      <td>0.020000</td>\n",
       "      <td>0.020000</td>\n",
       "      <td>0.020000</td>\n",
       "      <td>0.020000</td>\n",
       "      <td>0.020000</td>\n",
       "      <td>0.020000</td>\n",
       "      <td>0.020000</td>\n",
       "      <td>0.020000</td>\n",
       "      <td>...</td>\n",
       "      <td>0.020000</td>\n",
       "      <td>0.020000</td>\n",
       "      <td>0.020000</td>\n",
       "      <td>0.020000</td>\n",
       "      <td>0.020000</td>\n",
       "      <td>0.520000</td>\n",
       "      <td>0.020000</td>\n",
       "      <td>0.020000</td>\n",
       "      <td>0.020000</td>\n",
       "      <td>0.020000</td>\n",
       "    </tr>\n",
       "    <tr>\n",
       "      <th>3</th>\n",
       "      <td>0.000000</td>\n",
       "      <td>0.000000</td>\n",
       "      <td>0.208000</td>\n",
       "      <td>0.000000</td>\n",
       "      <td>0.000000</td>\n",
       "      <td>0.000000</td>\n",
       "      <td>0.000000</td>\n",
       "      <td>0.000000</td>\n",
       "      <td>0.000000</td>\n",
       "      <td>0.000000</td>\n",
       "      <td>...</td>\n",
       "      <td>0.000000</td>\n",
       "      <td>0.000000</td>\n",
       "      <td>0.208000</td>\n",
       "      <td>0.000000</td>\n",
       "      <td>0.000000</td>\n",
       "      <td>0.000000</td>\n",
       "      <td>0.000000</td>\n",
       "      <td>0.000000</td>\n",
       "      <td>0.000000</td>\n",
       "      <td>0.000000</td>\n",
       "    </tr>\n",
       "    <tr>\n",
       "      <th>4</th>\n",
       "      <td>0.013333</td>\n",
       "      <td>0.013333</td>\n",
       "      <td>0.013333</td>\n",
       "      <td>0.013333</td>\n",
       "      <td>0.013333</td>\n",
       "      <td>0.013333</td>\n",
       "      <td>0.013333</td>\n",
       "      <td>0.013333</td>\n",
       "      <td>0.013333</td>\n",
       "      <td>0.013333</td>\n",
       "      <td>...</td>\n",
       "      <td>0.013333</td>\n",
       "      <td>0.013333</td>\n",
       "      <td>0.013333</td>\n",
       "      <td>0.013333</td>\n",
       "      <td>0.013333</td>\n",
       "      <td>0.013333</td>\n",
       "      <td>0.680000</td>\n",
       "      <td>0.013333</td>\n",
       "      <td>0.013333</td>\n",
       "      <td>0.013333</td>\n",
       "    </tr>\n",
       "  </tbody>\n",
       "</table>\n",
       "<p>5 rows × 25 columns</p>\n",
       "</div>"
      ],
      "text/plain": [
       "         t1        t2        t3        t4        t5        t6        t7  \\\n",
       "0  0.010000  0.010000  0.010000  0.010000  0.010000  0.010000  0.010000   \n",
       "1  0.013333  0.013333  0.013333  0.013333  0.013333  0.013333  0.013333   \n",
       "2  0.020000  0.020000  0.020000  0.020000  0.020000  0.020000  0.020000   \n",
       "3  0.000000  0.000000  0.208000  0.000000  0.000000  0.000000  0.000000   \n",
       "4  0.013333  0.013333  0.013333  0.013333  0.013333  0.013333  0.013333   \n",
       "\n",
       "         t8        t9       t10    ...          t16       t17       t18  \\\n",
       "0  0.010000  0.010000  0.010000    ...     0.010000  0.510000  0.010000   \n",
       "1  0.013333  0.680000  0.013333    ...     0.013333  0.013333  0.013333   \n",
       "2  0.020000  0.020000  0.020000    ...     0.020000  0.020000  0.020000   \n",
       "3  0.000000  0.000000  0.000000    ...     0.000000  0.000000  0.208000   \n",
       "4  0.013333  0.013333  0.013333    ...     0.013333  0.013333  0.013333   \n",
       "\n",
       "        t19       t20       t21       t22       t23       t24       t25  \n",
       "0  0.010000  0.010000  0.010000  0.010000  0.010000  0.010000  0.010000  \n",
       "1  0.013333  0.013333  0.013333  0.013333  0.013333  0.013333  0.013333  \n",
       "2  0.020000  0.020000  0.520000  0.020000  0.020000  0.020000  0.020000  \n",
       "3  0.000000  0.000000  0.000000  0.000000  0.000000  0.000000  0.000000  \n",
       "4  0.013333  0.013333  0.013333  0.680000  0.013333  0.013333  0.013333  \n",
       "\n",
       "[5 rows x 25 columns]"
      ]
     },
     "execution_count": 23,
     "metadata": {},
     "output_type": "execute_result"
    }
   ],
   "source": [
    "topic_df.head(5)"
   ]
  },
  {
   "cell_type": "markdown",
   "metadata": {},
   "source": [
    "# Further analysis into the topics:"
   ]
  },
  {
   "cell_type": "code",
   "execution_count": 25,
   "metadata": {
    "collapsed": true
   },
   "outputs": [],
   "source": [
    "def get_documents_by_topic(topic='t1', threashold = .65):\n",
    "    orig_df = pd.read_csv(\"../Clean_Data/white_reviews_clean.csv\")\n",
    "    orig_df = orig_df.dropna()  \n",
    "    return orig_df[orig_df.index.isin(topic_df[topic_df[topic] > threashold].index)]['white_review']\n",
    "\n",
    "def get_top_feature_counts(df, limit = 10, vectorizer = vectorizer):\n",
    "\n",
    "    X = vectorizer.fit_transform(df)\n",
    "\n",
    "    tokens = pd.DataFrame()\n",
    "    stats_df = pd.DataFrame(X.toarray(), columns=vectorizer.vocabulary_)\n",
    "    tokens['tokens'] = stats_df.columns \n",
    "    tokens['count'] = stats_df.T.sum()\n",
    "    tokens = tokens.set_index('tokens')\n",
    "    return tokens.sort('count', ascending=False).head(limit)"
   ]
  },
  {
   "cell_type": "code",
   "execution_count": 26,
   "metadata": {
    "collapsed": true
   },
   "outputs": [],
   "source": [
    "topic_df['max_prob'] =  topic_df.apply(np.argmax, axis=1)"
   ]
  },
  {
   "cell_type": "code",
   "execution_count": 27,
   "metadata": {
    "collapsed": false
   },
   "outputs": [
    {
     "data": {
      "text/html": [
       "<div>\n",
       "<table border=\"1\" class=\"dataframe\">\n",
       "  <thead>\n",
       "    <tr style=\"text-align: right;\">\n",
       "      <th></th>\n",
       "      <th>t1</th>\n",
       "      <th>t2</th>\n",
       "      <th>t3</th>\n",
       "      <th>t4</th>\n",
       "      <th>t5</th>\n",
       "      <th>t6</th>\n",
       "      <th>t7</th>\n",
       "      <th>t8</th>\n",
       "      <th>t9</th>\n",
       "      <th>t10</th>\n",
       "      <th>...</th>\n",
       "      <th>t18</th>\n",
       "      <th>t19</th>\n",
       "      <th>t20</th>\n",
       "      <th>t21</th>\n",
       "      <th>t22</th>\n",
       "      <th>t23</th>\n",
       "      <th>t24</th>\n",
       "      <th>t25</th>\n",
       "      <th>max_prob</th>\n",
       "      <th>unique_probs</th>\n",
       "    </tr>\n",
       "  </thead>\n",
       "  <tbody>\n",
       "    <tr>\n",
       "      <th>0</th>\n",
       "      <td>0.010000</td>\n",
       "      <td>0.010000</td>\n",
       "      <td>0.010000</td>\n",
       "      <td>0.010000</td>\n",
       "      <td>0.010000</td>\n",
       "      <td>0.010000</td>\n",
       "      <td>0.010000</td>\n",
       "      <td>0.010000</td>\n",
       "      <td>0.010000</td>\n",
       "      <td>0.010000</td>\n",
       "      <td>...</td>\n",
       "      <td>0.010000</td>\n",
       "      <td>0.010000</td>\n",
       "      <td>0.010000</td>\n",
       "      <td>0.010000</td>\n",
       "      <td>0.010000</td>\n",
       "      <td>0.010000</td>\n",
       "      <td>0.010000</td>\n",
       "      <td>0.010000</td>\n",
       "      <td>t17</td>\n",
       "      <td>3</td>\n",
       "    </tr>\n",
       "    <tr>\n",
       "      <th>1</th>\n",
       "      <td>0.013333</td>\n",
       "      <td>0.013333</td>\n",
       "      <td>0.013333</td>\n",
       "      <td>0.013333</td>\n",
       "      <td>0.013333</td>\n",
       "      <td>0.013333</td>\n",
       "      <td>0.013333</td>\n",
       "      <td>0.013333</td>\n",
       "      <td>0.680000</td>\n",
       "      <td>0.013333</td>\n",
       "      <td>...</td>\n",
       "      <td>0.013333</td>\n",
       "      <td>0.013333</td>\n",
       "      <td>0.013333</td>\n",
       "      <td>0.013333</td>\n",
       "      <td>0.013333</td>\n",
       "      <td>0.013333</td>\n",
       "      <td>0.013333</td>\n",
       "      <td>0.013333</td>\n",
       "      <td>t9</td>\n",
       "      <td>2</td>\n",
       "    </tr>\n",
       "    <tr>\n",
       "      <th>2</th>\n",
       "      <td>0.020000</td>\n",
       "      <td>0.020000</td>\n",
       "      <td>0.020000</td>\n",
       "      <td>0.020000</td>\n",
       "      <td>0.020000</td>\n",
       "      <td>0.020000</td>\n",
       "      <td>0.020000</td>\n",
       "      <td>0.020000</td>\n",
       "      <td>0.020000</td>\n",
       "      <td>0.020000</td>\n",
       "      <td>...</td>\n",
       "      <td>0.020000</td>\n",
       "      <td>0.020000</td>\n",
       "      <td>0.020000</td>\n",
       "      <td>0.520000</td>\n",
       "      <td>0.020000</td>\n",
       "      <td>0.020000</td>\n",
       "      <td>0.020000</td>\n",
       "      <td>0.020000</td>\n",
       "      <td>t21</td>\n",
       "      <td>2</td>\n",
       "    </tr>\n",
       "    <tr>\n",
       "      <th>3</th>\n",
       "      <td>0.000000</td>\n",
       "      <td>0.000000</td>\n",
       "      <td>0.208000</td>\n",
       "      <td>0.000000</td>\n",
       "      <td>0.000000</td>\n",
       "      <td>0.000000</td>\n",
       "      <td>0.000000</td>\n",
       "      <td>0.000000</td>\n",
       "      <td>0.000000</td>\n",
       "      <td>0.000000</td>\n",
       "      <td>...</td>\n",
       "      <td>0.208000</td>\n",
       "      <td>0.000000</td>\n",
       "      <td>0.000000</td>\n",
       "      <td>0.000000</td>\n",
       "      <td>0.000000</td>\n",
       "      <td>0.000000</td>\n",
       "      <td>0.000000</td>\n",
       "      <td>0.000000</td>\n",
       "      <td>t13</td>\n",
       "      <td>4</td>\n",
       "    </tr>\n",
       "    <tr>\n",
       "      <th>4</th>\n",
       "      <td>0.013333</td>\n",
       "      <td>0.013333</td>\n",
       "      <td>0.013333</td>\n",
       "      <td>0.013333</td>\n",
       "      <td>0.013333</td>\n",
       "      <td>0.013333</td>\n",
       "      <td>0.013333</td>\n",
       "      <td>0.013333</td>\n",
       "      <td>0.013333</td>\n",
       "      <td>0.013333</td>\n",
       "      <td>...</td>\n",
       "      <td>0.013333</td>\n",
       "      <td>0.013333</td>\n",
       "      <td>0.013333</td>\n",
       "      <td>0.013333</td>\n",
       "      <td>0.680000</td>\n",
       "      <td>0.013333</td>\n",
       "      <td>0.013333</td>\n",
       "      <td>0.013333</td>\n",
       "      <td>t22</td>\n",
       "      <td>5</td>\n",
       "    </tr>\n",
       "    <tr>\n",
       "      <th>5</th>\n",
       "      <td>0.000000</td>\n",
       "      <td>0.000000</td>\n",
       "      <td>0.000000</td>\n",
       "      <td>0.208000</td>\n",
       "      <td>0.000000</td>\n",
       "      <td>0.000000</td>\n",
       "      <td>0.000000</td>\n",
       "      <td>0.000000</td>\n",
       "      <td>0.208000</td>\n",
       "      <td>0.000000</td>\n",
       "      <td>...</td>\n",
       "      <td>0.000000</td>\n",
       "      <td>0.000000</td>\n",
       "      <td>0.208000</td>\n",
       "      <td>0.000000</td>\n",
       "      <td>0.000000</td>\n",
       "      <td>0.000000</td>\n",
       "      <td>0.000000</td>\n",
       "      <td>0.000000</td>\n",
       "      <td>t4</td>\n",
       "      <td>5</td>\n",
       "    </tr>\n",
       "    <tr>\n",
       "      <th>6</th>\n",
       "      <td>0.013333</td>\n",
       "      <td>0.013333</td>\n",
       "      <td>0.013333</td>\n",
       "      <td>0.013333</td>\n",
       "      <td>0.013333</td>\n",
       "      <td>0.013333</td>\n",
       "      <td>0.013333</td>\n",
       "      <td>0.013333</td>\n",
       "      <td>0.013333</td>\n",
       "      <td>0.013333</td>\n",
       "      <td>...</td>\n",
       "      <td>0.013333</td>\n",
       "      <td>0.013333</td>\n",
       "      <td>0.013333</td>\n",
       "      <td>0.013333</td>\n",
       "      <td>0.013333</td>\n",
       "      <td>0.013333</td>\n",
       "      <td>0.013333</td>\n",
       "      <td>0.346667</td>\n",
       "      <td>t17</td>\n",
       "      <td>3</td>\n",
       "    </tr>\n",
       "    <tr>\n",
       "      <th>7</th>\n",
       "      <td>0.000000</td>\n",
       "      <td>0.000000</td>\n",
       "      <td>0.000000</td>\n",
       "      <td>0.208000</td>\n",
       "      <td>0.000000</td>\n",
       "      <td>0.000000</td>\n",
       "      <td>0.000000</td>\n",
       "      <td>0.000000</td>\n",
       "      <td>0.208000</td>\n",
       "      <td>0.000000</td>\n",
       "      <td>...</td>\n",
       "      <td>0.000000</td>\n",
       "      <td>0.000000</td>\n",
       "      <td>0.000000</td>\n",
       "      <td>0.000000</td>\n",
       "      <td>0.000000</td>\n",
       "      <td>0.000000</td>\n",
       "      <td>0.000000</td>\n",
       "      <td>0.000000</td>\n",
       "      <td>t11</td>\n",
       "      <td>4</td>\n",
       "    </tr>\n",
       "    <tr>\n",
       "      <th>8</th>\n",
       "      <td>0.000000</td>\n",
       "      <td>0.000000</td>\n",
       "      <td>0.173333</td>\n",
       "      <td>0.000000</td>\n",
       "      <td>0.000000</td>\n",
       "      <td>0.000000</td>\n",
       "      <td>0.000000</td>\n",
       "      <td>0.000000</td>\n",
       "      <td>0.000000</td>\n",
       "      <td>0.000000</td>\n",
       "      <td>...</td>\n",
       "      <td>0.000000</td>\n",
       "      <td>0.673333</td>\n",
       "      <td>0.000000</td>\n",
       "      <td>0.000000</td>\n",
       "      <td>0.000000</td>\n",
       "      <td>0.000000</td>\n",
       "      <td>0.000000</td>\n",
       "      <td>0.000000</td>\n",
       "      <td>t19</td>\n",
       "      <td>3</td>\n",
       "    </tr>\n",
       "    <tr>\n",
       "      <th>9</th>\n",
       "      <td>0.013333</td>\n",
       "      <td>0.013333</td>\n",
       "      <td>0.013333</td>\n",
       "      <td>0.013333</td>\n",
       "      <td>0.013333</td>\n",
       "      <td>0.013333</td>\n",
       "      <td>0.013333</td>\n",
       "      <td>0.013333</td>\n",
       "      <td>0.013333</td>\n",
       "      <td>0.013333</td>\n",
       "      <td>...</td>\n",
       "      <td>0.013333</td>\n",
       "      <td>0.013333</td>\n",
       "      <td>0.013333</td>\n",
       "      <td>0.013333</td>\n",
       "      <td>0.013333</td>\n",
       "      <td>0.013333</td>\n",
       "      <td>0.680000</td>\n",
       "      <td>0.013333</td>\n",
       "      <td>t24</td>\n",
       "      <td>2</td>\n",
       "    </tr>\n",
       "  </tbody>\n",
       "</table>\n",
       "<p>10 rows × 27 columns</p>\n",
       "</div>"
      ],
      "text/plain": [
       "         t1        t2        t3        t4        t5        t6        t7  \\\n",
       "0  0.010000  0.010000  0.010000  0.010000  0.010000  0.010000  0.010000   \n",
       "1  0.013333  0.013333  0.013333  0.013333  0.013333  0.013333  0.013333   \n",
       "2  0.020000  0.020000  0.020000  0.020000  0.020000  0.020000  0.020000   \n",
       "3  0.000000  0.000000  0.208000  0.000000  0.000000  0.000000  0.000000   \n",
       "4  0.013333  0.013333  0.013333  0.013333  0.013333  0.013333  0.013333   \n",
       "5  0.000000  0.000000  0.000000  0.208000  0.000000  0.000000  0.000000   \n",
       "6  0.013333  0.013333  0.013333  0.013333  0.013333  0.013333  0.013333   \n",
       "7  0.000000  0.000000  0.000000  0.208000  0.000000  0.000000  0.000000   \n",
       "8  0.000000  0.000000  0.173333  0.000000  0.000000  0.000000  0.000000   \n",
       "9  0.013333  0.013333  0.013333  0.013333  0.013333  0.013333  0.013333   \n",
       "\n",
       "         t8        t9       t10      ...            t18       t19       t20  \\\n",
       "0  0.010000  0.010000  0.010000      ...       0.010000  0.010000  0.010000   \n",
       "1  0.013333  0.680000  0.013333      ...       0.013333  0.013333  0.013333   \n",
       "2  0.020000  0.020000  0.020000      ...       0.020000  0.020000  0.020000   \n",
       "3  0.000000  0.000000  0.000000      ...       0.208000  0.000000  0.000000   \n",
       "4  0.013333  0.013333  0.013333      ...       0.013333  0.013333  0.013333   \n",
       "5  0.000000  0.208000  0.000000      ...       0.000000  0.000000  0.208000   \n",
       "6  0.013333  0.013333  0.013333      ...       0.013333  0.013333  0.013333   \n",
       "7  0.000000  0.208000  0.000000      ...       0.000000  0.000000  0.000000   \n",
       "8  0.000000  0.000000  0.000000      ...       0.000000  0.673333  0.000000   \n",
       "9  0.013333  0.013333  0.013333      ...       0.013333  0.013333  0.013333   \n",
       "\n",
       "        t21       t22       t23       t24       t25  max_prob  unique_probs  \n",
       "0  0.010000  0.010000  0.010000  0.010000  0.010000       t17             3  \n",
       "1  0.013333  0.013333  0.013333  0.013333  0.013333        t9             2  \n",
       "2  0.520000  0.020000  0.020000  0.020000  0.020000       t21             2  \n",
       "3  0.000000  0.000000  0.000000  0.000000  0.000000       t13             4  \n",
       "4  0.013333  0.680000  0.013333  0.013333  0.013333       t22             5  \n",
       "5  0.000000  0.000000  0.000000  0.000000  0.000000        t4             5  \n",
       "6  0.013333  0.013333  0.013333  0.013333  0.346667       t17             3  \n",
       "7  0.000000  0.000000  0.000000  0.000000  0.000000       t11             4  \n",
       "8  0.000000  0.000000  0.000000  0.000000  0.000000       t19             3  \n",
       "9  0.013333  0.013333  0.013333  0.680000  0.013333       t24             2  \n",
       "\n",
       "[10 rows x 27 columns]"
      ]
     },
     "execution_count": 27,
     "metadata": {},
     "output_type": "execute_result"
    }
   ],
   "source": [
    "topic_df['unique_probs'] = topic_df.apply(lambda x: len(np.unique(x[0:25])), axis=1)\n",
    "topic_df.head(10)"
   ]
  },
  {
   "cell_type": "code",
   "execution_count": 28,
   "metadata": {
    "collapsed": false
   },
   "outputs": [
    {
     "data": {
      "text/plain": [
       "<matplotlib.axes._subplots.AxesSubplot at 0x123c3ae10>"
      ]
     },
     "execution_count": 28,
     "metadata": {},
     "output_type": "execute_result"
    },
    {
     "data": {
      "image/png": "[encoded data removed]",
      "text/plain": [
       "<matplotlib.figure.Figure at 0x11b9e8fd0>"
      ]
     },
     "metadata": {},
     "output_type": "display_data"
    }
   ],
   "source": [
    "# Distribution of topic membership:\n",
    "topic_df[topic_df.unique_probs>1].max_prob.value_counts().plot(kind='bar', figsize=(18,7), color='darkorange')"
   ]
  },
  {
   "cell_type": "code",
   "execution_count": 30,
   "metadata": {
    "collapsed": false
   },
   "outputs": [
    {
     "name": "stderr",
     "output_type": "stream",
     "text": [
      "/anaconda/envs/dsi/lib/python2.7/site-packages/ipykernel/__main__.py:15: FutureWarning: sort(columns=....) is deprecated, use sort_values(by=.....)\n"
     ]
    },
    {
     "data": {
      "text/html": [
       "<div>\n",
       "<table border=\"1\" class=\"dataframe\">\n",
       "  <thead>\n",
       "    <tr style=\"text-align: right;\">\n",
       "      <th></th>\n",
       "      <th>count</th>\n",
       "    </tr>\n",
       "    <tr>\n",
       "      <th>tokens</th>\n",
       "      <th></th>\n",
       "    </tr>\n",
       "  </thead>\n",
       "  <tbody>\n",
       "    <tr>\n",
       "      <th>winds blowing</th>\n",
       "      <td>45.0</td>\n",
       "    </tr>\n",
       "    <tr>\n",
       "      <th>aged american</th>\n",
       "      <td>33.0</td>\n",
       "    </tr>\n",
       "    <tr>\n",
       "      <th>lasting overall</th>\n",
       "      <td>23.0</td>\n",
       "    </tr>\n",
       "    <tr>\n",
       "      <th>dry slightly</th>\n",
       "      <td>22.0</td>\n",
       "    </tr>\n",
       "    <tr>\n",
       "      <th>sour refreshing</th>\n",
       "      <td>22.0</td>\n",
       "    </tr>\n",
       "    <tr>\n",
       "      <th>yellow straw</th>\n",
       "      <td>21.0</td>\n",
       "    </tr>\n",
       "    <tr>\n",
       "      <th>colder might</th>\n",
       "      <td>21.0</td>\n",
       "    </tr>\n",
       "    <tr>\n",
       "      <th>extra chilled</th>\n",
       "      <td>20.0</td>\n",
       "    </tr>\n",
       "    <tr>\n",
       "      <th>apple cider</th>\n",
       "      <td>19.0</td>\n",
       "    </tr>\n",
       "    <tr>\n",
       "      <th>dry riesling</th>\n",
       "      <td>19.0</td>\n",
       "    </tr>\n",
       "  </tbody>\n",
       "</table>\n",
       "</div>"
      ],
      "text/plain": [
       "                 count\n",
       "tokens                \n",
       "winds blowing     45.0\n",
       "aged american     33.0\n",
       "lasting overall   23.0\n",
       "dry slightly      22.0\n",
       "sour refreshing   22.0\n",
       "yellow straw      21.0\n",
       "colder might      21.0\n",
       "extra chilled     20.0\n",
       "apple cider       19.0\n",
       "dry riesling      19.0"
      ]
     },
     "execution_count": 30,
     "metadata": {},
     "output_type": "execute_result"
    }
   ],
   "source": [
    "# docs topics are the documents in the topic paramter\n",
    "docs_topics = get_documents_by_topic('t25', .65)\n",
    "\n",
    "# get df of top word counts by df\n",
    "get_top_feature_counts(docs_topics, limit = 10)"
   ]
  },
  {
   "cell_type": "markdown",
   "metadata": {},
   "source": [
    "# Create Data Frame of topic probabilities and the reviews"
   ]
  },
  {
   "cell_type": "code",
   "execution_count": 31,
   "metadata": {
    "collapsed": false
   },
   "outputs": [
    {
     "data": {
      "text/html": [
       "<div>\n",
       "<table border=\"1\" class=\"dataframe\">\n",
       "  <thead>\n",
       "    <tr style=\"text-align: right;\">\n",
       "      <th></th>\n",
       "      <th>review_index</th>\n",
       "      <th>white_wine</th>\n",
       "      <th>white_user</th>\n",
       "      <th>white_review</th>\n",
       "      <th>t1</th>\n",
       "      <th>t2</th>\n",
       "      <th>t3</th>\n",
       "      <th>t4</th>\n",
       "      <th>t5</th>\n",
       "      <th>t6</th>\n",
       "      <th>...</th>\n",
       "      <th>t18</th>\n",
       "      <th>t19</th>\n",
       "      <th>t20</th>\n",
       "      <th>t21</th>\n",
       "      <th>t22</th>\n",
       "      <th>t23</th>\n",
       "      <th>t24</th>\n",
       "      <th>t25</th>\n",
       "      <th>max_prob</th>\n",
       "      <th>unique_probs</th>\n",
       "    </tr>\n",
       "  </thead>\n",
       "  <tbody>\n",
       "    <tr>\n",
       "      <th>0</th>\n",
       "      <td>0.0</td>\n",
       "      <td>Chardonnay Hudson Vineyard</td>\n",
       "      <td>Alyssa Rapp</td>\n",
       "      <td>Excellently balanced chard-meyer lemon and nec...</td>\n",
       "      <td>0.010000</td>\n",
       "      <td>0.010000</td>\n",
       "      <td>0.010000</td>\n",
       "      <td>0.010000</td>\n",
       "      <td>0.010000</td>\n",
       "      <td>0.010000</td>\n",
       "      <td>...</td>\n",
       "      <td>0.010000</td>\n",
       "      <td>0.010000</td>\n",
       "      <td>0.010000</td>\n",
       "      <td>0.010000</td>\n",
       "      <td>0.010000</td>\n",
       "      <td>0.010000</td>\n",
       "      <td>0.010000</td>\n",
       "      <td>0.010000</td>\n",
       "      <td>t17</td>\n",
       "      <td>3.0</td>\n",
       "    </tr>\n",
       "    <tr>\n",
       "      <th>1</th>\n",
       "      <td>1.0</td>\n",
       "      <td>Chardonnay Hudson Vineyard</td>\n",
       "      <td>Sam Hovland</td>\n",
       "      <td>$63. Glazer's distributes. Very high end site....</td>\n",
       "      <td>0.013333</td>\n",
       "      <td>0.013333</td>\n",
       "      <td>0.013333</td>\n",
       "      <td>0.013333</td>\n",
       "      <td>0.013333</td>\n",
       "      <td>0.013333</td>\n",
       "      <td>...</td>\n",
       "      <td>0.013333</td>\n",
       "      <td>0.013333</td>\n",
       "      <td>0.013333</td>\n",
       "      <td>0.013333</td>\n",
       "      <td>0.013333</td>\n",
       "      <td>0.013333</td>\n",
       "      <td>0.013333</td>\n",
       "      <td>0.013333</td>\n",
       "      <td>t9</td>\n",
       "      <td>2.0</td>\n",
       "    </tr>\n",
       "    <tr>\n",
       "      <th>2</th>\n",
       "      <td>2.0</td>\n",
       "      <td>Chardonnay Hudson Vineyard</td>\n",
       "      <td>Jon Walheim</td>\n",
       "      <td>High acid, drank pre-release.  Will wait a yea...</td>\n",
       "      <td>0.020000</td>\n",
       "      <td>0.020000</td>\n",
       "      <td>0.020000</td>\n",
       "      <td>0.020000</td>\n",
       "      <td>0.020000</td>\n",
       "      <td>0.020000</td>\n",
       "      <td>...</td>\n",
       "      <td>0.020000</td>\n",
       "      <td>0.020000</td>\n",
       "      <td>0.020000</td>\n",
       "      <td>0.520000</td>\n",
       "      <td>0.020000</td>\n",
       "      <td>0.020000</td>\n",
       "      <td>0.020000</td>\n",
       "      <td>0.020000</td>\n",
       "      <td>t21</td>\n",
       "      <td>2.0</td>\n",
       "    </tr>\n",
       "    <tr>\n",
       "      <th>3</th>\n",
       "      <td>3.0</td>\n",
       "      <td>Chardonnay Hudson Vineyard</td>\n",
       "      <td>Jonathan Williams</td>\n",
       "      <td>Has a extract texture. Slightly nutty almost l...</td>\n",
       "      <td>0.000000</td>\n",
       "      <td>0.000000</td>\n",
       "      <td>0.208000</td>\n",
       "      <td>0.000000</td>\n",
       "      <td>0.000000</td>\n",
       "      <td>0.000000</td>\n",
       "      <td>...</td>\n",
       "      <td>0.208000</td>\n",
       "      <td>0.000000</td>\n",
       "      <td>0.000000</td>\n",
       "      <td>0.000000</td>\n",
       "      <td>0.000000</td>\n",
       "      <td>0.000000</td>\n",
       "      <td>0.000000</td>\n",
       "      <td>0.000000</td>\n",
       "      <td>t13</td>\n",
       "      <td>4.0</td>\n",
       "    </tr>\n",
       "    <tr>\n",
       "      <th>4</th>\n",
       "      <td>4.0</td>\n",
       "      <td>Chardonnay Hudson Vineyard</td>\n",
       "      <td>Glenn Adams</td>\n",
       "      <td>Very acidic. Had June 2013. Malolactic. Nothin...</td>\n",
       "      <td>0.013333</td>\n",
       "      <td>0.013333</td>\n",
       "      <td>0.013333</td>\n",
       "      <td>0.013333</td>\n",
       "      <td>0.013333</td>\n",
       "      <td>0.013333</td>\n",
       "      <td>...</td>\n",
       "      <td>0.013333</td>\n",
       "      <td>0.013333</td>\n",
       "      <td>0.013333</td>\n",
       "      <td>0.013333</td>\n",
       "      <td>0.680000</td>\n",
       "      <td>0.013333</td>\n",
       "      <td>0.013333</td>\n",
       "      <td>0.013333</td>\n",
       "      <td>t22</td>\n",
       "      <td>5.0</td>\n",
       "    </tr>\n",
       "  </tbody>\n",
       "</table>\n",
       "<p>5 rows × 31 columns</p>\n",
       "</div>"
      ],
      "text/plain": [
       "   review_index                  white_wine         white_user  \\\n",
       "0           0.0  Chardonnay Hudson Vineyard        Alyssa Rapp   \n",
       "1           1.0  Chardonnay Hudson Vineyard        Sam Hovland   \n",
       "2           2.0  Chardonnay Hudson Vineyard        Jon Walheim   \n",
       "3           3.0  Chardonnay Hudson Vineyard  Jonathan Williams   \n",
       "4           4.0  Chardonnay Hudson Vineyard        Glenn Adams   \n",
       "\n",
       "                                        white_review        t1        t2  \\\n",
       "0  Excellently balanced chard-meyer lemon and nec...  0.010000  0.010000   \n",
       "1  $63. Glazer's distributes. Very high end site....  0.013333  0.013333   \n",
       "2  High acid, drank pre-release.  Will wait a yea...  0.020000  0.020000   \n",
       "3  Has a extract texture. Slightly nutty almost l...  0.000000  0.000000   \n",
       "4  Very acidic. Had June 2013. Malolactic. Nothin...  0.013333  0.013333   \n",
       "\n",
       "         t3        t4        t5        t6      ...            t18       t19  \\\n",
       "0  0.010000  0.010000  0.010000  0.010000      ...       0.010000  0.010000   \n",
       "1  0.013333  0.013333  0.013333  0.013333      ...       0.013333  0.013333   \n",
       "2  0.020000  0.020000  0.020000  0.020000      ...       0.020000  0.020000   \n",
       "3  0.208000  0.000000  0.000000  0.000000      ...       0.208000  0.000000   \n",
       "4  0.013333  0.013333  0.013333  0.013333      ...       0.013333  0.013333   \n",
       "\n",
       "        t20       t21       t22       t23       t24       t25  max_prob  \\\n",
       "0  0.010000  0.010000  0.010000  0.010000  0.010000  0.010000       t17   \n",
       "1  0.013333  0.013333  0.013333  0.013333  0.013333  0.013333        t9   \n",
       "2  0.020000  0.520000  0.020000  0.020000  0.020000  0.020000       t21   \n",
       "3  0.000000  0.000000  0.000000  0.000000  0.000000  0.000000       t13   \n",
       "4  0.013333  0.013333  0.680000  0.013333  0.013333  0.013333       t22   \n",
       "\n",
       "   unique_probs  \n",
       "0           3.0  \n",
       "1           2.0  \n",
       "2           2.0  \n",
       "3           4.0  \n",
       "4           5.0  \n",
       "\n",
       "[5 rows x 31 columns]"
      ]
     },
     "execution_count": 31,
     "metadata": {},
     "output_type": "execute_result"
    }
   ],
   "source": [
    "whitewines_topics = pd.concat((white_clean, topic_df), axis=1)\n",
    "whitewines_topics.head()"
   ]
  },
  {
   "cell_type": "code",
   "execution_count": 32,
   "metadata": {
    "collapsed": true
   },
   "outputs": [],
   "source": [
    "white_details = pd.read_csv('/Users/divyasusarla/Desktop/DSI-SF-2-divyasusarla/Capstone/Clean_Data/white_wine_details_clean.csv', encoding='utf-8')"
   ]
  },
  {
   "cell_type": "code",
   "execution_count": 33,
   "metadata": {
    "collapsed": false
   },
   "outputs": [
    {
     "data": {
      "text/html": [
       "<div>\n",
       "<table border=\"1\" class=\"dataframe\">\n",
       "  <thead>\n",
       "    <tr style=\"text-align: right;\">\n",
       "      <th></th>\n",
       "      <th>wine_index</th>\n",
       "      <th>white_wine</th>\n",
       "      <th>white_wineries</th>\n",
       "      <th>white_regions</th>\n",
       "      <th>white_countries</th>\n",
       "      <th>white_avg_wine_ratings</th>\n",
       "      <th>white_avg_price</th>\n",
       "      <th>vintage_year</th>\n",
       "    </tr>\n",
       "  </thead>\n",
       "  <tbody>\n",
       "    <tr>\n",
       "      <th>0</th>\n",
       "      <td>0</td>\n",
       "      <td>Chardonnay Hudson Vineyard</td>\n",
       "      <td>Patz &amp; Hall</td>\n",
       "      <td>Sonoma County</td>\n",
       "      <td>United States</td>\n",
       "      <td>4.0</td>\n",
       "      <td>54.99</td>\n",
       "      <td>NaN</td>\n",
       "    </tr>\n",
       "    <tr>\n",
       "      <th>1</th>\n",
       "      <td>1</td>\n",
       "      <td>Meursault-Blagny</td>\n",
       "      <td>Thierry et Pascale Matrot</td>\n",
       "      <td>C\\xf4te de Beaune</td>\n",
       "      <td>France</td>\n",
       "      <td>3.9</td>\n",
       "      <td>47.68</td>\n",
       "      <td>NaN</td>\n",
       "    </tr>\n",
       "    <tr>\n",
       "      <th>2</th>\n",
       "      <td>2</td>\n",
       "      <td>Domaine de La Chapelle Les Grands Climats Poui...</td>\n",
       "      <td>Catherine et Pascal Rollet</td>\n",
       "      <td>Bourgogne</td>\n",
       "      <td>France</td>\n",
       "      <td>4.1</td>\n",
       "      <td>29.97</td>\n",
       "      <td>2013.0</td>\n",
       "    </tr>\n",
       "    <tr>\n",
       "      <th>3</th>\n",
       "      <td>3</td>\n",
       "      <td>Sauvignon Blanc 2014</td>\n",
       "      <td>Ancient Peaks</td>\n",
       "      <td>California</td>\n",
       "      <td>United States</td>\n",
       "      <td>4.0</td>\n",
       "      <td>12.98</td>\n",
       "      <td>2014.0</td>\n",
       "    </tr>\n",
       "    <tr>\n",
       "      <th>4</th>\n",
       "      <td>4</td>\n",
       "      <td>[u\"Champion's Lot Riva Ranch Chardonnay 2013\"]</td>\n",
       "      <td>Wente</td>\n",
       "      <td>Livermore Valley</td>\n",
       "      <td>United States</td>\n",
       "      <td>3.8</td>\n",
       "      <td>24.98</td>\n",
       "      <td>2013.0</td>\n",
       "    </tr>\n",
       "  </tbody>\n",
       "</table>\n",
       "</div>"
      ],
      "text/plain": [
       "   wine_index                                         white_wine  \\\n",
       "0           0                         Chardonnay Hudson Vineyard   \n",
       "1           1                                   Meursault-Blagny   \n",
       "2           2  Domaine de La Chapelle Les Grands Climats Poui...   \n",
       "3           3                               Sauvignon Blanc 2014   \n",
       "4           4     [u\"Champion's Lot Riva Ranch Chardonnay 2013\"]   \n",
       "\n",
       "               white_wineries      white_regions white_countries  \\\n",
       "0                 Patz & Hall      Sonoma County   United States   \n",
       "1   Thierry et Pascale Matrot  C\\xf4te de Beaune          France   \n",
       "2  Catherine et Pascal Rollet          Bourgogne          France   \n",
       "3               Ancient Peaks         California   United States   \n",
       "4                       Wente   Livermore Valley   United States   \n",
       "\n",
       "   white_avg_wine_ratings  white_avg_price  vintage_year  \n",
       "0                     4.0            54.99           NaN  \n",
       "1                     3.9            47.68           NaN  \n",
       "2                     4.1            29.97        2013.0  \n",
       "3                     4.0            12.98        2014.0  \n",
       "4                     3.8            24.98        2013.0  "
      ]
     },
     "execution_count": 33,
     "metadata": {},
     "output_type": "execute_result"
    }
   ],
   "source": [
    "del white_details['Unnamed: 0']\n",
    "white_details.head()"
   ]
  },
  {
   "cell_type": "code",
   "execution_count": 34,
   "metadata": {
    "collapsed": false
   },
   "outputs": [
    {
     "name": "stdout",
     "output_type": "stream",
     "text": [
      "(9899, 8) (97350, 31)\n"
     ]
    }
   ],
   "source": [
    "print white_details.shape, whitewines_topics.shape"
   ]
  },
  {
   "cell_type": "code",
   "execution_count": 35,
   "metadata": {
    "collapsed": false
   },
   "outputs": [
    {
     "name": "stdout",
     "output_type": "stream",
     "text": [
      "7025\n",
      "4311\n"
     ]
    }
   ],
   "source": [
    "print len(white_details.white_wine.unique())\n",
    "print len(whitewines_topics.white_wine.unique())"
   ]
  },
  {
   "cell_type": "code",
   "execution_count": 36,
   "metadata": {
    "collapsed": true
   },
   "outputs": [],
   "source": [
    "wine_name_counts = white_details.white_wine.value_counts().reset_index()\n",
    "wine_name_counts.columns = ['white_wine','label_count']"
   ]
  },
  {
   "cell_type": "code",
   "execution_count": 37,
   "metadata": {
    "collapsed": false
   },
   "outputs": [
    {
     "data": {
      "text/plain": [
       "(6395, 8)"
      ]
     },
     "execution_count": 37,
     "metadata": {},
     "output_type": "execute_result"
    }
   ],
   "source": [
    "white_details[white_details.white_wine.isin(wine_name_counts[wine_name_counts.label_count == 1].white_wine)].shape"
   ]
  },
  {
   "cell_type": "code",
   "execution_count": 38,
   "metadata": {
    "collapsed": true
   },
   "outputs": [],
   "source": [
    "unique_white_details = white_details[white_details.white_wine.isin(wine_name_counts[wine_name_counts.label_count == 1].white_wine)]"
   ]
  },
  {
   "cell_type": "code",
   "execution_count": 39,
   "metadata": {
    "collapsed": false
   },
   "outputs": [
    {
     "data": {
      "text/plain": [
       "(48128, 38)"
      ]
     },
     "execution_count": 39,
     "metadata": {},
     "output_type": "execute_result"
    }
   ],
   "source": [
    "white_df = pd.merge(unique_white_details, whitewines_topics, on='white_wine')\n",
    "white_df.shape"
   ]
  },
  {
   "cell_type": "code",
   "execution_count": 40,
   "metadata": {
    "collapsed": false
   },
   "outputs": [
    {
     "data": {
      "text/html": [
       "<div>\n",
       "<table border=\"1\" class=\"dataframe\">\n",
       "  <thead>\n",
       "    <tr style=\"text-align: right;\">\n",
       "      <th></th>\n",
       "      <th>wine_index</th>\n",
       "      <th>white_wine</th>\n",
       "      <th>white_wineries</th>\n",
       "      <th>white_regions</th>\n",
       "      <th>white_countries</th>\n",
       "      <th>white_avg_wine_ratings</th>\n",
       "      <th>white_avg_price</th>\n",
       "      <th>vintage_year</th>\n",
       "      <th>review_index</th>\n",
       "      <th>white_user</th>\n",
       "      <th>...</th>\n",
       "      <th>t18</th>\n",
       "      <th>t19</th>\n",
       "      <th>t20</th>\n",
       "      <th>t21</th>\n",
       "      <th>t22</th>\n",
       "      <th>t23</th>\n",
       "      <th>t24</th>\n",
       "      <th>t25</th>\n",
       "      <th>max_prob</th>\n",
       "      <th>unique_probs</th>\n",
       "    </tr>\n",
       "  </thead>\n",
       "  <tbody>\n",
       "    <tr>\n",
       "      <th>0</th>\n",
       "      <td>0</td>\n",
       "      <td>Chardonnay Hudson Vineyard</td>\n",
       "      <td>Patz &amp; Hall</td>\n",
       "      <td>Sonoma County</td>\n",
       "      <td>United States</td>\n",
       "      <td>4.0</td>\n",
       "      <td>54.99</td>\n",
       "      <td>NaN</td>\n",
       "      <td>0.0</td>\n",
       "      <td>Alyssa Rapp</td>\n",
       "      <td>...</td>\n",
       "      <td>0.010000</td>\n",
       "      <td>0.010000</td>\n",
       "      <td>0.010000</td>\n",
       "      <td>0.010000</td>\n",
       "      <td>0.010000</td>\n",
       "      <td>0.010000</td>\n",
       "      <td>0.010000</td>\n",
       "      <td>0.010000</td>\n",
       "      <td>t17</td>\n",
       "      <td>3.0</td>\n",
       "    </tr>\n",
       "    <tr>\n",
       "      <th>1</th>\n",
       "      <td>0</td>\n",
       "      <td>Chardonnay Hudson Vineyard</td>\n",
       "      <td>Patz &amp; Hall</td>\n",
       "      <td>Sonoma County</td>\n",
       "      <td>United States</td>\n",
       "      <td>4.0</td>\n",
       "      <td>54.99</td>\n",
       "      <td>NaN</td>\n",
       "      <td>1.0</td>\n",
       "      <td>Sam Hovland</td>\n",
       "      <td>...</td>\n",
       "      <td>0.013333</td>\n",
       "      <td>0.013333</td>\n",
       "      <td>0.013333</td>\n",
       "      <td>0.013333</td>\n",
       "      <td>0.013333</td>\n",
       "      <td>0.013333</td>\n",
       "      <td>0.013333</td>\n",
       "      <td>0.013333</td>\n",
       "      <td>t9</td>\n",
       "      <td>2.0</td>\n",
       "    </tr>\n",
       "    <tr>\n",
       "      <th>2</th>\n",
       "      <td>0</td>\n",
       "      <td>Chardonnay Hudson Vineyard</td>\n",
       "      <td>Patz &amp; Hall</td>\n",
       "      <td>Sonoma County</td>\n",
       "      <td>United States</td>\n",
       "      <td>4.0</td>\n",
       "      <td>54.99</td>\n",
       "      <td>NaN</td>\n",
       "      <td>2.0</td>\n",
       "      <td>Jon Walheim</td>\n",
       "      <td>...</td>\n",
       "      <td>0.020000</td>\n",
       "      <td>0.020000</td>\n",
       "      <td>0.020000</td>\n",
       "      <td>0.520000</td>\n",
       "      <td>0.020000</td>\n",
       "      <td>0.020000</td>\n",
       "      <td>0.020000</td>\n",
       "      <td>0.020000</td>\n",
       "      <td>t21</td>\n",
       "      <td>2.0</td>\n",
       "    </tr>\n",
       "    <tr>\n",
       "      <th>3</th>\n",
       "      <td>0</td>\n",
       "      <td>Chardonnay Hudson Vineyard</td>\n",
       "      <td>Patz &amp; Hall</td>\n",
       "      <td>Sonoma County</td>\n",
       "      <td>United States</td>\n",
       "      <td>4.0</td>\n",
       "      <td>54.99</td>\n",
       "      <td>NaN</td>\n",
       "      <td>3.0</td>\n",
       "      <td>Jonathan Williams</td>\n",
       "      <td>...</td>\n",
       "      <td>0.208000</td>\n",
       "      <td>0.000000</td>\n",
       "      <td>0.000000</td>\n",
       "      <td>0.000000</td>\n",
       "      <td>0.000000</td>\n",
       "      <td>0.000000</td>\n",
       "      <td>0.000000</td>\n",
       "      <td>0.000000</td>\n",
       "      <td>t13</td>\n",
       "      <td>4.0</td>\n",
       "    </tr>\n",
       "    <tr>\n",
       "      <th>4</th>\n",
       "      <td>0</td>\n",
       "      <td>Chardonnay Hudson Vineyard</td>\n",
       "      <td>Patz &amp; Hall</td>\n",
       "      <td>Sonoma County</td>\n",
       "      <td>United States</td>\n",
       "      <td>4.0</td>\n",
       "      <td>54.99</td>\n",
       "      <td>NaN</td>\n",
       "      <td>4.0</td>\n",
       "      <td>Glenn Adams</td>\n",
       "      <td>...</td>\n",
       "      <td>0.013333</td>\n",
       "      <td>0.013333</td>\n",
       "      <td>0.013333</td>\n",
       "      <td>0.013333</td>\n",
       "      <td>0.680000</td>\n",
       "      <td>0.013333</td>\n",
       "      <td>0.013333</td>\n",
       "      <td>0.013333</td>\n",
       "      <td>t22</td>\n",
       "      <td>5.0</td>\n",
       "    </tr>\n",
       "  </tbody>\n",
       "</table>\n",
       "<p>5 rows × 38 columns</p>\n",
       "</div>"
      ],
      "text/plain": [
       "   wine_index                  white_wine white_wineries  white_regions  \\\n",
       "0           0  Chardonnay Hudson Vineyard    Patz & Hall  Sonoma County   \n",
       "1           0  Chardonnay Hudson Vineyard    Patz & Hall  Sonoma County   \n",
       "2           0  Chardonnay Hudson Vineyard    Patz & Hall  Sonoma County   \n",
       "3           0  Chardonnay Hudson Vineyard    Patz & Hall  Sonoma County   \n",
       "4           0  Chardonnay Hudson Vineyard    Patz & Hall  Sonoma County   \n",
       "\n",
       "  white_countries  white_avg_wine_ratings  white_avg_price  vintage_year  \\\n",
       "0   United States                     4.0            54.99           NaN   \n",
       "1   United States                     4.0            54.99           NaN   \n",
       "2   United States                     4.0            54.99           NaN   \n",
       "3   United States                     4.0            54.99           NaN   \n",
       "4   United States                     4.0            54.99           NaN   \n",
       "\n",
       "   review_index         white_user      ...            t18       t19  \\\n",
       "0           0.0        Alyssa Rapp      ...       0.010000  0.010000   \n",
       "1           1.0        Sam Hovland      ...       0.013333  0.013333   \n",
       "2           2.0        Jon Walheim      ...       0.020000  0.020000   \n",
       "3           3.0  Jonathan Williams      ...       0.208000  0.000000   \n",
       "4           4.0        Glenn Adams      ...       0.013333  0.013333   \n",
       "\n",
       "        t20       t21       t22       t23       t24       t25  max_prob  \\\n",
       "0  0.010000  0.010000  0.010000  0.010000  0.010000  0.010000       t17   \n",
       "1  0.013333  0.013333  0.013333  0.013333  0.013333  0.013333        t9   \n",
       "2  0.020000  0.520000  0.020000  0.020000  0.020000  0.020000       t21   \n",
       "3  0.000000  0.000000  0.000000  0.000000  0.000000  0.000000       t13   \n",
       "4  0.013333  0.013333  0.680000  0.013333  0.013333  0.013333       t22   \n",
       "\n",
       "   unique_probs  \n",
       "0           3.0  \n",
       "1           2.0  \n",
       "2           2.0  \n",
       "3           4.0  \n",
       "4           5.0  \n",
       "\n",
       "[5 rows x 38 columns]"
      ]
     },
     "execution_count": 40,
     "metadata": {},
     "output_type": "execute_result"
    }
   ],
   "source": [
    "white_df.head()"
   ]
  },
  {
   "cell_type": "code",
   "execution_count": 41,
   "metadata": {
    "collapsed": false
   },
   "outputs": [
    {
     "data": {
      "text/plain": [
       "48128"
      ]
     },
     "execution_count": 41,
     "metadata": {},
     "output_type": "execute_result"
    }
   ],
   "source": [
    "white_df.wine_index.count()"
   ]
  },
  {
   "cell_type": "code",
   "execution_count": 43,
   "metadata": {
    "collapsed": false
   },
   "outputs": [],
   "source": [
    "white_df.to_csv(path_or_buf='/Users/divyasusarla/Desktop/DSI-SF-2-divyasusarla/Capstone/LDA_analysis/white_formodel', encoding='utf8')"
   ]
  },
  {
   "cell_type": "code",
   "execution_count": null,
   "metadata": {
    "collapsed": true
   },
   "outputs": [],
   "source": []
  }
 ],
 "metadata": {
  "kernelspec": {
   "display_name": "Python [dsi]",
   "language": "python",
   "name": "Python [dsi]"
  },
  "language_info": {
   "codemirror_mode": {
    "name": "ipython",
    "version": 2
   },
   "file_extension": ".py",
   "mimetype": "text/x-python",
   "name": "python",
   "nbconvert_exporter": "python",
   "pygments_lexer": "ipython2",
   "version": "2.7.12"
  }
 },
 "nbformat": 4,
 "nbformat_minor": 0
}
