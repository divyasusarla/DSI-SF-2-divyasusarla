{
 "cells": [
  {
   "cell_type": "markdown",
   "metadata": {},
   "source": [
    "# LDA Analysis on White Wine Reviews:"
   ]
  },
  {
   "cell_type": "code",
   "execution_count": 1,
   "metadata": {
    "collapsed": true
   },
   "outputs": [],
   "source": [
    "import pandas as pd\n",
    "import numpy as np\n",
    "from sklearn.feature_extraction.text import TfidfVectorizer, CountVectorizer\n",
    "from sklearn.decomposition import NMF, LatentDirichletAllocation\n",
    "from sklearn.feature_extraction import text\n",
    "from gensim import corpora, models, matutils\n",
    "import nltk\n",
    "import re\n",
    "from nltk.corpus import stopwords\n",
    "import seaborn as sns\n",
    "import matplotlib.pyplot as plt\n",
    "\n",
    "%matplotlib inline\n",
    "plt.style.use('fivethirtyeight')"
   ]
  },
  {
   "cell_type": "code",
   "execution_count": 2,
   "metadata": {
    "collapsed": true
   },
   "outputs": [],
   "source": [
    "white_clean = pd.read_csv('/Users/divyasusarla/Desktop/DSI-SF-2-divyasusarla/Capstone/Clean_Data/white_reviews_clean.csv', encoding='utf-8')"
   ]
  },
  {
   "cell_type": "code",
   "execution_count": 3,
   "metadata": {
    "collapsed": true
   },
   "outputs": [],
   "source": [
    "del white_clean['Unnamed: 0']\n",
    "white_clean.dropna(inplace=True)"
   ]
  },
  {
   "cell_type": "code",
   "execution_count": 4,
   "metadata": {
    "collapsed": false,
    "scrolled": true
   },
   "outputs": [
    {
     "data": {
      "text/plain": [
       "(96407, 4)"
      ]
     },
     "execution_count": 4,
     "metadata": {},
     "output_type": "execute_result"
    }
   ],
   "source": [
    "white_clean.shape"
   ]
  },
  {
   "cell_type": "code",
   "execution_count": 5,
   "metadata": {
    "collapsed": false
   },
   "outputs": [
    {
     "name": "stdout",
     "output_type": "stream",
     "text": [
      "<class 'pandas.core.frame.DataFrame'>\n",
      "Int64Index: 96407 entries, 0 to 97355\n",
      "Data columns (total 4 columns):\n",
      "review_index    96407 non-null int64\n",
      "white_wine      96407 non-null object\n",
      "white_user      96407 non-null object\n",
      "white_review    96407 non-null object\n",
      "dtypes: int64(1), object(3)\n",
      "memory usage: 3.7+ MB\n"
     ]
    }
   ],
   "source": [
    "white_clean.info()"
   ]
  },
  {
   "cell_type": "markdown",
   "metadata": {},
   "source": [
    "# Create stopwords:"
   ]
  },
  {
   "cell_type": "code",
   "execution_count": 6,
   "metadata": {
    "collapsed": true
   },
   "outputs": [],
   "source": [
    "def identify_stop_words(data):\n",
    "    white_clean['word_check'] = white_clean.white_review.map(\n",
    "        lambda x: re.findall(r'\\w*\\d\\w*', x) if len(re.findall(r'\\w*\\d\\w*', x))>0 else np.nan)\n",
    "    corpus_words = [word for sent in white_clean.word_check[~white_clean.word_check.isnull()] for word in sent]\n",
    "    corpus_words = list(set(corpus_words))\n",
    "    nltk_stop = list(stopwords.words('english'))\n",
    "    white_clean.drop('word_check',axis=1,inplace=True)\n",
    "    my_stop_words = nltk_stop + corpus_words\n",
    "    return my_stop_words"
   ]
  },
  {
   "cell_type": "code",
   "execution_count": 7,
   "metadata": {
    "collapsed": false
   },
   "outputs": [],
   "source": [
    "my_stop_words = identify_stop_words(white_clean.white_review) + ['great', 'wine', 'nice', 'needs', 'time', 'white', \n",
    "                                                            'good', 'nose', 'bottle', 'palate', 'little', \n",
    "                                                             'best', 'wines', 'years', 'colour', 'color', 'excellent', \n",
    "                                                             'price', 'point', 'mouth', 'feel', 'value', 'lovely', \n",
    "                                                             'another', 'easy', 'drink', 'drinking', 'birthday', 'wife', \n",
    "                                                             'day', 'amongst', 'across', 'hours', 'hour', 'year', \n",
    "                                                             'wonderfull', 'amazing', 'well', 'one', 'second', 'new', \n",
    "                                                             'dinner', 'perfect', 'wow', 'buy', 'nicely', \n",
    "                                                             'beautifully', 'ever', 'tasted', 'sauv', 'blanc', \n",
    "                                                                'sauvignon', 'blanc', 'pinot', 'grigio']"
   ]
  },
  {
   "cell_type": "code",
   "execution_count": 8,
   "metadata": {
    "collapsed": true
   },
   "outputs": [],
   "source": [
    "review = white_clean['white_review']"
   ]
  },
  {
   "cell_type": "markdown",
   "metadata": {},
   "source": [
    "# Visualize the spread of words by count and percentile:"
   ]
  },
  {
   "cell_type": "code",
   "execution_count": 9,
   "metadata": {
    "collapsed": true
   },
   "outputs": [],
   "source": [
    "vectorizer = CountVectorizer(stop_words= my_stop_words, ngram_range=(2,2))\n",
    "X = vectorizer.fit_transform(review)\n",
    "X = X.todense()"
   ]
  },
  {
   "cell_type": "code",
   "execution_count": 10,
   "metadata": {
    "collapsed": true
   },
   "outputs": [],
   "source": [
    "# words = pd.DataFrame(X, columns=vectorizer.get_feature_names())\n",
    "# word_count = words.sum(axis=0).reset_index()\n",
    "# word_count.columns = ['words','counts']\n",
    "# word_count.sort_values('counts', ascending=False, inplace=True)\n",
    "# word_count.head(50).plot(x='words', y='counts', kind='bar', figsize=(18,7))"
   ]
  },
  {
   "cell_type": "code",
   "execution_count": 11,
   "metadata": {
    "collapsed": true
   },
   "outputs": [],
   "source": [
    "# word_count_percentiles = pd.DataFrame({\n",
    "#         'percentile':np.arange(1,100,1),\n",
    "#         'word_count':np.percentile(word_count.counts, np.arange(1., 100., 1))\n",
    "#     })\n",
    "# word_count_percentiles.plot(x='percentile', y='word_count', kind='bar', figsize=(18,7))"
   ]
  },
  {
   "cell_type": "markdown",
   "metadata": {},
   "source": [
    "# Set up LDA"
   ]
  },
  {
   "cell_type": "code",
   "execution_count": 12,
   "metadata": {
    "collapsed": true
   },
   "outputs": [],
   "source": [
    "# use the counter option to get the most common words. \n",
    "from collections import Counter\n",
    "# Count the most common tokens \n",
    "summaries = \"\".join(white_clean['white_review'])\n",
    "vocab_summaries = vectorizer.build_analyzer()(summaries)\n",
    "white_vocab = Counter(vocab_summaries).most_common(5000)\n",
    "white_vocab = dict(white_vocab)\n",
    "\n",
    "vectorizer2 = CountVectorizer(vocabulary=white_vocab.keys(), stop_words= my_stop_words, ngram_range=(2,2))\n",
    "X2 = vectorizer2.fit_transform(review)\n",
    "X2.shape\n",
    "X2.todense()\n",
    "\n",
    "vocab2 = {v: k for k, v in vectorizer2.vocabulary_.iteritems()}\n",
    "\n",
    "lda2 = models.LdaModel(\n",
    "   matutils.Sparse2Corpus(X2, documents_columns=False),\n",
    "   num_topics  =  25,\n",
    "   passes      =  25,\n",
    "   iterations = 2500,\n",
    "   id2word     =  vocab2,\n",
    "   eval_every = 100,\n",
    "   chunksize = 2000\n",
    ")"
   ]
  },
  {
   "cell_type": "code",
   "execution_count": 13,
   "metadata": {
    "collapsed": false
   },
   "outputs": [
    {
     "data": {
      "text/plain": [
       "[(0,\n",
       "  u'0.062*fruity sweet + 0.037*sweet dry + 0.036*crisp light + 0.022*creamy texture + 0.022*light golden + 0.022*lemon grapefruit + 0.022*rich creamy + 0.020*citrus peach + 0.016*low alcohol + 0.015*lemon grass'),\n",
       " (1,\n",
       "  u'0.077*apple pear + 0.054*dry finish + 0.054*high acidity + 0.038*smooth finish + 0.035*fresh crisp + 0.020*much better + 0.017*fruit citrus + 0.017*high alcohol + 0.015*sweet finish + 0.015*fresh citrus'),\n",
       " (2,\n",
       "  u'0.118*full bodied + 0.072*medium bodied + 0.039*pale yellow + 0.038*medium acidity + 0.038*dry fruity + 0.028*dry medium + 0.028*light medium + 0.028*light oak + 0.025*fruit flavors + 0.014*sweet light'),\n",
       " (3,\n",
       "  u'0.048*lingering finish + 0.036*crisp fruity + 0.032*peach apricot + 0.026*dry light + 0.022*lemon peel + 0.022*fruity refreshing + 0.018*toasty oak + 0.017*light floral + 0.016*peach lemon + 0.015*dry refreshing'),\n",
       " (4,\n",
       "  u'0.040*dry riesling + 0.029*balance fruit + 0.025*ripe fruit + 0.024*fruit acidity + 0.024*residual sugar + 0.022*peach pear + 0.019*clean fresh + 0.019*fruit aromas + 0.018*clean refreshing + 0.014*hints tropical'),\n",
       " (5,\n",
       "  u'0.070*floral notes + 0.048*passion fruit + 0.031*fruity crisp + 0.026*dry sweet + 0.023*citrus lemon + 0.023*pale gold + 0.021*citrus green + 0.018*vanilla oak + 0.017*smooth balanced + 0.014*acidity fruit'),\n",
       " (6,\n",
       "  u'0.049*clean crisp + 0.028*unoaked chardonnay + 0.025*lime zest + 0.021*sweet taste + 0.018*fruity taste + 0.016*much oak + 0.016*citrus flavor + 0.015*german riesling + 0.013*pear melon + 0.013*finish long'),\n",
       " (7,\n",
       "  u'0.068*balanced acidity + 0.064*crisp refreshing + 0.046*tastes like + 0.044*pale straw + 0.038*green apple + 0.037*medium plus + 0.030*apple citrus + 0.021*light dry + 0.017*wet stone + 0.016*notes citrus'),\n",
       " (8,\n",
       "  u'0.088*light crisp + 0.077*stone fruits + 0.068*lemon lime + 0.032*citrus finish + 0.023*smells like + 0.017*refreshing acidity + 0.017*finish medium + 0.016*fruit mineral + 0.013*really light + 0.013*aromas green'),\n",
       " (9,\n",
       "  u'0.057*green apples + 0.047*straw yellow + 0.044*light body + 0.039*light bodied + 0.027*acidity finish + 0.022*lemon curd + 0.021*grapefruit lemon + 0.019*yellow green + 0.017*medium acid + 0.015*malolactic fermentation'),\n",
       " (10,\n",
       "  u'0.032*high acid + 0.031*light straw + 0.029*crisp citrus + 0.025*apple peach + 0.025*orange peel + 0.021*acidity minerality + 0.020*citrus pear + 0.017*granny smith + 0.017*butter oak + 0.017*citrus grapefruit'),\n",
       " (11,\n",
       "  u'0.078*dry crisp + 0.027*oak butter + 0.026*california chardonnay + 0.017*peach melon + 0.015*apricot peach + 0.013*entry level + 0.013*rich complex + 0.013*peach notes + 0.013*peach apple + 0.013*grapefruit lime'),\n",
       " (12,\n",
       "  u'0.043*apple lemon + 0.029*hint oak + 0.029*hot summer + 0.028*touch oak + 0.027*ripe pear + 0.024*overly sweet + 0.023*creamy buttery + 0.019*body finish + 0.018*crisp taste + 0.018*spicy food'),\n",
       " (13,\n",
       "  u'0.036*crisp finish + 0.026*green fruit + 0.021*pear lemon + 0.019*really like + 0.015*body acidity + 0.015*honey lemon + 0.014*medium full + 0.013*hints green + 0.012*sweet smooth + 0.012*yellow plum'),\n",
       " (14,\n",
       "  u'0.027*semi sweet + 0.025*crisp apple + 0.025*really enjoyed + 0.021*slightly dry + 0.019*pear peach + 0.016*notes pear + 0.016*apple pineapple + 0.014*vibrant acidity + 0.013*grapefruit citrus + 0.012*hints oak'),\n",
       " (15,\n",
       "  u'0.069*medium finish + 0.041*slightly sweet + 0.030*semi dry + 0.029*pale lemon + 0.028*balance acidity + 0.024*cut grass + 0.017*citrus flavours + 0.016*clear pale + 0.015*acidic finish + 0.014*citrus zest'),\n",
       " (16,\n",
       "  u'0.061*light refreshing + 0.059*citrus notes + 0.051*lemon zest + 0.040*french oak + 0.037*full body + 0.031*light yellow + 0.031*fruity light + 0.029*nothing special + 0.021*grand cru + 0.018*floral aromas'),\n",
       " (17,\n",
       "  u'0.136*long finish + 0.093*medium body + 0.029*acidity medium + 0.023*high acidity + 0.019*acidity long + 0.019*bright acidity + 0.018*med body + 0.018*body medium + 0.016*pear citrus + 0.015*medium acidity'),\n",
       " (18,\n",
       "  u'0.160*green apple + 0.049*tropical fruits + 0.038*fruit forward + 0.032*citrus fruit + 0.031*short finish + 0.019*almost like + 0.013*pale yellow + 0.013*bone dry + 0.013*red apple + 0.012*lively acidity'),\n",
       " (19,\n",
       "  u'0.056*light fruity + 0.045*mineral finish + 0.044*crisp dry + 0.030*lemon citrus + 0.028*fruity smooth + 0.025*low acidity + 0.025*green pepper + 0.022*buttery finish + 0.021*citrus flavors + 0.020*perfectly balanced'),\n",
       " (20,\n",
       "  u'0.054*crisp clean + 0.045*fruity dry + 0.035*taste like + 0.028*fruit notes + 0.024*smooth buttery + 0.019*med acidity + 0.019*fruit finish + 0.018*acidity balance + 0.016*long legs + 0.015*smooth fruity'),\n",
       " (21,\n",
       "  u'0.030*crisp acidity + 0.029*mineral notes + 0.022*fresh fruity + 0.020*hints citrus + 0.019*apple lime + 0.017*slightly acidic + 0.016*bit sweet + 0.015*old world + 0.015*fruity fresh + 0.014*oak finish'),\n",
       " (22,\n",
       "  u'0.150*tropical fruit + 0.120*stone fruit + 0.029*sweet fruity + 0.017*citrus tropical + 0.014*stainless steel + 0.013*acidity balanced + 0.013*creamy finish + 0.012*fruity delicious + 0.012*smooth crisp + 0.011*tropical fruits'),\n",
       " (23,\n",
       "  u'0.048*clean finish + 0.048*light citrus + 0.019*smooth light + 0.016*light acidity + 0.016*light fresh + 0.013*fruit apple + 0.013*slight hint + 0.013*pear pineapple + 0.012*creme br\\xfbl\\xe9e + 0.012*taste buds'),\n",
       " (24,\n",
       "  u'0.055*green apple + 0.026*crisp fresh + 0.025*orange blossom + 0.025*citrus fruits + 0.022*pear apple + 0.020*lemon green + 0.019*light fruit + 0.019*fresh acidity + 0.019*apple notes + 0.017*tropical notes')]"
      ]
     },
     "execution_count": 13,
     "metadata": {},
     "output_type": "execute_result"
    }
   ],
   "source": [
    "lda2.print_topics(num_topics=25, num_words=10)"
   ]
  },
  {
   "cell_type": "markdown",
   "metadata": {},
   "source": [
    "## Get the probabilities by topic into a dataframe:\n",
    "\n",
    "Below I am turning my documents into a format that can pass through the get_document_topics function, but I am also checking to see how many documents I have that contain data."
   ]
  },
  {
   "cell_type": "code",
   "execution_count": 14,
   "metadata": {
    "collapsed": true
   },
   "outputs": [],
   "source": [
    "bow = []\n",
    "blank_documents = 0\n",
    "for document in X2.toarray():\n",
    "    single_document = []\n",
    "    for token_id, token_count in enumerate(document):\n",
    "        \n",
    "        if token_count > 0:\n",
    "              single_document.append((token_id, token_count))\n",
    "            \n",
    "    if len(single_document)>0:\n",
    "        bow.append(single_document)\n",
    "    else:\n",
    "        blank_documents += 1\n",
    "        bow.append([])"
   ]
  },
  {
   "cell_type": "code",
   "execution_count": 15,
   "metadata": {
    "collapsed": false
   },
   "outputs": [
    {
     "data": {
      "text/plain": [
       "(96407, 32372)"
      ]
     },
     "execution_count": 15,
     "metadata": {},
     "output_type": "execute_result"
    }
   ],
   "source": [
    "len(bow), blank_documents"
   ]
  },
  {
   "cell_type": "code",
   "execution_count": 16,
   "metadata": {
    "collapsed": false
   },
   "outputs": [
    {
     "data": {
      "text/plain": [
       "[(0, 0.013333333333333332),\n",
       " (1, 0.013333333333333332),\n",
       " (2, 0.013333333333333332),\n",
       " (3, 0.013333333333333332),\n",
       " (4, 0.013333333333333332),\n",
       " (5, 0.013333333333333332),\n",
       " (6, 0.013333333333333332),\n",
       " (7, 0.013333333333333332),\n",
       " (8, 0.013333333333333332),\n",
       " (9, 0.34666666666666951),\n",
       " (10, 0.34666666666666368),\n",
       " (11, 0.013333333333333332),\n",
       " (12, 0.013333333333333332),\n",
       " (13, 0.013333333333333332),\n",
       " (14, 0.013333333333333332),\n",
       " (15, 0.013333333333333332),\n",
       " (16, 0.013333333333333332),\n",
       " (17, 0.013333333333333332),\n",
       " (18, 0.013333333333333332),\n",
       " (19, 0.013333333333333332),\n",
       " (20, 0.013333333333333332),\n",
       " (21, 0.013333333333333332),\n",
       " (22, 0.013333333333333332),\n",
       " (23, 0.013333333333333332),\n",
       " (24, 0.013333333333333332)]"
      ]
     },
     "execution_count": 16,
     "metadata": {},
     "output_type": "execute_result"
    }
   ],
   "source": [
    "lda2.get_document_topics(bow[6])"
   ]
  },
  {
   "cell_type": "code",
   "execution_count": 17,
   "metadata": {
    "collapsed": true
   },
   "outputs": [],
   "source": [
    "topic_proba =lda2.get_document_topics(bow)"
   ]
  },
  {
   "cell_type": "code",
   "execution_count": 18,
   "metadata": {
    "collapsed": true
   },
   "outputs": [],
   "source": [
    "topic_df = np.zeros((len(topic_proba), 25))\n",
    "for rowid, tp in enumerate(topic_proba):\n",
    "    for colid, p in tp:\n",
    "        topic_df[rowid, colid] = p\n",
    "        \n",
    "topic_df = pd.DataFrame(topic_df, columns=['t'+str(i+1) for i in range(topic_df.shape[1])])"
   ]
  },
  {
   "cell_type": "code",
   "execution_count": 19,
   "metadata": {
    "collapsed": false
   },
   "outputs": [
    {
     "data": {
      "text/html": [
       "<div>\n",
       "<table border=\"1\" class=\"dataframe\">\n",
       "  <thead>\n",
       "    <tr style=\"text-align: right;\">\n",
       "      <th></th>\n",
       "      <th>t1</th>\n",
       "      <th>t2</th>\n",
       "      <th>t3</th>\n",
       "      <th>t4</th>\n",
       "      <th>t5</th>\n",
       "      <th>t6</th>\n",
       "      <th>t7</th>\n",
       "      <th>t8</th>\n",
       "      <th>t9</th>\n",
       "      <th>t10</th>\n",
       "      <th>...</th>\n",
       "      <th>t16</th>\n",
       "      <th>t17</th>\n",
       "      <th>t18</th>\n",
       "      <th>t19</th>\n",
       "      <th>t20</th>\n",
       "      <th>t21</th>\n",
       "      <th>t22</th>\n",
       "      <th>t23</th>\n",
       "      <th>t24</th>\n",
       "      <th>t25</th>\n",
       "    </tr>\n",
       "  </thead>\n",
       "  <tbody>\n",
       "    <tr>\n",
       "      <th>0</th>\n",
       "      <td>0.010000</td>\n",
       "      <td>0.010000</td>\n",
       "      <td>0.010000</td>\n",
       "      <td>0.010000</td>\n",
       "      <td>0.010000</td>\n",
       "      <td>0.010000</td>\n",
       "      <td>0.010000</td>\n",
       "      <td>0.010000</td>\n",
       "      <td>0.010000</td>\n",
       "      <td>0.010000</td>\n",
       "      <td>...</td>\n",
       "      <td>0.010000</td>\n",
       "      <td>0.010000</td>\n",
       "      <td>0.260000</td>\n",
       "      <td>0.010000</td>\n",
       "      <td>0.010000</td>\n",
       "      <td>0.010000</td>\n",
       "      <td>0.010000</td>\n",
       "      <td>0.260000</td>\n",
       "      <td>0.010000</td>\n",
       "      <td>0.010000</td>\n",
       "    </tr>\n",
       "    <tr>\n",
       "      <th>1</th>\n",
       "      <td>0.013333</td>\n",
       "      <td>0.013333</td>\n",
       "      <td>0.013333</td>\n",
       "      <td>0.013333</td>\n",
       "      <td>0.013333</td>\n",
       "      <td>0.346667</td>\n",
       "      <td>0.013333</td>\n",
       "      <td>0.013333</td>\n",
       "      <td>0.013333</td>\n",
       "      <td>0.013333</td>\n",
       "      <td>...</td>\n",
       "      <td>0.013333</td>\n",
       "      <td>0.013333</td>\n",
       "      <td>0.346667</td>\n",
       "      <td>0.013333</td>\n",
       "      <td>0.013333</td>\n",
       "      <td>0.013333</td>\n",
       "      <td>0.013333</td>\n",
       "      <td>0.013333</td>\n",
       "      <td>0.013333</td>\n",
       "      <td>0.013333</td>\n",
       "    </tr>\n",
       "    <tr>\n",
       "      <th>2</th>\n",
       "      <td>0.020000</td>\n",
       "      <td>0.020000</td>\n",
       "      <td>0.020000</td>\n",
       "      <td>0.020000</td>\n",
       "      <td>0.020000</td>\n",
       "      <td>0.020000</td>\n",
       "      <td>0.020000</td>\n",
       "      <td>0.020000</td>\n",
       "      <td>0.020000</td>\n",
       "      <td>0.020000</td>\n",
       "      <td>...</td>\n",
       "      <td>0.020000</td>\n",
       "      <td>0.020000</td>\n",
       "      <td>0.020000</td>\n",
       "      <td>0.020000</td>\n",
       "      <td>0.020000</td>\n",
       "      <td>0.020000</td>\n",
       "      <td>0.020000</td>\n",
       "      <td>0.020000</td>\n",
       "      <td>0.020000</td>\n",
       "      <td>0.020000</td>\n",
       "    </tr>\n",
       "    <tr>\n",
       "      <th>3</th>\n",
       "      <td>0.000000</td>\n",
       "      <td>0.000000</td>\n",
       "      <td>0.208000</td>\n",
       "      <td>0.000000</td>\n",
       "      <td>0.000000</td>\n",
       "      <td>0.000000</td>\n",
       "      <td>0.000000</td>\n",
       "      <td>0.000000</td>\n",
       "      <td>0.000000</td>\n",
       "      <td>0.000000</td>\n",
       "      <td>...</td>\n",
       "      <td>0.000000</td>\n",
       "      <td>0.000000</td>\n",
       "      <td>0.208000</td>\n",
       "      <td>0.208000</td>\n",
       "      <td>0.000000</td>\n",
       "      <td>0.208000</td>\n",
       "      <td>0.000000</td>\n",
       "      <td>0.000000</td>\n",
       "      <td>0.000000</td>\n",
       "      <td>0.000000</td>\n",
       "    </tr>\n",
       "    <tr>\n",
       "      <th>4</th>\n",
       "      <td>0.013333</td>\n",
       "      <td>0.013333</td>\n",
       "      <td>0.013333</td>\n",
       "      <td>0.013333</td>\n",
       "      <td>0.013333</td>\n",
       "      <td>0.013333</td>\n",
       "      <td>0.013333</td>\n",
       "      <td>0.680000</td>\n",
       "      <td>0.013333</td>\n",
       "      <td>0.013333</td>\n",
       "      <td>...</td>\n",
       "      <td>0.013333</td>\n",
       "      <td>0.013333</td>\n",
       "      <td>0.013333</td>\n",
       "      <td>0.013333</td>\n",
       "      <td>0.013333</td>\n",
       "      <td>0.013333</td>\n",
       "      <td>0.013333</td>\n",
       "      <td>0.013333</td>\n",
       "      <td>0.013333</td>\n",
       "      <td>0.013333</td>\n",
       "    </tr>\n",
       "  </tbody>\n",
       "</table>\n",
       "<p>5 rows × 25 columns</p>\n",
       "</div>"
      ],
      "text/plain": [
       "         t1        t2        t3        t4        t5        t6        t7  \\\n",
       "0  0.010000  0.010000  0.010000  0.010000  0.010000  0.010000  0.010000   \n",
       "1  0.013333  0.013333  0.013333  0.013333  0.013333  0.346667  0.013333   \n",
       "2  0.020000  0.020000  0.020000  0.020000  0.020000  0.020000  0.020000   \n",
       "3  0.000000  0.000000  0.208000  0.000000  0.000000  0.000000  0.000000   \n",
       "4  0.013333  0.013333  0.013333  0.013333  0.013333  0.013333  0.013333   \n",
       "\n",
       "         t8        t9       t10    ...          t16       t17       t18  \\\n",
       "0  0.010000  0.010000  0.010000    ...     0.010000  0.010000  0.260000   \n",
       "1  0.013333  0.013333  0.013333    ...     0.013333  0.013333  0.346667   \n",
       "2  0.020000  0.020000  0.020000    ...     0.020000  0.020000  0.020000   \n",
       "3  0.000000  0.000000  0.000000    ...     0.000000  0.000000  0.208000   \n",
       "4  0.680000  0.013333  0.013333    ...     0.013333  0.013333  0.013333   \n",
       "\n",
       "        t19       t20       t21       t22       t23       t24       t25  \n",
       "0  0.010000  0.010000  0.010000  0.010000  0.260000  0.010000  0.010000  \n",
       "1  0.013333  0.013333  0.013333  0.013333  0.013333  0.013333  0.013333  \n",
       "2  0.020000  0.020000  0.020000  0.020000  0.020000  0.020000  0.020000  \n",
       "3  0.208000  0.000000  0.208000  0.000000  0.000000  0.000000  0.000000  \n",
       "4  0.013333  0.013333  0.013333  0.013333  0.013333  0.013333  0.013333  \n",
       "\n",
       "[5 rows x 25 columns]"
      ]
     },
     "execution_count": 19,
     "metadata": {},
     "output_type": "execute_result"
    }
   ],
   "source": [
    "topic_df.head(5)"
   ]
  },
  {
   "cell_type": "markdown",
   "metadata": {},
   "source": [
    "# Further analysis into the topics:"
   ]
  },
  {
   "cell_type": "code",
   "execution_count": 20,
   "metadata": {
    "collapsed": false
   },
   "outputs": [],
   "source": [
    "def get_documents_by_topic(topic='t1', threashold = .65):\n",
    "    orig_df = pd.read_csv(\"../Clean_Data/white_reviews_clean.csv\")\n",
    "    orig_df = orig_df.dropna()  \n",
    "    return orig_df[orig_df.index.isin(topic_df[topic_df[topic] > threashold].index)]['white_review']\n",
    "\n",
    "def get_top_feature_counts(df, limit = 10, vectorizer = vectorizer):\n",
    "\n",
    "    X = vectorizer.fit_transform(df)\n",
    "\n",
    "    tokens = pd.DataFrame()\n",
    "    stats_df = pd.DataFrame(X.toarray(), columns=vectorizer.vocabulary_)\n",
    "    tokens['tokens'] = stats_df.columns \n",
    "    tokens['count'] = stats_df.T.sum()\n",
    "    tokens = tokens.set_index('tokens')\n",
    "    return tokens.sort('count', ascending=False).head(limit).reset_index()"
   ]
  },
  {
   "cell_type": "code",
   "execution_count": 21,
   "metadata": {
    "collapsed": true
   },
   "outputs": [],
   "source": [
    "topic_df['max_prob'] =  topic_df.apply(np.argmax, axis=1)"
   ]
  },
  {
   "cell_type": "code",
   "execution_count": 22,
   "metadata": {
    "collapsed": false
   },
   "outputs": [
    {
     "data": {
      "text/html": [
       "<div>\n",
       "<table border=\"1\" class=\"dataframe\">\n",
       "  <thead>\n",
       "    <tr style=\"text-align: right;\">\n",
       "      <th></th>\n",
       "      <th>t1</th>\n",
       "      <th>t2</th>\n",
       "      <th>t3</th>\n",
       "      <th>t4</th>\n",
       "      <th>t5</th>\n",
       "      <th>t6</th>\n",
       "      <th>t7</th>\n",
       "      <th>t8</th>\n",
       "      <th>t9</th>\n",
       "      <th>t10</th>\n",
       "      <th>...</th>\n",
       "      <th>t18</th>\n",
       "      <th>t19</th>\n",
       "      <th>t20</th>\n",
       "      <th>t21</th>\n",
       "      <th>t22</th>\n",
       "      <th>t23</th>\n",
       "      <th>t24</th>\n",
       "      <th>t25</th>\n",
       "      <th>max_prob</th>\n",
       "      <th>unique_probs</th>\n",
       "    </tr>\n",
       "  </thead>\n",
       "  <tbody>\n",
       "    <tr>\n",
       "      <th>0</th>\n",
       "      <td>0.010000</td>\n",
       "      <td>0.010000</td>\n",
       "      <td>0.010000</td>\n",
       "      <td>0.010000</td>\n",
       "      <td>0.010000</td>\n",
       "      <td>0.010000</td>\n",
       "      <td>0.010000</td>\n",
       "      <td>0.010000</td>\n",
       "      <td>0.010000</td>\n",
       "      <td>0.010000</td>\n",
       "      <td>...</td>\n",
       "      <td>0.260000</td>\n",
       "      <td>0.010000</td>\n",
       "      <td>0.010000</td>\n",
       "      <td>0.010000</td>\n",
       "      <td>0.010000</td>\n",
       "      <td>0.260000</td>\n",
       "      <td>0.010000</td>\n",
       "      <td>0.010000</td>\n",
       "      <td>t23</td>\n",
       "      <td>4</td>\n",
       "    </tr>\n",
       "    <tr>\n",
       "      <th>1</th>\n",
       "      <td>0.013333</td>\n",
       "      <td>0.013333</td>\n",
       "      <td>0.013333</td>\n",
       "      <td>0.013333</td>\n",
       "      <td>0.013333</td>\n",
       "      <td>0.346667</td>\n",
       "      <td>0.013333</td>\n",
       "      <td>0.013333</td>\n",
       "      <td>0.013333</td>\n",
       "      <td>0.013333</td>\n",
       "      <td>...</td>\n",
       "      <td>0.346667</td>\n",
       "      <td>0.013333</td>\n",
       "      <td>0.013333</td>\n",
       "      <td>0.013333</td>\n",
       "      <td>0.013333</td>\n",
       "      <td>0.013333</td>\n",
       "      <td>0.013333</td>\n",
       "      <td>0.013333</td>\n",
       "      <td>t6</td>\n",
       "      <td>3</td>\n",
       "    </tr>\n",
       "    <tr>\n",
       "      <th>2</th>\n",
       "      <td>0.020000</td>\n",
       "      <td>0.020000</td>\n",
       "      <td>0.020000</td>\n",
       "      <td>0.020000</td>\n",
       "      <td>0.020000</td>\n",
       "      <td>0.020000</td>\n",
       "      <td>0.020000</td>\n",
       "      <td>0.020000</td>\n",
       "      <td>0.020000</td>\n",
       "      <td>0.020000</td>\n",
       "      <td>...</td>\n",
       "      <td>0.020000</td>\n",
       "      <td>0.020000</td>\n",
       "      <td>0.020000</td>\n",
       "      <td>0.020000</td>\n",
       "      <td>0.020000</td>\n",
       "      <td>0.020000</td>\n",
       "      <td>0.020000</td>\n",
       "      <td>0.020000</td>\n",
       "      <td>t11</td>\n",
       "      <td>2</td>\n",
       "    </tr>\n",
       "    <tr>\n",
       "      <th>3</th>\n",
       "      <td>0.000000</td>\n",
       "      <td>0.000000</td>\n",
       "      <td>0.208000</td>\n",
       "      <td>0.000000</td>\n",
       "      <td>0.000000</td>\n",
       "      <td>0.000000</td>\n",
       "      <td>0.000000</td>\n",
       "      <td>0.000000</td>\n",
       "      <td>0.000000</td>\n",
       "      <td>0.000000</td>\n",
       "      <td>...</td>\n",
       "      <td>0.208000</td>\n",
       "      <td>0.208000</td>\n",
       "      <td>0.000000</td>\n",
       "      <td>0.208000</td>\n",
       "      <td>0.000000</td>\n",
       "      <td>0.000000</td>\n",
       "      <td>0.000000</td>\n",
       "      <td>0.000000</td>\n",
       "      <td>t19</td>\n",
       "      <td>5</td>\n",
       "    </tr>\n",
       "    <tr>\n",
       "      <th>4</th>\n",
       "      <td>0.013333</td>\n",
       "      <td>0.013333</td>\n",
       "      <td>0.013333</td>\n",
       "      <td>0.013333</td>\n",
       "      <td>0.013333</td>\n",
       "      <td>0.013333</td>\n",
       "      <td>0.013333</td>\n",
       "      <td>0.680000</td>\n",
       "      <td>0.013333</td>\n",
       "      <td>0.013333</td>\n",
       "      <td>...</td>\n",
       "      <td>0.013333</td>\n",
       "      <td>0.013333</td>\n",
       "      <td>0.013333</td>\n",
       "      <td>0.013333</td>\n",
       "      <td>0.013333</td>\n",
       "      <td>0.013333</td>\n",
       "      <td>0.013333</td>\n",
       "      <td>0.013333</td>\n",
       "      <td>t8</td>\n",
       "      <td>4</td>\n",
       "    </tr>\n",
       "    <tr>\n",
       "      <th>5</th>\n",
       "      <td>0.000000</td>\n",
       "      <td>0.408000</td>\n",
       "      <td>0.000000</td>\n",
       "      <td>0.000000</td>\n",
       "      <td>0.000000</td>\n",
       "      <td>0.000000</td>\n",
       "      <td>0.000000</td>\n",
       "      <td>0.000000</td>\n",
       "      <td>0.000000</td>\n",
       "      <td>0.208000</td>\n",
       "      <td>...</td>\n",
       "      <td>0.000000</td>\n",
       "      <td>0.000000</td>\n",
       "      <td>0.000000</td>\n",
       "      <td>0.000000</td>\n",
       "      <td>0.000000</td>\n",
       "      <td>0.208000</td>\n",
       "      <td>0.000000</td>\n",
       "      <td>0.000000</td>\n",
       "      <td>t2</td>\n",
       "      <td>4</td>\n",
       "    </tr>\n",
       "    <tr>\n",
       "      <th>6</th>\n",
       "      <td>0.013333</td>\n",
       "      <td>0.013333</td>\n",
       "      <td>0.013333</td>\n",
       "      <td>0.013333</td>\n",
       "      <td>0.013333</td>\n",
       "      <td>0.013333</td>\n",
       "      <td>0.013333</td>\n",
       "      <td>0.013333</td>\n",
       "      <td>0.013333</td>\n",
       "      <td>0.346667</td>\n",
       "      <td>...</td>\n",
       "      <td>0.013333</td>\n",
       "      <td>0.013333</td>\n",
       "      <td>0.013333</td>\n",
       "      <td>0.013333</td>\n",
       "      <td>0.013333</td>\n",
       "      <td>0.013333</td>\n",
       "      <td>0.013333</td>\n",
       "      <td>0.013333</td>\n",
       "      <td>t10</td>\n",
       "      <td>3</td>\n",
       "    </tr>\n",
       "    <tr>\n",
       "      <th>7</th>\n",
       "      <td>0.000000</td>\n",
       "      <td>0.208000</td>\n",
       "      <td>0.000000</td>\n",
       "      <td>0.208000</td>\n",
       "      <td>0.000000</td>\n",
       "      <td>0.000000</td>\n",
       "      <td>0.000000</td>\n",
       "      <td>0.000000</td>\n",
       "      <td>0.000000</td>\n",
       "      <td>0.000000</td>\n",
       "      <td>...</td>\n",
       "      <td>0.000000</td>\n",
       "      <td>0.208000</td>\n",
       "      <td>0.000000</td>\n",
       "      <td>0.000000</td>\n",
       "      <td>0.000000</td>\n",
       "      <td>0.000000</td>\n",
       "      <td>0.000000</td>\n",
       "      <td>0.000000</td>\n",
       "      <td>t19</td>\n",
       "      <td>5</td>\n",
       "    </tr>\n",
       "    <tr>\n",
       "      <th>8</th>\n",
       "      <td>0.000000</td>\n",
       "      <td>0.173333</td>\n",
       "      <td>0.000000</td>\n",
       "      <td>0.000000</td>\n",
       "      <td>0.000000</td>\n",
       "      <td>0.000000</td>\n",
       "      <td>0.000000</td>\n",
       "      <td>0.000000</td>\n",
       "      <td>0.000000</td>\n",
       "      <td>0.000000</td>\n",
       "      <td>...</td>\n",
       "      <td>0.340000</td>\n",
       "      <td>0.000000</td>\n",
       "      <td>0.000000</td>\n",
       "      <td>0.000000</td>\n",
       "      <td>0.000000</td>\n",
       "      <td>0.000000</td>\n",
       "      <td>0.000000</td>\n",
       "      <td>0.340000</td>\n",
       "      <td>t18</td>\n",
       "      <td>4</td>\n",
       "    </tr>\n",
       "    <tr>\n",
       "      <th>9</th>\n",
       "      <td>0.680000</td>\n",
       "      <td>0.013333</td>\n",
       "      <td>0.013333</td>\n",
       "      <td>0.013333</td>\n",
       "      <td>0.013333</td>\n",
       "      <td>0.013333</td>\n",
       "      <td>0.013333</td>\n",
       "      <td>0.013333</td>\n",
       "      <td>0.013333</td>\n",
       "      <td>0.013333</td>\n",
       "      <td>...</td>\n",
       "      <td>0.013333</td>\n",
       "      <td>0.013333</td>\n",
       "      <td>0.013333</td>\n",
       "      <td>0.013333</td>\n",
       "      <td>0.013333</td>\n",
       "      <td>0.013333</td>\n",
       "      <td>0.013333</td>\n",
       "      <td>0.013333</td>\n",
       "      <td>t1</td>\n",
       "      <td>2</td>\n",
       "    </tr>\n",
       "  </tbody>\n",
       "</table>\n",
       "<p>10 rows × 27 columns</p>\n",
       "</div>"
      ],
      "text/plain": [
       "         t1        t2        t3        t4        t5        t6        t7  \\\n",
       "0  0.010000  0.010000  0.010000  0.010000  0.010000  0.010000  0.010000   \n",
       "1  0.013333  0.013333  0.013333  0.013333  0.013333  0.346667  0.013333   \n",
       "2  0.020000  0.020000  0.020000  0.020000  0.020000  0.020000  0.020000   \n",
       "3  0.000000  0.000000  0.208000  0.000000  0.000000  0.000000  0.000000   \n",
       "4  0.013333  0.013333  0.013333  0.013333  0.013333  0.013333  0.013333   \n",
       "5  0.000000  0.408000  0.000000  0.000000  0.000000  0.000000  0.000000   \n",
       "6  0.013333  0.013333  0.013333  0.013333  0.013333  0.013333  0.013333   \n",
       "7  0.000000  0.208000  0.000000  0.208000  0.000000  0.000000  0.000000   \n",
       "8  0.000000  0.173333  0.000000  0.000000  0.000000  0.000000  0.000000   \n",
       "9  0.680000  0.013333  0.013333  0.013333  0.013333  0.013333  0.013333   \n",
       "\n",
       "         t8        t9       t10      ...            t18       t19       t20  \\\n",
       "0  0.010000  0.010000  0.010000      ...       0.260000  0.010000  0.010000   \n",
       "1  0.013333  0.013333  0.013333      ...       0.346667  0.013333  0.013333   \n",
       "2  0.020000  0.020000  0.020000      ...       0.020000  0.020000  0.020000   \n",
       "3  0.000000  0.000000  0.000000      ...       0.208000  0.208000  0.000000   \n",
       "4  0.680000  0.013333  0.013333      ...       0.013333  0.013333  0.013333   \n",
       "5  0.000000  0.000000  0.208000      ...       0.000000  0.000000  0.000000   \n",
       "6  0.013333  0.013333  0.346667      ...       0.013333  0.013333  0.013333   \n",
       "7  0.000000  0.000000  0.000000      ...       0.000000  0.208000  0.000000   \n",
       "8  0.000000  0.000000  0.000000      ...       0.340000  0.000000  0.000000   \n",
       "9  0.013333  0.013333  0.013333      ...       0.013333  0.013333  0.013333   \n",
       "\n",
       "        t21       t22       t23       t24       t25  max_prob  unique_probs  \n",
       "0  0.010000  0.010000  0.260000  0.010000  0.010000       t23             4  \n",
       "1  0.013333  0.013333  0.013333  0.013333  0.013333        t6             3  \n",
       "2  0.020000  0.020000  0.020000  0.020000  0.020000       t11             2  \n",
       "3  0.208000  0.000000  0.000000  0.000000  0.000000       t19             5  \n",
       "4  0.013333  0.013333  0.013333  0.013333  0.013333        t8             4  \n",
       "5  0.000000  0.000000  0.208000  0.000000  0.000000        t2             4  \n",
       "6  0.013333  0.013333  0.013333  0.013333  0.013333       t10             3  \n",
       "7  0.000000  0.000000  0.000000  0.000000  0.000000       t19             5  \n",
       "8  0.000000  0.000000  0.000000  0.000000  0.340000       t18             4  \n",
       "9  0.013333  0.013333  0.013333  0.013333  0.013333        t1             2  \n",
       "\n",
       "[10 rows x 27 columns]"
      ]
     },
     "execution_count": 22,
     "metadata": {},
     "output_type": "execute_result"
    }
   ],
   "source": [
    "topic_df['unique_probs'] = topic_df.apply(lambda x: len(np.unique(x[0:25])), axis=1)\n",
    "topic_df.head(10)"
   ]
  },
  {
   "cell_type": "code",
   "execution_count": 26,
   "metadata": {
    "collapsed": false
   },
   "outputs": [
    {
     "data": {
      "image/png": "[encoded data removed]",
      "text/plain": [
       "<matplotlib.figure.Figure at 0x120f177d0>"
      ]
     },
     "metadata": {},
     "output_type": "display_data"
    }
   ],
   "source": [
    "# Distribution of topic membership:\n",
    "fig = plt.figure(figsize=(15,5))\n",
    "ax = fig.gca()\n",
    "topic_df[topic_df.unique_probs>1].max_prob.value_counts().plot(kind='bar', figsize=(18,7), color='darkorange', ax=ax)\n",
    "ax.set_xlabel('Topics')\n",
    "ax.set_title('Distribution of Topic Membership')\n",
    "plt.savefig('/Users/divyasusarla/Desktop/DSI-SF-2-divyasusarla/Capstone/LDA_analysis/whitetopics_dist.jpeg', bbox_inches='tight')"
   ]
  },
  {
   "cell_type": "code",
   "execution_count": 27,
   "metadata": {
    "collapsed": false
   },
   "outputs": [
    {
     "name": "stderr",
     "output_type": "stream",
     "text": [
      "/anaconda/envs/dsi/lib/python2.7/site-packages/ipykernel/__main__.py:15: FutureWarning: sort(columns=....) is deprecated, use sort_values(by=.....)\n"
     ]
    },
    {
     "data": {
      "text/html": [
       "<div>\n",
       "<table border=\"1\" class=\"dataframe\">\n",
       "  <thead>\n",
       "    <tr style=\"text-align: right;\">\n",
       "      <th></th>\n",
       "      <th>tokens</th>\n",
       "      <th>count</th>\n",
       "    </tr>\n",
       "  </thead>\n",
       "  <tbody>\n",
       "    <tr>\n",
       "      <th>0</th>\n",
       "      <td>clear plastic</td>\n",
       "      <td>41.0</td>\n",
       "    </tr>\n",
       "    <tr>\n",
       "      <th>1</th>\n",
       "      <td>slight sweet</td>\n",
       "      <td>40.0</td>\n",
       "    </tr>\n",
       "    <tr>\n",
       "      <th>2</th>\n",
       "      <td>citrus dynamic</td>\n",
       "      <td>38.0</td>\n",
       "    </tr>\n",
       "    <tr>\n",
       "      <th>3</th>\n",
       "      <td>dry riesling</td>\n",
       "      <td>37.0</td>\n",
       "    </tr>\n",
       "    <tr>\n",
       "      <th>4</th>\n",
       "      <td>creamy buttery</td>\n",
       "      <td>34.0</td>\n",
       "    </tr>\n",
       "    <tr>\n",
       "      <th>5</th>\n",
       "      <td>californian chard</td>\n",
       "      <td>33.0</td>\n",
       "    </tr>\n",
       "    <tr>\n",
       "      <th>6</th>\n",
       "      <td>frutti went</td>\n",
       "      <td>24.0</td>\n",
       "    </tr>\n",
       "    <tr>\n",
       "      <th>7</th>\n",
       "      <td>need come</td>\n",
       "      <td>22.0</td>\n",
       "    </tr>\n",
       "    <tr>\n",
       "      <th>8</th>\n",
       "      <td>bordeaux love</td>\n",
       "      <td>20.0</td>\n",
       "    </tr>\n",
       "    <tr>\n",
       "      <th>9</th>\n",
       "      <td>fresh yet</td>\n",
       "      <td>18.0</td>\n",
       "    </tr>\n",
       "  </tbody>\n",
       "</table>\n",
       "</div>"
      ],
      "text/plain": [
       "              tokens  count\n",
       "0      clear plastic   41.0\n",
       "1       slight sweet   40.0\n",
       "2     citrus dynamic   38.0\n",
       "3       dry riesling   37.0\n",
       "4     creamy buttery   34.0\n",
       "5  californian chard   33.0\n",
       "6        frutti went   24.0\n",
       "7          need come   22.0\n",
       "8      bordeaux love   20.0\n",
       "9          fresh yet   18.0"
      ]
     },
     "execution_count": 27,
     "metadata": {},
     "output_type": "execute_result"
    }
   ],
   "source": [
    "# docs topics are the documents in the topic paramter\n",
    "docs_topics = get_documents_by_topic('t17', .65)\n",
    "\n",
    "# get df of top word counts by df\n",
    "get_top_feature_counts(docs_topics, limit = 10)"
   ]
  },
  {
   "cell_type": "markdown",
   "metadata": {},
   "source": [
    "# Create Data Frame of topic probabilities and the reviews"
   ]
  },
  {
   "cell_type": "code",
   "execution_count": 28,
   "metadata": {
    "collapsed": false
   },
   "outputs": [
    {
     "data": {
      "text/html": [
       "<div>\n",
       "<table border=\"1\" class=\"dataframe\">\n",
       "  <thead>\n",
       "    <tr style=\"text-align: right;\">\n",
       "      <th></th>\n",
       "      <th>review_index</th>\n",
       "      <th>white_wine</th>\n",
       "      <th>white_user</th>\n",
       "      <th>white_review</th>\n",
       "      <th>t1</th>\n",
       "      <th>t2</th>\n",
       "      <th>t3</th>\n",
       "      <th>t4</th>\n",
       "      <th>t5</th>\n",
       "      <th>t6</th>\n",
       "      <th>...</th>\n",
       "      <th>t18</th>\n",
       "      <th>t19</th>\n",
       "      <th>t20</th>\n",
       "      <th>t21</th>\n",
       "      <th>t22</th>\n",
       "      <th>t23</th>\n",
       "      <th>t24</th>\n",
       "      <th>t25</th>\n",
       "      <th>max_prob</th>\n",
       "      <th>unique_probs</th>\n",
       "    </tr>\n",
       "  </thead>\n",
       "  <tbody>\n",
       "    <tr>\n",
       "      <th>0</th>\n",
       "      <td>0.0</td>\n",
       "      <td>Chardonnay Hudson Vineyard</td>\n",
       "      <td>Alyssa Rapp</td>\n",
       "      <td>Excellently balanced chard-meyer lemon and nec...</td>\n",
       "      <td>0.010000</td>\n",
       "      <td>0.010000</td>\n",
       "      <td>0.010000</td>\n",
       "      <td>0.010000</td>\n",
       "      <td>0.010000</td>\n",
       "      <td>0.010000</td>\n",
       "      <td>...</td>\n",
       "      <td>0.260000</td>\n",
       "      <td>0.010000</td>\n",
       "      <td>0.010000</td>\n",
       "      <td>0.010000</td>\n",
       "      <td>0.010000</td>\n",
       "      <td>0.260000</td>\n",
       "      <td>0.010000</td>\n",
       "      <td>0.010000</td>\n",
       "      <td>t23</td>\n",
       "      <td>4.0</td>\n",
       "    </tr>\n",
       "    <tr>\n",
       "      <th>1</th>\n",
       "      <td>1.0</td>\n",
       "      <td>Chardonnay Hudson Vineyard</td>\n",
       "      <td>Sam Hovland</td>\n",
       "      <td>$63. Glazer's distributes. Very high end site....</td>\n",
       "      <td>0.013333</td>\n",
       "      <td>0.013333</td>\n",
       "      <td>0.013333</td>\n",
       "      <td>0.013333</td>\n",
       "      <td>0.013333</td>\n",
       "      <td>0.346667</td>\n",
       "      <td>...</td>\n",
       "      <td>0.346667</td>\n",
       "      <td>0.013333</td>\n",
       "      <td>0.013333</td>\n",
       "      <td>0.013333</td>\n",
       "      <td>0.013333</td>\n",
       "      <td>0.013333</td>\n",
       "      <td>0.013333</td>\n",
       "      <td>0.013333</td>\n",
       "      <td>t6</td>\n",
       "      <td>3.0</td>\n",
       "    </tr>\n",
       "    <tr>\n",
       "      <th>2</th>\n",
       "      <td>2.0</td>\n",
       "      <td>Chardonnay Hudson Vineyard</td>\n",
       "      <td>Jon Walheim</td>\n",
       "      <td>High acid, drank pre-release.  Will wait a yea...</td>\n",
       "      <td>0.020000</td>\n",
       "      <td>0.020000</td>\n",
       "      <td>0.020000</td>\n",
       "      <td>0.020000</td>\n",
       "      <td>0.020000</td>\n",
       "      <td>0.020000</td>\n",
       "      <td>...</td>\n",
       "      <td>0.020000</td>\n",
       "      <td>0.020000</td>\n",
       "      <td>0.020000</td>\n",
       "      <td>0.020000</td>\n",
       "      <td>0.020000</td>\n",
       "      <td>0.020000</td>\n",
       "      <td>0.020000</td>\n",
       "      <td>0.020000</td>\n",
       "      <td>t11</td>\n",
       "      <td>2.0</td>\n",
       "    </tr>\n",
       "    <tr>\n",
       "      <th>3</th>\n",
       "      <td>3.0</td>\n",
       "      <td>Chardonnay Hudson Vineyard</td>\n",
       "      <td>Jonathan Williams</td>\n",
       "      <td>Has a extract texture. Slightly nutty almost l...</td>\n",
       "      <td>0.000000</td>\n",
       "      <td>0.000000</td>\n",
       "      <td>0.208000</td>\n",
       "      <td>0.000000</td>\n",
       "      <td>0.000000</td>\n",
       "      <td>0.000000</td>\n",
       "      <td>...</td>\n",
       "      <td>0.208000</td>\n",
       "      <td>0.208000</td>\n",
       "      <td>0.000000</td>\n",
       "      <td>0.208000</td>\n",
       "      <td>0.000000</td>\n",
       "      <td>0.000000</td>\n",
       "      <td>0.000000</td>\n",
       "      <td>0.000000</td>\n",
       "      <td>t19</td>\n",
       "      <td>5.0</td>\n",
       "    </tr>\n",
       "    <tr>\n",
       "      <th>4</th>\n",
       "      <td>4.0</td>\n",
       "      <td>Chardonnay Hudson Vineyard</td>\n",
       "      <td>Glenn Adams</td>\n",
       "      <td>Very acidic. Had June 2013. Malolactic. Nothin...</td>\n",
       "      <td>0.013333</td>\n",
       "      <td>0.013333</td>\n",
       "      <td>0.013333</td>\n",
       "      <td>0.013333</td>\n",
       "      <td>0.013333</td>\n",
       "      <td>0.013333</td>\n",
       "      <td>...</td>\n",
       "      <td>0.013333</td>\n",
       "      <td>0.013333</td>\n",
       "      <td>0.013333</td>\n",
       "      <td>0.013333</td>\n",
       "      <td>0.013333</td>\n",
       "      <td>0.013333</td>\n",
       "      <td>0.013333</td>\n",
       "      <td>0.013333</td>\n",
       "      <td>t8</td>\n",
       "      <td>4.0</td>\n",
       "    </tr>\n",
       "  </tbody>\n",
       "</table>\n",
       "<p>5 rows × 31 columns</p>\n",
       "</div>"
      ],
      "text/plain": [
       "   review_index                  white_wine         white_user  \\\n",
       "0           0.0  Chardonnay Hudson Vineyard        Alyssa Rapp   \n",
       "1           1.0  Chardonnay Hudson Vineyard        Sam Hovland   \n",
       "2           2.0  Chardonnay Hudson Vineyard        Jon Walheim   \n",
       "3           3.0  Chardonnay Hudson Vineyard  Jonathan Williams   \n",
       "4           4.0  Chardonnay Hudson Vineyard        Glenn Adams   \n",
       "\n",
       "                                        white_review        t1        t2  \\\n",
       "0  Excellently balanced chard-meyer lemon and nec...  0.010000  0.010000   \n",
       "1  $63. Glazer's distributes. Very high end site....  0.013333  0.013333   \n",
       "2  High acid, drank pre-release.  Will wait a yea...  0.020000  0.020000   \n",
       "3  Has a extract texture. Slightly nutty almost l...  0.000000  0.000000   \n",
       "4  Very acidic. Had June 2013. Malolactic. Nothin...  0.013333  0.013333   \n",
       "\n",
       "         t3        t4        t5        t6      ...            t18       t19  \\\n",
       "0  0.010000  0.010000  0.010000  0.010000      ...       0.260000  0.010000   \n",
       "1  0.013333  0.013333  0.013333  0.346667      ...       0.346667  0.013333   \n",
       "2  0.020000  0.020000  0.020000  0.020000      ...       0.020000  0.020000   \n",
       "3  0.208000  0.000000  0.000000  0.000000      ...       0.208000  0.208000   \n",
       "4  0.013333  0.013333  0.013333  0.013333      ...       0.013333  0.013333   \n",
       "\n",
       "        t20       t21       t22       t23       t24       t25  max_prob  \\\n",
       "0  0.010000  0.010000  0.010000  0.260000  0.010000  0.010000       t23   \n",
       "1  0.013333  0.013333  0.013333  0.013333  0.013333  0.013333        t6   \n",
       "2  0.020000  0.020000  0.020000  0.020000  0.020000  0.020000       t11   \n",
       "3  0.000000  0.208000  0.000000  0.000000  0.000000  0.000000       t19   \n",
       "4  0.013333  0.013333  0.013333  0.013333  0.013333  0.013333        t8   \n",
       "\n",
       "   unique_probs  \n",
       "0           4.0  \n",
       "1           3.0  \n",
       "2           2.0  \n",
       "3           5.0  \n",
       "4           4.0  \n",
       "\n",
       "[5 rows x 31 columns]"
      ]
     },
     "execution_count": 28,
     "metadata": {},
     "output_type": "execute_result"
    }
   ],
   "source": [
    "whitewines_topics = pd.concat((white_clean, topic_df), axis=1)\n",
    "whitewines_topics.head()"
   ]
  },
  {
   "cell_type": "code",
   "execution_count": 29,
   "metadata": {
    "collapsed": true
   },
   "outputs": [],
   "source": [
    "white_details = pd.read_csv('/Users/divyasusarla/Desktop/DSI-SF-2-divyasusarla/Capstone/Clean_Data/white_wine_details_clean.csv', encoding='utf-8')"
   ]
  },
  {
   "cell_type": "code",
   "execution_count": 30,
   "metadata": {
    "collapsed": false
   },
   "outputs": [
    {
     "data": {
      "text/html": [
       "<div>\n",
       "<table border=\"1\" class=\"dataframe\">\n",
       "  <thead>\n",
       "    <tr style=\"text-align: right;\">\n",
       "      <th></th>\n",
       "      <th>wine_index</th>\n",
       "      <th>white_wine</th>\n",
       "      <th>white_wineries</th>\n",
       "      <th>white_regions</th>\n",
       "      <th>white_countries</th>\n",
       "      <th>white_avg_wine_ratings</th>\n",
       "      <th>white_avg_price</th>\n",
       "      <th>vintage_year</th>\n",
       "    </tr>\n",
       "  </thead>\n",
       "  <tbody>\n",
       "    <tr>\n",
       "      <th>0</th>\n",
       "      <td>0</td>\n",
       "      <td>Chardonnay Hudson Vineyard</td>\n",
       "      <td>Patz &amp; Hall</td>\n",
       "      <td>Sonoma County</td>\n",
       "      <td>United States</td>\n",
       "      <td>4.0</td>\n",
       "      <td>54.99</td>\n",
       "      <td>NaN</td>\n",
       "    </tr>\n",
       "    <tr>\n",
       "      <th>1</th>\n",
       "      <td>1</td>\n",
       "      <td>Meursault-Blagny</td>\n",
       "      <td>Thierry et Pascale Matrot</td>\n",
       "      <td>C\\xf4te de Beaune</td>\n",
       "      <td>France</td>\n",
       "      <td>3.9</td>\n",
       "      <td>47.68</td>\n",
       "      <td>NaN</td>\n",
       "    </tr>\n",
       "    <tr>\n",
       "      <th>2</th>\n",
       "      <td>2</td>\n",
       "      <td>Domaine de La Chapelle Les Grands Climats Poui...</td>\n",
       "      <td>Catherine et Pascal Rollet</td>\n",
       "      <td>Bourgogne</td>\n",
       "      <td>France</td>\n",
       "      <td>4.1</td>\n",
       "      <td>29.97</td>\n",
       "      <td>2013.0</td>\n",
       "    </tr>\n",
       "    <tr>\n",
       "      <th>3</th>\n",
       "      <td>3</td>\n",
       "      <td>Sauvignon Blanc 2014</td>\n",
       "      <td>Ancient Peaks</td>\n",
       "      <td>California</td>\n",
       "      <td>United States</td>\n",
       "      <td>4.0</td>\n",
       "      <td>12.98</td>\n",
       "      <td>2014.0</td>\n",
       "    </tr>\n",
       "    <tr>\n",
       "      <th>4</th>\n",
       "      <td>4</td>\n",
       "      <td>[u\"Champion's Lot Riva Ranch Chardonnay 2013\"]</td>\n",
       "      <td>Wente</td>\n",
       "      <td>Livermore Valley</td>\n",
       "      <td>United States</td>\n",
       "      <td>3.8</td>\n",
       "      <td>24.98</td>\n",
       "      <td>2013.0</td>\n",
       "    </tr>\n",
       "  </tbody>\n",
       "</table>\n",
       "</div>"
      ],
      "text/plain": [
       "   wine_index                                         white_wine  \\\n",
       "0           0                         Chardonnay Hudson Vineyard   \n",
       "1           1                                   Meursault-Blagny   \n",
       "2           2  Domaine de La Chapelle Les Grands Climats Poui...   \n",
       "3           3                               Sauvignon Blanc 2014   \n",
       "4           4     [u\"Champion's Lot Riva Ranch Chardonnay 2013\"]   \n",
       "\n",
       "               white_wineries      white_regions white_countries  \\\n",
       "0                 Patz & Hall      Sonoma County   United States   \n",
       "1   Thierry et Pascale Matrot  C\\xf4te de Beaune          France   \n",
       "2  Catherine et Pascal Rollet          Bourgogne          France   \n",
       "3               Ancient Peaks         California   United States   \n",
       "4                       Wente   Livermore Valley   United States   \n",
       "\n",
       "   white_avg_wine_ratings  white_avg_price  vintage_year  \n",
       "0                     4.0            54.99           NaN  \n",
       "1                     3.9            47.68           NaN  \n",
       "2                     4.1            29.97        2013.0  \n",
       "3                     4.0            12.98        2014.0  \n",
       "4                     3.8            24.98        2013.0  "
      ]
     },
     "execution_count": 30,
     "metadata": {},
     "output_type": "execute_result"
    }
   ],
   "source": [
    "del white_details['Unnamed: 0']\n",
    "white_details.head()"
   ]
  },
  {
   "cell_type": "code",
   "execution_count": 31,
   "metadata": {
    "collapsed": false
   },
   "outputs": [
    {
     "name": "stdout",
     "output_type": "stream",
     "text": [
      "(9899, 8) (97350, 31)\n"
     ]
    }
   ],
   "source": [
    "print white_details.shape, whitewines_topics.shape"
   ]
  },
  {
   "cell_type": "code",
   "execution_count": 32,
   "metadata": {
    "collapsed": false
   },
   "outputs": [
    {
     "name": "stdout",
     "output_type": "stream",
     "text": [
      "7025\n",
      "4311\n"
     ]
    }
   ],
   "source": [
    "print len(white_details.white_wine.unique())\n",
    "print len(whitewines_topics.white_wine.unique())"
   ]
  },
  {
   "cell_type": "code",
   "execution_count": 33,
   "metadata": {
    "collapsed": true
   },
   "outputs": [],
   "source": [
    "wine_name_counts = white_details.white_wine.value_counts().reset_index()\n",
    "wine_name_counts.columns = ['white_wine','label_count']"
   ]
  },
  {
   "cell_type": "code",
   "execution_count": 34,
   "metadata": {
    "collapsed": false
   },
   "outputs": [
    {
     "data": {
      "text/plain": [
       "(6395, 8)"
      ]
     },
     "execution_count": 34,
     "metadata": {},
     "output_type": "execute_result"
    }
   ],
   "source": [
    "white_details[white_details.white_wine.isin(wine_name_counts[wine_name_counts.label_count == 1].white_wine)].shape"
   ]
  },
  {
   "cell_type": "code",
   "execution_count": 35,
   "metadata": {
    "collapsed": true
   },
   "outputs": [],
   "source": [
    "unique_white_details = white_details[white_details.white_wine.isin(wine_name_counts[wine_name_counts.label_count == 1].white_wine)]"
   ]
  },
  {
   "cell_type": "code",
   "execution_count": 36,
   "metadata": {
    "collapsed": false
   },
   "outputs": [
    {
     "data": {
      "text/plain": [
       "(48128, 38)"
      ]
     },
     "execution_count": 36,
     "metadata": {},
     "output_type": "execute_result"
    }
   ],
   "source": [
    "white_df = pd.merge(unique_white_details, whitewines_topics, on='white_wine')\n",
    "white_df.shape"
   ]
  },
  {
   "cell_type": "code",
   "execution_count": 37,
   "metadata": {
    "collapsed": false
   },
   "outputs": [
    {
     "data": {
      "text/html": [
       "<div>\n",
       "<table border=\"1\" class=\"dataframe\">\n",
       "  <thead>\n",
       "    <tr style=\"text-align: right;\">\n",
       "      <th></th>\n",
       "      <th>wine_index</th>\n",
       "      <th>white_wine</th>\n",
       "      <th>white_wineries</th>\n",
       "      <th>white_regions</th>\n",
       "      <th>white_countries</th>\n",
       "      <th>white_avg_wine_ratings</th>\n",
       "      <th>white_avg_price</th>\n",
       "      <th>vintage_year</th>\n",
       "      <th>review_index</th>\n",
       "      <th>white_user</th>\n",
       "      <th>...</th>\n",
       "      <th>t18</th>\n",
       "      <th>t19</th>\n",
       "      <th>t20</th>\n",
       "      <th>t21</th>\n",
       "      <th>t22</th>\n",
       "      <th>t23</th>\n",
       "      <th>t24</th>\n",
       "      <th>t25</th>\n",
       "      <th>max_prob</th>\n",
       "      <th>unique_probs</th>\n",
       "    </tr>\n",
       "  </thead>\n",
       "  <tbody>\n",
       "    <tr>\n",
       "      <th>0</th>\n",
       "      <td>0</td>\n",
       "      <td>Chardonnay Hudson Vineyard</td>\n",
       "      <td>Patz &amp; Hall</td>\n",
       "      <td>Sonoma County</td>\n",
       "      <td>United States</td>\n",
       "      <td>4.0</td>\n",
       "      <td>54.99</td>\n",
       "      <td>NaN</td>\n",
       "      <td>0.0</td>\n",
       "      <td>Alyssa Rapp</td>\n",
       "      <td>...</td>\n",
       "      <td>0.260000</td>\n",
       "      <td>0.010000</td>\n",
       "      <td>0.010000</td>\n",
       "      <td>0.010000</td>\n",
       "      <td>0.010000</td>\n",
       "      <td>0.260000</td>\n",
       "      <td>0.010000</td>\n",
       "      <td>0.010000</td>\n",
       "      <td>t23</td>\n",
       "      <td>4.0</td>\n",
       "    </tr>\n",
       "    <tr>\n",
       "      <th>1</th>\n",
       "      <td>0</td>\n",
       "      <td>Chardonnay Hudson Vineyard</td>\n",
       "      <td>Patz &amp; Hall</td>\n",
       "      <td>Sonoma County</td>\n",
       "      <td>United States</td>\n",
       "      <td>4.0</td>\n",
       "      <td>54.99</td>\n",
       "      <td>NaN</td>\n",
       "      <td>1.0</td>\n",
       "      <td>Sam Hovland</td>\n",
       "      <td>...</td>\n",
       "      <td>0.346667</td>\n",
       "      <td>0.013333</td>\n",
       "      <td>0.013333</td>\n",
       "      <td>0.013333</td>\n",
       "      <td>0.013333</td>\n",
       "      <td>0.013333</td>\n",
       "      <td>0.013333</td>\n",
       "      <td>0.013333</td>\n",
       "      <td>t6</td>\n",
       "      <td>3.0</td>\n",
       "    </tr>\n",
       "    <tr>\n",
       "      <th>2</th>\n",
       "      <td>0</td>\n",
       "      <td>Chardonnay Hudson Vineyard</td>\n",
       "      <td>Patz &amp; Hall</td>\n",
       "      <td>Sonoma County</td>\n",
       "      <td>United States</td>\n",
       "      <td>4.0</td>\n",
       "      <td>54.99</td>\n",
       "      <td>NaN</td>\n",
       "      <td>2.0</td>\n",
       "      <td>Jon Walheim</td>\n",
       "      <td>...</td>\n",
       "      <td>0.020000</td>\n",
       "      <td>0.020000</td>\n",
       "      <td>0.020000</td>\n",
       "      <td>0.020000</td>\n",
       "      <td>0.020000</td>\n",
       "      <td>0.020000</td>\n",
       "      <td>0.020000</td>\n",
       "      <td>0.020000</td>\n",
       "      <td>t11</td>\n",
       "      <td>2.0</td>\n",
       "    </tr>\n",
       "    <tr>\n",
       "      <th>3</th>\n",
       "      <td>0</td>\n",
       "      <td>Chardonnay Hudson Vineyard</td>\n",
       "      <td>Patz &amp; Hall</td>\n",
       "      <td>Sonoma County</td>\n",
       "      <td>United States</td>\n",
       "      <td>4.0</td>\n",
       "      <td>54.99</td>\n",
       "      <td>NaN</td>\n",
       "      <td>3.0</td>\n",
       "      <td>Jonathan Williams</td>\n",
       "      <td>...</td>\n",
       "      <td>0.208000</td>\n",
       "      <td>0.208000</td>\n",
       "      <td>0.000000</td>\n",
       "      <td>0.208000</td>\n",
       "      <td>0.000000</td>\n",
       "      <td>0.000000</td>\n",
       "      <td>0.000000</td>\n",
       "      <td>0.000000</td>\n",
       "      <td>t19</td>\n",
       "      <td>5.0</td>\n",
       "    </tr>\n",
       "    <tr>\n",
       "      <th>4</th>\n",
       "      <td>0</td>\n",
       "      <td>Chardonnay Hudson Vineyard</td>\n",
       "      <td>Patz &amp; Hall</td>\n",
       "      <td>Sonoma County</td>\n",
       "      <td>United States</td>\n",
       "      <td>4.0</td>\n",
       "      <td>54.99</td>\n",
       "      <td>NaN</td>\n",
       "      <td>4.0</td>\n",
       "      <td>Glenn Adams</td>\n",
       "      <td>...</td>\n",
       "      <td>0.013333</td>\n",
       "      <td>0.013333</td>\n",
       "      <td>0.013333</td>\n",
       "      <td>0.013333</td>\n",
       "      <td>0.013333</td>\n",
       "      <td>0.013333</td>\n",
       "      <td>0.013333</td>\n",
       "      <td>0.013333</td>\n",
       "      <td>t8</td>\n",
       "      <td>4.0</td>\n",
       "    </tr>\n",
       "  </tbody>\n",
       "</table>\n",
       "<p>5 rows × 38 columns</p>\n",
       "</div>"
      ],
      "text/plain": [
       "   wine_index                  white_wine white_wineries  white_regions  \\\n",
       "0           0  Chardonnay Hudson Vineyard    Patz & Hall  Sonoma County   \n",
       "1           0  Chardonnay Hudson Vineyard    Patz & Hall  Sonoma County   \n",
       "2           0  Chardonnay Hudson Vineyard    Patz & Hall  Sonoma County   \n",
       "3           0  Chardonnay Hudson Vineyard    Patz & Hall  Sonoma County   \n",
       "4           0  Chardonnay Hudson Vineyard    Patz & Hall  Sonoma County   \n",
       "\n",
       "  white_countries  white_avg_wine_ratings  white_avg_price  vintage_year  \\\n",
       "0   United States                     4.0            54.99           NaN   \n",
       "1   United States                     4.0            54.99           NaN   \n",
       "2   United States                     4.0            54.99           NaN   \n",
       "3   United States                     4.0            54.99           NaN   \n",
       "4   United States                     4.0            54.99           NaN   \n",
       "\n",
       "   review_index         white_user      ...            t18       t19  \\\n",
       "0           0.0        Alyssa Rapp      ...       0.260000  0.010000   \n",
       "1           1.0        Sam Hovland      ...       0.346667  0.013333   \n",
       "2           2.0        Jon Walheim      ...       0.020000  0.020000   \n",
       "3           3.0  Jonathan Williams      ...       0.208000  0.208000   \n",
       "4           4.0        Glenn Adams      ...       0.013333  0.013333   \n",
       "\n",
       "        t20       t21       t22       t23       t24       t25  max_prob  \\\n",
       "0  0.010000  0.010000  0.010000  0.260000  0.010000  0.010000       t23   \n",
       "1  0.013333  0.013333  0.013333  0.013333  0.013333  0.013333        t6   \n",
       "2  0.020000  0.020000  0.020000  0.020000  0.020000  0.020000       t11   \n",
       "3  0.000000  0.208000  0.000000  0.000000  0.000000  0.000000       t19   \n",
       "4  0.013333  0.013333  0.013333  0.013333  0.013333  0.013333        t8   \n",
       "\n",
       "   unique_probs  \n",
       "0           4.0  \n",
       "1           3.0  \n",
       "2           2.0  \n",
       "3           5.0  \n",
       "4           4.0  \n",
       "\n",
       "[5 rows x 38 columns]"
      ]
     },
     "execution_count": 37,
     "metadata": {},
     "output_type": "execute_result"
    }
   ],
   "source": [
    "white_df.head()"
   ]
  },
  {
   "cell_type": "code",
   "execution_count": 38,
   "metadata": {
    "collapsed": false
   },
   "outputs": [
    {
     "data": {
      "text/plain": [
       "48128"
      ]
     },
     "execution_count": 38,
     "metadata": {},
     "output_type": "execute_result"
    }
   ],
   "source": [
    "white_df.wine_index.count()"
   ]
  },
  {
   "cell_type": "code",
   "execution_count": 39,
   "metadata": {
    "collapsed": false
   },
   "outputs": [],
   "source": [
    "white_df.to_csv(path_or_buf='/Users/divyasusarla/Desktop/DSI-SF-2-divyasusarla/Capstone/LDA_analysis/white_formodel.csv', encoding='utf8')"
   ]
  },
  {
   "cell_type": "code",
   "execution_count": null,
   "metadata": {
    "collapsed": true
   },
   "outputs": [],
   "source": []
  }
 ],
 "metadata": {
  "anaconda-cloud": {},
  "kernelspec": {
   "display_name": "Python [dsi]",
   "language": "python",
   "name": "Python [dsi]"
  },
  "language_info": {
   "codemirror_mode": {
    "name": "ipython",
    "version": 2
   },
   "file_extension": ".py",
   "mimetype": "text/x-python",
   "name": "python",
   "nbconvert_exporter": "python",
   "pygments_lexer": "ipython2",
   "version": "2.7.12"
  }
 },
 "nbformat": 4,
 "nbformat_minor": 0
}
