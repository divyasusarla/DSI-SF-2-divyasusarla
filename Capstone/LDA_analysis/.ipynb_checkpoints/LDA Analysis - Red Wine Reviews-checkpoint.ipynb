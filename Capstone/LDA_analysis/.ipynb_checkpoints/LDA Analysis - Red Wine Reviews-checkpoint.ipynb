{
 "cells": [
  {
   "cell_type": "markdown",
   "metadata": {},
   "source": [
    "# LDA Analysis on Red Wine Reviews:"
   ]
  },
  {
   "cell_type": "code",
   "execution_count": 1,
   "metadata": {
    "collapsed": true
   },
   "outputs": [],
   "source": [
    "import pandas as pd\n",
    "import numpy as np\n",
    "from sklearn.feature_extraction.text import TfidfVectorizer, CountVectorizer\n",
    "from sklearn.decomposition import NMF, LatentDirichletAllocation\n",
    "from sklearn.feature_extraction import text\n",
    "from gensim import corpora, models, matutils\n",
    "import nltk\n",
    "import re\n",
    "from nltk.corpus import stopwords\n",
    "import seaborn as sns\n",
    "import matplotlib.pyplot as plt\n",
    "\n",
    "%matplotlib inline\n",
    "plt.style.use('fivethirtyeight')"
   ]
  },
  {
   "cell_type": "code",
   "execution_count": 2,
   "metadata": {
    "collapsed": true
   },
   "outputs": [],
   "source": [
    "red_clean = pd.read_csv('/Users/divyasusarla/Desktop/DSI-SF-2-divyasusarla/Capstone/Clean_Data/red_reviews_clean.csv', encoding='utf-8')"
   ]
  },
  {
   "cell_type": "code",
   "execution_count": 3,
   "metadata": {
    "collapsed": true
   },
   "outputs": [],
   "source": [
    "del red_clean['Unnamed: 0']\n",
    "red_clean.dropna(inplace=True)"
   ]
  },
  {
   "cell_type": "markdown",
   "metadata": {},
   "source": [
    "# Create stopwords:"
   ]
  },
  {
   "cell_type": "code",
   "execution_count": 4,
   "metadata": {
    "collapsed": true
   },
   "outputs": [],
   "source": [
    "def identify_stop_words(data):\n",
    "    red_clean['word_check'] = red_clean.red_review.map(lambda x: re.findall(r'\\w*\\d\\w*', x) if len(re.findall(r'\\w*\\d\\w*', x))>0 else np.nan)\n",
    "    corpus_words = [word for sent in red_clean.word_check[~red_clean.word_check.isnull()] for word in sent]\n",
    "    corpus_words = list(set(corpus_words))\n",
    "    nltk_stop = list(stopwords.words('english'))\n",
    "    red_clean.drop('word_check',axis=1,inplace=True)\n",
    "    my_stop_words = nltk_stop + corpus_words\n",
    "    return my_stop_words"
   ]
  },
  {
   "cell_type": "code",
   "execution_count": 5,
   "metadata": {
    "collapsed": false
   },
   "outputs": [],
   "source": [
    "my_stop_words = identify_stop_words(red_clean.red_review) + ['pinot', 'noir', 'cabernet', 'sauvignon', 'great', \n",
    "                                                             'wine', 'nice', 'needs', 'time', 'cab', 'franc', 'red', \n",
    "                                                             'ruby', 'dark', 'good', 'nose', 'bottle', 'palate', \n",
    "                                                             'little', 'deep', 'purple', 'best', 'wines', 'years', \n",
    "                                                             'colour', 'color', 'excellent', 'black', 'price', \n",
    "                                                             'point', 'mouth', 'feel', 'value', 'lovely', 'another', \n",
    "                                                             'easy', 'drink', 'drinking', 'birthday', 'wife', 'day',\n",
    "                                                            'amongst', 'across', 'hours', 'hour', 'year', 'wonderfull',\n",
    "                                                            'amazing', 'well', 'one', 'second', 'new', 'dinner',\n",
    "                                                            'perfect', 'wow', 'buy', 'nicely', 'beautifully']"
   ]
  },
  {
   "cell_type": "code",
   "execution_count": 6,
   "metadata": {
    "collapsed": true
   },
   "outputs": [],
   "source": [
    "review = red_clean['red_review']"
   ]
  },
  {
   "cell_type": "markdown",
   "metadata": {},
   "source": [
    "# Visualize the spread of words by count and percentile:"
   ]
  },
  {
   "cell_type": "code",
   "execution_count": 7,
   "metadata": {
    "collapsed": true
   },
   "outputs": [],
   "source": [
    "vectorizer = CountVectorizer(stop_words= my_stop_words, ngram_range=(2,2))\n",
    "X = vectorizer.fit_transform(review)\n",
    "X = X.todense()"
   ]
  },
  {
   "cell_type": "code",
   "execution_count": 8,
   "metadata": {
    "collapsed": true
   },
   "outputs": [],
   "source": [
    "# words = pd.DataFrame(X, columns=vectorizer.get_feature_names())\n",
    "# word_count = words.sum(axis=0).reset_index()\n",
    "# word_count.columns = ['words','counts']\n",
    "# word_count.sort_values('counts', ascending=False, inplace=True)\n",
    "# word_count.head(50).plot(x='words', y='counts', kind='bar', figsize=(18,7))"
   ]
  },
  {
   "cell_type": "code",
   "execution_count": 9,
   "metadata": {
    "collapsed": true
   },
   "outputs": [],
   "source": [
    "# word_count_percentiles = pd.DataFrame({\n",
    "#         'percentile':np.arange(1,100,1),\n",
    "#         'word_count':np.percentile(word_count.counts, np.arange(1., 100., 1))\n",
    "#     })\n",
    "# word_count_percentiles.plot(x='percentile', y='word_count', kind='bar', figsize=(18,7))"
   ]
  },
  {
   "cell_type": "markdown",
   "metadata": {},
   "source": [
    "# Set up LDA"
   ]
  },
  {
   "cell_type": "code",
   "execution_count": 10,
   "metadata": {
    "collapsed": true
   },
   "outputs": [],
   "source": [
    "# use the counter option to get the most common words. \n",
    "from collections import Counter\n",
    "# Count the most common tokens \n",
    "summaries = \"\".join(red_clean['red_review'])\n",
    "vocab_summaries = vectorizer.build_analyzer()(summaries)\n",
    "red_vocab = Counter(vocab_summaries).most_common(5000)\n",
    "red_vocab = dict(red_vocab)\n",
    "\n",
    "vectorizer2 = CountVectorizer(vocabulary=red_vocab.keys(), stop_words= my_stop_words, ngram_range=(2,2))\n",
    "X2 = vectorizer2.fit_transform(review)\n",
    "X2.shape\n",
    "X2.todense()\n",
    "\n",
    "vocab2 = {v: k for k, v in vectorizer2.vocabulary_.iteritems()}\n",
    "\n",
    "lda2 = models.LdaModel(\n",
    "   matutils.Sparse2Corpus(X2, documents_columns=False),\n",
    "   num_topics  =  25,\n",
    "   passes      =  25,\n",
    "   iterations = 2500,\n",
    "   id2word     =  vocab2,\n",
    "   eval_every = 100,\n",
    "   chunksize = 2000\n",
    ")"
   ]
  },
  {
   "cell_type": "code",
   "execution_count": 11,
   "metadata": {
    "collapsed": false,
    "scrolled": true
   },
   "outputs": [
    {
     "data": {
      "text/plain": [
       "[(0,\n",
       "  u'0.067*still young + 0.033*balanced acidity + 0.033*right bank + 0.025*plum blackberry + 0.023*light tannins + 0.019*light bodied + 0.018*bright acidity + 0.016*oak spice + 0.015*spice finish + 0.014*tannins smooth'),\n",
       " (1,\n",
       "  u'0.063*tannins long + 0.053*long finish + 0.030*dried herbs + 0.024*chewy tannins + 0.021*tannins fruit + 0.019*ripe cherries + 0.014*bodied rich + 0.014*fruit balance + 0.013*fully integrated + 0.013*earth leather'),\n",
       " (2,\n",
       "  u'0.055*big bold + 0.036*tannins finish + 0.031*much better + 0.024*baking spices + 0.021*st emilion + 0.021*strong tannins + 0.018*tastes like + 0.018*long dry + 0.015*tobacco leaf + 0.014*pepper spice'),\n",
       " (3,\n",
       "  u'0.119*medium body + 0.043*high acidity + 0.040*long finish + 0.032*full body + 0.016*tannin medium + 0.016*single vineyard + 0.015*smooth finish + 0.015*finish medium + 0.015*fruity smooth + 0.015*length finish'),\n",
       " (4,\n",
       "  u'0.047*high alcohol + 0.032*fruit finish + 0.027*baking spice + 0.023*blackberry plum + 0.021*blind tasting + 0.018*tannic structure + 0.015*finish smooth + 0.014*med acidity + 0.014*even though + 0.014*oak vanilla'),\n",
       " (5,\n",
       "  u'0.023*balanced tannins + 0.022*sour cherry + 0.021*bright fruit + 0.018*grand cru + 0.014*lead pencil + 0.012*ripe berries + 0.011*toasty oak + 0.010*smooth delicious + 0.010*oak smoke + 0.010*fruit sweet'),\n",
       " (6,\n",
       "  u'0.032*finish long + 0.029*smooth full + 0.028*left bank + 0.026*bell pepper + 0.024*bordeaux blend + 0.019*fruit still + 0.017*cherries plums + 0.016*flavors blackberry + 0.015*de cassis + 0.014*peppery finish'),\n",
       " (7,\n",
       "  u'0.135*long finish + 0.039*firm tannins + 0.021*vanilla oak + 0.019*berry fruit + 0.018*sweet spice + 0.015*tannic finish + 0.013*classic bordeaux + 0.013*aging potential + 0.012*aromas fruits + 0.011*dried fruits'),\n",
       " (8,\n",
       "  u'0.034*smooth balanced + 0.030*plum cherry + 0.029*earthy notes + 0.019*first sip + 0.018*bordeaux style + 0.016*bit spice + 0.016*persistent finish + 0.016*notes cherry + 0.014*sweet tannins + 0.013*back end'),\n",
       " (9,\n",
       "  u'0.098*fruit forward + 0.095*medium bodied + 0.051*forest floor + 0.046*cigar box + 0.035*lingering finish + 0.034*integrated tannins + 0.019*acidity long + 0.018*tannins balanced + 0.016*rose petals + 0.016*long lingering'),\n",
       " (10,\n",
       "  u'0.024*wet earth + 0.018*med body + 0.018*low tannins + 0.017*cherry vanilla + 0.017*hints vanilla + 0.015*really like + 0.015*tannins soft + 0.015*plus acidity + 0.014*smooth elegant + 0.013*finish would'),\n",
       " (11,\n",
       "  u'0.061*smooth tannins + 0.048*dry finish + 0.034*rich fruit + 0.031*medium finish + 0.022*grippy tannins + 0.017*med plus + 0.016*smooth medium + 0.016*sour cherries + 0.013*bold fruit + 0.012*silky smooth'),\n",
       " (12,\n",
       "  u'0.033*cherry plum + 0.026*green pepper + 0.022*tasted blind + 0.021*start finish + 0.020*last night + 0.020*clean finish + 0.019*fruit balanced + 0.013*balanced full + 0.013*toasted oak + 0.013*really smooth'),\n",
       " (13,\n",
       "  u'0.058*ripe fruits + 0.039*petit verdot + 0.031*blend merlot + 0.027*lots fruit + 0.019*perfectly balanced + 0.019*merlot petit + 0.018*cherry notes + 0.018*blackberry currant + 0.016*balanced long + 0.015*fruit aromas'),\n",
       " (14,\n",
       "  u'0.048*smooth finish + 0.037*medium tannins + 0.030*medium acidity + 0.025*acidity medium + 0.025*even better + 0.024*body medium + 0.022*blackberry cherry + 0.022*tannins medium + 0.021*rich full + 0.019*medium finish'),\n",
       " (15,\n",
       "  u'0.081*ripe fruit + 0.029*fruit spice + 0.027*cherry fruit + 0.023*long finish + 0.022*long legs + 0.020*fruit driven + 0.019*bodied medium + 0.018*fruit smooth + 0.015*smooth velvety + 0.015*ripe plums'),\n",
       " (16,\n",
       "  u'0.048*silky smooth + 0.030*get better + 0.021*du pape + 0.016*long lasting + 0.015*light fruit + 0.015*dry full + 0.015*super smooth + 0.014*cherry cassis + 0.014*cedar tobacco + 0.013*chateauneuf du'),\n",
       " (17,\n",
       "  u'0.036*super tuscan + 0.032*cherry blackberry + 0.021*fruit bomb + 0.019*aromas cherry + 0.018*fruit chocolate + 0.017*silky texture + 0.017*balanced finish + 0.015*aromas fruit + 0.014*light fruity + 0.013*bodied fruit'),\n",
       " (18,\n",
       "  u'0.058*old world + 0.025*long finish + 0.021*short finish + 0.020*balanced fruit + 0.019*fruit notes + 0.017*smooth rich + 0.016*would like + 0.016*could use + 0.016*body smooth + 0.015*smooth fruit'),\n",
       " (19,\n",
       "  u'0.122*full body + 0.044*white pepper + 0.043*long finish + 0.029*fruit flavors + 0.027*big fruit + 0.022*smooth long + 0.020*medium full + 0.019*sweet fruit + 0.017*fruit cherry + 0.015*cherry currant'),\n",
       " (20,\n",
       "  u'0.062*medium plus + 0.057*silky tannins + 0.031*pencil shavings + 0.028*tannins still + 0.027*ripe cherry + 0.025*dry medium + 0.018*acidity tannins + 0.016*ripe plum + 0.014*medium length + 0.014*finish balanced'),\n",
       " (21,\n",
       "  u'0.310*full bodied + 0.023*velvety tannins + 0.022*medium full + 0.022*highly recommended + 0.022*tannins acidity + 0.020*balance fruit + 0.019*pencil lead + 0.017*lasting finish + 0.016*ripe tannins + 0.014*really enjoyed'),\n",
       " (22,\n",
       "  u'0.032*lengthy finish + 0.023*tobacco leather + 0.023*spicy finish + 0.021*balanced smooth + 0.020*dried cherry + 0.019*fruit flavours + 0.017*intense fruit + 0.015*st julien + 0.014*tannins bit + 0.014*aged months'),\n",
       " (23,\n",
       "  u'0.056*fine tannins + 0.051*french oak + 0.029*cherry raspberry + 0.020*dried fruit + 0.019*wet leaves + 0.018*smooth fruity + 0.018*months french + 0.017*smooth silky + 0.017*dry tannins + 0.016*first taste'),\n",
       " (24,\n",
       "  u'0.083*soft tannins + 0.030*long finish + 0.029*floral notes + 0.024*leather tobacco + 0.021*full fruit + 0.018*fruit tannins + 0.018*fruit long + 0.016*tart cherry + 0.013*russian river + 0.012*fruit leather')]"
      ]
     },
     "execution_count": 11,
     "metadata": {},
     "output_type": "execute_result"
    }
   ],
   "source": [
    "lda2.print_topics(num_topics=25, num_words=10)"
   ]
  },
  {
   "cell_type": "markdown",
   "metadata": {},
   "source": [
    "## Get the probabilities by topic into a dataframe:\n",
    "\n",
    "Below I am turning my documents into a format that can pass through the get_document_topics function, but I am also checking to see how many documents I have that contain data."
   ]
  },
  {
   "cell_type": "code",
   "execution_count": 12,
   "metadata": {
    "collapsed": true
   },
   "outputs": [],
   "source": [
    "bow = []\n",
    "blank_documents = 0\n",
    "for document in X2.toarray():\n",
    "    single_document = []\n",
    "    for token_id, token_count in enumerate(document):\n",
    "        \n",
    "        if token_count > 0:\n",
    "              single_document.append((token_id, token_count))\n",
    "            \n",
    "    if len(single_document)>0:\n",
    "        bow.append(single_document)\n",
    "    else:\n",
    "        blank_documents += 1\n",
    "        bow.append([])"
   ]
  },
  {
   "cell_type": "code",
   "execution_count": 13,
   "metadata": {
    "collapsed": false
   },
   "outputs": [
    {
     "data": {
      "text/plain": [
       "(87063, 28849)"
      ]
     },
     "execution_count": 13,
     "metadata": {},
     "output_type": "execute_result"
    }
   ],
   "source": [
    "len(bow), blank_documents"
   ]
  },
  {
   "cell_type": "code",
   "execution_count": 14,
   "metadata": {
    "collapsed": false
   },
   "outputs": [
    {
     "data": {
      "text/plain": [
       "[(0, 0.019999999999999997),\n",
       " (1, 0.019999999999999997),\n",
       " (2, 0.019999999999999997),\n",
       " (3, 0.019999999999999997),\n",
       " (4, 0.019999999999999997),\n",
       " (5, 0.019999999999999997),\n",
       " (6, 0.019999999999999997),\n",
       " (7, 0.019999999999999997),\n",
       " (8, 0.019999999999999997),\n",
       " (9, 0.019999999999999997),\n",
       " (10, 0.019999999999999997),\n",
       " (11, 0.019999999999999997),\n",
       " (12, 0.019999999999999997),\n",
       " (13, 0.019999999999999997),\n",
       " (14, 0.019999999999999997),\n",
       " (15, 0.019999999999999997),\n",
       " (16, 0.019999999999999997),\n",
       " (17, 0.51999999999999991),\n",
       " (18, 0.019999999999999997),\n",
       " (19, 0.019999999999999997),\n",
       " (20, 0.019999999999999997),\n",
       " (21, 0.019999999999999997),\n",
       " (22, 0.019999999999999997),\n",
       " (23, 0.019999999999999997),\n",
       " (24, 0.019999999999999997)]"
      ]
     },
     "execution_count": 14,
     "metadata": {},
     "output_type": "execute_result"
    }
   ],
   "source": [
    "lda2.get_document_topics(bow[6])"
   ]
  },
  {
   "cell_type": "code",
   "execution_count": 15,
   "metadata": {
    "collapsed": true
   },
   "outputs": [],
   "source": [
    "topic_proba =lda2.get_document_topics(bow)"
   ]
  },
  {
   "cell_type": "code",
   "execution_count": 16,
   "metadata": {
    "collapsed": true
   },
   "outputs": [],
   "source": [
    "topic_df = np.zeros((len(topic_proba), 25))\n",
    "for rowid, tp in enumerate(topic_proba):\n",
    "    for colid, p in tp:\n",
    "        topic_df[rowid, colid] = p\n",
    "        \n",
    "topic_df = pd.DataFrame(topic_df, columns=['t'+str(i+1) for i in range(topic_df.shape[1])])"
   ]
  },
  {
   "cell_type": "code",
   "execution_count": 17,
   "metadata": {
    "collapsed": false
   },
   "outputs": [
    {
     "data": {
      "text/html": [
       "<div>\n",
       "<table border=\"1\" class=\"dataframe\">\n",
       "  <thead>\n",
       "    <tr style=\"text-align: right;\">\n",
       "      <th></th>\n",
       "      <th>t1</th>\n",
       "      <th>t2</th>\n",
       "      <th>t3</th>\n",
       "      <th>t4</th>\n",
       "      <th>t5</th>\n",
       "      <th>t6</th>\n",
       "      <th>t7</th>\n",
       "      <th>t8</th>\n",
       "      <th>t9</th>\n",
       "      <th>t10</th>\n",
       "      <th>...</th>\n",
       "      <th>t16</th>\n",
       "      <th>t17</th>\n",
       "      <th>t18</th>\n",
       "      <th>t19</th>\n",
       "      <th>t20</th>\n",
       "      <th>t21</th>\n",
       "      <th>t22</th>\n",
       "      <th>t23</th>\n",
       "      <th>t24</th>\n",
       "      <th>t25</th>\n",
       "    </tr>\n",
       "  </thead>\n",
       "  <tbody>\n",
       "    <tr>\n",
       "      <th>0</th>\n",
       "      <td>0.01</td>\n",
       "      <td>0.01</td>\n",
       "      <td>0.01</td>\n",
       "      <td>0.010000</td>\n",
       "      <td>0.01</td>\n",
       "      <td>0.01</td>\n",
       "      <td>0.01</td>\n",
       "      <td>0.01</td>\n",
       "      <td>0.01</td>\n",
       "      <td>0.01</td>\n",
       "      <td>...</td>\n",
       "      <td>0.01</td>\n",
       "      <td>0.01</td>\n",
       "      <td>0.01</td>\n",
       "      <td>0.01</td>\n",
       "      <td>0.01</td>\n",
       "      <td>0.51</td>\n",
       "      <td>0.01</td>\n",
       "      <td>0.01</td>\n",
       "      <td>0.26</td>\n",
       "      <td>0.01</td>\n",
       "    </tr>\n",
       "    <tr>\n",
       "      <th>1</th>\n",
       "      <td>0.00</td>\n",
       "      <td>0.00</td>\n",
       "      <td>0.00</td>\n",
       "      <td>0.893333</td>\n",
       "      <td>0.00</td>\n",
       "      <td>0.00</td>\n",
       "      <td>0.00</td>\n",
       "      <td>0.00</td>\n",
       "      <td>0.00</td>\n",
       "      <td>0.00</td>\n",
       "      <td>...</td>\n",
       "      <td>0.00</td>\n",
       "      <td>0.00</td>\n",
       "      <td>0.00</td>\n",
       "      <td>0.00</td>\n",
       "      <td>0.00</td>\n",
       "      <td>0.00</td>\n",
       "      <td>0.00</td>\n",
       "      <td>0.00</td>\n",
       "      <td>0.00</td>\n",
       "      <td>0.00</td>\n",
       "    </tr>\n",
       "    <tr>\n",
       "      <th>2</th>\n",
       "      <td>0.01</td>\n",
       "      <td>0.01</td>\n",
       "      <td>0.01</td>\n",
       "      <td>0.010000</td>\n",
       "      <td>0.01</td>\n",
       "      <td>0.01</td>\n",
       "      <td>0.01</td>\n",
       "      <td>0.51</td>\n",
       "      <td>0.01</td>\n",
       "      <td>0.01</td>\n",
       "      <td>...</td>\n",
       "      <td>0.01</td>\n",
       "      <td>0.01</td>\n",
       "      <td>0.01</td>\n",
       "      <td>0.01</td>\n",
       "      <td>0.01</td>\n",
       "      <td>0.26</td>\n",
       "      <td>0.01</td>\n",
       "      <td>0.01</td>\n",
       "      <td>0.01</td>\n",
       "      <td>0.01</td>\n",
       "    </tr>\n",
       "    <tr>\n",
       "      <th>3</th>\n",
       "      <td>0.02</td>\n",
       "      <td>0.02</td>\n",
       "      <td>0.02</td>\n",
       "      <td>0.020000</td>\n",
       "      <td>0.02</td>\n",
       "      <td>0.02</td>\n",
       "      <td>0.02</td>\n",
       "      <td>0.02</td>\n",
       "      <td>0.02</td>\n",
       "      <td>0.02</td>\n",
       "      <td>...</td>\n",
       "      <td>0.02</td>\n",
       "      <td>0.02</td>\n",
       "      <td>0.02</td>\n",
       "      <td>0.02</td>\n",
       "      <td>0.02</td>\n",
       "      <td>0.52</td>\n",
       "      <td>0.02</td>\n",
       "      <td>0.02</td>\n",
       "      <td>0.02</td>\n",
       "      <td>0.02</td>\n",
       "    </tr>\n",
       "    <tr>\n",
       "      <th>4</th>\n",
       "      <td>0.02</td>\n",
       "      <td>0.02</td>\n",
       "      <td>0.52</td>\n",
       "      <td>0.020000</td>\n",
       "      <td>0.02</td>\n",
       "      <td>0.02</td>\n",
       "      <td>0.02</td>\n",
       "      <td>0.02</td>\n",
       "      <td>0.02</td>\n",
       "      <td>0.02</td>\n",
       "      <td>...</td>\n",
       "      <td>0.02</td>\n",
       "      <td>0.02</td>\n",
       "      <td>0.02</td>\n",
       "      <td>0.02</td>\n",
       "      <td>0.02</td>\n",
       "      <td>0.02</td>\n",
       "      <td>0.02</td>\n",
       "      <td>0.02</td>\n",
       "      <td>0.02</td>\n",
       "      <td>0.02</td>\n",
       "    </tr>\n",
       "  </tbody>\n",
       "</table>\n",
       "<p>5 rows × 25 columns</p>\n",
       "</div>"
      ],
      "text/plain": [
       "     t1    t2    t3        t4    t5    t6    t7    t8    t9   t10  ...    t16  \\\n",
       "0  0.01  0.01  0.01  0.010000  0.01  0.01  0.01  0.01  0.01  0.01  ...   0.01   \n",
       "1  0.00  0.00  0.00  0.893333  0.00  0.00  0.00  0.00  0.00  0.00  ...   0.00   \n",
       "2  0.01  0.01  0.01  0.010000  0.01  0.01  0.01  0.51  0.01  0.01  ...   0.01   \n",
       "3  0.02  0.02  0.02  0.020000  0.02  0.02  0.02  0.02  0.02  0.02  ...   0.02   \n",
       "4  0.02  0.02  0.52  0.020000  0.02  0.02  0.02  0.02  0.02  0.02  ...   0.02   \n",
       "\n",
       "    t17   t18   t19   t20   t21   t22   t23   t24   t25  \n",
       "0  0.01  0.01  0.01  0.01  0.51  0.01  0.01  0.26  0.01  \n",
       "1  0.00  0.00  0.00  0.00  0.00  0.00  0.00  0.00  0.00  \n",
       "2  0.01  0.01  0.01  0.01  0.26  0.01  0.01  0.01  0.01  \n",
       "3  0.02  0.02  0.02  0.02  0.52  0.02  0.02  0.02  0.02  \n",
       "4  0.02  0.02  0.02  0.02  0.02  0.02  0.02  0.02  0.02  \n",
       "\n",
       "[5 rows x 25 columns]"
      ]
     },
     "execution_count": 17,
     "metadata": {},
     "output_type": "execute_result"
    }
   ],
   "source": [
    "topic_df.head(5)"
   ]
  },
  {
   "cell_type": "markdown",
   "metadata": {},
   "source": [
    "# Further analysis into the topics:"
   ]
  },
  {
   "cell_type": "code",
   "execution_count": 38,
   "metadata": {
    "collapsed": false
   },
   "outputs": [],
   "source": [
    "def get_documents_by_topic(topic='t1', threashold = .65):\n",
    "    orig_df = pd.read_csv(\"../Clean_Data/red_reviews_clean.csv\")\n",
    "    orig_df = orig_df.dropna()  \n",
    "    return orig_df[orig_df.index.isin(topic_df[topic_df[topic] > threashold].index)]['red_review']\n",
    "\n",
    "def get_top_feature_counts(df, limit = 10, vectorizer = vectorizer):\n",
    "\n",
    "    X = vectorizer.fit_transform(df)\n",
    "\n",
    "    tokens = pd.DataFrame()\n",
    "    stats_df = pd.DataFrame(X.toarray(), columns=vectorizer.vocabulary_)\n",
    "    tokens['tokens'] = stats_df.columns \n",
    "    tokens['count'] = stats_df.T.sum()\n",
    "    tokens = tokens.set_index('tokens')\n",
    "    return tokens.sort('count', ascending=False).head(limit)"
   ]
  },
  {
   "cell_type": "code",
   "execution_count": 43,
   "metadata": {
    "collapsed": false
   },
   "outputs": [],
   "source": [
    "topic_df['max_prob'] =  topic_df.apply(np.argmax, axis=1)"
   ]
  },
  {
   "cell_type": "code",
   "execution_count": 55,
   "metadata": {
    "collapsed": false
   },
   "outputs": [
    {
     "data": {
      "text/html": [
       "<div>\n",
       "<table border=\"1\" class=\"dataframe\">\n",
       "  <thead>\n",
       "    <tr style=\"text-align: right;\">\n",
       "      <th></th>\n",
       "      <th>t1</th>\n",
       "      <th>t2</th>\n",
       "      <th>t3</th>\n",
       "      <th>t4</th>\n",
       "      <th>t5</th>\n",
       "      <th>t6</th>\n",
       "      <th>t7</th>\n",
       "      <th>t8</th>\n",
       "      <th>t9</th>\n",
       "      <th>t10</th>\n",
       "      <th>...</th>\n",
       "      <th>t18</th>\n",
       "      <th>t19</th>\n",
       "      <th>t20</th>\n",
       "      <th>t21</th>\n",
       "      <th>t22</th>\n",
       "      <th>t23</th>\n",
       "      <th>t24</th>\n",
       "      <th>t25</th>\n",
       "      <th>max_prob</th>\n",
       "      <th>unique_probs</th>\n",
       "    </tr>\n",
       "  </thead>\n",
       "  <tbody>\n",
       "    <tr>\n",
       "      <th>0</th>\n",
       "      <td>0.01</td>\n",
       "      <td>0.010000</td>\n",
       "      <td>0.01</td>\n",
       "      <td>0.010000</td>\n",
       "      <td>0.01</td>\n",
       "      <td>0.01</td>\n",
       "      <td>0.01</td>\n",
       "      <td>0.01</td>\n",
       "      <td>0.01</td>\n",
       "      <td>0.010000</td>\n",
       "      <td>...</td>\n",
       "      <td>0.01</td>\n",
       "      <td>0.01</td>\n",
       "      <td>0.01</td>\n",
       "      <td>0.51</td>\n",
       "      <td>0.01</td>\n",
       "      <td>0.01</td>\n",
       "      <td>0.26</td>\n",
       "      <td>0.01</td>\n",
       "      <td>t21</td>\n",
       "      <td>3</td>\n",
       "    </tr>\n",
       "    <tr>\n",
       "      <th>1</th>\n",
       "      <td>0.00</td>\n",
       "      <td>0.000000</td>\n",
       "      <td>0.00</td>\n",
       "      <td>0.893333</td>\n",
       "      <td>0.00</td>\n",
       "      <td>0.00</td>\n",
       "      <td>0.00</td>\n",
       "      <td>0.00</td>\n",
       "      <td>0.00</td>\n",
       "      <td>0.000000</td>\n",
       "      <td>...</td>\n",
       "      <td>0.00</td>\n",
       "      <td>0.00</td>\n",
       "      <td>0.00</td>\n",
       "      <td>0.00</td>\n",
       "      <td>0.00</td>\n",
       "      <td>0.00</td>\n",
       "      <td>0.00</td>\n",
       "      <td>0.00</td>\n",
       "      <td>t4</td>\n",
       "      <td>2</td>\n",
       "    </tr>\n",
       "    <tr>\n",
       "      <th>2</th>\n",
       "      <td>0.01</td>\n",
       "      <td>0.010000</td>\n",
       "      <td>0.01</td>\n",
       "      <td>0.010000</td>\n",
       "      <td>0.01</td>\n",
       "      <td>0.01</td>\n",
       "      <td>0.01</td>\n",
       "      <td>0.51</td>\n",
       "      <td>0.01</td>\n",
       "      <td>0.010000</td>\n",
       "      <td>...</td>\n",
       "      <td>0.01</td>\n",
       "      <td>0.01</td>\n",
       "      <td>0.01</td>\n",
       "      <td>0.26</td>\n",
       "      <td>0.01</td>\n",
       "      <td>0.01</td>\n",
       "      <td>0.01</td>\n",
       "      <td>0.01</td>\n",
       "      <td>t8</td>\n",
       "      <td>10</td>\n",
       "    </tr>\n",
       "    <tr>\n",
       "      <th>3</th>\n",
       "      <td>0.02</td>\n",
       "      <td>0.020000</td>\n",
       "      <td>0.02</td>\n",
       "      <td>0.020000</td>\n",
       "      <td>0.02</td>\n",
       "      <td>0.02</td>\n",
       "      <td>0.02</td>\n",
       "      <td>0.02</td>\n",
       "      <td>0.02</td>\n",
       "      <td>0.020000</td>\n",
       "      <td>...</td>\n",
       "      <td>0.02</td>\n",
       "      <td>0.02</td>\n",
       "      <td>0.02</td>\n",
       "      <td>0.52</td>\n",
       "      <td>0.02</td>\n",
       "      <td>0.02</td>\n",
       "      <td>0.02</td>\n",
       "      <td>0.02</td>\n",
       "      <td>t21</td>\n",
       "      <td>2</td>\n",
       "    </tr>\n",
       "    <tr>\n",
       "      <th>4</th>\n",
       "      <td>0.02</td>\n",
       "      <td>0.020000</td>\n",
       "      <td>0.52</td>\n",
       "      <td>0.020000</td>\n",
       "      <td>0.02</td>\n",
       "      <td>0.02</td>\n",
       "      <td>0.02</td>\n",
       "      <td>0.02</td>\n",
       "      <td>0.02</td>\n",
       "      <td>0.020000</td>\n",
       "      <td>...</td>\n",
       "      <td>0.02</td>\n",
       "      <td>0.02</td>\n",
       "      <td>0.02</td>\n",
       "      <td>0.02</td>\n",
       "      <td>0.02</td>\n",
       "      <td>0.02</td>\n",
       "      <td>0.02</td>\n",
       "      <td>0.02</td>\n",
       "      <td>t3</td>\n",
       "      <td>2</td>\n",
       "    </tr>\n",
       "    <tr>\n",
       "      <th>5</th>\n",
       "      <td>0.00</td>\n",
       "      <td>0.010000</td>\n",
       "      <td>0.00</td>\n",
       "      <td>0.010000</td>\n",
       "      <td>0.00</td>\n",
       "      <td>0.00</td>\n",
       "      <td>0.00</td>\n",
       "      <td>0.01</td>\n",
       "      <td>0.00</td>\n",
       "      <td>0.000000</td>\n",
       "      <td>...</td>\n",
       "      <td>0.00</td>\n",
       "      <td>0.01</td>\n",
       "      <td>0.01</td>\n",
       "      <td>0.00</td>\n",
       "      <td>0.26</td>\n",
       "      <td>0.00</td>\n",
       "      <td>0.00</td>\n",
       "      <td>0.51</td>\n",
       "      <td>t25</td>\n",
       "      <td>10</td>\n",
       "    </tr>\n",
       "    <tr>\n",
       "      <th>6</th>\n",
       "      <td>0.02</td>\n",
       "      <td>0.020000</td>\n",
       "      <td>0.02</td>\n",
       "      <td>0.020000</td>\n",
       "      <td>0.02</td>\n",
       "      <td>0.02</td>\n",
       "      <td>0.02</td>\n",
       "      <td>0.02</td>\n",
       "      <td>0.02</td>\n",
       "      <td>0.020000</td>\n",
       "      <td>...</td>\n",
       "      <td>0.52</td>\n",
       "      <td>0.02</td>\n",
       "      <td>0.02</td>\n",
       "      <td>0.02</td>\n",
       "      <td>0.02</td>\n",
       "      <td>0.02</td>\n",
       "      <td>0.02</td>\n",
       "      <td>0.02</td>\n",
       "      <td>t18</td>\n",
       "      <td>2</td>\n",
       "    </tr>\n",
       "    <tr>\n",
       "      <th>7</th>\n",
       "      <td>0.00</td>\n",
       "      <td>0.148571</td>\n",
       "      <td>0.00</td>\n",
       "      <td>0.148571</td>\n",
       "      <td>0.00</td>\n",
       "      <td>0.00</td>\n",
       "      <td>0.00</td>\n",
       "      <td>0.00</td>\n",
       "      <td>0.00</td>\n",
       "      <td>0.148571</td>\n",
       "      <td>...</td>\n",
       "      <td>0.00</td>\n",
       "      <td>0.00</td>\n",
       "      <td>0.00</td>\n",
       "      <td>0.00</td>\n",
       "      <td>0.00</td>\n",
       "      <td>0.00</td>\n",
       "      <td>0.00</td>\n",
       "      <td>0.00</td>\n",
       "      <td>t17</td>\n",
       "      <td>6</td>\n",
       "    </tr>\n",
       "    <tr>\n",
       "      <th>8</th>\n",
       "      <td>0.01</td>\n",
       "      <td>0.010000</td>\n",
       "      <td>0.01</td>\n",
       "      <td>0.010000</td>\n",
       "      <td>0.01</td>\n",
       "      <td>0.01</td>\n",
       "      <td>0.01</td>\n",
       "      <td>0.01</td>\n",
       "      <td>0.76</td>\n",
       "      <td>0.010000</td>\n",
       "      <td>...</td>\n",
       "      <td>0.01</td>\n",
       "      <td>0.01</td>\n",
       "      <td>0.01</td>\n",
       "      <td>0.01</td>\n",
       "      <td>0.01</td>\n",
       "      <td>0.01</td>\n",
       "      <td>0.01</td>\n",
       "      <td>0.01</td>\n",
       "      <td>t9</td>\n",
       "      <td>3</td>\n",
       "    </tr>\n",
       "    <tr>\n",
       "      <th>9</th>\n",
       "      <td>0.04</td>\n",
       "      <td>0.040000</td>\n",
       "      <td>0.04</td>\n",
       "      <td>0.040000</td>\n",
       "      <td>0.04</td>\n",
       "      <td>0.04</td>\n",
       "      <td>0.04</td>\n",
       "      <td>0.04</td>\n",
       "      <td>0.04</td>\n",
       "      <td>0.040000</td>\n",
       "      <td>...</td>\n",
       "      <td>0.04</td>\n",
       "      <td>0.04</td>\n",
       "      <td>0.04</td>\n",
       "      <td>0.04</td>\n",
       "      <td>0.04</td>\n",
       "      <td>0.04</td>\n",
       "      <td>0.04</td>\n",
       "      <td>0.04</td>\n",
       "      <td>t1</td>\n",
       "      <td>1</td>\n",
       "    </tr>\n",
       "  </tbody>\n",
       "</table>\n",
       "<p>10 rows × 27 columns</p>\n",
       "</div>"
      ],
      "text/plain": [
       "     t1        t2    t3        t4    t5    t6    t7    t8    t9       t10  \\\n",
       "0  0.01  0.010000  0.01  0.010000  0.01  0.01  0.01  0.01  0.01  0.010000   \n",
       "1  0.00  0.000000  0.00  0.893333  0.00  0.00  0.00  0.00  0.00  0.000000   \n",
       "2  0.01  0.010000  0.01  0.010000  0.01  0.01  0.01  0.51  0.01  0.010000   \n",
       "3  0.02  0.020000  0.02  0.020000  0.02  0.02  0.02  0.02  0.02  0.020000   \n",
       "4  0.02  0.020000  0.52  0.020000  0.02  0.02  0.02  0.02  0.02  0.020000   \n",
       "5  0.00  0.010000  0.00  0.010000  0.00  0.00  0.00  0.01  0.00  0.000000   \n",
       "6  0.02  0.020000  0.02  0.020000  0.02  0.02  0.02  0.02  0.02  0.020000   \n",
       "7  0.00  0.148571  0.00  0.148571  0.00  0.00  0.00  0.00  0.00  0.148571   \n",
       "8  0.01  0.010000  0.01  0.010000  0.01  0.01  0.01  0.01  0.76  0.010000   \n",
       "9  0.04  0.040000  0.04  0.040000  0.04  0.04  0.04  0.04  0.04  0.040000   \n",
       "\n",
       "       ...        t18   t19   t20   t21   t22   t23   t24   t25  max_prob  \\\n",
       "0      ...       0.01  0.01  0.01  0.51  0.01  0.01  0.26  0.01       t21   \n",
       "1      ...       0.00  0.00  0.00  0.00  0.00  0.00  0.00  0.00        t4   \n",
       "2      ...       0.01  0.01  0.01  0.26  0.01  0.01  0.01  0.01        t8   \n",
       "3      ...       0.02  0.02  0.02  0.52  0.02  0.02  0.02  0.02       t21   \n",
       "4      ...       0.02  0.02  0.02  0.02  0.02  0.02  0.02  0.02        t3   \n",
       "5      ...       0.00  0.01  0.01  0.00  0.26  0.00  0.00  0.51       t25   \n",
       "6      ...       0.52  0.02  0.02  0.02  0.02  0.02  0.02  0.02       t18   \n",
       "7      ...       0.00  0.00  0.00  0.00  0.00  0.00  0.00  0.00       t17   \n",
       "8      ...       0.01  0.01  0.01  0.01  0.01  0.01  0.01  0.01        t9   \n",
       "9      ...       0.04  0.04  0.04  0.04  0.04  0.04  0.04  0.04        t1   \n",
       "\n",
       "   unique_probs  \n",
       "0             3  \n",
       "1             2  \n",
       "2            10  \n",
       "3             2  \n",
       "4             2  \n",
       "5            10  \n",
       "6             2  \n",
       "7             6  \n",
       "8             3  \n",
       "9             1  \n",
       "\n",
       "[10 rows x 27 columns]"
      ]
     },
     "execution_count": 55,
     "metadata": {},
     "output_type": "execute_result"
    }
   ],
   "source": [
    "topic_df['unique_probs'] = topic_df.apply(lambda x: len(np.unique(x[0:25])), axis=1)\n",
    "topic_df.head(10)"
   ]
  },
  {
   "cell_type": "code",
   "execution_count": 58,
   "metadata": {
    "collapsed": false
   },
   "outputs": [
    {
     "data": {
      "text/plain": [
       "<matplotlib.axes._subplots.AxesSubplot at 0x33140485d0>"
      ]
     },
     "execution_count": 58,
     "metadata": {},
     "output_type": "execute_result"
    },
    {
     "data": {
      "image/png": "[encoded data removed]",
      "text/plain": [
       "<matplotlib.figure.Figure at 0x1240c1990>"
      ]
     },
     "metadata": {},
     "output_type": "display_data"
    }
   ],
   "source": [
    "# Distribution of topic membership:\n",
    "topic_df[topic_df.unique_probs>1].max_prob.value_counts().plot(kind='bar', figsize=(18,7))"
   ]
  },
  {
   "cell_type": "code",
   "execution_count": 66,
   "metadata": {
    "collapsed": false
   },
   "outputs": [
    {
     "name": "stderr",
     "output_type": "stream",
     "text": [
      "/anaconda/envs/dsi/lib/python2.7/site-packages/ipykernel/__main__.py:15: FutureWarning: sort(columns=....) is deprecated, use sort_values(by=.....)\n"
     ]
    },
    {
     "data": {
      "text/html": [
       "<div>\n",
       "<table border=\"1\" class=\"dataframe\">\n",
       "  <thead>\n",
       "    <tr style=\"text-align: right;\">\n",
       "      <th></th>\n",
       "      <th>count</th>\n",
       "    </tr>\n",
       "    <tr>\n",
       "      <th>tokens</th>\n",
       "      <th></th>\n",
       "    </tr>\n",
       "  </thead>\n",
       "  <tbody>\n",
       "    <tr>\n",
       "      <th>lovingly least</th>\n",
       "      <td>48.0</td>\n",
       "    </tr>\n",
       "    <tr>\n",
       "      <th>worth every</th>\n",
       "      <td>47.0</td>\n",
       "    </tr>\n",
       "    <tr>\n",
       "      <th>captivating coffee</th>\n",
       "      <td>41.0</td>\n",
       "    </tr>\n",
       "    <tr>\n",
       "      <th>around definitely</th>\n",
       "      <td>40.0</td>\n",
       "    </tr>\n",
       "    <tr>\n",
       "      <th>body finish</th>\n",
       "      <td>39.0</td>\n",
       "    </tr>\n",
       "    <tr>\n",
       "      <th>tight closed</th>\n",
       "      <td>37.0</td>\n",
       "    </tr>\n",
       "    <tr>\n",
       "      <th>médio vinho</th>\n",
       "      <td>35.0</td>\n",
       "    </tr>\n",
       "    <tr>\n",
       "      <th>side fava</th>\n",
       "      <td>34.0</td>\n",
       "    </tr>\n",
       "    <tr>\n",
       "      <th>part world</th>\n",
       "      <td>30.0</td>\n",
       "    </tr>\n",
       "    <tr>\n",
       "      <th>pinots ever</th>\n",
       "      <td>29.0</td>\n",
       "    </tr>\n",
       "  </tbody>\n",
       "</table>\n",
       "</div>"
      ],
      "text/plain": [
       "                    count\n",
       "tokens                   \n",
       "lovingly least       48.0\n",
       "worth every          47.0\n",
       "captivating coffee   41.0\n",
       "around definitely    40.0\n",
       "body finish          39.0\n",
       "tight closed         37.0\n",
       "médio vinho          35.0\n",
       "side fava            34.0\n",
       "part world           30.0\n",
       "pinots ever          29.0"
      ]
     },
     "execution_count": 66,
     "metadata": {},
     "output_type": "execute_result"
    }
   ],
   "source": [
    "# docs topics are the documents in the topic paramter\n",
    "docs_topics = get_documents_by_topic('t22', .65)\n",
    "\n",
    "# get df of top word counts by df\n",
    "get_top_feature_counts(docs_topics, limit = 10)"
   ]
  },
  {
   "cell_type": "markdown",
   "metadata": {
    "collapsed": true
   },
   "source": [
    "# Create Data Frame of topic probabilities and the reviews"
   ]
  },
  {
   "cell_type": "code",
   "execution_count": 62,
   "metadata": {
    "collapsed": false
   },
   "outputs": [
    {
     "data": {
      "text/html": [
       "<div>\n",
       "<table border=\"1\" class=\"dataframe\">\n",
       "  <thead>\n",
       "    <tr style=\"text-align: right;\">\n",
       "      <th></th>\n",
       "      <th>review_index</th>\n",
       "      <th>red_wine</th>\n",
       "      <th>red_user</th>\n",
       "      <th>red_review</th>\n",
       "      <th>t1</th>\n",
       "      <th>t2</th>\n",
       "      <th>t3</th>\n",
       "      <th>t4</th>\n",
       "      <th>t5</th>\n",
       "      <th>t6</th>\n",
       "      <th>...</th>\n",
       "      <th>t18</th>\n",
       "      <th>t19</th>\n",
       "      <th>t20</th>\n",
       "      <th>t21</th>\n",
       "      <th>t22</th>\n",
       "      <th>t23</th>\n",
       "      <th>t24</th>\n",
       "      <th>t25</th>\n",
       "      <th>max_prob</th>\n",
       "      <th>unique_probs</th>\n",
       "    </tr>\n",
       "  </thead>\n",
       "  <tbody>\n",
       "    <tr>\n",
       "      <th>0</th>\n",
       "      <td>0.0</td>\n",
       "      <td>La Sangre de Jonata 2006</td>\n",
       "      <td>Eric Mansell</td>\n",
       "      <td>Great Syrah. Inky purple. I prefer a bit dryer...</td>\n",
       "      <td>0.01</td>\n",
       "      <td>0.01</td>\n",
       "      <td>0.01</td>\n",
       "      <td>0.010000</td>\n",
       "      <td>0.01</td>\n",
       "      <td>0.01</td>\n",
       "      <td>...</td>\n",
       "      <td>0.01</td>\n",
       "      <td>0.01</td>\n",
       "      <td>0.01</td>\n",
       "      <td>0.51</td>\n",
       "      <td>0.01</td>\n",
       "      <td>0.01</td>\n",
       "      <td>0.26</td>\n",
       "      <td>0.01</td>\n",
       "      <td>t21</td>\n",
       "      <td>3.0</td>\n",
       "    </tr>\n",
       "    <tr>\n",
       "      <th>1</th>\n",
       "      <td>1.0</td>\n",
       "      <td>La Sangre de Jonata 2006</td>\n",
       "      <td>\"Levora\"</td>\n",
       "      <td>Jonata is referred to as\"blood Syrah\" for its ...</td>\n",
       "      <td>0.00</td>\n",
       "      <td>0.00</td>\n",
       "      <td>0.00</td>\n",
       "      <td>0.893333</td>\n",
       "      <td>0.00</td>\n",
       "      <td>0.00</td>\n",
       "      <td>...</td>\n",
       "      <td>0.00</td>\n",
       "      <td>0.00</td>\n",
       "      <td>0.00</td>\n",
       "      <td>0.00</td>\n",
       "      <td>0.00</td>\n",
       "      <td>0.00</td>\n",
       "      <td>0.00</td>\n",
       "      <td>0.00</td>\n",
       "      <td>t4</td>\n",
       "      <td>2.0</td>\n",
       "    </tr>\n",
       "    <tr>\n",
       "      <th>2</th>\n",
       "      <td>2.0</td>\n",
       "      <td>La Sangre de Jonata 2006</td>\n",
       "      <td>Eric Mansell</td>\n",
       "      <td>I wasn't searching for THE Syrah, but boom, I ...</td>\n",
       "      <td>0.01</td>\n",
       "      <td>0.01</td>\n",
       "      <td>0.01</td>\n",
       "      <td>0.010000</td>\n",
       "      <td>0.01</td>\n",
       "      <td>0.01</td>\n",
       "      <td>...</td>\n",
       "      <td>0.01</td>\n",
       "      <td>0.01</td>\n",
       "      <td>0.01</td>\n",
       "      <td>0.26</td>\n",
       "      <td>0.01</td>\n",
       "      <td>0.01</td>\n",
       "      <td>0.01</td>\n",
       "      <td>0.01</td>\n",
       "      <td>t8</td>\n",
       "      <td>10.0</td>\n",
       "    </tr>\n",
       "    <tr>\n",
       "      <th>3</th>\n",
       "      <td>3.0</td>\n",
       "      <td>La Sangre de Jonata 2006</td>\n",
       "      <td>Dan Bodeker</td>\n",
       "      <td>Paired with filet mignon. Incredible.</td>\n",
       "      <td>0.02</td>\n",
       "      <td>0.02</td>\n",
       "      <td>0.02</td>\n",
       "      <td>0.020000</td>\n",
       "      <td>0.02</td>\n",
       "      <td>0.02</td>\n",
       "      <td>...</td>\n",
       "      <td>0.02</td>\n",
       "      <td>0.02</td>\n",
       "      <td>0.02</td>\n",
       "      <td>0.52</td>\n",
       "      <td>0.02</td>\n",
       "      <td>0.02</td>\n",
       "      <td>0.02</td>\n",
       "      <td>0.02</td>\n",
       "      <td>t21</td>\n",
       "      <td>2.0</td>\n",
       "    </tr>\n",
       "    <tr>\n",
       "      <th>4</th>\n",
       "      <td>4.0</td>\n",
       "      <td>La Sangre de Jonata 2006</td>\n",
       "      <td>Chado H</td>\n",
       "      <td>Very smooth and mellow.</td>\n",
       "      <td>0.02</td>\n",
       "      <td>0.02</td>\n",
       "      <td>0.52</td>\n",
       "      <td>0.020000</td>\n",
       "      <td>0.02</td>\n",
       "      <td>0.02</td>\n",
       "      <td>...</td>\n",
       "      <td>0.02</td>\n",
       "      <td>0.02</td>\n",
       "      <td>0.02</td>\n",
       "      <td>0.02</td>\n",
       "      <td>0.02</td>\n",
       "      <td>0.02</td>\n",
       "      <td>0.02</td>\n",
       "      <td>0.02</td>\n",
       "      <td>t3</td>\n",
       "      <td>2.0</td>\n",
       "    </tr>\n",
       "  </tbody>\n",
       "</table>\n",
       "<p>5 rows × 31 columns</p>\n",
       "</div>"
      ],
      "text/plain": [
       "   review_index                  red_wine      red_user  \\\n",
       "0           0.0  La Sangre de Jonata 2006  Eric Mansell   \n",
       "1           1.0  La Sangre de Jonata 2006      \"Levora\"   \n",
       "2           2.0  La Sangre de Jonata 2006  Eric Mansell   \n",
       "3           3.0  La Sangre de Jonata 2006   Dan Bodeker   \n",
       "4           4.0  La Sangre de Jonata 2006       Chado H   \n",
       "\n",
       "                                          red_review    t1    t2    t3  \\\n",
       "0  Great Syrah. Inky purple. I prefer a bit dryer...  0.01  0.01  0.01   \n",
       "1  Jonata is referred to as\"blood Syrah\" for its ...  0.00  0.00  0.00   \n",
       "2  I wasn't searching for THE Syrah, but boom, I ...  0.01  0.01  0.01   \n",
       "3              Paired with filet mignon. Incredible.  0.02  0.02  0.02   \n",
       "4                            Very smooth and mellow.  0.02  0.02  0.52   \n",
       "\n",
       "         t4    t5    t6      ...        t18   t19   t20   t21   t22   t23  \\\n",
       "0  0.010000  0.01  0.01      ...       0.01  0.01  0.01  0.51  0.01  0.01   \n",
       "1  0.893333  0.00  0.00      ...       0.00  0.00  0.00  0.00  0.00  0.00   \n",
       "2  0.010000  0.01  0.01      ...       0.01  0.01  0.01  0.26  0.01  0.01   \n",
       "3  0.020000  0.02  0.02      ...       0.02  0.02  0.02  0.52  0.02  0.02   \n",
       "4  0.020000  0.02  0.02      ...       0.02  0.02  0.02  0.02  0.02  0.02   \n",
       "\n",
       "    t24   t25  max_prob  unique_probs  \n",
       "0  0.26  0.01       t21           3.0  \n",
       "1  0.00  0.00        t4           2.0  \n",
       "2  0.01  0.01        t8          10.0  \n",
       "3  0.02  0.02       t21           2.0  \n",
       "4  0.02  0.02        t3           2.0  \n",
       "\n",
       "[5 rows x 31 columns]"
      ]
     },
     "execution_count": 62,
     "metadata": {},
     "output_type": "execute_result"
    }
   ],
   "source": [
    "redwines_topics = pd.concat((red_clean, topic_df), axis=1)\n",
    "redwines_topics.head()"
   ]
  },
  {
   "cell_type": "code",
   "execution_count": 67,
   "metadata": {
    "collapsed": true
   },
   "outputs": [],
   "source": [
    "red_details = pd.read_csv('/Users/divyasusarla/Desktop/DSI-SF-2-divyasusarla/Capstone/Clean_Data/red_wine_details_clean.csv', encoding='utf-8')"
   ]
  },
  {
   "cell_type": "code",
   "execution_count": 69,
   "metadata": {
    "collapsed": false
   },
   "outputs": [
    {
     "data": {
      "text/html": [
       "<div>\n",
       "<table border=\"1\" class=\"dataframe\">\n",
       "  <thead>\n",
       "    <tr style=\"text-align: right;\">\n",
       "      <th></th>\n",
       "      <th>wine_index</th>\n",
       "      <th>redwine</th>\n",
       "      <th>red_wineries</th>\n",
       "      <th>red_regions</th>\n",
       "      <th>red_countries</th>\n",
       "      <th>red_avg_wine_ratings</th>\n",
       "      <th>red_avg_price</th>\n",
       "      <th>vintage_year</th>\n",
       "    </tr>\n",
       "  </thead>\n",
       "  <tbody>\n",
       "    <tr>\n",
       "      <th>0</th>\n",
       "      <td>0</td>\n",
       "      <td>La T\\xe2che 1999</td>\n",
       "      <td>Domaine de la Roman\\xe9e-Conti</td>\n",
       "      <td>C\\xf4te de Nuits</td>\n",
       "      <td>France</td>\n",
       "      <td>4.9</td>\n",
       "      <td>4894.99</td>\n",
       "      <td>1999.0</td>\n",
       "    </tr>\n",
       "    <tr>\n",
       "      <th>1</th>\n",
       "      <td>1</td>\n",
       "      <td>Richebourg 2006</td>\n",
       "      <td>Domaine de la Roman\\xe9e-Conti</td>\n",
       "      <td>C\\xf4te de Nuits</td>\n",
       "      <td>France</td>\n",
       "      <td>4.9</td>\n",
       "      <td>1699.98</td>\n",
       "      <td>2006.0</td>\n",
       "    </tr>\n",
       "    <tr>\n",
       "      <th>2</th>\n",
       "      <td>2</td>\n",
       "      <td>Pessac-Leognan Premier Grand Cru Class\\xe9 1961</td>\n",
       "      <td>Ch\\xe2teau Haut-Brion</td>\n",
       "      <td>Pessac-Leognan</td>\n",
       "      <td>France</td>\n",
       "      <td>4.9</td>\n",
       "      <td>4146.94</td>\n",
       "      <td>1961.0</td>\n",
       "    </tr>\n",
       "    <tr>\n",
       "      <th>3</th>\n",
       "      <td>3</td>\n",
       "      <td>Roman\\xe9e-Conti 2011</td>\n",
       "      <td>Domaine de la Roman\\xe9e-Conti</td>\n",
       "      <td>C\\xf4te de Nuits</td>\n",
       "      <td>France</td>\n",
       "      <td>4.8</td>\n",
       "      <td>11850.00</td>\n",
       "      <td>2011.0</td>\n",
       "    </tr>\n",
       "    <tr>\n",
       "      <th>4</th>\n",
       "      <td>4</td>\n",
       "      <td>C\\xf4te-R\\xf4tie La Mouline  1999</td>\n",
       "      <td>E. Guigal</td>\n",
       "      <td>Northern Rh\\xf4ne</td>\n",
       "      <td>France</td>\n",
       "      <td>4.8</td>\n",
       "      <td>698.99</td>\n",
       "      <td>1999.0</td>\n",
       "    </tr>\n",
       "  </tbody>\n",
       "</table>\n",
       "</div>"
      ],
      "text/plain": [
       "   wine_index                                          redwine  \\\n",
       "0           0                                 La T\\xe2che 1999   \n",
       "1           1                                  Richebourg 2006   \n",
       "2           2  Pessac-Leognan Premier Grand Cru Class\\xe9 1961   \n",
       "3           3                            Roman\\xe9e-Conti 2011   \n",
       "4           4                C\\xf4te-R\\xf4tie La Mouline  1999   \n",
       "\n",
       "                     red_wineries        red_regions red_countries  \\\n",
       "0  Domaine de la Roman\\xe9e-Conti   C\\xf4te de Nuits        France   \n",
       "1  Domaine de la Roman\\xe9e-Conti   C\\xf4te de Nuits        France   \n",
       "2           Ch\\xe2teau Haut-Brion     Pessac-Leognan        France   \n",
       "3  Domaine de la Roman\\xe9e-Conti   C\\xf4te de Nuits        France   \n",
       "4                       E. Guigal  Northern Rh\\xf4ne        France   \n",
       "\n",
       "   red_avg_wine_ratings  red_avg_price  vintage_year  \n",
       "0                   4.9        4894.99        1999.0  \n",
       "1                   4.9        1699.98        2006.0  \n",
       "2                   4.9        4146.94        1961.0  \n",
       "3                   4.8       11850.00        2011.0  \n",
       "4                   4.8         698.99        1999.0  "
      ]
     },
     "execution_count": 69,
     "metadata": {},
     "output_type": "execute_result"
    }
   ],
   "source": [
    "del red_details['Unnamed: 0']\n",
    "red_details.head()"
   ]
  },
  {
   "cell_type": "code",
   "execution_count": 71,
   "metadata": {
    "collapsed": false
   },
   "outputs": [
    {
     "data": {
      "text/plain": [
       "array([    0,     1,     2, ..., 11507, 11508, 11509])"
      ]
     },
     "execution_count": 71,
     "metadata": {},
     "output_type": "execute_result"
    }
   ],
   "source": [
    "red_details.wine_index.unique()"
   ]
  },
  {
   "cell_type": "code",
   "execution_count": 72,
   "metadata": {
    "collapsed": true
   },
   "outputs": [],
   "source": [
    "red_details.rename(columns={'redwine': 'red_wine'}, inplace=True)"
   ]
  },
  {
   "cell_type": "code",
   "execution_count": 80,
   "metadata": {
    "collapsed": false,
    "scrolled": true
   },
   "outputs": [
    {
     "data": {
      "text/plain": [
       "11510"
      ]
     },
     "execution_count": 80,
     "metadata": {},
     "output_type": "execute_result"
    }
   ],
   "source": [
    "red_details.red_wine.value_counts().sum()"
   ]
  },
  {
   "cell_type": "code",
   "execution_count": 85,
   "metadata": {
    "collapsed": false
   },
   "outputs": [
    {
     "name": "stdout",
     "output_type": "stream",
     "text": [
      "(11510, 8) (87902, 31)\n"
     ]
    }
   ],
   "source": [
    "print red_details.shape, redwines_topics.shape"
   ]
  },
  {
   "cell_type": "code",
   "execution_count": 86,
   "metadata": {
    "collapsed": false
   },
   "outputs": [
    {
     "name": "stdout",
     "output_type": "stream",
     "text": [
      "7263\n",
      "3504\n"
     ]
    }
   ],
   "source": [
    "print len(red_details.red_wine.unique())\n",
    "print len(redwines_topics.red_wine.unique())"
   ]
  },
  {
   "cell_type": "code",
   "execution_count": 88,
   "metadata": {
    "collapsed": false
   },
   "outputs": [],
   "source": [
    "wine_name_counts = red_details.red_wine.value_counts().reset_index()\n",
    "wine_name_counts.columns = ['red_wine','label_count']"
   ]
  },
  {
   "cell_type": "code",
   "execution_count": 89,
   "metadata": {
    "collapsed": false
   },
   "outputs": [
    {
     "data": {
      "text/plain": [
       "(5084, 8)"
      ]
     },
     "execution_count": 89,
     "metadata": {},
     "output_type": "execute_result"
    }
   ],
   "source": [
    "red_details[red_details.red_wine.isin(wine_name_counts[wine_name_counts.label_count == 1].red_wine)].shape"
   ]
  },
  {
   "cell_type": "code",
   "execution_count": 90,
   "metadata": {
    "collapsed": true
   },
   "outputs": [],
   "source": [
    "unique_red_details = red_details[red_details.red_wine.isin(wine_name_counts[wine_name_counts.label_count == 1].red_wine)]"
   ]
  },
  {
   "cell_type": "code",
   "execution_count": 91,
   "metadata": {
    "collapsed": false
   },
   "outputs": [
    {
     "data": {
      "text/plain": [
       "(32933, 38)"
      ]
     },
     "execution_count": 91,
     "metadata": {},
     "output_type": "execute_result"
    }
   ],
   "source": [
    "red_df = pd.merge(unique_red_details, redwines_topics, on='red_wine')\n",
    "red_df.shape"
   ]
  },
  {
   "cell_type": "code",
   "execution_count": 92,
   "metadata": {
    "collapsed": false,
    "scrolled": true
   },
   "outputs": [
    {
     "data": {
      "text/html": [
       "<div>\n",
       "<table border=\"1\" class=\"dataframe\">\n",
       "  <thead>\n",
       "    <tr style=\"text-align: right;\">\n",
       "      <th></th>\n",
       "      <th>wine_index</th>\n",
       "      <th>red_wine</th>\n",
       "      <th>red_wineries</th>\n",
       "      <th>red_regions</th>\n",
       "      <th>red_countries</th>\n",
       "      <th>red_avg_wine_ratings</th>\n",
       "      <th>red_avg_price</th>\n",
       "      <th>vintage_year</th>\n",
       "      <th>review_index</th>\n",
       "      <th>red_user</th>\n",
       "      <th>...</th>\n",
       "      <th>t18</th>\n",
       "      <th>t19</th>\n",
       "      <th>t20</th>\n",
       "      <th>t21</th>\n",
       "      <th>t22</th>\n",
       "      <th>t23</th>\n",
       "      <th>t24</th>\n",
       "      <th>t25</th>\n",
       "      <th>max_prob</th>\n",
       "      <th>unique_probs</th>\n",
       "    </tr>\n",
       "  </thead>\n",
       "  <tbody>\n",
       "    <tr>\n",
       "      <th>0</th>\n",
       "      <td>71</td>\n",
       "      <td>Pomerol 1997</td>\n",
       "      <td>P\\xe9trus</td>\n",
       "      <td>Pomerol</td>\n",
       "      <td>France</td>\n",
       "      <td>4.8</td>\n",
       "      <td>1874.99</td>\n",
       "      <td>1997.0</td>\n",
       "      <td>0.0</td>\n",
       "      <td>Nudge Stratford</td>\n",
       "      <td>...</td>\n",
       "      <td>0.000000</td>\n",
       "      <td>0.000000</td>\n",
       "      <td>0.00</td>\n",
       "      <td>0.00</td>\n",
       "      <td>0.000000</td>\n",
       "      <td>0.080000</td>\n",
       "      <td>0.00</td>\n",
       "      <td>0.156923</td>\n",
       "      <td>t10</td>\n",
       "      <td>8.0</td>\n",
       "    </tr>\n",
       "    <tr>\n",
       "      <th>1</th>\n",
       "      <td>71</td>\n",
       "      <td>Pomerol 1997</td>\n",
       "      <td>P\\xe9trus</td>\n",
       "      <td>Pomerol</td>\n",
       "      <td>France</td>\n",
       "      <td>4.8</td>\n",
       "      <td>1874.99</td>\n",
       "      <td>1997.0</td>\n",
       "      <td>1.0</td>\n",
       "      <td>Pastore Serafino</td>\n",
       "      <td>...</td>\n",
       "      <td>0.185455</td>\n",
       "      <td>0.000000</td>\n",
       "      <td>0.00</td>\n",
       "      <td>0.00</td>\n",
       "      <td>0.094545</td>\n",
       "      <td>0.094545</td>\n",
       "      <td>0.00</td>\n",
       "      <td>0.000000</td>\n",
       "      <td>t3</td>\n",
       "      <td>9.0</td>\n",
       "    </tr>\n",
       "    <tr>\n",
       "      <th>2</th>\n",
       "      <td>71</td>\n",
       "      <td>Pomerol 1997</td>\n",
       "      <td>P\\xe9trus</td>\n",
       "      <td>Pomerol</td>\n",
       "      <td>France</td>\n",
       "      <td>4.8</td>\n",
       "      <td>1874.99</td>\n",
       "      <td>1997.0</td>\n",
       "      <td>2.0</td>\n",
       "      <td>Max@Berry Bros. &amp; Rudd</td>\n",
       "      <td>...</td>\n",
       "      <td>0.000000</td>\n",
       "      <td>0.000000</td>\n",
       "      <td>0.00</td>\n",
       "      <td>0.00</td>\n",
       "      <td>0.148571</td>\n",
       "      <td>0.148571</td>\n",
       "      <td>0.00</td>\n",
       "      <td>0.000000</td>\n",
       "      <td>t8</td>\n",
       "      <td>6.0</td>\n",
       "    </tr>\n",
       "    <tr>\n",
       "      <th>3</th>\n",
       "      <td>71</td>\n",
       "      <td>Pomerol 1997</td>\n",
       "      <td>P\\xe9trus</td>\n",
       "      <td>Pomerol</td>\n",
       "      <td>France</td>\n",
       "      <td>4.8</td>\n",
       "      <td>1874.99</td>\n",
       "      <td>1997.0</td>\n",
       "      <td>3.0</td>\n",
       "      <td>Max@Berry Bros. &amp; Rudd</td>\n",
       "      <td>...</td>\n",
       "      <td>0.040000</td>\n",
       "      <td>0.040000</td>\n",
       "      <td>0.04</td>\n",
       "      <td>0.04</td>\n",
       "      <td>0.040000</td>\n",
       "      <td>0.040000</td>\n",
       "      <td>0.04</td>\n",
       "      <td>0.040000</td>\n",
       "      <td>t1</td>\n",
       "      <td>1.0</td>\n",
       "    </tr>\n",
       "    <tr>\n",
       "      <th>4</th>\n",
       "      <td>71</td>\n",
       "      <td>Pomerol 1997</td>\n",
       "      <td>P\\xe9trus</td>\n",
       "      <td>Pomerol</td>\n",
       "      <td>France</td>\n",
       "      <td>4.8</td>\n",
       "      <td>1874.99</td>\n",
       "      <td>1997.0</td>\n",
       "      <td>4.0</td>\n",
       "      <td>Nudge Stratford</td>\n",
       "      <td>...</td>\n",
       "      <td>0.000000</td>\n",
       "      <td>0.173333</td>\n",
       "      <td>0.00</td>\n",
       "      <td>0.34</td>\n",
       "      <td>0.000000</td>\n",
       "      <td>0.000000</td>\n",
       "      <td>0.00</td>\n",
       "      <td>0.000000</td>\n",
       "      <td>t21</td>\n",
       "      <td>5.0</td>\n",
       "    </tr>\n",
       "  </tbody>\n",
       "</table>\n",
       "<p>5 rows × 38 columns</p>\n",
       "</div>"
      ],
      "text/plain": [
       "   wine_index      red_wine red_wineries red_regions red_countries  \\\n",
       "0          71  Pomerol 1997    P\\xe9trus     Pomerol        France   \n",
       "1          71  Pomerol 1997    P\\xe9trus     Pomerol        France   \n",
       "2          71  Pomerol 1997    P\\xe9trus     Pomerol        France   \n",
       "3          71  Pomerol 1997    P\\xe9trus     Pomerol        France   \n",
       "4          71  Pomerol 1997    P\\xe9trus     Pomerol        France   \n",
       "\n",
       "   red_avg_wine_ratings  red_avg_price  vintage_year  review_index  \\\n",
       "0                   4.8        1874.99        1997.0           0.0   \n",
       "1                   4.8        1874.99        1997.0           1.0   \n",
       "2                   4.8        1874.99        1997.0           2.0   \n",
       "3                   4.8        1874.99        1997.0           3.0   \n",
       "4                   4.8        1874.99        1997.0           4.0   \n",
       "\n",
       "                 red_user      ...            t18       t19   t20   t21  \\\n",
       "0         Nudge Stratford      ...       0.000000  0.000000  0.00  0.00   \n",
       "1        Pastore Serafino      ...       0.185455  0.000000  0.00  0.00   \n",
       "2  Max@Berry Bros. & Rudd      ...       0.000000  0.000000  0.00  0.00   \n",
       "3  Max@Berry Bros. & Rudd      ...       0.040000  0.040000  0.04  0.04   \n",
       "4         Nudge Stratford      ...       0.000000  0.173333  0.00  0.34   \n",
       "\n",
       "        t22       t23   t24       t25  max_prob  unique_probs  \n",
       "0  0.000000  0.080000  0.00  0.156923       t10           8.0  \n",
       "1  0.094545  0.094545  0.00  0.000000        t3           9.0  \n",
       "2  0.148571  0.148571  0.00  0.000000        t8           6.0  \n",
       "3  0.040000  0.040000  0.04  0.040000        t1           1.0  \n",
       "4  0.000000  0.000000  0.00  0.000000       t21           5.0  \n",
       "\n",
       "[5 rows x 38 columns]"
      ]
     },
     "execution_count": 92,
     "metadata": {},
     "output_type": "execute_result"
    }
   ],
   "source": [
    "red_df.head()"
   ]
  },
  {
   "cell_type": "code",
   "execution_count": 95,
   "metadata": {
    "collapsed": false
   },
   "outputs": [
    {
     "data": {
      "text/plain": [
       "32933"
      ]
     },
     "execution_count": 95,
     "metadata": {},
     "output_type": "execute_result"
    }
   ],
   "source": [
    "red_df.wine_index.count()"
   ]
  },
  {
   "cell_type": "code",
   "execution_count": 96,
   "metadata": {
    "collapsed": true
   },
   "outputs": [],
   "source": [
    "red_df.to_csv(path_or_buf='/Users/divyasusarla/Desktop/DSI-SF-2-divyasusarla/Capstone/LDA_analysis/red_formodel', encoding='utf8')"
   ]
  },
  {
   "cell_type": "code",
   "execution_count": null,
   "metadata": {
    "collapsed": true
   },
   "outputs": [],
   "source": []
  }
 ],
 "metadata": {
  "anaconda-cloud": {},
  "kernelspec": {
   "display_name": "Python [dsi]",
   "language": "python",
   "name": "Python [dsi]"
  },
  "language_info": {
   "codemirror_mode": {
    "name": "ipython",
    "version": 2
   },
   "file_extension": ".py",
   "mimetype": "text/x-python",
   "name": "python",
   "nbconvert_exporter": "python",
   "pygments_lexer": "ipython2",
   "version": "2.7.12"
  }
 },
 "nbformat": 4,
 "nbformat_minor": 0
}
