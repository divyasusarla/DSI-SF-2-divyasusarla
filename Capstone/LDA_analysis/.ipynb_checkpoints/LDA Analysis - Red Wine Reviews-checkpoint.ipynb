{
 "cells": [
  {
   "cell_type": "markdown",
   "metadata": {},
   "source": [
    "# LDA Analysis on Red Wine Reviews:"
   ]
  },
  {
   "cell_type": "code",
   "execution_count": 1,
   "metadata": {
    "collapsed": true
   },
   "outputs": [],
   "source": [
    "import pandas as pd\n",
    "import numpy as np\n",
    "from sklearn.feature_extraction.text import TfidfVectorizer, CountVectorizer\n",
    "from sklearn.decomposition import NMF, LatentDirichletAllocation\n",
    "from sklearn.feature_extraction import text\n",
    "from gensim import corpora, models, matutils\n",
    "import nltk\n",
    "import re\n",
    "from nltk.corpus import stopwords\n",
    "import seaborn as sns\n",
    "import matplotlib.pyplot as plt\n",
    "\n",
    "%matplotlib inline\n",
    "plt.style.use('fivethirtyeight')"
   ]
  },
  {
   "cell_type": "code",
   "execution_count": 2,
   "metadata": {
    "collapsed": true
   },
   "outputs": [],
   "source": [
    "red_clean = pd.read_csv('/Users/divyasusarla/Desktop/DSI-SF-2-divyasusarla/Capstone/Clean_Data/red_reviews_clean.csv', encoding='utf-8')"
   ]
  },
  {
   "cell_type": "code",
   "execution_count": 3,
   "metadata": {
    "collapsed": true
   },
   "outputs": [],
   "source": [
    "del red_clean['Unnamed: 0']\n",
    "red_clean.dropna(inplace=True)"
   ]
  },
  {
   "cell_type": "code",
   "execution_count": 4,
   "metadata": {
    "collapsed": false
   },
   "outputs": [
    {
     "name": "stdout",
     "output_type": "stream",
     "text": [
      "<class 'pandas.core.frame.DataFrame'>\n",
      "Int64Index: 87063 entries, 0 to 87910\n",
      "Data columns (total 4 columns):\n",
      "review_index    87063 non-null int64\n",
      "red_wine        87063 non-null object\n",
      "red_user        87063 non-null object\n",
      "red_review      87063 non-null object\n",
      "dtypes: int64(1), object(3)\n",
      "memory usage: 3.3+ MB\n"
     ]
    }
   ],
   "source": [
    "red_clean.info()"
   ]
  },
  {
   "cell_type": "markdown",
   "metadata": {},
   "source": [
    "# Create stopwords:"
   ]
  },
  {
   "cell_type": "code",
   "execution_count": 5,
   "metadata": {
    "collapsed": true
   },
   "outputs": [],
   "source": [
    "def identify_stop_words(data):\n",
    "    red_clean['word_check'] = red_clean.red_review.map(lambda x: re.findall(r'\\w*\\d\\w*', x) if len(re.findall(r'\\w*\\d\\w*', x))>0 else np.nan)\n",
    "    corpus_words = [word for sent in red_clean.word_check[~red_clean.word_check.isnull()] for word in sent]\n",
    "    corpus_words = list(set(corpus_words))\n",
    "    nltk_stop = list(stopwords.words('english'))\n",
    "    red_clean.drop('word_check',axis=1,inplace=True)\n",
    "    my_stop_words = nltk_stop + corpus_words\n",
    "    return my_stop_words"
   ]
  },
  {
   "cell_type": "code",
   "execution_count": 6,
   "metadata": {
    "collapsed": false
   },
   "outputs": [],
   "source": [
    "my_stop_words = identify_stop_words(red_clean.red_review) + ['pinot', 'noir', 'cabernet', 'sauvignon', 'great', \n",
    "                                                             'wine', 'nice', 'needs', 'time', 'cab', 'franc', 'red', \n",
    "                                                             'ruby', 'dark', 'good', 'nose', 'bottle', 'palate', \n",
    "                                                             'little', 'deep', 'purple', 'best', 'wines', 'years', \n",
    "                                                             'colour', 'color', 'excellent', 'black', 'price', \n",
    "                                                             'point', 'mouth', 'feel', 'value', 'lovely', 'another', \n",
    "                                                             'easy', 'drink', 'drinking', 'birthday', 'wife', 'day',\n",
    "                                                            'amongst', 'across', 'hours', 'hour', 'year', 'wonderfull',\n",
    "                                                            'amazing', 'well', 'one', 'second', 'new', 'dinner',\n",
    "                                                            'perfect', 'wow', 'buy', 'nicely', 'beautifully']"
   ]
  },
  {
   "cell_type": "code",
   "execution_count": 7,
   "metadata": {
    "collapsed": true
   },
   "outputs": [],
   "source": [
    "review = red_clean['red_review']"
   ]
  },
  {
   "cell_type": "markdown",
   "metadata": {},
   "source": [
    "# Visualize the spread of words by count and percentile:"
   ]
  },
  {
   "cell_type": "code",
   "execution_count": 8,
   "metadata": {
    "collapsed": true
   },
   "outputs": [],
   "source": [
    "vectorizer = CountVectorizer(stop_words= my_stop_words, ngram_range=(2,2))\n",
    "X = vectorizer.fit_transform(review)\n",
    "X = X.todense()"
   ]
  },
  {
   "cell_type": "code",
   "execution_count": 9,
   "metadata": {
    "collapsed": true
   },
   "outputs": [],
   "source": [
    "# words = pd.DataFrame(X, columns=vectorizer.get_feature_names())\n",
    "# word_count = words.sum(axis=0).reset_index()\n",
    "# word_count.columns = ['words','counts']\n",
    "# word_count.sort_values('counts', ascending=False, inplace=True)\n",
    "# word_count.head(50).plot(x='words', y='counts', kind='bar', figsize=(18,7))"
   ]
  },
  {
   "cell_type": "code",
   "execution_count": 10,
   "metadata": {
    "collapsed": true
   },
   "outputs": [],
   "source": [
    "# word_count_percentiles = pd.DataFrame({\n",
    "#         'percentile':np.arange(1,100,1),\n",
    "#         'word_count':np.percentile(word_count.counts, np.arange(1., 100., 1))\n",
    "#     })\n",
    "# word_count_percentiles.plot(x='percentile', y='word_count', kind='bar', figsize=(18,7))"
   ]
  },
  {
   "cell_type": "markdown",
   "metadata": {},
   "source": [
    "# Set up LDA"
   ]
  },
  {
   "cell_type": "code",
   "execution_count": 11,
   "metadata": {
    "collapsed": true
   },
   "outputs": [],
   "source": [
    "# use the counter option to get the most common words. \n",
    "from collections import Counter\n",
    "# Count the most common tokens \n",
    "summaries = \"\".join(red_clean['red_review'])\n",
    "vocab_summaries = vectorizer.build_analyzer()(summaries)\n",
    "red_vocab = Counter(vocab_summaries).most_common(5000)\n",
    "red_vocab = dict(red_vocab)\n",
    "\n",
    "vectorizer2 = CountVectorizer(vocabulary=red_vocab.keys(), stop_words= my_stop_words, ngram_range=(2,2))\n",
    "X2 = vectorizer2.fit_transform(review)\n",
    "X2.shape\n",
    "X2.todense()\n",
    "\n",
    "vocab2 = {v: k for k, v in vectorizer2.vocabulary_.iteritems()}\n",
    "\n",
    "lda2 = models.LdaModel(\n",
    "   matutils.Sparse2Corpus(X2, documents_columns=False),\n",
    "   num_topics  =  25,\n",
    "   passes      =  25,\n",
    "   iterations = 2500,\n",
    "   id2word     =  vocab2,\n",
    "   eval_every = 100,\n",
    "   chunksize = 2000\n",
    ")"
   ]
  },
  {
   "cell_type": "code",
   "execution_count": 12,
   "metadata": {
    "collapsed": false,
    "scrolled": false
   },
   "outputs": [
    {
     "data": {
      "text/plain": [
       "[(0,\n",
       "  u'0.056*fine tannins + 0.035*left bank + 0.033*big fruit + 0.028*chewy tannins + 0.027*earthy notes + 0.023*ripe cherries + 0.015*plus acidity + 0.013*hints spice + 0.012*saddle leather + 0.012*soft smooth'),\n",
       " (1,\n",
       "  u'0.021*balance fruit + 0.020*pencil lead + 0.016*long lingering + 0.015*life left + 0.013*blue fruits + 0.012*rose petal + 0.011*still quite + 0.011*st julien + 0.011*big rich + 0.010*tannin structure'),\n",
       " (2,\n",
       "  u'0.049*lingering finish + 0.033*finish long + 0.022*du pape + 0.021*strong tannins + 0.018*hints vanilla + 0.016*finish smooth + 0.016*bordeaux style + 0.015*oak spice + 0.015*aromas fruits + 0.014*chateauneuf du'),\n",
       " (3,\n",
       "  u'0.085*smooth finish + 0.034*even better + 0.031*highly recommended + 0.030*fruit spice + 0.023*soft tannins + 0.023*tannins fruit + 0.021*start finish + 0.016*light medium + 0.016*ripe plums + 0.013*bitter chocolate'),\n",
       " (4,\n",
       "  u'0.033*blend merlot + 0.022*short finish + 0.022*fruit driven + 0.022*balanced fruit + 0.019*blackberry currant + 0.018*med plus + 0.018*smooth rich + 0.018*would like + 0.018*smooth fruity + 0.017*smooth fruit'),\n",
       " (5,\n",
       "  u'0.120*fruit forward + 0.095*medium bodied + 0.041*firm tannins + 0.025*cherry raspberry + 0.021*long legs + 0.020*wet earth + 0.019*acidity tannins + 0.017*tastes like + 0.015*jammy fruit + 0.014*still bit'),\n",
       " (6,\n",
       "  u'0.060*long finish + 0.052*still young + 0.036*cherry plum + 0.035*french oak + 0.034*petit verdot + 0.033*high acidity + 0.028*super tuscan + 0.026*get better + 0.025*cherry blackberry + 0.022*smooth long'),\n",
       " (7,\n",
       "  u'0.062*smooth tannins + 0.036*tannins finish + 0.021*sweet fruit + 0.019*dried cherry + 0.016*sweet tobacco + 0.015*oak vanilla + 0.015*rose petals + 0.014*cherry spice + 0.014*fruit plum + 0.013*body finish'),\n",
       " (8,\n",
       "  u'0.059*silky smooth + 0.041*old world + 0.035*pencil shavings + 0.030*ripe cherry + 0.023*vanilla oak + 0.023*bordeaux blend + 0.018*lead pencil + 0.018*cherry notes + 0.017*finish medium + 0.017*forest floor'),\n",
       " (9,\n",
       "  u'0.066*silky tannins + 0.033*tannins still + 0.025*green pepper + 0.022*berry fruit + 0.022*medium bodied + 0.021*spicy finish + 0.016*body smooth + 0.016*balanced finish + 0.015*light fruit + 0.015*dry full'),\n",
       " (10,\n",
       "  u'0.292*full bodied + 0.031*balanced acidity + 0.024*floral notes + 0.021*velvety tannins + 0.021*much better + 0.019*smooth full + 0.019*medium full + 0.014*tannins balanced + 0.013*balanced smooth + 0.013*acidity long'),\n",
       " (11,\n",
       "  u'0.073*soft tannins + 0.032*balanced tannins + 0.022*blind tasting + 0.020*tannin medium + 0.020*fruit balanced + 0.018*aromas cherry + 0.017*high tannin + 0.016*velvety texture + 0.016*fruit aromas + 0.013*smooth elegant'),\n",
       " (12,\n",
       "  u'0.038*integrated tannins + 0.019*clean finish + 0.017*flavors blackberry + 0.016*balanced long + 0.016*tobacco leaf + 0.015*lush fruit + 0.015*russian river + 0.014*peppery finish + 0.014*bright cherry + 0.014*pepper spice'),\n",
       " (13,\n",
       "  u'0.057*big bold + 0.052*white pepper + 0.020*really enjoyed + 0.018*wet leaves + 0.017*low tannins + 0.016*let breathe + 0.015*first taste + 0.013*oak fruit + 0.013*sweet ripe + 0.013*absolutely delicious'),\n",
       " (14,\n",
       "  u'0.132*full body + 0.054*medium plus + 0.044*medium finish + 0.038*medium tannins + 0.037*medium acidity + 0.026*acidity medium + 0.024*body medium + 0.022*tannins medium + 0.021*dry medium + 0.019*medium full'),\n",
       " (15,\n",
       "  u'0.045*cigar box + 0.027*perfectly balanced + 0.026*baking spice + 0.024*raspberry cherry + 0.024*long lasting + 0.023*lasting finish + 0.020*light tannins + 0.017*fruit smooth + 0.015*silky texture + 0.015*supple tannins'),\n",
       " (16,\n",
       "  u'0.062*ripe fruits + 0.034*fruit flavors + 0.022*st emilion + 0.022*tasted blind + 0.020*single vineyard + 0.019*tart cherry + 0.018*cherry currant + 0.016*fruit balance + 0.015*cedar tobacco + 0.014*tannins soft'),\n",
       " (17,\n",
       "  u'0.045*high alcohol + 0.033*rich fruit + 0.020*high tannins + 0.020*fruit tannins + 0.018*fruit cherry + 0.017*fruit flavours + 0.017*fruity smooth + 0.016*length finish + 0.016*tannic finish + 0.016*could use'),\n",
       " (18,\n",
       "  u'0.032*lengthy finish + 0.027*grippy tannins + 0.021*last night + 0.020*ripe plum + 0.018*ever tasted + 0.018*smooth mouthfeel + 0.017*smooth silky + 0.017*dry tannins + 0.015*ripe acidity + 0.014*sweet spices'),\n",
       " (19,\n",
       "  u'0.029*smooth balanced + 0.027*blackberry cherry + 0.025*bell pepper + 0.024*baking spices + 0.023*plum blackberry + 0.021*sweet spice + 0.018*highly recommend + 0.014*napa valley + 0.014*finish still + 0.013*rich complex'),\n",
       " (20,\n",
       "  u'0.045*dry finish + 0.026*rich full + 0.026*lots fruit + 0.023*plum cherry + 0.021*blackberry plum + 0.020*tobacco leather + 0.016*fruit still + 0.016*long dry + 0.016*blue fruit + 0.015*smooth medium'),\n",
       " (21,\n",
       "  u'0.025*sour cherry + 0.020*grand cru + 0.019*cherry fruit + 0.017*plums cherries + 0.017*ripe berries + 0.013*soft fruit + 0.013*light body + 0.012*persistent finish + 0.012*notes cherry + 0.011*dried fruits'),\n",
       " (22,\n",
       "  u'0.082*ripe fruit + 0.028*leather tobacco + 0.023*full fruit + 0.019*fruit earth + 0.019*bodied medium + 0.017*cherries plums + 0.016*old world + 0.016*intense fruit + 0.015*finish balanced + 0.014*de cassis'),\n",
       " (23,\n",
       "  u'0.245*long finish + 0.058*forest floor + 0.042*tannins long + 0.024*dried herbs + 0.022*right bank + 0.015*fruit long + 0.014*fruit bomb + 0.014*dried fruit + 0.011*chocolate coffee + 0.010*subtle fruit'),\n",
       " (24,\n",
       "  u'0.133*medium body + 0.030*fruit finish + 0.029*tannins acidity + 0.027*bright fruit + 0.016*fruit oak + 0.016*bright acidity + 0.014*cherry cassis + 0.012*light fruity + 0.012*long smooth + 0.012*smooth light')]"
      ]
     },
     "execution_count": 12,
     "metadata": {},
     "output_type": "execute_result"
    }
   ],
   "source": [
    "lda2.print_topics(num_topics=25, num_words=10)"
   ]
  },
  {
   "cell_type": "markdown",
   "metadata": {},
   "source": [
    "## Get the probabilities by topic into a dataframe:\n",
    "\n",
    "Below I am turning my documents into a format that can pass through the get_document_topics function, but I am also checking to see how many documents I have that contain data."
   ]
  },
  {
   "cell_type": "code",
   "execution_count": 13,
   "metadata": {
    "collapsed": true
   },
   "outputs": [],
   "source": [
    "bow = []\n",
    "blank_documents = 0\n",
    "for document in X2.toarray():\n",
    "    single_document = []\n",
    "    for token_id, token_count in enumerate(document):\n",
    "        \n",
    "        if token_count > 0:\n",
    "              single_document.append((token_id, token_count))\n",
    "            \n",
    "    if len(single_document)>0:\n",
    "        bow.append(single_document)\n",
    "    else:\n",
    "        blank_documents += 1\n",
    "        bow.append([])"
   ]
  },
  {
   "cell_type": "code",
   "execution_count": 14,
   "metadata": {
    "collapsed": false
   },
   "outputs": [
    {
     "data": {
      "text/plain": [
       "(87063, 28849)"
      ]
     },
     "execution_count": 14,
     "metadata": {},
     "output_type": "execute_result"
    }
   ],
   "source": [
    "len(bow), blank_documents"
   ]
  },
  {
   "cell_type": "code",
   "execution_count": 15,
   "metadata": {
    "collapsed": false
   },
   "outputs": [
    {
     "data": {
      "text/plain": [
       "[(0, 0.019999999999999997),\n",
       " (1, 0.019999999999999997),\n",
       " (2, 0.019999999999999997),\n",
       " (3, 0.019999999999999997),\n",
       " (4, 0.019999999999999997),\n",
       " (5, 0.019999999999999997),\n",
       " (6, 0.019999999999999997),\n",
       " (7, 0.019999999999999997),\n",
       " (8, 0.019999999999999997),\n",
       " (9, 0.51999999999999991),\n",
       " (10, 0.019999999999999997),\n",
       " (11, 0.019999999999999997),\n",
       " (12, 0.019999999999999997),\n",
       " (13, 0.019999999999999997),\n",
       " (14, 0.019999999999999997),\n",
       " (15, 0.019999999999999997),\n",
       " (16, 0.019999999999999997),\n",
       " (17, 0.019999999999999997),\n",
       " (18, 0.019999999999999997),\n",
       " (19, 0.019999999999999997),\n",
       " (20, 0.019999999999999997),\n",
       " (21, 0.019999999999999997),\n",
       " (22, 0.019999999999999997),\n",
       " (23, 0.019999999999999997),\n",
       " (24, 0.019999999999999997)]"
      ]
     },
     "execution_count": 15,
     "metadata": {},
     "output_type": "execute_result"
    }
   ],
   "source": [
    "lda2.get_document_topics(bow[6])"
   ]
  },
  {
   "cell_type": "code",
   "execution_count": 16,
   "metadata": {
    "collapsed": true
   },
   "outputs": [],
   "source": [
    "topic_proba =lda2.get_document_topics(bow)"
   ]
  },
  {
   "cell_type": "code",
   "execution_count": 17,
   "metadata": {
    "collapsed": true
   },
   "outputs": [],
   "source": [
    "topic_df = np.zeros((len(topic_proba), 25))\n",
    "for rowid, tp in enumerate(topic_proba):\n",
    "    for colid, p in tp:\n",
    "        topic_df[rowid, colid] = p\n",
    "        \n",
    "topic_df = pd.DataFrame(topic_df, columns=['t'+str(i+1) for i in range(topic_df.shape[1])])"
   ]
  },
  {
   "cell_type": "code",
   "execution_count": 18,
   "metadata": {
    "collapsed": false
   },
   "outputs": [
    {
     "data": {
      "text/html": [
       "<div>\n",
       "<table border=\"1\" class=\"dataframe\">\n",
       "  <thead>\n",
       "    <tr style=\"text-align: right;\">\n",
       "      <th></th>\n",
       "      <th>t1</th>\n",
       "      <th>t2</th>\n",
       "      <th>t3</th>\n",
       "      <th>t4</th>\n",
       "      <th>t5</th>\n",
       "      <th>t6</th>\n",
       "      <th>t7</th>\n",
       "      <th>t8</th>\n",
       "      <th>t9</th>\n",
       "      <th>t10</th>\n",
       "      <th>...</th>\n",
       "      <th>t16</th>\n",
       "      <th>t17</th>\n",
       "      <th>t18</th>\n",
       "      <th>t19</th>\n",
       "      <th>t20</th>\n",
       "      <th>t21</th>\n",
       "      <th>t22</th>\n",
       "      <th>t23</th>\n",
       "      <th>t24</th>\n",
       "      <th>t25</th>\n",
       "    </tr>\n",
       "  </thead>\n",
       "  <tbody>\n",
       "    <tr>\n",
       "      <th>0</th>\n",
       "      <td>0.00</td>\n",
       "      <td>0.00</td>\n",
       "      <td>0.00</td>\n",
       "      <td>0.00</td>\n",
       "      <td>0.00</td>\n",
       "      <td>0.00</td>\n",
       "      <td>0.51</td>\n",
       "      <td>0.00</td>\n",
       "      <td>0.00</td>\n",
       "      <td>0.26</td>\n",
       "      <td>...</td>\n",
       "      <td>0.00</td>\n",
       "      <td>0.00</td>\n",
       "      <td>0.00</td>\n",
       "      <td>0.00</td>\n",
       "      <td>0.00</td>\n",
       "      <td>0.00</td>\n",
       "      <td>0.00</td>\n",
       "      <td>0.00</td>\n",
       "      <td>0.00</td>\n",
       "      <td>0.000000</td>\n",
       "    </tr>\n",
       "    <tr>\n",
       "      <th>1</th>\n",
       "      <td>0.00</td>\n",
       "      <td>0.00</td>\n",
       "      <td>0.00</td>\n",
       "      <td>0.00</td>\n",
       "      <td>0.00</td>\n",
       "      <td>0.00</td>\n",
       "      <td>0.00</td>\n",
       "      <td>0.00</td>\n",
       "      <td>0.00</td>\n",
       "      <td>0.00</td>\n",
       "      <td>...</td>\n",
       "      <td>0.00</td>\n",
       "      <td>0.00</td>\n",
       "      <td>0.00</td>\n",
       "      <td>0.00</td>\n",
       "      <td>0.00</td>\n",
       "      <td>0.00</td>\n",
       "      <td>0.00</td>\n",
       "      <td>0.00</td>\n",
       "      <td>0.00</td>\n",
       "      <td>0.115556</td>\n",
       "    </tr>\n",
       "    <tr>\n",
       "      <th>2</th>\n",
       "      <td>0.00</td>\n",
       "      <td>0.00</td>\n",
       "      <td>0.00</td>\n",
       "      <td>0.00</td>\n",
       "      <td>0.26</td>\n",
       "      <td>0.00</td>\n",
       "      <td>0.01</td>\n",
       "      <td>0.00</td>\n",
       "      <td>0.00</td>\n",
       "      <td>0.00</td>\n",
       "      <td>...</td>\n",
       "      <td>0.00</td>\n",
       "      <td>0.00</td>\n",
       "      <td>0.00</td>\n",
       "      <td>0.00</td>\n",
       "      <td>0.00</td>\n",
       "      <td>0.00</td>\n",
       "      <td>0.00</td>\n",
       "      <td>0.26</td>\n",
       "      <td>0.26</td>\n",
       "      <td>0.000000</td>\n",
       "    </tr>\n",
       "    <tr>\n",
       "      <th>3</th>\n",
       "      <td>0.02</td>\n",
       "      <td>0.02</td>\n",
       "      <td>0.02</td>\n",
       "      <td>0.02</td>\n",
       "      <td>0.02</td>\n",
       "      <td>0.52</td>\n",
       "      <td>0.02</td>\n",
       "      <td>0.02</td>\n",
       "      <td>0.02</td>\n",
       "      <td>0.02</td>\n",
       "      <td>...</td>\n",
       "      <td>0.02</td>\n",
       "      <td>0.02</td>\n",
       "      <td>0.02</td>\n",
       "      <td>0.02</td>\n",
       "      <td>0.02</td>\n",
       "      <td>0.02</td>\n",
       "      <td>0.02</td>\n",
       "      <td>0.02</td>\n",
       "      <td>0.02</td>\n",
       "      <td>0.020000</td>\n",
       "    </tr>\n",
       "    <tr>\n",
       "      <th>4</th>\n",
       "      <td>0.02</td>\n",
       "      <td>0.02</td>\n",
       "      <td>0.52</td>\n",
       "      <td>0.02</td>\n",
       "      <td>0.02</td>\n",
       "      <td>0.02</td>\n",
       "      <td>0.02</td>\n",
       "      <td>0.02</td>\n",
       "      <td>0.02</td>\n",
       "      <td>0.02</td>\n",
       "      <td>...</td>\n",
       "      <td>0.02</td>\n",
       "      <td>0.02</td>\n",
       "      <td>0.02</td>\n",
       "      <td>0.02</td>\n",
       "      <td>0.02</td>\n",
       "      <td>0.02</td>\n",
       "      <td>0.02</td>\n",
       "      <td>0.02</td>\n",
       "      <td>0.02</td>\n",
       "      <td>0.020000</td>\n",
       "    </tr>\n",
       "  </tbody>\n",
       "</table>\n",
       "<p>5 rows × 25 columns</p>\n",
       "</div>"
      ],
      "text/plain": [
       "     t1    t2    t3    t4    t5    t6    t7    t8    t9   t10    ...      t16  \\\n",
       "0  0.00  0.00  0.00  0.00  0.00  0.00  0.51  0.00  0.00  0.26    ...     0.00   \n",
       "1  0.00  0.00  0.00  0.00  0.00  0.00  0.00  0.00  0.00  0.00    ...     0.00   \n",
       "2  0.00  0.00  0.00  0.00  0.26  0.00  0.01  0.00  0.00  0.00    ...     0.00   \n",
       "3  0.02  0.02  0.02  0.02  0.02  0.52  0.02  0.02  0.02  0.02    ...     0.02   \n",
       "4  0.02  0.02  0.52  0.02  0.02  0.02  0.02  0.02  0.02  0.02    ...     0.02   \n",
       "\n",
       "    t17   t18   t19   t20   t21   t22   t23   t24       t25  \n",
       "0  0.00  0.00  0.00  0.00  0.00  0.00  0.00  0.00  0.000000  \n",
       "1  0.00  0.00  0.00  0.00  0.00  0.00  0.00  0.00  0.115556  \n",
       "2  0.00  0.00  0.00  0.00  0.00  0.00  0.26  0.26  0.000000  \n",
       "3  0.02  0.02  0.02  0.02  0.02  0.02  0.02  0.02  0.020000  \n",
       "4  0.02  0.02  0.02  0.02  0.02  0.02  0.02  0.02  0.020000  \n",
       "\n",
       "[5 rows x 25 columns]"
      ]
     },
     "execution_count": 18,
     "metadata": {},
     "output_type": "execute_result"
    }
   ],
   "source": [
    "topic_df.head(5)"
   ]
  },
  {
   "cell_type": "markdown",
   "metadata": {},
   "source": [
    "# Further analysis into the topics:"
   ]
  },
  {
   "cell_type": "code",
   "execution_count": 19,
   "metadata": {
    "collapsed": false
   },
   "outputs": [],
   "source": [
    "def get_documents_by_topic(topic='t1', threashold = .65):\n",
    "    orig_df = pd.read_csv(\"../Clean_Data/red_reviews_clean.csv\")\n",
    "    orig_df = orig_df.dropna()  \n",
    "    return orig_df[orig_df.index.isin(topic_df[topic_df[topic] > threashold].index)]['red_review']\n",
    "\n",
    "def get_top_feature_counts(df, limit = 10, vectorizer = vectorizer):\n",
    "\n",
    "    X = vectorizer.fit_transform(df)\n",
    "\n",
    "    tokens = pd.DataFrame()\n",
    "    stats_df = pd.DataFrame(X.toarray(), columns=vectorizer.vocabulary_)\n",
    "    tokens['tokens'] = stats_df.columns \n",
    "    tokens['count'] = stats_df.T.sum()\n",
    "    tokens = tokens.set_index('tokens')\n",
    "    return tokens.sort('count', ascending=False).head(limit).reset_index()"
   ]
  },
  {
   "cell_type": "code",
   "execution_count": 20,
   "metadata": {
    "collapsed": false
   },
   "outputs": [],
   "source": [
    "topic_df['max_prob'] =  topic_df.apply(np.argmax, axis=1)"
   ]
  },
  {
   "cell_type": "code",
   "execution_count": 21,
   "metadata": {
    "collapsed": false
   },
   "outputs": [
    {
     "data": {
      "text/html": [
       "<div>\n",
       "<table border=\"1\" class=\"dataframe\">\n",
       "  <thead>\n",
       "    <tr style=\"text-align: right;\">\n",
       "      <th></th>\n",
       "      <th>t1</th>\n",
       "      <th>t2</th>\n",
       "      <th>t3</th>\n",
       "      <th>t4</th>\n",
       "      <th>t5</th>\n",
       "      <th>t6</th>\n",
       "      <th>t7</th>\n",
       "      <th>t8</th>\n",
       "      <th>t9</th>\n",
       "      <th>t10</th>\n",
       "      <th>...</th>\n",
       "      <th>t18</th>\n",
       "      <th>t19</th>\n",
       "      <th>t20</th>\n",
       "      <th>t21</th>\n",
       "      <th>t22</th>\n",
       "      <th>t23</th>\n",
       "      <th>t24</th>\n",
       "      <th>t25</th>\n",
       "      <th>max_prob</th>\n",
       "      <th>unique_probs</th>\n",
       "    </tr>\n",
       "  </thead>\n",
       "  <tbody>\n",
       "    <tr>\n",
       "      <th>0</th>\n",
       "      <td>0.00</td>\n",
       "      <td>0.00</td>\n",
       "      <td>0.00</td>\n",
       "      <td>0.00</td>\n",
       "      <td>0.00</td>\n",
       "      <td>0.000000</td>\n",
       "      <td>0.51</td>\n",
       "      <td>0.00</td>\n",
       "      <td>0.000000</td>\n",
       "      <td>0.26</td>\n",
       "      <td>...</td>\n",
       "      <td>0.00</td>\n",
       "      <td>0.00</td>\n",
       "      <td>0.00</td>\n",
       "      <td>0.00</td>\n",
       "      <td>0.00</td>\n",
       "      <td>0.00</td>\n",
       "      <td>0.00</td>\n",
       "      <td>0.000000</td>\n",
       "      <td>t7</td>\n",
       "      <td>3</td>\n",
       "    </tr>\n",
       "    <tr>\n",
       "      <th>1</th>\n",
       "      <td>0.00</td>\n",
       "      <td>0.00</td>\n",
       "      <td>0.00</td>\n",
       "      <td>0.00</td>\n",
       "      <td>0.00</td>\n",
       "      <td>0.000000</td>\n",
       "      <td>0.00</td>\n",
       "      <td>0.00</td>\n",
       "      <td>0.000000</td>\n",
       "      <td>0.00</td>\n",
       "      <td>...</td>\n",
       "      <td>0.00</td>\n",
       "      <td>0.00</td>\n",
       "      <td>0.00</td>\n",
       "      <td>0.00</td>\n",
       "      <td>0.00</td>\n",
       "      <td>0.00</td>\n",
       "      <td>0.00</td>\n",
       "      <td>0.115556</td>\n",
       "      <td>t11</td>\n",
       "      <td>3</td>\n",
       "    </tr>\n",
       "    <tr>\n",
       "      <th>2</th>\n",
       "      <td>0.00</td>\n",
       "      <td>0.00</td>\n",
       "      <td>0.00</td>\n",
       "      <td>0.00</td>\n",
       "      <td>0.26</td>\n",
       "      <td>0.000000</td>\n",
       "      <td>0.01</td>\n",
       "      <td>0.00</td>\n",
       "      <td>0.000000</td>\n",
       "      <td>0.00</td>\n",
       "      <td>...</td>\n",
       "      <td>0.00</td>\n",
       "      <td>0.00</td>\n",
       "      <td>0.00</td>\n",
       "      <td>0.00</td>\n",
       "      <td>0.00</td>\n",
       "      <td>0.26</td>\n",
       "      <td>0.26</td>\n",
       "      <td>0.000000</td>\n",
       "      <td>t23</td>\n",
       "      <td>5</td>\n",
       "    </tr>\n",
       "    <tr>\n",
       "      <th>3</th>\n",
       "      <td>0.02</td>\n",
       "      <td>0.02</td>\n",
       "      <td>0.02</td>\n",
       "      <td>0.02</td>\n",
       "      <td>0.02</td>\n",
       "      <td>0.520000</td>\n",
       "      <td>0.02</td>\n",
       "      <td>0.02</td>\n",
       "      <td>0.020000</td>\n",
       "      <td>0.02</td>\n",
       "      <td>...</td>\n",
       "      <td>0.02</td>\n",
       "      <td>0.02</td>\n",
       "      <td>0.02</td>\n",
       "      <td>0.02</td>\n",
       "      <td>0.02</td>\n",
       "      <td>0.02</td>\n",
       "      <td>0.02</td>\n",
       "      <td>0.020000</td>\n",
       "      <td>t6</td>\n",
       "      <td>2</td>\n",
       "    </tr>\n",
       "    <tr>\n",
       "      <th>4</th>\n",
       "      <td>0.02</td>\n",
       "      <td>0.02</td>\n",
       "      <td>0.52</td>\n",
       "      <td>0.02</td>\n",
       "      <td>0.02</td>\n",
       "      <td>0.020000</td>\n",
       "      <td>0.02</td>\n",
       "      <td>0.02</td>\n",
       "      <td>0.020000</td>\n",
       "      <td>0.02</td>\n",
       "      <td>...</td>\n",
       "      <td>0.02</td>\n",
       "      <td>0.02</td>\n",
       "      <td>0.02</td>\n",
       "      <td>0.02</td>\n",
       "      <td>0.02</td>\n",
       "      <td>0.02</td>\n",
       "      <td>0.02</td>\n",
       "      <td>0.020000</td>\n",
       "      <td>t3</td>\n",
       "      <td>2</td>\n",
       "    </tr>\n",
       "    <tr>\n",
       "      <th>5</th>\n",
       "      <td>0.01</td>\n",
       "      <td>0.01</td>\n",
       "      <td>0.01</td>\n",
       "      <td>0.01</td>\n",
       "      <td>0.01</td>\n",
       "      <td>0.010000</td>\n",
       "      <td>0.01</td>\n",
       "      <td>0.01</td>\n",
       "      <td>0.010000</td>\n",
       "      <td>0.01</td>\n",
       "      <td>...</td>\n",
       "      <td>0.01</td>\n",
       "      <td>0.01</td>\n",
       "      <td>0.01</td>\n",
       "      <td>0.51</td>\n",
       "      <td>0.01</td>\n",
       "      <td>0.01</td>\n",
       "      <td>0.26</td>\n",
       "      <td>0.010000</td>\n",
       "      <td>t21</td>\n",
       "      <td>4</td>\n",
       "    </tr>\n",
       "    <tr>\n",
       "      <th>6</th>\n",
       "      <td>0.02</td>\n",
       "      <td>0.02</td>\n",
       "      <td>0.02</td>\n",
       "      <td>0.02</td>\n",
       "      <td>0.02</td>\n",
       "      <td>0.020000</td>\n",
       "      <td>0.02</td>\n",
       "      <td>0.02</td>\n",
       "      <td>0.020000</td>\n",
       "      <td>0.52</td>\n",
       "      <td>...</td>\n",
       "      <td>0.02</td>\n",
       "      <td>0.02</td>\n",
       "      <td>0.02</td>\n",
       "      <td>0.02</td>\n",
       "      <td>0.02</td>\n",
       "      <td>0.02</td>\n",
       "      <td>0.02</td>\n",
       "      <td>0.020000</td>\n",
       "      <td>t10</td>\n",
       "      <td>2</td>\n",
       "    </tr>\n",
       "    <tr>\n",
       "      <th>7</th>\n",
       "      <td>0.00</td>\n",
       "      <td>0.00</td>\n",
       "      <td>0.00</td>\n",
       "      <td>0.00</td>\n",
       "      <td>0.00</td>\n",
       "      <td>0.291429</td>\n",
       "      <td>0.00</td>\n",
       "      <td>0.00</td>\n",
       "      <td>0.434286</td>\n",
       "      <td>0.00</td>\n",
       "      <td>...</td>\n",
       "      <td>0.00</td>\n",
       "      <td>0.00</td>\n",
       "      <td>0.00</td>\n",
       "      <td>0.00</td>\n",
       "      <td>0.00</td>\n",
       "      <td>0.00</td>\n",
       "      <td>0.00</td>\n",
       "      <td>0.000000</td>\n",
       "      <td>t9</td>\n",
       "      <td>4</td>\n",
       "    </tr>\n",
       "    <tr>\n",
       "      <th>8</th>\n",
       "      <td>0.01</td>\n",
       "      <td>0.01</td>\n",
       "      <td>0.01</td>\n",
       "      <td>0.01</td>\n",
       "      <td>0.01</td>\n",
       "      <td>0.010000</td>\n",
       "      <td>0.01</td>\n",
       "      <td>0.01</td>\n",
       "      <td>0.010000</td>\n",
       "      <td>0.01</td>\n",
       "      <td>...</td>\n",
       "      <td>0.01</td>\n",
       "      <td>0.01</td>\n",
       "      <td>0.01</td>\n",
       "      <td>0.01</td>\n",
       "      <td>0.01</td>\n",
       "      <td>0.01</td>\n",
       "      <td>0.01</td>\n",
       "      <td>0.010000</td>\n",
       "      <td>t12</td>\n",
       "      <td>2</td>\n",
       "    </tr>\n",
       "    <tr>\n",
       "      <th>9</th>\n",
       "      <td>0.04</td>\n",
       "      <td>0.04</td>\n",
       "      <td>0.04</td>\n",
       "      <td>0.04</td>\n",
       "      <td>0.04</td>\n",
       "      <td>0.040000</td>\n",
       "      <td>0.04</td>\n",
       "      <td>0.04</td>\n",
       "      <td>0.040000</td>\n",
       "      <td>0.04</td>\n",
       "      <td>...</td>\n",
       "      <td>0.04</td>\n",
       "      <td>0.04</td>\n",
       "      <td>0.04</td>\n",
       "      <td>0.04</td>\n",
       "      <td>0.04</td>\n",
       "      <td>0.04</td>\n",
       "      <td>0.04</td>\n",
       "      <td>0.040000</td>\n",
       "      <td>t1</td>\n",
       "      <td>1</td>\n",
       "    </tr>\n",
       "  </tbody>\n",
       "</table>\n",
       "<p>10 rows × 27 columns</p>\n",
       "</div>"
      ],
      "text/plain": [
       "     t1    t2    t3    t4    t5        t6    t7    t8        t9   t10  \\\n",
       "0  0.00  0.00  0.00  0.00  0.00  0.000000  0.51  0.00  0.000000  0.26   \n",
       "1  0.00  0.00  0.00  0.00  0.00  0.000000  0.00  0.00  0.000000  0.00   \n",
       "2  0.00  0.00  0.00  0.00  0.26  0.000000  0.01  0.00  0.000000  0.00   \n",
       "3  0.02  0.02  0.02  0.02  0.02  0.520000  0.02  0.02  0.020000  0.02   \n",
       "4  0.02  0.02  0.52  0.02  0.02  0.020000  0.02  0.02  0.020000  0.02   \n",
       "5  0.01  0.01  0.01  0.01  0.01  0.010000  0.01  0.01  0.010000  0.01   \n",
       "6  0.02  0.02  0.02  0.02  0.02  0.020000  0.02  0.02  0.020000  0.52   \n",
       "7  0.00  0.00  0.00  0.00  0.00  0.291429  0.00  0.00  0.434286  0.00   \n",
       "8  0.01  0.01  0.01  0.01  0.01  0.010000  0.01  0.01  0.010000  0.01   \n",
       "9  0.04  0.04  0.04  0.04  0.04  0.040000  0.04  0.04  0.040000  0.04   \n",
       "\n",
       "       ...        t18   t19   t20   t21   t22   t23   t24       t25  max_prob  \\\n",
       "0      ...       0.00  0.00  0.00  0.00  0.00  0.00  0.00  0.000000        t7   \n",
       "1      ...       0.00  0.00  0.00  0.00  0.00  0.00  0.00  0.115556       t11   \n",
       "2      ...       0.00  0.00  0.00  0.00  0.00  0.26  0.26  0.000000       t23   \n",
       "3      ...       0.02  0.02  0.02  0.02  0.02  0.02  0.02  0.020000        t6   \n",
       "4      ...       0.02  0.02  0.02  0.02  0.02  0.02  0.02  0.020000        t3   \n",
       "5      ...       0.01  0.01  0.01  0.51  0.01  0.01  0.26  0.010000       t21   \n",
       "6      ...       0.02  0.02  0.02  0.02  0.02  0.02  0.02  0.020000       t10   \n",
       "7      ...       0.00  0.00  0.00  0.00  0.00  0.00  0.00  0.000000        t9   \n",
       "8      ...       0.01  0.01  0.01  0.01  0.01  0.01  0.01  0.010000       t12   \n",
       "9      ...       0.04  0.04  0.04  0.04  0.04  0.04  0.04  0.040000        t1   \n",
       "\n",
       "   unique_probs  \n",
       "0             3  \n",
       "1             3  \n",
       "2             5  \n",
       "3             2  \n",
       "4             2  \n",
       "5             4  \n",
       "6             2  \n",
       "7             4  \n",
       "8             2  \n",
       "9             1  \n",
       "\n",
       "[10 rows x 27 columns]"
      ]
     },
     "execution_count": 21,
     "metadata": {},
     "output_type": "execute_result"
    }
   ],
   "source": [
    "topic_df['unique_probs'] = topic_df.apply(lambda x: len(np.unique(x[0:25])), axis=1)\n",
    "topic_df.head(10)"
   ]
  },
  {
   "cell_type": "code",
   "execution_count": 22,
   "metadata": {
    "collapsed": false
   },
   "outputs": [
    {
     "data": {
      "image/png": "[encoded data removed]",
      "text/plain": [
       "<matplotlib.figure.Figure at 0x11ba12090>"
      ]
     },
     "metadata": {},
     "output_type": "display_data"
    }
   ],
   "source": [
    "# Distribution of topic membership:\n",
    "fig = plt.figure(figsize=(15,5))\n",
    "ax = fig.gca()\n",
    "topic_df[topic_df.unique_probs>1].max_prob.value_counts().plot(kind='bar', figsize=(18,7), ax=ax)\n",
    "ax.set_xlabel('Topics')\n",
    "ax.set_title('Distribution of Topic Membership')\n",
    "plt.savefig('/Users/divyasusarla/Desktop/DSI-SF-2-divyasusarla/Capstone/LDA_analysis/redtopics_dist.jpeg', bbox_inches='tight')"
   ]
  },
  {
   "cell_type": "code",
   "execution_count": 25,
   "metadata": {
    "collapsed": false
   },
   "outputs": [
    {
     "name": "stderr",
     "output_type": "stream",
     "text": [
      "/anaconda/envs/dsi/lib/python2.7/site-packages/ipykernel/__main__.py:15: FutureWarning: sort(columns=....) is deprecated, use sort_values(by=.....)\n"
     ]
    },
    {
     "data": {
      "text/html": [
       "<div>\n",
       "<table border=\"1\" class=\"dataframe\">\n",
       "  <thead>\n",
       "    <tr style=\"text-align: right;\">\n",
       "      <th></th>\n",
       "      <th>tokens</th>\n",
       "      <th>count</th>\n",
       "    </tr>\n",
       "  </thead>\n",
       "  <tbody>\n",
       "    <tr>\n",
       "      <th>0</th>\n",
       "      <td>barnyard lifted</td>\n",
       "      <td>48.0</td>\n",
       "    </tr>\n",
       "    <tr>\n",
       "      <th>1</th>\n",
       "      <td>fizzy opened</td>\n",
       "      <td>42.0</td>\n",
       "    </tr>\n",
       "    <tr>\n",
       "      <th>2</th>\n",
       "      <td>world rioja</td>\n",
       "      <td>39.0</td>\n",
       "    </tr>\n",
       "    <tr>\n",
       "      <th>3</th>\n",
       "      <td>raspberries blackberry</td>\n",
       "      <td>34.0</td>\n",
       "    </tr>\n",
       "    <tr>\n",
       "      <th>4</th>\n",
       "      <td>sure flagged</td>\n",
       "      <td>34.0</td>\n",
       "    </tr>\n",
       "    <tr>\n",
       "      <th>5</th>\n",
       "      <td>orange raspberry</td>\n",
       "      <td>34.0</td>\n",
       "    </tr>\n",
       "    <tr>\n",
       "      <th>6</th>\n",
       "      <td>skinned seeds</td>\n",
       "      <td>30.0</td>\n",
       "    </tr>\n",
       "    <tr>\n",
       "      <th>7</th>\n",
       "      <td>euro killer</td>\n",
       "      <td>28.0</td>\n",
       "    </tr>\n",
       "    <tr>\n",
       "      <th>8</th>\n",
       "      <td>vanilla hint</td>\n",
       "      <td>28.0</td>\n",
       "    </tr>\n",
       "    <tr>\n",
       "      <th>9</th>\n",
       "      <td>bottles long</td>\n",
       "      <td>26.0</td>\n",
       "    </tr>\n",
       "  </tbody>\n",
       "</table>\n",
       "</div>"
      ],
      "text/plain": [
       "                   tokens  count\n",
       "0         barnyard lifted   48.0\n",
       "1            fizzy opened   42.0\n",
       "2             world rioja   39.0\n",
       "3  raspberries blackberry   34.0\n",
       "4            sure flagged   34.0\n",
       "5        orange raspberry   34.0\n",
       "6           skinned seeds   30.0\n",
       "7             euro killer   28.0\n",
       "8            vanilla hint   28.0\n",
       "9            bottles long   26.0"
      ]
     },
     "execution_count": 25,
     "metadata": {},
     "output_type": "execute_result"
    }
   ],
   "source": [
    "# docs topics are the documents in the topic paramter\n",
    "docs_topics = get_documents_by_topic('t15', .65)\n",
    "\n",
    "# get df of top word counts by df\n",
    "get_top_feature_counts(docs_topics, limit = 10)"
   ]
  },
  {
   "cell_type": "markdown",
   "metadata": {
    "collapsed": true
   },
   "source": [
    "# Create Data Frame of topic probabilities and the reviews"
   ]
  },
  {
   "cell_type": "code",
   "execution_count": 26,
   "metadata": {
    "collapsed": false
   },
   "outputs": [
    {
     "data": {
      "text/html": [
       "<div>\n",
       "<table border=\"1\" class=\"dataframe\">\n",
       "  <thead>\n",
       "    <tr style=\"text-align: right;\">\n",
       "      <th></th>\n",
       "      <th>review_index</th>\n",
       "      <th>red_wine</th>\n",
       "      <th>red_user</th>\n",
       "      <th>red_review</th>\n",
       "      <th>t1</th>\n",
       "      <th>t2</th>\n",
       "      <th>t3</th>\n",
       "      <th>t4</th>\n",
       "      <th>t5</th>\n",
       "      <th>t6</th>\n",
       "      <th>...</th>\n",
       "      <th>t18</th>\n",
       "      <th>t19</th>\n",
       "      <th>t20</th>\n",
       "      <th>t21</th>\n",
       "      <th>t22</th>\n",
       "      <th>t23</th>\n",
       "      <th>t24</th>\n",
       "      <th>t25</th>\n",
       "      <th>max_prob</th>\n",
       "      <th>unique_probs</th>\n",
       "    </tr>\n",
       "  </thead>\n",
       "  <tbody>\n",
       "    <tr>\n",
       "      <th>0</th>\n",
       "      <td>0.0</td>\n",
       "      <td>La Sangre de Jonata 2006</td>\n",
       "      <td>Eric Mansell</td>\n",
       "      <td>Great Syrah. Inky purple. I prefer a bit dryer...</td>\n",
       "      <td>0.00</td>\n",
       "      <td>0.00</td>\n",
       "      <td>0.00</td>\n",
       "      <td>0.00</td>\n",
       "      <td>0.00</td>\n",
       "      <td>0.00</td>\n",
       "      <td>...</td>\n",
       "      <td>0.00</td>\n",
       "      <td>0.00</td>\n",
       "      <td>0.00</td>\n",
       "      <td>0.00</td>\n",
       "      <td>0.00</td>\n",
       "      <td>0.00</td>\n",
       "      <td>0.00</td>\n",
       "      <td>0.000000</td>\n",
       "      <td>t7</td>\n",
       "      <td>3.0</td>\n",
       "    </tr>\n",
       "    <tr>\n",
       "      <th>1</th>\n",
       "      <td>1.0</td>\n",
       "      <td>La Sangre de Jonata 2006</td>\n",
       "      <td>\"Levora\"</td>\n",
       "      <td>Jonata is referred to as\"blood Syrah\" for its ...</td>\n",
       "      <td>0.00</td>\n",
       "      <td>0.00</td>\n",
       "      <td>0.00</td>\n",
       "      <td>0.00</td>\n",
       "      <td>0.00</td>\n",
       "      <td>0.00</td>\n",
       "      <td>...</td>\n",
       "      <td>0.00</td>\n",
       "      <td>0.00</td>\n",
       "      <td>0.00</td>\n",
       "      <td>0.00</td>\n",
       "      <td>0.00</td>\n",
       "      <td>0.00</td>\n",
       "      <td>0.00</td>\n",
       "      <td>0.115556</td>\n",
       "      <td>t11</td>\n",
       "      <td>3.0</td>\n",
       "    </tr>\n",
       "    <tr>\n",
       "      <th>2</th>\n",
       "      <td>2.0</td>\n",
       "      <td>La Sangre de Jonata 2006</td>\n",
       "      <td>Eric Mansell</td>\n",
       "      <td>I wasn't searching for THE Syrah, but boom, I ...</td>\n",
       "      <td>0.00</td>\n",
       "      <td>0.00</td>\n",
       "      <td>0.00</td>\n",
       "      <td>0.00</td>\n",
       "      <td>0.26</td>\n",
       "      <td>0.00</td>\n",
       "      <td>...</td>\n",
       "      <td>0.00</td>\n",
       "      <td>0.00</td>\n",
       "      <td>0.00</td>\n",
       "      <td>0.00</td>\n",
       "      <td>0.00</td>\n",
       "      <td>0.26</td>\n",
       "      <td>0.26</td>\n",
       "      <td>0.000000</td>\n",
       "      <td>t23</td>\n",
       "      <td>5.0</td>\n",
       "    </tr>\n",
       "    <tr>\n",
       "      <th>3</th>\n",
       "      <td>3.0</td>\n",
       "      <td>La Sangre de Jonata 2006</td>\n",
       "      <td>Dan Bodeker</td>\n",
       "      <td>Paired with filet mignon. Incredible.</td>\n",
       "      <td>0.02</td>\n",
       "      <td>0.02</td>\n",
       "      <td>0.02</td>\n",
       "      <td>0.02</td>\n",
       "      <td>0.02</td>\n",
       "      <td>0.52</td>\n",
       "      <td>...</td>\n",
       "      <td>0.02</td>\n",
       "      <td>0.02</td>\n",
       "      <td>0.02</td>\n",
       "      <td>0.02</td>\n",
       "      <td>0.02</td>\n",
       "      <td>0.02</td>\n",
       "      <td>0.02</td>\n",
       "      <td>0.020000</td>\n",
       "      <td>t6</td>\n",
       "      <td>2.0</td>\n",
       "    </tr>\n",
       "    <tr>\n",
       "      <th>4</th>\n",
       "      <td>4.0</td>\n",
       "      <td>La Sangre de Jonata 2006</td>\n",
       "      <td>Chado H</td>\n",
       "      <td>Very smooth and mellow.</td>\n",
       "      <td>0.02</td>\n",
       "      <td>0.02</td>\n",
       "      <td>0.52</td>\n",
       "      <td>0.02</td>\n",
       "      <td>0.02</td>\n",
       "      <td>0.02</td>\n",
       "      <td>...</td>\n",
       "      <td>0.02</td>\n",
       "      <td>0.02</td>\n",
       "      <td>0.02</td>\n",
       "      <td>0.02</td>\n",
       "      <td>0.02</td>\n",
       "      <td>0.02</td>\n",
       "      <td>0.02</td>\n",
       "      <td>0.020000</td>\n",
       "      <td>t3</td>\n",
       "      <td>2.0</td>\n",
       "    </tr>\n",
       "  </tbody>\n",
       "</table>\n",
       "<p>5 rows × 31 columns</p>\n",
       "</div>"
      ],
      "text/plain": [
       "   review_index                  red_wine      red_user  \\\n",
       "0           0.0  La Sangre de Jonata 2006  Eric Mansell   \n",
       "1           1.0  La Sangre de Jonata 2006      \"Levora\"   \n",
       "2           2.0  La Sangre de Jonata 2006  Eric Mansell   \n",
       "3           3.0  La Sangre de Jonata 2006   Dan Bodeker   \n",
       "4           4.0  La Sangre de Jonata 2006       Chado H   \n",
       "\n",
       "                                          red_review    t1    t2    t3    t4  \\\n",
       "0  Great Syrah. Inky purple. I prefer a bit dryer...  0.00  0.00  0.00  0.00   \n",
       "1  Jonata is referred to as\"blood Syrah\" for its ...  0.00  0.00  0.00  0.00   \n",
       "2  I wasn't searching for THE Syrah, but boom, I ...  0.00  0.00  0.00  0.00   \n",
       "3              Paired with filet mignon. Incredible.  0.02  0.02  0.02  0.02   \n",
       "4                            Very smooth and mellow.  0.02  0.02  0.52  0.02   \n",
       "\n",
       "     t5    t6      ...        t18   t19   t20   t21   t22   t23   t24  \\\n",
       "0  0.00  0.00      ...       0.00  0.00  0.00  0.00  0.00  0.00  0.00   \n",
       "1  0.00  0.00      ...       0.00  0.00  0.00  0.00  0.00  0.00  0.00   \n",
       "2  0.26  0.00      ...       0.00  0.00  0.00  0.00  0.00  0.26  0.26   \n",
       "3  0.02  0.52      ...       0.02  0.02  0.02  0.02  0.02  0.02  0.02   \n",
       "4  0.02  0.02      ...       0.02  0.02  0.02  0.02  0.02  0.02  0.02   \n",
       "\n",
       "        t25  max_prob  unique_probs  \n",
       "0  0.000000        t7           3.0  \n",
       "1  0.115556       t11           3.0  \n",
       "2  0.000000       t23           5.0  \n",
       "3  0.020000        t6           2.0  \n",
       "4  0.020000        t3           2.0  \n",
       "\n",
       "[5 rows x 31 columns]"
      ]
     },
     "execution_count": 26,
     "metadata": {},
     "output_type": "execute_result"
    }
   ],
   "source": [
    "redwines_topics = pd.concat((red_clean, topic_df), axis=1)\n",
    "redwines_topics.head()"
   ]
  },
  {
   "cell_type": "code",
   "execution_count": 27,
   "metadata": {
    "collapsed": true
   },
   "outputs": [],
   "source": [
    "red_details = pd.read_csv('/Users/divyasusarla/Desktop/DSI-SF-2-divyasusarla/Capstone/Clean_Data/red_wine_details_clean.csv', encoding='utf-8')"
   ]
  },
  {
   "cell_type": "code",
   "execution_count": 28,
   "metadata": {
    "collapsed": false
   },
   "outputs": [
    {
     "data": {
      "text/html": [
       "<div>\n",
       "<table border=\"1\" class=\"dataframe\">\n",
       "  <thead>\n",
       "    <tr style=\"text-align: right;\">\n",
       "      <th></th>\n",
       "      <th>wine_index</th>\n",
       "      <th>redwine</th>\n",
       "      <th>red_wineries</th>\n",
       "      <th>red_regions</th>\n",
       "      <th>red_countries</th>\n",
       "      <th>red_avg_wine_ratings</th>\n",
       "      <th>red_avg_price</th>\n",
       "      <th>vintage_year</th>\n",
       "    </tr>\n",
       "  </thead>\n",
       "  <tbody>\n",
       "    <tr>\n",
       "      <th>0</th>\n",
       "      <td>0</td>\n",
       "      <td>La T\\xe2che 1999</td>\n",
       "      <td>Domaine de la Roman\\xe9e-Conti</td>\n",
       "      <td>C\\xf4te de Nuits</td>\n",
       "      <td>France</td>\n",
       "      <td>4.9</td>\n",
       "      <td>4894.99</td>\n",
       "      <td>1999.0</td>\n",
       "    </tr>\n",
       "    <tr>\n",
       "      <th>1</th>\n",
       "      <td>1</td>\n",
       "      <td>Richebourg 2006</td>\n",
       "      <td>Domaine de la Roman\\xe9e-Conti</td>\n",
       "      <td>C\\xf4te de Nuits</td>\n",
       "      <td>France</td>\n",
       "      <td>4.9</td>\n",
       "      <td>1699.98</td>\n",
       "      <td>2006.0</td>\n",
       "    </tr>\n",
       "    <tr>\n",
       "      <th>2</th>\n",
       "      <td>2</td>\n",
       "      <td>Pessac-Leognan Premier Grand Cru Class\\xe9 1961</td>\n",
       "      <td>Ch\\xe2teau Haut-Brion</td>\n",
       "      <td>Pessac-Leognan</td>\n",
       "      <td>France</td>\n",
       "      <td>4.9</td>\n",
       "      <td>4146.94</td>\n",
       "      <td>1961.0</td>\n",
       "    </tr>\n",
       "    <tr>\n",
       "      <th>3</th>\n",
       "      <td>3</td>\n",
       "      <td>Roman\\xe9e-Conti 2011</td>\n",
       "      <td>Domaine de la Roman\\xe9e-Conti</td>\n",
       "      <td>C\\xf4te de Nuits</td>\n",
       "      <td>France</td>\n",
       "      <td>4.8</td>\n",
       "      <td>11850.00</td>\n",
       "      <td>2011.0</td>\n",
       "    </tr>\n",
       "    <tr>\n",
       "      <th>4</th>\n",
       "      <td>4</td>\n",
       "      <td>C\\xf4te-R\\xf4tie La Mouline  1999</td>\n",
       "      <td>E. Guigal</td>\n",
       "      <td>Northern Rh\\xf4ne</td>\n",
       "      <td>France</td>\n",
       "      <td>4.8</td>\n",
       "      <td>698.99</td>\n",
       "      <td>1999.0</td>\n",
       "    </tr>\n",
       "  </tbody>\n",
       "</table>\n",
       "</div>"
      ],
      "text/plain": [
       "   wine_index                                          redwine  \\\n",
       "0           0                                 La T\\xe2che 1999   \n",
       "1           1                                  Richebourg 2006   \n",
       "2           2  Pessac-Leognan Premier Grand Cru Class\\xe9 1961   \n",
       "3           3                            Roman\\xe9e-Conti 2011   \n",
       "4           4                C\\xf4te-R\\xf4tie La Mouline  1999   \n",
       "\n",
       "                     red_wineries        red_regions red_countries  \\\n",
       "0  Domaine de la Roman\\xe9e-Conti   C\\xf4te de Nuits        France   \n",
       "1  Domaine de la Roman\\xe9e-Conti   C\\xf4te de Nuits        France   \n",
       "2           Ch\\xe2teau Haut-Brion     Pessac-Leognan        France   \n",
       "3  Domaine de la Roman\\xe9e-Conti   C\\xf4te de Nuits        France   \n",
       "4                       E. Guigal  Northern Rh\\xf4ne        France   \n",
       "\n",
       "   red_avg_wine_ratings  red_avg_price  vintage_year  \n",
       "0                   4.9        4894.99        1999.0  \n",
       "1                   4.9        1699.98        2006.0  \n",
       "2                   4.9        4146.94        1961.0  \n",
       "3                   4.8       11850.00        2011.0  \n",
       "4                   4.8         698.99        1999.0  "
      ]
     },
     "execution_count": 28,
     "metadata": {},
     "output_type": "execute_result"
    }
   ],
   "source": [
    "del red_details['Unnamed: 0']\n",
    "red_details.head()"
   ]
  },
  {
   "cell_type": "code",
   "execution_count": 29,
   "metadata": {
    "collapsed": false
   },
   "outputs": [
    {
     "data": {
      "text/plain": [
       "array([    0,     1,     2, ..., 11507, 11508, 11509])"
      ]
     },
     "execution_count": 29,
     "metadata": {},
     "output_type": "execute_result"
    }
   ],
   "source": [
    "red_details.wine_index.unique()"
   ]
  },
  {
   "cell_type": "code",
   "execution_count": 30,
   "metadata": {
    "collapsed": true
   },
   "outputs": [],
   "source": [
    "red_details.rename(columns={'redwine': 'red_wine'}, inplace=True)"
   ]
  },
  {
   "cell_type": "code",
   "execution_count": 31,
   "metadata": {
    "collapsed": false,
    "scrolled": true
   },
   "outputs": [
    {
     "data": {
      "text/plain": [
       "11510"
      ]
     },
     "execution_count": 31,
     "metadata": {},
     "output_type": "execute_result"
    }
   ],
   "source": [
    "red_details.red_wine.value_counts().sum()"
   ]
  },
  {
   "cell_type": "code",
   "execution_count": 32,
   "metadata": {
    "collapsed": false
   },
   "outputs": [
    {
     "name": "stdout",
     "output_type": "stream",
     "text": [
      "(11510, 8) (87902, 31)\n"
     ]
    }
   ],
   "source": [
    "print red_details.shape, redwines_topics.shape"
   ]
  },
  {
   "cell_type": "code",
   "execution_count": 33,
   "metadata": {
    "collapsed": false
   },
   "outputs": [
    {
     "name": "stdout",
     "output_type": "stream",
     "text": [
      "7263\n",
      "3504\n"
     ]
    }
   ],
   "source": [
    "print len(red_details.red_wine.unique())\n",
    "print len(redwines_topics.red_wine.unique())"
   ]
  },
  {
   "cell_type": "code",
   "execution_count": 34,
   "metadata": {
    "collapsed": false
   },
   "outputs": [],
   "source": [
    "wine_name_counts = red_details.red_wine.value_counts().reset_index()\n",
    "wine_name_counts.columns = ['red_wine','label_count']"
   ]
  },
  {
   "cell_type": "code",
   "execution_count": 35,
   "metadata": {
    "collapsed": false
   },
   "outputs": [
    {
     "data": {
      "text/plain": [
       "(5084, 8)"
      ]
     },
     "execution_count": 35,
     "metadata": {},
     "output_type": "execute_result"
    }
   ],
   "source": [
    "red_details[red_details.red_wine.isin(wine_name_counts[wine_name_counts.label_count == 1].red_wine)].shape"
   ]
  },
  {
   "cell_type": "code",
   "execution_count": 36,
   "metadata": {
    "collapsed": true
   },
   "outputs": [],
   "source": [
    "unique_red_details = red_details[red_details.red_wine.isin(wine_name_counts[wine_name_counts.label_count == 1].red_wine)]"
   ]
  },
  {
   "cell_type": "code",
   "execution_count": 37,
   "metadata": {
    "collapsed": false
   },
   "outputs": [
    {
     "data": {
      "text/plain": [
       "(32933, 38)"
      ]
     },
     "execution_count": 37,
     "metadata": {},
     "output_type": "execute_result"
    }
   ],
   "source": [
    "red_df = pd.merge(unique_red_details, redwines_topics, on='red_wine')\n",
    "red_df.shape"
   ]
  },
  {
   "cell_type": "code",
   "execution_count": 38,
   "metadata": {
    "collapsed": false,
    "scrolled": true
   },
   "outputs": [
    {
     "data": {
      "text/html": [
       "<div>\n",
       "<table border=\"1\" class=\"dataframe\">\n",
       "  <thead>\n",
       "    <tr style=\"text-align: right;\">\n",
       "      <th></th>\n",
       "      <th>wine_index</th>\n",
       "      <th>red_wine</th>\n",
       "      <th>red_wineries</th>\n",
       "      <th>red_regions</th>\n",
       "      <th>red_countries</th>\n",
       "      <th>red_avg_wine_ratings</th>\n",
       "      <th>red_avg_price</th>\n",
       "      <th>vintage_year</th>\n",
       "      <th>review_index</th>\n",
       "      <th>red_user</th>\n",
       "      <th>...</th>\n",
       "      <th>t18</th>\n",
       "      <th>t19</th>\n",
       "      <th>t20</th>\n",
       "      <th>t21</th>\n",
       "      <th>t22</th>\n",
       "      <th>t23</th>\n",
       "      <th>t24</th>\n",
       "      <th>t25</th>\n",
       "      <th>max_prob</th>\n",
       "      <th>unique_probs</th>\n",
       "    </tr>\n",
       "  </thead>\n",
       "  <tbody>\n",
       "    <tr>\n",
       "      <th>0</th>\n",
       "      <td>71</td>\n",
       "      <td>Pomerol 1997</td>\n",
       "      <td>P\\xe9trus</td>\n",
       "      <td>Pomerol</td>\n",
       "      <td>France</td>\n",
       "      <td>4.8</td>\n",
       "      <td>1874.99</td>\n",
       "      <td>1997.0</td>\n",
       "      <td>0.0</td>\n",
       "      <td>Nudge Stratford</td>\n",
       "      <td>...</td>\n",
       "      <td>0.000000</td>\n",
       "      <td>0.156923</td>\n",
       "      <td>0.000000</td>\n",
       "      <td>0.08</td>\n",
       "      <td>0.080000</td>\n",
       "      <td>0.08</td>\n",
       "      <td>0.080000</td>\n",
       "      <td>0.156923</td>\n",
       "      <td>t25</td>\n",
       "      <td>11.0</td>\n",
       "    </tr>\n",
       "    <tr>\n",
       "      <th>1</th>\n",
       "      <td>71</td>\n",
       "      <td>Pomerol 1997</td>\n",
       "      <td>P\\xe9trus</td>\n",
       "      <td>Pomerol</td>\n",
       "      <td>France</td>\n",
       "      <td>4.8</td>\n",
       "      <td>1874.99</td>\n",
       "      <td>1997.0</td>\n",
       "      <td>1.0</td>\n",
       "      <td>Pastore Serafino</td>\n",
       "      <td>...</td>\n",
       "      <td>0.276364</td>\n",
       "      <td>0.000000</td>\n",
       "      <td>0.000000</td>\n",
       "      <td>0.00</td>\n",
       "      <td>0.276364</td>\n",
       "      <td>0.00</td>\n",
       "      <td>0.000000</td>\n",
       "      <td>0.000000</td>\n",
       "      <td>t18</td>\n",
       "      <td>7.0</td>\n",
       "    </tr>\n",
       "    <tr>\n",
       "      <th>2</th>\n",
       "      <td>71</td>\n",
       "      <td>Pomerol 1997</td>\n",
       "      <td>P\\xe9trus</td>\n",
       "      <td>Pomerol</td>\n",
       "      <td>France</td>\n",
       "      <td>4.8</td>\n",
       "      <td>1874.99</td>\n",
       "      <td>1997.0</td>\n",
       "      <td>2.0</td>\n",
       "      <td>Max@Berry Bros. &amp; Rudd</td>\n",
       "      <td>...</td>\n",
       "      <td>0.000000</td>\n",
       "      <td>0.000000</td>\n",
       "      <td>0.148571</td>\n",
       "      <td>0.00</td>\n",
       "      <td>0.000000</td>\n",
       "      <td>0.00</td>\n",
       "      <td>0.000000</td>\n",
       "      <td>0.000000</td>\n",
       "      <td>t4</td>\n",
       "      <td>5.0</td>\n",
       "    </tr>\n",
       "    <tr>\n",
       "      <th>3</th>\n",
       "      <td>71</td>\n",
       "      <td>Pomerol 1997</td>\n",
       "      <td>P\\xe9trus</td>\n",
       "      <td>Pomerol</td>\n",
       "      <td>France</td>\n",
       "      <td>4.8</td>\n",
       "      <td>1874.99</td>\n",
       "      <td>1997.0</td>\n",
       "      <td>3.0</td>\n",
       "      <td>Max@Berry Bros. &amp; Rudd</td>\n",
       "      <td>...</td>\n",
       "      <td>0.040000</td>\n",
       "      <td>0.040000</td>\n",
       "      <td>0.040000</td>\n",
       "      <td>0.04</td>\n",
       "      <td>0.040000</td>\n",
       "      <td>0.04</td>\n",
       "      <td>0.040000</td>\n",
       "      <td>0.040000</td>\n",
       "      <td>t1</td>\n",
       "      <td>1.0</td>\n",
       "    </tr>\n",
       "    <tr>\n",
       "      <th>4</th>\n",
       "      <td>71</td>\n",
       "      <td>Pomerol 1997</td>\n",
       "      <td>P\\xe9trus</td>\n",
       "      <td>Pomerol</td>\n",
       "      <td>France</td>\n",
       "      <td>4.8</td>\n",
       "      <td>1874.99</td>\n",
       "      <td>1997.0</td>\n",
       "      <td>4.0</td>\n",
       "      <td>Nudge Stratford</td>\n",
       "      <td>...</td>\n",
       "      <td>0.000000</td>\n",
       "      <td>0.000000</td>\n",
       "      <td>0.000000</td>\n",
       "      <td>0.00</td>\n",
       "      <td>0.000000</td>\n",
       "      <td>0.00</td>\n",
       "      <td>0.173333</td>\n",
       "      <td>0.000000</td>\n",
       "      <td>t3</td>\n",
       "      <td>5.0</td>\n",
       "    </tr>\n",
       "  </tbody>\n",
       "</table>\n",
       "<p>5 rows × 38 columns</p>\n",
       "</div>"
      ],
      "text/plain": [
       "   wine_index      red_wine red_wineries red_regions red_countries  \\\n",
       "0          71  Pomerol 1997    P\\xe9trus     Pomerol        France   \n",
       "1          71  Pomerol 1997    P\\xe9trus     Pomerol        France   \n",
       "2          71  Pomerol 1997    P\\xe9trus     Pomerol        France   \n",
       "3          71  Pomerol 1997    P\\xe9trus     Pomerol        France   \n",
       "4          71  Pomerol 1997    P\\xe9trus     Pomerol        France   \n",
       "\n",
       "   red_avg_wine_ratings  red_avg_price  vintage_year  review_index  \\\n",
       "0                   4.8        1874.99        1997.0           0.0   \n",
       "1                   4.8        1874.99        1997.0           1.0   \n",
       "2                   4.8        1874.99        1997.0           2.0   \n",
       "3                   4.8        1874.99        1997.0           3.0   \n",
       "4                   4.8        1874.99        1997.0           4.0   \n",
       "\n",
       "                 red_user      ...            t18       t19       t20   t21  \\\n",
       "0         Nudge Stratford      ...       0.000000  0.156923  0.000000  0.08   \n",
       "1        Pastore Serafino      ...       0.276364  0.000000  0.000000  0.00   \n",
       "2  Max@Berry Bros. & Rudd      ...       0.000000  0.000000  0.148571  0.00   \n",
       "3  Max@Berry Bros. & Rudd      ...       0.040000  0.040000  0.040000  0.04   \n",
       "4         Nudge Stratford      ...       0.000000  0.000000  0.000000  0.00   \n",
       "\n",
       "        t22   t23       t24       t25  max_prob  unique_probs  \n",
       "0  0.080000  0.08  0.080000  0.156923       t25          11.0  \n",
       "1  0.276364  0.00  0.000000  0.000000       t18           7.0  \n",
       "2  0.000000  0.00  0.000000  0.000000        t4           5.0  \n",
       "3  0.040000  0.04  0.040000  0.040000        t1           1.0  \n",
       "4  0.000000  0.00  0.173333  0.000000        t3           5.0  \n",
       "\n",
       "[5 rows x 38 columns]"
      ]
     },
     "execution_count": 38,
     "metadata": {},
     "output_type": "execute_result"
    }
   ],
   "source": [
    "red_df.head()"
   ]
  },
  {
   "cell_type": "code",
   "execution_count": 39,
   "metadata": {
    "collapsed": false
   },
   "outputs": [
    {
     "data": {
      "text/plain": [
       "32933"
      ]
     },
     "execution_count": 39,
     "metadata": {},
     "output_type": "execute_result"
    }
   ],
   "source": [
    "red_df.wine_index.count()"
   ]
  },
  {
   "cell_type": "code",
   "execution_count": 40,
   "metadata": {
    "collapsed": false
   },
   "outputs": [],
   "source": [
    "red_df.to_csv(path_or_buf='/Users/divyasusarla/Desktop/DSI-SF-2-divyasusarla/Capstone/LDA_analysis/red_formodel.csv', encoding='utf8')"
   ]
  },
  {
   "cell_type": "code",
   "execution_count": null,
   "metadata": {
    "collapsed": true
   },
   "outputs": [],
   "source": []
  }
 ],
 "metadata": {
  "anaconda-cloud": {},
  "kernelspec": {
   "display_name": "Python [dsi]",
   "language": "python",
   "name": "Python [dsi]"
  },
  "language_info": {
   "codemirror_mode": {
    "name": "ipython",
    "version": 2
   },
   "file_extension": ".py",
   "mimetype": "text/x-python",
   "name": "python",
   "nbconvert_exporter": "python",
   "pygments_lexer": "ipython2",
   "version": "2.7.12"
  }
 },
 "nbformat": 4,
 "nbformat_minor": 0
}
