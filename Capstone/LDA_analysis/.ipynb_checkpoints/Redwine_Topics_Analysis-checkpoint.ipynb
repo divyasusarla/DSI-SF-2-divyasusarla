{
 "cells": [
  {
   "cell_type": "code",
   "execution_count": 2,
   "metadata": {
    "collapsed": true
   },
   "outputs": [],
   "source": [
    "import pandas as pd\n",
    "import numpy as np\n",
    "import seaborn as sns\n",
    "import matplotlib.pyplot as plt\n",
    "\n",
    "%matplotlib inline\n",
    "plt.style.use('fivethirtyeight')"
   ]
  },
  {
   "cell_type": "markdown",
   "metadata": {},
   "source": [
    "# Analysis w/ LDA topics of 500 most common 2-gram words:"
   ]
  },
  {
   "cell_type": "code",
   "execution_count": 69,
   "metadata": {
    "collapsed": false,
    "scrolled": true
   },
   "outputs": [],
   "source": [
    "redtopics = pd.read_csv('/Users/divyasusarla/Desktop/DSI-SF-2-divyasusarla/Capstone/LDA_analysis/redwinetopics.csv')"
   ]
  },
  {
   "cell_type": "code",
   "execution_count": 70,
   "metadata": {
    "collapsed": false
   },
   "outputs": [
    {
     "data": {
      "text/html": [
       "<div>\n",
       "<table border=\"1\" class=\"dataframe\">\n",
       "  <thead>\n",
       "    <tr style=\"text-align: right;\">\n",
       "      <th></th>\n",
       "      <th>document_id</th>\n",
       "      <th>t1</th>\n",
       "      <th>t2</th>\n",
       "      <th>t3</th>\n",
       "      <th>t4</th>\n",
       "      <th>t5</th>\n",
       "      <th>t6</th>\n",
       "      <th>t7</th>\n",
       "      <th>t8</th>\n",
       "      <th>t9</th>\n",
       "      <th>t10</th>\n",
       "    </tr>\n",
       "  </thead>\n",
       "  <tbody>\n",
       "    <tr>\n",
       "      <th>0</th>\n",
       "      <td>0</td>\n",
       "      <td>0.100000</td>\n",
       "      <td>0.100000</td>\n",
       "      <td>0.100000</td>\n",
       "      <td>0.100000</td>\n",
       "      <td>0.100000</td>\n",
       "      <td>0.100000</td>\n",
       "      <td>0.100000</td>\n",
       "      <td>0.100000</td>\n",
       "      <td>0.100000</td>\n",
       "      <td>0.100000</td>\n",
       "    </tr>\n",
       "    <tr>\n",
       "      <th>1</th>\n",
       "      <td>1</td>\n",
       "      <td>0.020000</td>\n",
       "      <td>0.020000</td>\n",
       "      <td>0.020000</td>\n",
       "      <td>0.020000</td>\n",
       "      <td>0.020000</td>\n",
       "      <td>0.020000</td>\n",
       "      <td>0.220000</td>\n",
       "      <td>0.020000</td>\n",
       "      <td>0.020000</td>\n",
       "      <td>0.620000</td>\n",
       "    </tr>\n",
       "    <tr>\n",
       "      <th>2</th>\n",
       "      <td>2</td>\n",
       "      <td>0.033333</td>\n",
       "      <td>0.033335</td>\n",
       "      <td>0.033333</td>\n",
       "      <td>0.033333</td>\n",
       "      <td>0.033333</td>\n",
       "      <td>0.033333</td>\n",
       "      <td>0.033333</td>\n",
       "      <td>0.033333</td>\n",
       "      <td>0.033333</td>\n",
       "      <td>0.699998</td>\n",
       "    </tr>\n",
       "    <tr>\n",
       "      <th>3</th>\n",
       "      <td>3</td>\n",
       "      <td>0.100000</td>\n",
       "      <td>0.100000</td>\n",
       "      <td>0.100000</td>\n",
       "      <td>0.100000</td>\n",
       "      <td>0.100000</td>\n",
       "      <td>0.100000</td>\n",
       "      <td>0.100000</td>\n",
       "      <td>0.100000</td>\n",
       "      <td>0.100000</td>\n",
       "      <td>0.100000</td>\n",
       "    </tr>\n",
       "    <tr>\n",
       "      <th>4</th>\n",
       "      <td>4</td>\n",
       "      <td>0.100000</td>\n",
       "      <td>0.100000</td>\n",
       "      <td>0.100000</td>\n",
       "      <td>0.100000</td>\n",
       "      <td>0.100000</td>\n",
       "      <td>0.100000</td>\n",
       "      <td>0.100000</td>\n",
       "      <td>0.100000</td>\n",
       "      <td>0.100000</td>\n",
       "      <td>0.100000</td>\n",
       "    </tr>\n",
       "  </tbody>\n",
       "</table>\n",
       "</div>"
      ],
      "text/plain": [
       "   document_id        t1        t2        t3        t4        t5        t6  \\\n",
       "0            0  0.100000  0.100000  0.100000  0.100000  0.100000  0.100000   \n",
       "1            1  0.020000  0.020000  0.020000  0.020000  0.020000  0.020000   \n",
       "2            2  0.033333  0.033335  0.033333  0.033333  0.033333  0.033333   \n",
       "3            3  0.100000  0.100000  0.100000  0.100000  0.100000  0.100000   \n",
       "4            4  0.100000  0.100000  0.100000  0.100000  0.100000  0.100000   \n",
       "\n",
       "         t7        t8        t9       t10  \n",
       "0  0.100000  0.100000  0.100000  0.100000  \n",
       "1  0.220000  0.020000  0.020000  0.620000  \n",
       "2  0.033333  0.033333  0.033333  0.699998  \n",
       "3  0.100000  0.100000  0.100000  0.100000  \n",
       "4  0.100000  0.100000  0.100000  0.100000  "
      ]
     },
     "execution_count": 70,
     "metadata": {},
     "output_type": "execute_result"
    }
   ],
   "source": [
    "redtopics.rename(columns={'Unnamed: 0': 'document_id'}, inplace=True) \n",
    "redtopics.head()"
   ]
  },
  {
   "cell_type": "code",
   "execution_count": 109,
   "metadata": {
    "collapsed": false
   },
   "outputs": [
    {
     "data": {
      "text/plain": [
       "(87063, 13)"
      ]
     },
     "execution_count": 109,
     "metadata": {},
     "output_type": "execute_result"
    }
   ],
   "source": [
    "redtopics.shape"
   ]
  },
  {
   "cell_type": "code",
   "execution_count": 71,
   "metadata": {
    "collapsed": true
   },
   "outputs": [],
   "source": [
    "def correlation_heat_map(self):\n",
    "    corrs = redtopics.corr()\n",
    "\n",
    "    fig, ax = plt.subplots(figsize=(10, 8))\n",
    "\n",
    "    mask = np.zeros_like(corrs, dtype=np.bool)\n",
    "    mask[np.triu_indices_from(mask)] = True\n",
    "\n",
    "    ax = sns.heatmap(corrs, mask=mask)\n",
    "\n",
    "    ax.set_xticklabels(ax.xaxis.get_ticklabels(), fontsize=14, rotation=70)\n",
    "    ax.set_yticklabels(ax.yaxis.get_ticklabels(), fontsize=14, rotation=0)\n",
    "\n",
    "    plt.show()"
   ]
  },
  {
   "cell_type": "code",
   "execution_count": 72,
   "metadata": {
    "collapsed": false
   },
   "outputs": [
    {
     "data": {
      "image/png": "[encoded data removed]",
      "text/plain": [
       "<matplotlib.figure.Figure at 0x138bc3bd0>"
      ]
     },
     "metadata": {},
     "output_type": "display_data"
    }
   ],
   "source": [
    "correlation_heat_map(redtopics)"
   ]
  },
  {
   "cell_type": "code",
   "execution_count": 73,
   "metadata": {
    "collapsed": false
   },
   "outputs": [],
   "source": [
    "columns = ['t1','t2','t3','t4','t5','t6','t7','t8','t9','t10']\n",
    "redtopics['max_prob'] =  redtopics[columns].apply(np.max, axis=1)\n",
    "redtopics['sum_prob'] =  redtopics[columns].apply(np.sum, axis=1)"
   ]
  },
  {
   "cell_type": "code",
   "execution_count": 74,
   "metadata": {
    "collapsed": false
   },
   "outputs": [
    {
     "data": {
      "text/plain": [
       "<matplotlib.axes._subplots.AxesSubplot at 0x1386e1250>"
      ]
     },
     "execution_count": 74,
     "metadata": {},
     "output_type": "execute_result"
    },
    {
     "data": {
      "image/png": "[encoded data removed]",
      "text/plain": [
       "<matplotlib.figure.Figure at 0x138a98090>"
      ]
     },
     "metadata": {},
     "output_type": "display_data"
    }
   ],
   "source": [
    "redtopics['max_prob'].hist()"
   ]
  },
  {
   "cell_type": "code",
   "execution_count": 121,
   "metadata": {
    "collapsed": false
   },
   "outputs": [
    {
     "name": "stdout",
     "output_type": "stream",
     "text": [
      "Estimated number of clusters: 1\n"
     ]
    }
   ],
   "source": [
    "from sklearn.cluster import DBSCAN\n",
    "from sklearn.preprocessing import StandardScaler\n",
    "from sklearn import metrics\n",
    "\n",
    "X = redtopics[['t1','t2','t3','t4','t5','t6','t7','t8','t9', 't10']]\n",
    "X_n = StandardScaler().fit_transform(X)\n",
    "\n",
    "db = DBSCAN(eps=3, min_samples=20).fit(X_n)\n",
    "\n",
    "labels = db.labels_\n",
    "\n",
    "n_clusters_ = len(set(labels)) - (1 if -1 in labels else 0)\n",
    "\n",
    "print('Estimated number of clusters: %d' % n_clusters_)"
   ]
  },
  {
   "cell_type": "code",
   "execution_count": 87,
   "metadata": {
    "collapsed": false
   },
   "outputs": [
    {
     "data": {
      "text/plain": [
       "count    87063.000000\n",
       "mean         0.999924\n",
       "std          0.001685\n",
       "min          0.936364\n",
       "25%          1.000000\n",
       "50%          1.000000\n",
       "75%          1.000000\n",
       "max          1.000000\n",
       "Name: sum_prob, dtype: float64"
      ]
     },
     "execution_count": 87,
     "metadata": {},
     "output_type": "execute_result"
    }
   ],
   "source": [
    "redtopics.sum_prob.describe()"
   ]
  },
  {
   "cell_type": "markdown",
   "metadata": {},
   "source": [
    "# Analysis w/ LDA topics of 5000 most common 2-gram words:"
   ]
  },
  {
   "cell_type": "code",
   "execution_count": 91,
   "metadata": {
    "collapsed": true
   },
   "outputs": [],
   "source": [
    "redtopics_2 = pd.read_csv('/Users/divyasusarla/Desktop/DSI-SF-2-divyasusarla/Capstone/LDA_analysis/redwinetopics5000.csv')"
   ]
  },
  {
   "cell_type": "code",
   "execution_count": 92,
   "metadata": {
    "collapsed": false
   },
   "outputs": [
    {
     "data": {
      "text/html": [
       "<div>\n",
       "<table border=\"1\" class=\"dataframe\">\n",
       "  <thead>\n",
       "    <tr style=\"text-align: right;\">\n",
       "      <th></th>\n",
       "      <th>Unnamed: 0</th>\n",
       "      <th>t1</th>\n",
       "      <th>t2</th>\n",
       "      <th>t3</th>\n",
       "      <th>t4</th>\n",
       "      <th>t5</th>\n",
       "      <th>t6</th>\n",
       "      <th>t7</th>\n",
       "      <th>t8</th>\n",
       "      <th>t9</th>\n",
       "      <th>t10</th>\n",
       "    </tr>\n",
       "  </thead>\n",
       "  <tbody>\n",
       "    <tr>\n",
       "      <th>0</th>\n",
       "      <td>0</td>\n",
       "      <td>0.366668</td>\n",
       "      <td>0.033333</td>\n",
       "      <td>0.033333</td>\n",
       "      <td>0.033333</td>\n",
       "      <td>0.033333</td>\n",
       "      <td>0.033333</td>\n",
       "      <td>0.033333</td>\n",
       "      <td>0.033333</td>\n",
       "      <td>0.366665</td>\n",
       "      <td>0.033333</td>\n",
       "    </tr>\n",
       "    <tr>\n",
       "      <th>1</th>\n",
       "      <td>1</td>\n",
       "      <td>0.100092</td>\n",
       "      <td>0.108623</td>\n",
       "      <td>0.727647</td>\n",
       "      <td>NaN</td>\n",
       "      <td>NaN</td>\n",
       "      <td>NaN</td>\n",
       "      <td>NaN</td>\n",
       "      <td>NaN</td>\n",
       "      <td>NaN</td>\n",
       "      <td>NaN</td>\n",
       "    </tr>\n",
       "    <tr>\n",
       "      <th>2</th>\n",
       "      <td>2</td>\n",
       "      <td>0.025001</td>\n",
       "      <td>0.025000</td>\n",
       "      <td>0.329372</td>\n",
       "      <td>0.025001</td>\n",
       "      <td>0.470620</td>\n",
       "      <td>0.025001</td>\n",
       "      <td>0.025002</td>\n",
       "      <td>0.025000</td>\n",
       "      <td>0.025001</td>\n",
       "      <td>0.025002</td>\n",
       "    </tr>\n",
       "    <tr>\n",
       "      <th>3</th>\n",
       "      <td>3</td>\n",
       "      <td>0.050000</td>\n",
       "      <td>0.050000</td>\n",
       "      <td>0.050000</td>\n",
       "      <td>0.050000</td>\n",
       "      <td>0.550000</td>\n",
       "      <td>0.050000</td>\n",
       "      <td>0.050000</td>\n",
       "      <td>0.050000</td>\n",
       "      <td>0.050000</td>\n",
       "      <td>0.050000</td>\n",
       "    </tr>\n",
       "    <tr>\n",
       "      <th>4</th>\n",
       "      <td>4</td>\n",
       "      <td>0.050000</td>\n",
       "      <td>0.050000</td>\n",
       "      <td>0.050000</td>\n",
       "      <td>0.050000</td>\n",
       "      <td>0.050000</td>\n",
       "      <td>0.050000</td>\n",
       "      <td>0.050000</td>\n",
       "      <td>0.050000</td>\n",
       "      <td>0.050000</td>\n",
       "      <td>0.550000</td>\n",
       "    </tr>\n",
       "  </tbody>\n",
       "</table>\n",
       "</div>"
      ],
      "text/plain": [
       "   Unnamed: 0        t1        t2        t3        t4        t5        t6  \\\n",
       "0           0  0.366668  0.033333  0.033333  0.033333  0.033333  0.033333   \n",
       "1           1  0.100092  0.108623  0.727647       NaN       NaN       NaN   \n",
       "2           2  0.025001  0.025000  0.329372  0.025001  0.470620  0.025001   \n",
       "3           3  0.050000  0.050000  0.050000  0.050000  0.550000  0.050000   \n",
       "4           4  0.050000  0.050000  0.050000  0.050000  0.050000  0.050000   \n",
       "\n",
       "         t7        t8        t9       t10  \n",
       "0  0.033333  0.033333  0.366665  0.033333  \n",
       "1       NaN       NaN       NaN       NaN  \n",
       "2  0.025002  0.025000  0.025001  0.025002  \n",
       "3  0.050000  0.050000  0.050000  0.050000  \n",
       "4  0.050000  0.050000  0.050000  0.550000  "
      ]
     },
     "execution_count": 92,
     "metadata": {},
     "output_type": "execute_result"
    }
   ],
   "source": [
    "redtopics_2.head()"
   ]
  },
  {
   "cell_type": "code",
   "execution_count": 93,
   "metadata": {
    "collapsed": false,
    "scrolled": true
   },
   "outputs": [],
   "source": [
    "redtopics_2.fillna(0, inplace=True)"
   ]
  },
  {
   "cell_type": "code",
   "execution_count": 94,
   "metadata": {
    "collapsed": false
   },
   "outputs": [
    {
     "data": {
      "image/png": "[encoded data removed]",
      "text/plain": [
       "<matplotlib.figure.Figure at 0x1386f2dd0>"
      ]
     },
     "metadata": {},
     "output_type": "display_data"
    }
   ],
   "source": [
    "correlation_heat_map(redtopics_2)"
   ]
  },
  {
   "cell_type": "code",
   "execution_count": 95,
   "metadata": {
    "collapsed": false
   },
   "outputs": [],
   "source": [
    "columns = ['t1','t2','t3','t4','t5','t6','t7','t8','t9','t10']\n",
    "redtopics_2['sum_prob'] =  redtopics_2[columns].apply(np.sum, axis=1)\n",
    "redtopics_2['max_prob'] =  redtopics_2[columns].apply(np.max, axis=1)"
   ]
  },
  {
   "cell_type": "code",
   "execution_count": 96,
   "metadata": {
    "collapsed": false
   },
   "outputs": [
    {
     "data": {
      "text/html": [
       "<div>\n",
       "<table border=\"1\" class=\"dataframe\">\n",
       "  <thead>\n",
       "    <tr style=\"text-align: right;\">\n",
       "      <th></th>\n",
       "      <th>Unnamed: 0</th>\n",
       "      <th>t1</th>\n",
       "      <th>t2</th>\n",
       "      <th>t3</th>\n",
       "      <th>t4</th>\n",
       "      <th>t5</th>\n",
       "      <th>t6</th>\n",
       "      <th>t7</th>\n",
       "      <th>t8</th>\n",
       "      <th>t9</th>\n",
       "      <th>t10</th>\n",
       "      <th>sum_prob</th>\n",
       "      <th>max_prob</th>\n",
       "    </tr>\n",
       "  </thead>\n",
       "  <tbody>\n",
       "    <tr>\n",
       "      <th>0</th>\n",
       "      <td>0</td>\n",
       "      <td>0.366668</td>\n",
       "      <td>0.033333</td>\n",
       "      <td>0.033333</td>\n",
       "      <td>0.033333</td>\n",
       "      <td>0.033333</td>\n",
       "      <td>0.033333</td>\n",
       "      <td>0.033333</td>\n",
       "      <td>0.033333</td>\n",
       "      <td>0.366665</td>\n",
       "      <td>0.033333</td>\n",
       "      <td>1.000000</td>\n",
       "      <td>0.366668</td>\n",
       "    </tr>\n",
       "    <tr>\n",
       "      <th>1</th>\n",
       "      <td>1</td>\n",
       "      <td>0.100092</td>\n",
       "      <td>0.108623</td>\n",
       "      <td>0.727647</td>\n",
       "      <td>0.000000</td>\n",
       "      <td>0.000000</td>\n",
       "      <td>0.000000</td>\n",
       "      <td>0.000000</td>\n",
       "      <td>0.000000</td>\n",
       "      <td>0.000000</td>\n",
       "      <td>0.000000</td>\n",
       "      <td>0.936361</td>\n",
       "      <td>0.727647</td>\n",
       "    </tr>\n",
       "    <tr>\n",
       "      <th>2</th>\n",
       "      <td>2</td>\n",
       "      <td>0.025001</td>\n",
       "      <td>0.025000</td>\n",
       "      <td>0.329372</td>\n",
       "      <td>0.025001</td>\n",
       "      <td>0.470620</td>\n",
       "      <td>0.025001</td>\n",
       "      <td>0.025002</td>\n",
       "      <td>0.025000</td>\n",
       "      <td>0.025001</td>\n",
       "      <td>0.025002</td>\n",
       "      <td>1.000000</td>\n",
       "      <td>0.470620</td>\n",
       "    </tr>\n",
       "    <tr>\n",
       "      <th>3</th>\n",
       "      <td>3</td>\n",
       "      <td>0.050000</td>\n",
       "      <td>0.050000</td>\n",
       "      <td>0.050000</td>\n",
       "      <td>0.050000</td>\n",
       "      <td>0.550000</td>\n",
       "      <td>0.050000</td>\n",
       "      <td>0.050000</td>\n",
       "      <td>0.050000</td>\n",
       "      <td>0.050000</td>\n",
       "      <td>0.050000</td>\n",
       "      <td>1.000000</td>\n",
       "      <td>0.550000</td>\n",
       "    </tr>\n",
       "    <tr>\n",
       "      <th>4</th>\n",
       "      <td>4</td>\n",
       "      <td>0.050000</td>\n",
       "      <td>0.050000</td>\n",
       "      <td>0.050000</td>\n",
       "      <td>0.050000</td>\n",
       "      <td>0.050000</td>\n",
       "      <td>0.050000</td>\n",
       "      <td>0.050000</td>\n",
       "      <td>0.050000</td>\n",
       "      <td>0.050000</td>\n",
       "      <td>0.550000</td>\n",
       "      <td>1.000000</td>\n",
       "      <td>0.550000</td>\n",
       "    </tr>\n",
       "  </tbody>\n",
       "</table>\n",
       "</div>"
      ],
      "text/plain": [
       "   Unnamed: 0        t1        t2        t3        t4        t5        t6  \\\n",
       "0           0  0.366668  0.033333  0.033333  0.033333  0.033333  0.033333   \n",
       "1           1  0.100092  0.108623  0.727647  0.000000  0.000000  0.000000   \n",
       "2           2  0.025001  0.025000  0.329372  0.025001  0.470620  0.025001   \n",
       "3           3  0.050000  0.050000  0.050000  0.050000  0.550000  0.050000   \n",
       "4           4  0.050000  0.050000  0.050000  0.050000  0.050000  0.050000   \n",
       "\n",
       "         t7        t8        t9       t10  sum_prob  max_prob  \n",
       "0  0.033333  0.033333  0.366665  0.033333  1.000000  0.366668  \n",
       "1  0.000000  0.000000  0.000000  0.000000  0.936361  0.727647  \n",
       "2  0.025002  0.025000  0.025001  0.025002  1.000000  0.470620  \n",
       "3  0.050000  0.050000  0.050000  0.050000  1.000000  0.550000  \n",
       "4  0.050000  0.050000  0.050000  0.550000  1.000000  0.550000  "
      ]
     },
     "execution_count": 96,
     "metadata": {},
     "output_type": "execute_result"
    }
   ],
   "source": [
    "redtopics_2.head()"
   ]
  },
  {
   "cell_type": "code",
   "execution_count": 97,
   "metadata": {
    "collapsed": false
   },
   "outputs": [
    {
     "data": {
      "text/plain": [
       "count    87063.000000\n",
       "mean         0.998444\n",
       "std          0.007552\n",
       "min          0.927264\n",
       "25%          1.000000\n",
       "50%          1.000000\n",
       "75%          1.000000\n",
       "max          1.000000\n",
       "Name: sum_prob, dtype: float64"
      ]
     },
     "execution_count": 97,
     "metadata": {},
     "output_type": "execute_result"
    }
   ],
   "source": [
    "redtopics_2.sum_prob.describe()"
   ]
  },
  {
   "cell_type": "code",
   "execution_count": 98,
   "metadata": {
    "collapsed": false
   },
   "outputs": [
    {
     "data": {
      "text/plain": [
       "<matplotlib.axes._subplots.AxesSubplot at 0x13c69a690>"
      ]
     },
     "execution_count": 98,
     "metadata": {},
     "output_type": "execute_result"
    },
    {
     "data": {
      "image/png": "[encoded data removed]",
      "text/plain": [
       "<matplotlib.figure.Figure at 0x13c68f5d0>"
      ]
     },
     "metadata": {},
     "output_type": "display_data"
    }
   ],
   "source": [
    "redtopics_2['max_prob'].hist()"
   ]
  },
  {
   "cell_type": "markdown",
   "metadata": {},
   "source": [
    "# Analysis w/ LDA without using most common counter:"
   ]
  },
  {
   "cell_type": "code",
   "execution_count": 99,
   "metadata": {
    "collapsed": true
   },
   "outputs": [],
   "source": [
    "redtopics_3 = pd.read_csv('/Users/divyasusarla/Desktop/DSI-SF-2-divyasusarla/Capstone/LDA_analysis/redwinetopics_nomax.csv')"
   ]
  },
  {
   "cell_type": "code",
   "execution_count": 100,
   "metadata": {
    "collapsed": false
   },
   "outputs": [
    {
     "data": {
      "text/html": [
       "<div>\n",
       "<table border=\"1\" class=\"dataframe\">\n",
       "  <thead>\n",
       "    <tr style=\"text-align: right;\">\n",
       "      <th></th>\n",
       "      <th>Unnamed: 0</th>\n",
       "      <th>t1</th>\n",
       "      <th>t2</th>\n",
       "      <th>t3</th>\n",
       "      <th>t4</th>\n",
       "      <th>t5</th>\n",
       "      <th>t6</th>\n",
       "      <th>t7</th>\n",
       "      <th>t8</th>\n",
       "      <th>t9</th>\n",
       "      <th>t10</th>\n",
       "    </tr>\n",
       "  </thead>\n",
       "  <tbody>\n",
       "    <tr>\n",
       "      <th>0</th>\n",
       "      <td>0</td>\n",
       "      <td>0.100000</td>\n",
       "      <td>0.100000</td>\n",
       "      <td>0.100000</td>\n",
       "      <td>0.100000</td>\n",
       "      <td>0.100000</td>\n",
       "      <td>0.100000</td>\n",
       "      <td>0.100000</td>\n",
       "      <td>0.100000</td>\n",
       "      <td>0.100000</td>\n",
       "      <td>0.100000</td>\n",
       "    </tr>\n",
       "    <tr>\n",
       "      <th>1</th>\n",
       "      <td>1</td>\n",
       "      <td>0.033333</td>\n",
       "      <td>0.033333</td>\n",
       "      <td>0.033333</td>\n",
       "      <td>0.033333</td>\n",
       "      <td>0.366666</td>\n",
       "      <td>0.366667</td>\n",
       "      <td>0.033333</td>\n",
       "      <td>0.033333</td>\n",
       "      <td>0.033334</td>\n",
       "      <td>0.033333</td>\n",
       "    </tr>\n",
       "    <tr>\n",
       "      <th>2</th>\n",
       "      <td>2</td>\n",
       "      <td>0.033333</td>\n",
       "      <td>0.366667</td>\n",
       "      <td>0.033333</td>\n",
       "      <td>0.033333</td>\n",
       "      <td>0.033333</td>\n",
       "      <td>0.033333</td>\n",
       "      <td>0.033333</td>\n",
       "      <td>0.366667</td>\n",
       "      <td>0.033333</td>\n",
       "      <td>0.033333</td>\n",
       "    </tr>\n",
       "    <tr>\n",
       "      <th>3</th>\n",
       "      <td>3</td>\n",
       "      <td>0.100000</td>\n",
       "      <td>0.100000</td>\n",
       "      <td>0.100000</td>\n",
       "      <td>0.100000</td>\n",
       "      <td>0.100000</td>\n",
       "      <td>0.100000</td>\n",
       "      <td>0.100000</td>\n",
       "      <td>0.100000</td>\n",
       "      <td>0.100000</td>\n",
       "      <td>0.100000</td>\n",
       "    </tr>\n",
       "    <tr>\n",
       "      <th>4</th>\n",
       "      <td>4</td>\n",
       "      <td>0.100000</td>\n",
       "      <td>0.100000</td>\n",
       "      <td>0.100000</td>\n",
       "      <td>0.100000</td>\n",
       "      <td>0.100000</td>\n",
       "      <td>0.100000</td>\n",
       "      <td>0.100000</td>\n",
       "      <td>0.100000</td>\n",
       "      <td>0.100000</td>\n",
       "      <td>0.100000</td>\n",
       "    </tr>\n",
       "  </tbody>\n",
       "</table>\n",
       "</div>"
      ],
      "text/plain": [
       "   Unnamed: 0        t1        t2        t3        t4        t5        t6  \\\n",
       "0           0  0.100000  0.100000  0.100000  0.100000  0.100000  0.100000   \n",
       "1           1  0.033333  0.033333  0.033333  0.033333  0.366666  0.366667   \n",
       "2           2  0.033333  0.366667  0.033333  0.033333  0.033333  0.033333   \n",
       "3           3  0.100000  0.100000  0.100000  0.100000  0.100000  0.100000   \n",
       "4           4  0.100000  0.100000  0.100000  0.100000  0.100000  0.100000   \n",
       "\n",
       "         t7        t8        t9       t10  \n",
       "0  0.100000  0.100000  0.100000  0.100000  \n",
       "1  0.033333  0.033333  0.033334  0.033333  \n",
       "2  0.033333  0.366667  0.033333  0.033333  \n",
       "3  0.100000  0.100000  0.100000  0.100000  \n",
       "4  0.100000  0.100000  0.100000  0.100000  "
      ]
     },
     "execution_count": 100,
     "metadata": {},
     "output_type": "execute_result"
    }
   ],
   "source": [
    "redtopics_3.head()"
   ]
  },
  {
   "cell_type": "code",
   "execution_count": 107,
   "metadata": {
    "collapsed": false
   },
   "outputs": [
    {
     "ename": "KeyboardInterrupt",
     "evalue": "",
     "output_type": "error",
     "traceback": [
      "\u001b[0;31m---------------------------------------------------------------------------\u001b[0m",
      "\u001b[0;31mKeyboardInterrupt\u001b[0m                         Traceback (most recent call last)",
      "\u001b[0;32m<ipython-input-108-010e29147086>\u001b[0m in \u001b[0;36m<module>\u001b[0;34m()\u001b[0m\n\u001b[0;32m----> 1\u001b[0;31m \u001b[0msns\u001b[0m\u001b[0;34m.\u001b[0m\u001b[0mheatmap\u001b[0m\u001b[0;34m(\u001b[0m\u001b[0mredtopics_3\u001b[0m\u001b[0;34m)\u001b[0m\u001b[0;34m\u001b[0m\u001b[0m\n\u001b[0m",
      "\u001b[0;32m//anaconda/envs/dsi/lib/python2.7/site-packages/seaborn/matrix.pyc\u001b[0m in \u001b[0;36mheatmap\u001b[0;34m(data, vmin, vmax, cmap, center, robust, annot, fmt, annot_kws, linewidths, linecolor, cbar, cbar_kws, cbar_ax, square, ax, xticklabels, yticklabels, mask, **kwargs)\u001b[0m\n\u001b[1;32m    494\u001b[0m     \u001b[0;32mif\u001b[0m \u001b[0msquare\u001b[0m\u001b[0;34m:\u001b[0m\u001b[0;34m\u001b[0m\u001b[0m\n\u001b[1;32m    495\u001b[0m         \u001b[0max\u001b[0m\u001b[0;34m.\u001b[0m\u001b[0mset_aspect\u001b[0m\u001b[0;34m(\u001b[0m\u001b[0;34m\"equal\"\u001b[0m\u001b[0;34m)\u001b[0m\u001b[0;34m\u001b[0m\u001b[0m\n\u001b[0;32m--> 496\u001b[0;31m     \u001b[0mplotter\u001b[0m\u001b[0;34m.\u001b[0m\u001b[0mplot\u001b[0m\u001b[0;34m(\u001b[0m\u001b[0max\u001b[0m\u001b[0;34m,\u001b[0m \u001b[0mcbar_ax\u001b[0m\u001b[0;34m,\u001b[0m \u001b[0mkwargs\u001b[0m\u001b[0;34m)\u001b[0m\u001b[0;34m\u001b[0m\u001b[0m\n\u001b[0m\u001b[1;32m    497\u001b[0m     \u001b[0;32mreturn\u001b[0m \u001b[0max\u001b[0m\u001b[0;34m\u001b[0m\u001b[0m\n\u001b[1;32m    498\u001b[0m \u001b[0;34m\u001b[0m\u001b[0m\n",
      "\u001b[0;32m//anaconda/envs/dsi/lib/python2.7/site-packages/seaborn/matrix.pyc\u001b[0m in \u001b[0;36mplot\u001b[0;34m(self, ax, cax, kws)\u001b[0m\n\u001b[1;32m    272\u001b[0m         \u001b[0;32mif\u001b[0m \u001b[0maxis_ticklabels_overlap\u001b[0m\u001b[0;34m(\u001b[0m\u001b[0mxtl\u001b[0m\u001b[0;34m)\u001b[0m\u001b[0;34m:\u001b[0m\u001b[0;34m\u001b[0m\u001b[0m\n\u001b[1;32m    273\u001b[0m             \u001b[0mplt\u001b[0m\u001b[0;34m.\u001b[0m\u001b[0msetp\u001b[0m\u001b[0;34m(\u001b[0m\u001b[0mxtl\u001b[0m\u001b[0;34m,\u001b[0m \u001b[0mrotation\u001b[0m\u001b[0;34m=\u001b[0m\u001b[0;34m\"vertical\"\u001b[0m\u001b[0;34m)\u001b[0m\u001b[0;34m\u001b[0m\u001b[0m\n\u001b[0;32m--> 274\u001b[0;31m         \u001b[0;32mif\u001b[0m \u001b[0maxis_ticklabels_overlap\u001b[0m\u001b[0;34m(\u001b[0m\u001b[0mytl\u001b[0m\u001b[0;34m)\u001b[0m\u001b[0;34m:\u001b[0m\u001b[0;34m\u001b[0m\u001b[0m\n\u001b[0m\u001b[1;32m    275\u001b[0m             \u001b[0mplt\u001b[0m\u001b[0;34m.\u001b[0m\u001b[0msetp\u001b[0m\u001b[0;34m(\u001b[0m\u001b[0mytl\u001b[0m\u001b[0;34m,\u001b[0m \u001b[0mrotation\u001b[0m\u001b[0;34m=\u001b[0m\u001b[0;34m\"horizontal\"\u001b[0m\u001b[0;34m)\u001b[0m\u001b[0;34m\u001b[0m\u001b[0m\n\u001b[1;32m    276\u001b[0m \u001b[0;34m\u001b[0m\u001b[0m\n",
      "\u001b[0;32m//anaconda/envs/dsi/lib/python2.7/site-packages/seaborn/utils.pyc\u001b[0m in \u001b[0;36maxis_ticklabels_overlap\u001b[0;34m(labels)\u001b[0m\n\u001b[1;32m    472\u001b[0m     \u001b[0;32mtry\u001b[0m\u001b[0;34m:\u001b[0m\u001b[0;34m\u001b[0m\u001b[0m\n\u001b[1;32m    473\u001b[0m         \u001b[0mbboxes\u001b[0m \u001b[0;34m=\u001b[0m \u001b[0;34m[\u001b[0m\u001b[0ml\u001b[0m\u001b[0;34m.\u001b[0m\u001b[0mget_window_extent\u001b[0m\u001b[0;34m(\u001b[0m\u001b[0;34m)\u001b[0m \u001b[0;32mfor\u001b[0m \u001b[0ml\u001b[0m \u001b[0;32min\u001b[0m \u001b[0mlabels\u001b[0m\u001b[0;34m]\u001b[0m\u001b[0;34m\u001b[0m\u001b[0m\n\u001b[0;32m--> 474\u001b[0;31m         \u001b[0moverlaps\u001b[0m \u001b[0;34m=\u001b[0m \u001b[0;34m[\u001b[0m\u001b[0mb\u001b[0m\u001b[0;34m.\u001b[0m\u001b[0mcount_overlaps\u001b[0m\u001b[0;34m(\u001b[0m\u001b[0mbboxes\u001b[0m\u001b[0;34m)\u001b[0m \u001b[0;32mfor\u001b[0m \u001b[0mb\u001b[0m \u001b[0;32min\u001b[0m \u001b[0mbboxes\u001b[0m\u001b[0;34m]\u001b[0m\u001b[0;34m\u001b[0m\u001b[0m\n\u001b[0m\u001b[1;32m    475\u001b[0m         \u001b[0;32mreturn\u001b[0m \u001b[0mmax\u001b[0m\u001b[0;34m(\u001b[0m\u001b[0moverlaps\u001b[0m\u001b[0;34m)\u001b[0m \u001b[0;34m>\u001b[0m \u001b[0;36m1\u001b[0m\u001b[0;34m\u001b[0m\u001b[0m\n\u001b[1;32m    476\u001b[0m     \u001b[0;32mexcept\u001b[0m \u001b[0mRuntimeError\u001b[0m\u001b[0;34m:\u001b[0m\u001b[0;34m\u001b[0m\u001b[0m\n",
      "\u001b[0;32m//anaconda/envs/dsi/lib/python2.7/site-packages/matplotlib/transforms.pyc\u001b[0m in \u001b[0;36mcount_overlaps\u001b[0;34m(self, bboxes)\u001b[0m\n\u001b[1;32m    668\u001b[0m         \"\"\"\n\u001b[1;32m    669\u001b[0m         return count_bboxes_overlapping_bbox(\n\u001b[0;32m--> 670\u001b[0;31m             self, np.atleast_3d([np.array(x) for x in bboxes]))\n\u001b[0m\u001b[1;32m    671\u001b[0m \u001b[0;34m\u001b[0m\u001b[0m\n\u001b[1;32m    672\u001b[0m     \u001b[0;32mdef\u001b[0m \u001b[0mexpanded\u001b[0m\u001b[0;34m(\u001b[0m\u001b[0mself\u001b[0m\u001b[0;34m,\u001b[0m \u001b[0msw\u001b[0m\u001b[0;34m,\u001b[0m \u001b[0msh\u001b[0m\u001b[0;34m)\u001b[0m\u001b[0;34m:\u001b[0m\u001b[0;34m\u001b[0m\u001b[0m\n",
      "\u001b[0;32m//anaconda/envs/dsi/lib/python2.7/site-packages/matplotlib/transforms.pyc\u001b[0m in \u001b[0;36m__array__\u001b[0;34m(self, *args, **kwargs)\u001b[0m\n\u001b[1;32m    279\u001b[0m     \u001b[0mfrozen\u001b[0m\u001b[0;34m.\u001b[0m\u001b[0m__doc__\u001b[0m \u001b[0;34m=\u001b[0m \u001b[0mTransformNode\u001b[0m\u001b[0;34m.\u001b[0m\u001b[0m__doc__\u001b[0m\u001b[0;34m\u001b[0m\u001b[0m\n\u001b[1;32m    280\u001b[0m \u001b[0;34m\u001b[0m\u001b[0m\n\u001b[0;32m--> 281\u001b[0;31m     \u001b[0;32mdef\u001b[0m \u001b[0m__array__\u001b[0m\u001b[0;34m(\u001b[0m\u001b[0mself\u001b[0m\u001b[0;34m,\u001b[0m \u001b[0;34m*\u001b[0m\u001b[0margs\u001b[0m\u001b[0;34m,\u001b[0m \u001b[0;34m**\u001b[0m\u001b[0mkwargs\u001b[0m\u001b[0;34m)\u001b[0m\u001b[0;34m:\u001b[0m\u001b[0;34m\u001b[0m\u001b[0m\n\u001b[0m\u001b[1;32m    282\u001b[0m         \u001b[0;32mreturn\u001b[0m \u001b[0mself\u001b[0m\u001b[0;34m.\u001b[0m\u001b[0mget_points\u001b[0m\u001b[0;34m(\u001b[0m\u001b[0;34m)\u001b[0m\u001b[0;34m\u001b[0m\u001b[0m\n\u001b[1;32m    283\u001b[0m \u001b[0;34m\u001b[0m\u001b[0m\n",
      "\u001b[0;31mKeyboardInterrupt\u001b[0m: "
     ]
    },
    {
     "ename": "KeyboardInterrupt",
     "evalue": "",
     "output_type": "error",
     "traceback": [
      "Traceback (most recent call last):\n",
      "  File \"//anaconda/envs/dsi/lib/python2.7/site-packages/ipykernel/ipkernel.py\", line 199, in do_execute\n    shell.run_cell(code, store_history=store_history, silent=silent)\n",
      "  File \"//anaconda/envs/dsi/lib/python2.7/site-packages/IPython/core/interactiveshell.py\", line 2729, in run_cell\n    self.events.trigger('post_execute')\n",
      "  File \"//anaconda/envs/dsi/lib/python2.7/site-packages/IPython/core/events.py\", line 74, in trigger\n    func(*args, **kwargs)\n",
      "  File \"//anaconda/envs/dsi/lib/python2.7/site-packages/ipykernel/pylab/backend_inline.py\", line 113, in flush_figures\n    return show(True)\n",
      "  File \"//anaconda/envs/dsi/lib/python2.7/site-packages/ipykernel/pylab/backend_inline.py\", line 36, in show\n    display(figure_manager.canvas.figure)\n",
      "  File \"//anaconda/envs/dsi/lib/python2.7/site-packages/IPython/core/display.py\", line 158, in display\n    format_dict, md_dict = format(obj, include=include, exclude=exclude)\n",
      "  File \"//anaconda/envs/dsi/lib/python2.7/site-packages/IPython/core/formatters.py\", line 177, in format\n    data = formatter(obj)\n",
      "  File \"<decorator-gen-9>\", line 2, in __call__\n",
      "  File \"//anaconda/envs/dsi/lib/python2.7/site-packages/IPython/core/formatters.py\", line 222, in catch_format_error\n    r = method(self, *args, **kwargs)\n",
      "  File \"//anaconda/envs/dsi/lib/python2.7/site-packages/IPython/core/formatters.py\", line 339, in __call__\n    return printer(obj)\n",
      "  File \"//anaconda/envs/dsi/lib/python2.7/site-packages/IPython/core/pylabtools.py\", line 228, in <lambda>\n    png_formatter.for_type(Figure, lambda fig: print_figure(fig, 'png', **kwargs))\n",
      "  File \"//anaconda/envs/dsi/lib/python2.7/site-packages/IPython/core/pylabtools.py\", line 119, in print_figure\n    fig.canvas.print_figure(bytes_io, **kw)\n",
      "  File \"//anaconda/envs/dsi/lib/python2.7/site-packages/matplotlib/backend_bases.py\", line 2180, in print_figure\n    **kwargs)\n",
      "  File \"//anaconda/envs/dsi/lib/python2.7/site-packages/matplotlib/backends/backend_agg.py\", line 527, in print_png\n    FigureCanvasAgg.draw(self)\n",
      "  File \"//anaconda/envs/dsi/lib/python2.7/site-packages/matplotlib/backends/backend_agg.py\", line 474, in draw\n    self.figure.draw(self.renderer)\n",
      "  File \"//anaconda/envs/dsi/lib/python2.7/site-packages/matplotlib/artist.py\", line 61, in draw_wrapper\n    draw(artist, renderer, *args, **kwargs)\n",
      "  File \"//anaconda/envs/dsi/lib/python2.7/site-packages/matplotlib/figure.py\", line 1159, in draw\n    func(*args)\n",
      "  File \"//anaconda/envs/dsi/lib/python2.7/site-packages/matplotlib/artist.py\", line 61, in draw_wrapper\n    draw(artist, renderer, *args, **kwargs)\n",
      "  File \"//anaconda/envs/dsi/lib/python2.7/site-packages/matplotlib/axes/_base.py\", line 2324, in draw\n    a.draw(renderer)\n",
      "  File \"//anaconda/envs/dsi/lib/python2.7/site-packages/matplotlib/artist.py\", line 61, in draw_wrapper\n    draw(artist, renderer, *args, **kwargs)\n",
      "  File \"//anaconda/envs/dsi/lib/python2.7/site-packages/matplotlib/axis.py\", line 1108, in draw\n    renderer)\n",
      "  File \"//anaconda/envs/dsi/lib/python2.7/site-packages/matplotlib/axis.py\", line 1058, in _get_tick_bboxes\n    extent = tick.label1.get_window_extent(renderer)\n",
      "  File \"//anaconda/envs/dsi/lib/python2.7/site-packages/matplotlib/text.py\", line 964, in get_window_extent\n    bbox = bbox.translated(x, y)\n",
      "  File \"//anaconda/envs/dsi/lib/python2.7/site-packages/matplotlib/transforms.py\", line 698, in translated\n    return Bbox(self._points + (tx, ty))\n",
      "  File \"//anaconda/envs/dsi/lib/python2.7/site-packages/matplotlib/transforms.py\", line 794, in __init__\n    self._minpos = np.array([0.0000001, 0.0000001])\n",
      "KeyboardInterrupt\n"
     ]
    }
   ],
   "source": [
    "sns.heatmap(redtopics_3)"
   ]
  },
  {
   "cell_type": "code",
   "execution_count": 102,
   "metadata": {
    "collapsed": true
   },
   "outputs": [],
   "source": [
    "columns = ['t1','t2','t3','t4','t5','t6','t7','t8','t9','t10']\n",
    "redtopics_3['sum_prob'] =  redtopics_3[columns].apply(np.sum, axis=1)\n",
    "redtopics_3['max_prob'] =  redtopics_3[columns].apply(np.max, axis=1)"
   ]
  },
  {
   "cell_type": "code",
   "execution_count": 103,
   "metadata": {
    "collapsed": false
   },
   "outputs": [
    {
     "data": {
      "text/html": [
       "<div>\n",
       "<table border=\"1\" class=\"dataframe\">\n",
       "  <thead>\n",
       "    <tr style=\"text-align: right;\">\n",
       "      <th></th>\n",
       "      <th>Unnamed: 0</th>\n",
       "      <th>t1</th>\n",
       "      <th>t2</th>\n",
       "      <th>t3</th>\n",
       "      <th>t4</th>\n",
       "      <th>t5</th>\n",
       "      <th>t6</th>\n",
       "      <th>t7</th>\n",
       "      <th>t8</th>\n",
       "      <th>t9</th>\n",
       "      <th>t10</th>\n",
       "      <th>sum_prob</th>\n",
       "      <th>max_prob</th>\n",
       "    </tr>\n",
       "  </thead>\n",
       "  <tbody>\n",
       "    <tr>\n",
       "      <th>0</th>\n",
       "      <td>0</td>\n",
       "      <td>0.100000</td>\n",
       "      <td>0.100000</td>\n",
       "      <td>0.100000</td>\n",
       "      <td>0.100000</td>\n",
       "      <td>0.100000</td>\n",
       "      <td>0.100000</td>\n",
       "      <td>0.100000</td>\n",
       "      <td>0.100000</td>\n",
       "      <td>0.100000</td>\n",
       "      <td>0.100000</td>\n",
       "      <td>1.0</td>\n",
       "      <td>0.100000</td>\n",
       "    </tr>\n",
       "    <tr>\n",
       "      <th>1</th>\n",
       "      <td>1</td>\n",
       "      <td>0.033333</td>\n",
       "      <td>0.033333</td>\n",
       "      <td>0.033333</td>\n",
       "      <td>0.033333</td>\n",
       "      <td>0.366666</td>\n",
       "      <td>0.366667</td>\n",
       "      <td>0.033333</td>\n",
       "      <td>0.033333</td>\n",
       "      <td>0.033334</td>\n",
       "      <td>0.033333</td>\n",
       "      <td>1.0</td>\n",
       "      <td>0.366667</td>\n",
       "    </tr>\n",
       "    <tr>\n",
       "      <th>2</th>\n",
       "      <td>2</td>\n",
       "      <td>0.033333</td>\n",
       "      <td>0.366667</td>\n",
       "      <td>0.033333</td>\n",
       "      <td>0.033333</td>\n",
       "      <td>0.033333</td>\n",
       "      <td>0.033333</td>\n",
       "      <td>0.033333</td>\n",
       "      <td>0.366667</td>\n",
       "      <td>0.033333</td>\n",
       "      <td>0.033333</td>\n",
       "      <td>1.0</td>\n",
       "      <td>0.366667</td>\n",
       "    </tr>\n",
       "    <tr>\n",
       "      <th>3</th>\n",
       "      <td>3</td>\n",
       "      <td>0.100000</td>\n",
       "      <td>0.100000</td>\n",
       "      <td>0.100000</td>\n",
       "      <td>0.100000</td>\n",
       "      <td>0.100000</td>\n",
       "      <td>0.100000</td>\n",
       "      <td>0.100000</td>\n",
       "      <td>0.100000</td>\n",
       "      <td>0.100000</td>\n",
       "      <td>0.100000</td>\n",
       "      <td>1.0</td>\n",
       "      <td>0.100000</td>\n",
       "    </tr>\n",
       "    <tr>\n",
       "      <th>4</th>\n",
       "      <td>4</td>\n",
       "      <td>0.100000</td>\n",
       "      <td>0.100000</td>\n",
       "      <td>0.100000</td>\n",
       "      <td>0.100000</td>\n",
       "      <td>0.100000</td>\n",
       "      <td>0.100000</td>\n",
       "      <td>0.100000</td>\n",
       "      <td>0.100000</td>\n",
       "      <td>0.100000</td>\n",
       "      <td>0.100000</td>\n",
       "      <td>1.0</td>\n",
       "      <td>0.100000</td>\n",
       "    </tr>\n",
       "  </tbody>\n",
       "</table>\n",
       "</div>"
      ],
      "text/plain": [
       "   Unnamed: 0        t1        t2        t3        t4        t5        t6  \\\n",
       "0           0  0.100000  0.100000  0.100000  0.100000  0.100000  0.100000   \n",
       "1           1  0.033333  0.033333  0.033333  0.033333  0.366666  0.366667   \n",
       "2           2  0.033333  0.366667  0.033333  0.033333  0.033333  0.033333   \n",
       "3           3  0.100000  0.100000  0.100000  0.100000  0.100000  0.100000   \n",
       "4           4  0.100000  0.100000  0.100000  0.100000  0.100000  0.100000   \n",
       "\n",
       "         t7        t8        t9       t10  sum_prob  max_prob  \n",
       "0  0.100000  0.100000  0.100000  0.100000       1.0  0.100000  \n",
       "1  0.033333  0.033333  0.033334  0.033333       1.0  0.366667  \n",
       "2  0.033333  0.366667  0.033333  0.033333       1.0  0.366667  \n",
       "3  0.100000  0.100000  0.100000  0.100000       1.0  0.100000  \n",
       "4  0.100000  0.100000  0.100000  0.100000       1.0  0.100000  "
      ]
     },
     "execution_count": 103,
     "metadata": {},
     "output_type": "execute_result"
    }
   ],
   "source": [
    "redtopics_3.head()"
   ]
  },
  {
   "cell_type": "code",
   "execution_count": 104,
   "metadata": {
    "collapsed": false,
    "scrolled": true
   },
   "outputs": [
    {
     "data": {
      "text/plain": [
       "count    87063.000000\n",
       "mean         0.999951\n",
       "std          0.001363\n",
       "min          0.945448\n",
       "25%          1.000000\n",
       "50%          1.000000\n",
       "75%          1.000000\n",
       "max          1.000000\n",
       "Name: sum_prob, dtype: float64"
      ]
     },
     "execution_count": 104,
     "metadata": {},
     "output_type": "execute_result"
    }
   ],
   "source": [
    "redtopics_3.sum_prob.describe()"
   ]
  },
  {
   "cell_type": "code",
   "execution_count": 105,
   "metadata": {
    "collapsed": false
   },
   "outputs": [
    {
     "data": {
      "text/plain": [
       "<matplotlib.axes._subplots.AxesSubplot at 0x13d19ed10>"
      ]
     },
     "execution_count": 105,
     "metadata": {},
     "output_type": "execute_result"
    },
    {
     "data": {
      "image/png": "[encoded data removed]",
      "text/plain": [
       "<matplotlib.figure.Figure at 0x13d50b090>"
      ]
     },
     "metadata": {},
     "output_type": "display_data"
    }
   ],
   "source": [
    "redtopics_3['max_prob'].hist()"
   ]
  },
  {
   "cell_type": "markdown",
   "metadata": {},
   "source": [
    "1. Look for docs scored highest in topics - look at context, find a theme - give the theme a label\n",
    "2. certain types of wines may be tagged within multiple topics  (select by probability and then slice by topic)\n",
    "3. k-modes\n",
    "4. Look at the tastes you know exist, look at how they are similar in terms of word features\n",
    "5. Use those features for your clusters\n",
    "6. Consider using PCA\n",
    "7. Consider doing cosine similarity (sklearn's version - ones clustered to 1 are most similar)"
   ]
  },
  {
   "cell_type": "code",
   "execution_count": 199,
   "metadata": {
    "collapsed": false
   },
   "outputs": [],
   "source": [
    "def plot_topic_dist(feature = 't1', threashold = .3):\n",
    "    redtopics_2[feature][redtopics_2[feature] > threashold].order(ascending=False).hist()\n",
    "    \n",
    "def get_documents_by_topic(topic='t1', threashold = .65):\n",
    "    orig_df = pd.read_csv(\"../Clean_Data/red_reviews_clean.csv\")\n",
    "    orig_df = orig_df.dropna()  \n",
    "    return orig_df[orig_df.index.isin(redtopics_2[redtopics_2[topic] > threashold].index)]['red_review']\n",
    "\n",
    "def get_top_feature_counts(df, limit = 10):\n",
    "    from sklearn.feature_extraction.text import CountVectorizer\n",
    "\n",
    "    vect = CountVectorizer()\n",
    "    X = vect.fit_transform(df)\n",
    "\n",
    "    tokens = pd.DataFrame()\n",
    "    stats_df = pd.DataFrame(X.toarray(), columns=vect.vocabulary_)\n",
    "    tokens['tokens'] = stats_df.columns \n",
    "    tokens['count'] = stats_df.T.sum()\n",
    "    tokens = tokens.set_index('tokens')\n",
    "    return tokens.sort('count', ascending=False).head(limit)"
   ]
  },
  {
   "cell_type": "markdown",
   "metadata": {},
   "source": [
    "### Topic 1"
   ]
  },
  {
   "cell_type": "code",
   "execution_count": 211,
   "metadata": {
    "collapsed": false,
    "scrolled": true
   },
   "outputs": [
    {
     "data": {
      "text/plain": [
       "32                   fruity,cherry,nice tannins.recommend!\n",
       "110      Super Tuscan Vancouver showdown, part 3. Taste...\n",
       "198      You don't find many 100% Petit Verdot but this...\n",
       "249                                 GAMBERO ROSSO 2016 #10\n",
       "274      Nice fruity nose, closed down quickly. Standar...\n",
       "322      A little heavy for a super Tuscan but overall ...\n",
       "335                              Deep with a hint of spice\n",
       "350      Nothing spectacular, definitely not worth the ...\n",
       "374                  Inky red/black - impenetrable colour.\n",
       "442      Tasted this a couple of times now. It is truly...\n",
       "484                                      Limber Pine Day 1\n",
       "499      Smells great and tastes good too. Nice cab fru...\n",
       "511                               89% CS,8% CF, 3% merlot \n",
       "556      My first time with this Pinot. Really opened u...\n",
       "566      A great old vine Portuguese wine that I always...\n",
       "619      Light, Burgandy style. Raspberry, dried fruit,...\n",
       "650                                   🍷Blackened ruby red\n",
       "664      Another great wine from the restaurant in Bost...\n",
       "721      On the palate medium bodied with great acidity...\n",
       "732                                          Dry and light\n",
       "756      This 2009 classic Bordeaux blend contribution ...\n",
       "800      👄 Warming deep dark earthy plum in a medium- ...\n",
       "840                                    Kick ass nuff said.\n",
       "888      2nd time around.  Seeing what a couple months ...\n",
       "904                                    Dark garnet colour.\n",
       "949      Let it breathe for at least an hour. Opens up ...\n",
       "953      Excellent bottle. Enjoyed the balance and comp...\n",
       "1011     Nice perfume nose. Citric cherries. OK finish....\n",
       "1036     Deep in colourful, rich and powerful this famo...\n",
       "1129     Staggeringly good Bordeaux, as it should be at...\n",
       "                               ...                        \n",
       "81135                                               91pts.\n",
       "81171                             Smooth. Smooth. Smooth. \n",
       "81392    Sensational. Hard to describe the clarity and ...\n",
       "81419    More of this and anything like this. I loved i...\n",
       "81922    The good thing is, the wine is pretty stunning...\n",
       "82099    I found this wine to be excellent! The aromas ...\n",
       "82715    Full bodied and full flavored, lots of dark fr...\n",
       "83233          Nice. Not as good as sottano. But very good\n",
       "83528    Experimenting with French wines again and happ...\n",
       "83630    Has a Barolo like quality, this 2008 drinks ve...\n",
       "83824    Very good, full, and works alone and with food...\n",
       "83835    Enjoyed with good stracotto with root vegetables.\n",
       "83964    A recent present from Australia on the back or...\n",
       "84388    Garnet in colour. Fruit cake and vanilla on th...\n",
       "84503    Young deep ruby colour. Soft and fleshy, rich ...\n",
       "84697    A-/A (At first...tart cherry fruit bomb...evol...\n",
       "84844    This inky dark pool of deliciousness has a bea...\n",
       "85020    Produced in the same way as Amarone but with t...\n",
       "85180    Rated against other Margaux, wonderful deep re...\n",
       "85346    Very nice Chateauneuf du pape.  Jam, blackberr...\n",
       "85501                    Delicious but needed to breathe. \n",
       "85571                       Love this winery! Great wines.\n",
       "85714            Solid. Good for price but average overall\n",
       "85743    This wine come across as really nicely put tog...\n",
       "85855    The first of the estate bottles of evening lan...\n",
       "85983             Another beast of a block buster from SQN\n",
       "86141    Solid effort.  Big structure and fruit.  Deep ...\n",
       "86245    Will develop further. But great nose, mouth re...\n",
       "86724    On the nose perfumed, dark fruit, cedar, coffe...\n",
       "86782    Fruity,tanin, great cabernet, never get disapp...\n",
       "Name: red_review, dtype: object"
      ]
     },
     "execution_count": 211,
     "metadata": {},
     "output_type": "execute_result"
    }
   ],
   "source": [
    "# docs topics are the documents in the topic paramter\n",
    "docs_topics = get_documents_by_topic('t1', .65)\n",
    "\n",
    "# get df of top word counts by df\n",
    "# get_top_feature_counts(docs_topics, limit = 10)\n",
    "\n",
    "docs_topics"
   ]
  },
  {
   "cell_type": "markdown",
   "metadata": {},
   "source": [
    "### Topic 2"
   ]
  },
  {
   "cell_type": "code",
   "execution_count": 206,
   "metadata": {
    "collapsed": false
   },
   "outputs": [
    {
     "name": "stderr",
     "output_type": "stream",
     "text": [
      "/anaconda/envs/dsi/lib/python2.7/site-packages/ipykernel/__main__.py:20: FutureWarning: sort(columns=....) is deprecated, use sort_values(by=.....)\n"
     ]
    },
    {
     "data": {
      "text/html": [
       "<div>\n",
       "<table border=\"1\" class=\"dataframe\">\n",
       "  <thead>\n",
       "    <tr style=\"text-align: right;\">\n",
       "      <th></th>\n",
       "      <th>count</th>\n",
       "    </tr>\n",
       "    <tr>\n",
       "      <th>tokens</th>\n",
       "      <th></th>\n",
       "    </tr>\n",
       "  </thead>\n",
       "  <tbody>\n",
       "    <tr>\n",
       "      <th>quality</th>\n",
       "      <td>90.0</td>\n",
       "    </tr>\n",
       "    <tr>\n",
       "      <th>dry</th>\n",
       "      <td>89.0</td>\n",
       "    </tr>\n",
       "    <tr>\n",
       "      <th>mushroom</th>\n",
       "      <td>87.0</td>\n",
       "    </tr>\n",
       "    <tr>\n",
       "      <th>80s</th>\n",
       "      <td>87.0</td>\n",
       "    </tr>\n",
       "    <tr>\n",
       "      <th>bottles</th>\n",
       "      <td>87.0</td>\n",
       "    </tr>\n",
       "    <tr>\n",
       "      <th>above</th>\n",
       "      <td>85.0</td>\n",
       "    </tr>\n",
       "    <tr>\n",
       "      <th>everything</th>\n",
       "      <td>85.0</td>\n",
       "    </tr>\n",
       "    <tr>\n",
       "      <th>rhone</th>\n",
       "      <td>84.0</td>\n",
       "    </tr>\n",
       "    <tr>\n",
       "      <th>burg</th>\n",
       "      <td>83.0</td>\n",
       "    </tr>\n",
       "    <tr>\n",
       "      <th>would</th>\n",
       "      <td>83.0</td>\n",
       "    </tr>\n",
       "  </tbody>\n",
       "</table>\n",
       "</div>"
      ],
      "text/plain": [
       "            count\n",
       "tokens           \n",
       "quality      90.0\n",
       "dry          89.0\n",
       "mushroom     87.0\n",
       "80s          87.0\n",
       "bottles      87.0\n",
       "above        85.0\n",
       "everything   85.0\n",
       "rhone        84.0\n",
       "burg         83.0\n",
       "would        83.0"
      ]
     },
     "execution_count": 206,
     "metadata": {},
     "output_type": "execute_result"
    }
   ],
   "source": [
    "# docs topics are the documents in the topic paramter\n",
    "docs_topics = get_documents_by_topic('t2', .65)\n",
    "\n",
    "# get df of top word counts by df\n",
    "get_top_feature_counts(docs_topics, limit = 10)"
   ]
  },
  {
   "cell_type": "markdown",
   "metadata": {},
   "source": [
    "### Topic 3"
   ]
  },
  {
   "cell_type": "code",
   "execution_count": 207,
   "metadata": {
    "collapsed": false
   },
   "outputs": [
    {
     "name": "stderr",
     "output_type": "stream",
     "text": [
      "/anaconda/envs/dsi/lib/python2.7/site-packages/ipykernel/__main__.py:20: FutureWarning: sort(columns=....) is deprecated, use sort_values(by=.....)\n"
     ]
    },
    {
     "data": {
      "text/html": [
       "<div>\n",
       "<table border=\"1\" class=\"dataframe\">\n",
       "  <thead>\n",
       "    <tr style=\"text-align: right;\">\n",
       "      <th></th>\n",
       "      <th>count</th>\n",
       "    </tr>\n",
       "    <tr>\n",
       "      <th>tokens</th>\n",
       "      <th></th>\n",
       "    </tr>\n",
       "  </thead>\n",
       "  <tbody>\n",
       "    <tr>\n",
       "      <th>este</th>\n",
       "      <td>93.0</td>\n",
       "    </tr>\n",
       "    <tr>\n",
       "      <th>aromatics</th>\n",
       "      <td>89.0</td>\n",
       "    </tr>\n",
       "    <tr>\n",
       "      <th>supper</th>\n",
       "      <td>88.0</td>\n",
       "    </tr>\n",
       "    <tr>\n",
       "      <th>call</th>\n",
       "      <td>86.0</td>\n",
       "    </tr>\n",
       "    <tr>\n",
       "      <th>never</th>\n",
       "      <td>85.0</td>\n",
       "    </tr>\n",
       "    <tr>\n",
       "      <th>covering</th>\n",
       "      <td>85.0</td>\n",
       "    </tr>\n",
       "    <tr>\n",
       "      <th>arrived</th>\n",
       "      <td>84.0</td>\n",
       "    </tr>\n",
       "    <tr>\n",
       "      <th>dos</th>\n",
       "      <td>84.0</td>\n",
       "    </tr>\n",
       "    <tr>\n",
       "      <th>bang</th>\n",
       "      <td>83.0</td>\n",
       "    </tr>\n",
       "    <tr>\n",
       "      <th>four</th>\n",
       "      <td>82.0</td>\n",
       "    </tr>\n",
       "  </tbody>\n",
       "</table>\n",
       "</div>"
      ],
      "text/plain": [
       "           count\n",
       "tokens          \n",
       "este        93.0\n",
       "aromatics   89.0\n",
       "supper      88.0\n",
       "call        86.0\n",
       "never       85.0\n",
       "covering    85.0\n",
       "arrived     84.0\n",
       "dos         84.0\n",
       "bang        83.0\n",
       "four        82.0"
      ]
     },
     "execution_count": 207,
     "metadata": {},
     "output_type": "execute_result"
    }
   ],
   "source": [
    "# docs topics are the documents in the topic paramter\n",
    "docs_topics = get_documents_by_topic('t3', .65)\n",
    "\n",
    "# get df of top word counts by df\n",
    "get_top_feature_counts(docs_topics, limit = 10)"
   ]
  },
  {
   "cell_type": "markdown",
   "metadata": {},
   "source": [
    "### TOpic 4"
   ]
  },
  {
   "cell_type": "code",
   "execution_count": 209,
   "metadata": {
    "collapsed": false
   },
   "outputs": [
    {
     "name": "stderr",
     "output_type": "stream",
     "text": [
      "/anaconda/envs/dsi/lib/python2.7/site-packages/ipykernel/__main__.py:20: FutureWarning: sort(columns=....) is deprecated, use sort_values(by=.....)\n"
     ]
    },
    {
     "data": {
      "text/html": [
       "<div>\n",
       "<table border=\"1\" class=\"dataframe\">\n",
       "  <thead>\n",
       "    <tr style=\"text-align: right;\">\n",
       "      <th></th>\n",
       "      <th>count</th>\n",
       "    </tr>\n",
       "    <tr>\n",
       "      <th>tokens</th>\n",
       "      <th></th>\n",
       "    </tr>\n",
       "  </thead>\n",
       "  <tbody>\n",
       "    <tr>\n",
       "      <th>exceptionally</th>\n",
       "      <td>93.0</td>\n",
       "    </tr>\n",
       "    <tr>\n",
       "      <th>sand</th>\n",
       "      <td>87.0</td>\n",
       "    </tr>\n",
       "    <tr>\n",
       "      <th>mt</th>\n",
       "      <td>86.0</td>\n",
       "    </tr>\n",
       "    <tr>\n",
       "      <th>lush</th>\n",
       "      <td>84.0</td>\n",
       "    </tr>\n",
       "    <tr>\n",
       "      <th>vintage</th>\n",
       "      <td>83.0</td>\n",
       "    </tr>\n",
       "    <tr>\n",
       "      <th>residual</th>\n",
       "      <td>81.0</td>\n",
       "    </tr>\n",
       "    <tr>\n",
       "      <th>thoughtful</th>\n",
       "      <td>80.0</td>\n",
       "    </tr>\n",
       "    <tr>\n",
       "      <th>wall</th>\n",
       "      <td>80.0</td>\n",
       "    </tr>\n",
       "    <tr>\n",
       "      <th>complexity</th>\n",
       "      <td>74.0</td>\n",
       "    </tr>\n",
       "    <tr>\n",
       "      <th>jams</th>\n",
       "      <td>74.0</td>\n",
       "    </tr>\n",
       "  </tbody>\n",
       "</table>\n",
       "</div>"
      ],
      "text/plain": [
       "               count\n",
       "tokens              \n",
       "exceptionally   93.0\n",
       "sand            87.0\n",
       "mt              86.0\n",
       "lush            84.0\n",
       "vintage         83.0\n",
       "residual        81.0\n",
       "thoughtful      80.0\n",
       "wall            80.0\n",
       "complexity      74.0\n",
       "jams            74.0"
      ]
     },
     "execution_count": 209,
     "metadata": {},
     "output_type": "execute_result"
    }
   ],
   "source": [
    "# docs topics are the documents in the topic paramter\n",
    "docs_topics = get_documents_by_topic('t4', .65)\n",
    "\n",
    "# get df of top word counts by df\n",
    "get_top_feature_counts(docs_topics, limit = 10)"
   ]
  },
  {
   "cell_type": "markdown",
   "metadata": {},
   "source": [
    "# Topic 5"
   ]
  },
  {
   "cell_type": "code",
   "execution_count": 214,
   "metadata": {
    "collapsed": false
   },
   "outputs": [
    {
     "name": "stderr",
     "output_type": "stream",
     "text": [
      "/anaconda/envs/dsi/lib/python2.7/site-packages/ipykernel/__main__.py:20: FutureWarning: sort(columns=....) is deprecated, use sort_values(by=.....)\n"
     ]
    },
    {
     "data": {
      "text/html": [
       "<div>\n",
       "<table border=\"1\" class=\"dataframe\">\n",
       "  <thead>\n",
       "    <tr style=\"text-align: right;\">\n",
       "      <th></th>\n",
       "      <th>count</th>\n",
       "    </tr>\n",
       "    <tr>\n",
       "      <th>tokens</th>\n",
       "      <th></th>\n",
       "    </tr>\n",
       "  </thead>\n",
       "  <tbody>\n",
       "    <tr>\n",
       "      <th>away</th>\n",
       "      <td>92.0</td>\n",
       "    </tr>\n",
       "    <tr>\n",
       "      <th>likely</th>\n",
       "      <td>91.0</td>\n",
       "    </tr>\n",
       "    <tr>\n",
       "      <th>earl</th>\n",
       "      <td>90.0</td>\n",
       "    </tr>\n",
       "    <tr>\n",
       "      <th>maiden</th>\n",
       "      <td>90.0</td>\n",
       "    </tr>\n",
       "    <tr>\n",
       "      <th>hidden</th>\n",
       "      <td>85.0</td>\n",
       "    </tr>\n",
       "    <tr>\n",
       "      <th>toasted</th>\n",
       "      <td>84.0</td>\n",
       "    </tr>\n",
       "    <tr>\n",
       "      <th>near</th>\n",
       "      <td>83.0</td>\n",
       "    </tr>\n",
       "    <tr>\n",
       "      <th>bandol</th>\n",
       "      <td>80.0</td>\n",
       "    </tr>\n",
       "    <tr>\n",
       "      <th>recommend</th>\n",
       "      <td>80.0</td>\n",
       "    </tr>\n",
       "    <tr>\n",
       "      <th>tolerance</th>\n",
       "      <td>80.0</td>\n",
       "    </tr>\n",
       "  </tbody>\n",
       "</table>\n",
       "</div>"
      ],
      "text/plain": [
       "           count\n",
       "tokens          \n",
       "away        92.0\n",
       "likely      91.0\n",
       "earl        90.0\n",
       "maiden      90.0\n",
       "hidden      85.0\n",
       "toasted     84.0\n",
       "near        83.0\n",
       "bandol      80.0\n",
       "recommend   80.0\n",
       "tolerance   80.0"
      ]
     },
     "execution_count": 214,
     "metadata": {},
     "output_type": "execute_result"
    }
   ],
   "source": [
    "# docs topics are the documents in the topic paramter\n",
    "docs_topics = get_documents_by_topic('t5', .65)\n",
    "\n",
    "# get df of top word counts by df\n",
    "get_top_feature_counts(docs_topics, limit = 10)"
   ]
  },
  {
   "cell_type": "code",
   "execution_count": 216,
   "metadata": {
    "collapsed": false,
    "scrolled": true
   },
   "outputs": [
    {
     "data": {
      "text/plain": [
       "array(['Spicy fruity and delicious', 'Awesome, top ten ever',\n",
       "       'B+/A-  (the is a fantastic amarone! Love it!!!)',\n",
       "       \"This is a wine where you can find flowers and fruits nose. But it's not what you think. Strong but elegant personality. It has what I look for when I really like a wine: looong finish. Strongly recommended!\",\n",
       "       'Hard to find, complex', 'Awesome',\n",
       "       'Color is deep plum. Flavors of raspberry and cocoa ',\n",
       "       'I get aromas and flavors of cherry, blackberry, cola, minerals with subtle toasty oak and smoke notes on the finish.  A medium bodied Oregon Pinot with soft, smooth tannins and heightened acidity making for a nicely balanced mouthfeel, with just a slight tartness.  ',\n",
       "       'Very smooth, rich & complex layered flavors. Excellent Pinot.  Served with stuffed cabbage & shared alone.',\n",
       "       'Blackberries and cranberry. Lots of leather and tobacco and smoke after it breathes for a while',\n",
       "       'Dark cherry and licorice. Still some tannic action but I like that. Good solid Pauillac with a couple years left',\n",
       "       'Anyways..',\n",
       "       'Color - Opaque purple with a brown Bordeaux rim and long legs ',\n",
       "       'The texture is incredibly round and silky, and the finish is long and fleshy. A superb wine.',\n",
       "       'Deserves a full 4.2*. Cab sauv dominant blend with a lovely dark color. Fresh aromas of blackberries and some leather. Smooth finish leads to an overall very balanced and elegant wine.',\n",
       "       \"Cuz it's awesome. Great w lemon drops\",\n",
       "       '\\xd0\\x94\\xd0\\xb5\\xd0\\xb3\\xd1\\x83\\xd1\\x81\\xd1\\x82\\xd0\\xb0\\xd1\\x86\\xd0\\xb8\\xd1\\x8f \\xd1\\x83 \\xd0\\xbf\\xd1\\x80\\xd0\\xbe\\xd0\\xb8\\xd0\\xb7\\xd0\\xb2\\xd0\\xbe\\xd0\\xb4\\xd0\\xb8\\xd1\\x82\\xd0\\xb5\\xd0\\xbb\\xd1\\x8f. \\xd0\\xa0\\xd0\\xb0\\xd0\\xbd\\xd0\\xbe \\xd0\\xb5\\xd1\\x89\\xd0\\xb5, \\xd0\\xbe\\xd1\\x87\\xd0\\xb5\\xd0\\xbd\\xd1\\x8c \\xd1\\x80\\xd0\\xb0\\xd0\\xbd\\xd0\\xbe \\xd0\\xb5\\xd0\\xb3\\xd0\\xbe \\xd0\\xbe\\xd1\\x82\\xd0\\xba\\xd1\\x80\\xd1\\x8b\\xd0\\xb2\\xd0\\xb0\\xd1\\x82\\xd1\\x8c \\xd0\\xbe\\xd1\\x82 \\xd1\\x82\\xd0\\xbe\\xd0\\xb3\\xd0\\xbe \\xd0\\xb8 \\xd1\\x81\\xd0\\xbe\\xd0\\xb2\\xd1\\x81\\xd0\\xb5\\xd0\\xbc \\xd0\\xbd\\xd0\\xb5\\xd0\\xbf\\xd0\\xbe\\xd0\\xbd\\xd1\\x8f\\xd1\\x82\\xd0\\xbd\\xd0\\xbe, \\xd1\\x87\\xd1\\x82\\xd0\\xbe \\xd0\\xb8\\xd0\\xb7 \\xd1\\x81\\xd0\\xb5\\xd0\\xb1\\xd1\\x8f \\xd0\\xbf\\xd1\\x80\\xd0\\xb5\\xd0\\xb4\\xd1\\x81\\xd1\\x82\\xd0\\xb0\\xd0\\xb2\\xd0\\xbb\\xd1\\x8f\\xd0\\xb5\\xd1\\x82 \\xd1\\x8d\\xd1\\x82\\xd0\\xbe \\xd0\\xb2\\xd0\\xb8\\xd0\\xbd\\xd0\\xbe. \\xd0\\x9d\\xd0\\xbe \\xd0\\xb1\\xd1\\x83\\xd1\\x82\\xd1\\x8b\\xd0\\xbb\\xd0\\xbe\\xd1\\x87\\xd0\\xba\\xd1\\x83 \\xd0\\xb2\\xd0\\xb7\\xd1\\x8f\\xd0\\xbb\\xd0\\xb8.',\n",
       "       'Berries and cherries galore some licorice watermelon and cherry jolly rancher',\n",
       "       \"Really nice Pinot.   A bit surprised.   Smooth, we'll  balanced!\",\n",
       "       '     More >>>>>>>',\n",
       "       'Inky black depths with a gigantic nose of spicy cedar, ripe plum with hints of Chambord liqueur. This is a huge Merlot (from a lighter vintage) with incredible depth and complexity. Opens up but never lightens up! Incredible mineral notes of graphite and a chewy density on the palate, finishes with hints of anise and Band Aid.',\n",
       "       'Medium+ aroma of red fruits, spice, licorice, ',\n",
       "       'Ripe blackberries, pepper and smoked meats backed by mouthwatering acids. Medium bodied and highly expressive. At its apogee. ',\n",
       "       '100% Tinta de Toro. Deep garnet color with s ruby rim and dense long legs. Mildly fruity with a full body, balanced acidity and grasping fine grained tannins. Delicious and elegant old world complexity. Lingering finish with a hint of espresso.',\n",
       "       \"Wow. It's a everything I dreamed of and more. Jammy fruit forward.  Mocha coconut roasted and jammy berries.  Unreal awesome \",\n",
       "       'Complex. Vanilla. A tiny bit of bacon.',\n",
       "       'This is a beautiful, complex wine. So many flavors come through-earthy nose, nice fruit balance, good acidity, minerals.',\n",
       "       'good example of Napa Cab. not OTT. enjoyable and well priced.',\n",
       "       'I really enjoyed this one. Black currants and chocolate with a hint of smoke wafting through. Big and chewy on the palate am a long fruity finish.',\n",
       "       \"A classic... Can't go wrong \",\n",
       "       \"Yum. Great nose opens up immediately, with cherry, raspberry, vanilla, and spice. Well balanced and fresh, nice mouthfeel, and there's an oaky-peppery combo on the finish that I like. \",\n",
       "       'Popular with my friends',\n",
       "       'Delicate, fragrant cherries, crushed berry fruit, gentle spice and subtle earthiness. Soft, silky and beautifully textured.',\n",
       "       'I have had the pleasure of popping open at least a half dozen of the 09 vintage.  This is a gem of Barolo, balanced and perfect with northern Italian fare.  Long finish.',\n",
       "       'A really fun Napa \"super Tuscan\". It is acidic with a medium body and full tannins. Needs a little decanting then enjoy',\n",
       "       ' Very pure but subdued nose offers ripe scents of cassis, licorice, mocha, dark chocolate and medicinal herbs. Broad, concentrated and extremely primary but not yet sweet or filled in, with strong acidity apparent through the very long finish.',\n",
       "       'I absolutely love this wine - perfect steak wine. Tannins have receded, still enough fruit but made special for me by the hint of spice',\n",
       "       \"If you like a West Coast Pinot, don't pass this one up.\",\n",
       "       'Let breathe for a full 2 hours.  Was amazing, brought us back to Tuscany....',\n",
       "       'Drinking excellent.  Better than many actual Brunellos',\n",
       "       'Fruity. Light. Earthy somewhat. Like.',\n",
       "       'This Pinot has a huge nose and tastes very good. Not too fruity and has a nice finish.',\n",
       "       'Spice, smokey aroma. Oak and leather.',\n",
       "       'Really happy with this one! Great TV wine ;0)',\n",
       "       'I swear this 75 Mouton tasted exactly the way it did 17 years ago! ',\n",
       "       'Licorice, and tobacco berries and tanins',\n",
       "       'Delicious. Went very well the first ever back bacon smoked by my friend Nick \"the Oast\" Robinson, served on sourdough, with cracked black pepper and Camargue fleur de sel. ',\n",
       "       'Veronique Sanders, who runs the Chateaux describes the 01 in one word: elegance. Still youthful but already drinking wonderfully at this stage of its life. Classic Graves earth, gravel and smoke but with a satiny, layered texture weaving fruits, ripe acidity and bold tannins on its muscular, toned structure. This youth has grace and potential. Probably the best QPR of the night, along with the 98.',\n",
       "       'nose of bold cherry & Merlot, black currant, smokey notes, complex, medium bodied, soft palate, but a bit of spice on the tail end, still quite young...should hold up for some time',\n",
       "       'Still young, light for a red body, medium fruit',\n",
       "       'On the heavy side for a Pinot. Good length, but very strong and somewhat overpowering. ',\n",
       "       'Excellent fruit, structure and balance.  Love how this is not an over the top Napa Cab bomb. ',\n",
       "       \"Simply sublime. N.Rhone whites of Hermitage can revile the great Montrachet's of Burgundy. Highly misunderstood cause they shut down early for 15yrs and age for 40. This wine is stellar. It will only get better and better and so will my score. love it!\",\n",
       "       'The colour is very concentrated in tones of purple violet. The nose is impressive by its complexity and intensity: charming notes of black current, red fruits, enhanced by a slight touch of vanilla and flowers.In the mouth, the attack is rich with silky and elegant tannins. The finish is long and fruity. It is a perfect addition for the medium-rare steak. Cheers!',\n",
       "       'Bright garnet color.  The nose showed red fruit.  The palate confirmed red fruit with wonderful balance and elegance.  There was gravel, limestone and soft hints of oak.  The was decent acidity, M- alcohol and M- tannins.  A wonderful treat that paired well with turkey and smokey sprouts.',\n",
       "       \"Intense Ruby Red in colour. Boasting black cherry, blackberry and tobacco notes. Requires time to absorb it's tannins. Delicious!\",\n",
       "       'Incredibly smooth, fruit forward and finish of coffee and earth... similar to a cab, but with the light mouth feel of a chianti.',\n",
       "       'Fine sweetness with full bodies heart ',\n",
       "       '4.75.   Big, smooth, bold, fruity beauty.  This was a liquorice cherry bomb and leaves a lush lingering finish on the palate.  Beautiful beautiful stuff.   Went incredibly well with an excellent medium rare bone in ribeye!!',\n",
       "       'A lot like Silver Oak Napa.  Lovely and balanced.',\n",
       "       'Drinking very well at 20 years of age.',\n",
       "       'The full-bodied fabulous, rich flavours woke up my palate instantly, lots of fruits and ripe bulky tannins, lovely acidity for cellaring, rich long finish.',\n",
       "       'I was very impressed with this wine. It was recommended by the owner @ Les Jalles in Paris.  The nose hit me before i could lift the glass! Exceptionally smooth with little acidity & tanins that were great out of the bottle.',\n",
       "       'Very good. Rich and powerful with layers of aromas building up its complexity making it extremely pleasurable to drink. Go forth and be merry. ',\n",
       "       'Full body earthy',\n",
       "       'Bold blend. Deep purple color. Smooth despite a tinge of pepper.  Notes of blueberry, black current, leather and mild toasted spice.  Smooth mouthfeel with mild acid.  This will not disappoint\\xe2\\x80\\xa6very popular at the moment. Records show that the Mascagni family owned the castle until 1254, when Marchese Borro Borri, a Milanese nobleman, bought the property. The property was passed through his family Girolamo del Borro, philosopher. It was under the patronage of his son Alessandro, that the Il Borro was established.',\n",
       "       'Excellent pinot. Vines are nice and stressed from the drought which results in great complexity. A truly Burgundian style Pinot. Blueberry, tight finish.',\n",
       "       'Dark purple Malbec driven Bordeaux blend. Has all the fruit of Malbec laced with structure from the other varietals.',\n",
       "       'Wow',\n",
       "       'Very good Barolo.  Dry fruit. Medium minus depth.  Smooth.  Nice flavor.    ',\n",
       "       'Full bodied hint of oak strong finish with fruit',\n",
       "       'Another consistent quality Croix Saint Georges from Pomerol. Beautiful floral, perfumed nose mixed with generous fruits, lovely concentration. Full-bodied, dense, some oak spices tones. A well-made wine but did not stand out from the crowd in Pomerol.',\n",
       "       \"Vanessa's 40th birthday. Sitting on deck and eating chocalate brownie.  3+ soft tannins. Large amt of fruit\",\n",
       "       'Has a great balanced structure with fine tannin of cherries and round medium plus acid stretching to a long finish ',\n",
       "       'Perfect. Beautiful layers of everything down to roses and oddly enough oats? Theres currant and cigarbox and all the classy stuff. Bottom line is this wine is flawless and taste brand spanking new. Senstational.',\n",
       "       'Very nice right bank wine, 100% merlot, opaque burgundy purple color, nose is very fragrant and dominated with dark chocolate, black cherry and mint. Full body with very firm tannin, taste of 90% cacao dark chocolate, black berry reduction, roasted fig, eggplant, black tea and mild black pepper kick, long finish with sweet tannin aftertaste, jammy and yummy.',\n",
       "       'Aromas of alcohol and tobacco are the opening act to a big warm wine with a long powerful finish. The precise flavor profile is tightly hidden from the taster. This wine needs more time in the bottle or serious decanting.',\n",
       "       'Not the best vintage, but this wine is mighty fine right now.  ',\n",
       "       'Delicious!   Drinking very, very well now.',\n",
       "       'Shy and a little moody despite decanting for over an hour. Very broad shoulders and big fruit. In no real mood to play at the moment. Would leave for another 10yrs perhaps.',\n",
       "       'There\\xe2\\x80\\x99s a distinct herbaceous streak in this cab sauv-dominated blend that was off-putting. I have tolerance for some degree of this which is common in cabernet sauvignons and cab francs but, in the case of this \\xe2\\x80\\x9911 Spottswoode, it is completely out of whack. I\\xe2\\x80\\x99m not terribly optimistic about its future.',\n",
       "       'Best wine I have has in 5 years.  Superb nose and finish.  A real treat. ',\n",
       "       \"One if the best bottles of wine I've ever had - bar none. Exceptionally complex and rich beyond words. This is a wine for wine connoisseurs. You don't taste it...rather, you experience it. Beautiful.\",\n",
       "       'not bad but have had better grand crus', 'Yum!',\n",
       "       'This one  broke the bank to purchase worth every penny a smooth left bank with balanced acidity and a rich berry blend wow wow',\n",
       "       'Brilliant',\n",
       "       'The 2002 Matriarch was unfortunately on its way to decline in 2016, but still teaming with black fruits of blackberry, and black cherry, with underlaying of blackcurrant, cassis, chocolate and figs. The color was a little cloudy, but she still had a voluptuous mouthfeel, with generous tannins. After 14 years in a bottle, this Matriarch still reigned supreme.',\n",
       "       'Smokey, umami', 'Easy drinker on a hot day', 'Wow',\n",
       "       'Big fruit, could do it all day long',\n",
       "       'fruit forward, med bodied, smooth yet spicy on the finish with medium tannins and herbs. long finish.',\n",
       "       'Full body Brunello, tight and closed at this stage.  Deep dark purple in colour, aromas of black fruits, liquorice, black pepper, capsicum and a bit medicinal.  You feel a good potential but not hugely enjoyable at this stage.  High acidity and high tannins',\n",
       "       'An awesome Brunello served up by Jack Madrid. Excellent vintage and stellar producer, light on its feet but packs huge aromatics. Delicious now but will continue to age well for years to come.',\n",
       "       'Thick, earthy, robust.  Excellent.',\n",
       "       'Showing nice bricking, the nose is marked by classic Burgundy florals & fruit notes. Still holding flavors of black & blue fruits, this age now reveals its brambly undergrowth. The silky texture shows both character & grace. Another 2-4 yrs will yield amazing wine!',\n",
       "       'Merlot driven 62% with 23% Cabernet Franc & 15% Cabernet Sauvignon this is one of the best value Bordeaux style blends in South Africa and having tasted since their maiden vintage, LRV develops really well over a period of 7 years from release.',\n",
       "       'Super second growth wine challenging the top five first growth, certainly won the best-value wine. In the same family tree with Pichon Baron, both properties are unique and different from each other. ',\n",
       "       '14% ALC WDW AKR BOMA RESTAURANT SO AFIRCA WINE PAIRING 55% Shiraz and 45% Cab Sauv blend. Rich and soft full of black cherry cassis tobacco and spices. Smokey with velvety mouth  coating tannins on the palate.  Rich sleet smooth finish with a hint of fresh mint. Best of the three.',\n",
       "       \"Very good.  Not all like the Amarone style of winemaking but I do.  Bright ruby in colour.  The nose is candied.  Real maraschino cherry feel.  The palate though feels more of darker fruit.  The Amarone dried black fruits feel comes through.  Really nice even temperament and very silky smooth mouthfeel.  Rated 4.2 it's very good.  At $80 it's not cheap but hard to argue with the price all the same.\",\n",
       "       'Blind tasting is a valuable and humbling exercise. But a great and fun experience especially with masterful tasters like Christine and Burgnut.  Salud!',\n",
       "       '\\xf0\\x9f\\x91\\x84 Sweet & mild tart cherry and strawberry in a light-med smooth silky body which seems to lack a little',\n",
       "       'This wine was ridiculous.  Graphite, tobacco, and leather coupled with dark dense plums.  The finish was a coast to coast train ride that opens into a lush coffee and cocoa texture.',\n",
       "       'Big cherry fruit, nice finish, hold for 3-4 years.',\n",
       "       'Dark chocolate, mocha, vanilla, clove, cinnamon, chocolate covered cherries, raspberry, red currant, and French oak. Smooth texture, and drinks exceptly well.',\n",
       "       'After 16 wines in this battle, I think Australasia won... Stayed tuned for the sequel...',\n",
       "       'Nice dark fruit. There is a lot going one here: smooth mid pallet with a nice tannin finish that lingers. This leaves the mouth watery and would go perfect with a Thanksgiving turkey.',\n",
       "       'Not as good as expected. A little short.....',\n",
       "       'Singing right now with dark current and blackberry notes. Tannins are very well integrated with a softness one would hope for. Tertiary notes sit in the background waiting on their time to show. ',\n",
       "       'Not as pure as the 90 but drinking',\n",
       "       \"The 2005 Latour is very approachable now and is comprised of 87% Cabernet Sauvignon and a combined 13% Merlot and Petit Verdot.  It is nearly perfect textbook Pauillac- in both bouquet and palate. It's full bodied structure presents  concentrated layers of pencil lead, black fruits, dried flowers, cedar and anise. The tannins, while apparent, are well integrated and smooth.  An infinite finish caps off this super stud. Pairing- assorted cheeses and light unseasoned crackers.\",\n",
       "       'Incredilble wine, worth $160 bucks? I think so... Smooth, rich and concentrated. A perfect expression of old vine Barossa Shiraz',\n",
       "       'This grand cru is powerful and rich, allowing just a note of freshness to creep into the firm structure. Dark tannins, black fruits and smoky wood flavors combine harmoniously, landing a sense of great power and long-term aging potential !!',\n",
       "       'Wonderful blend. Very rich. ',\n",
       "       'Yep one more! Unlike most local producers Bertani owns its own vineyards so controls the entire process to produce juice with a style that reminds you of your favorite college professor. Just at its peak, with structure & an elegance that makes you sit in the front row!',\n",
       "       'A bit disappointing at this price point. Too much acidity for the fruits (Unbalanced).',\n",
       "       '             More >>>>>>',\n",
       "       \"I've been wanting to try this for a while. That dryness. That smoothness. It's a Margaux for sure. You pick up that dusky nose that leads to flavors of raspberry, blackberry & black currant. A bold wine for sure but the tannins seem to have rounded edges making it easy to drink, even while it sucks the moisture out of your mouth! I guess maybe I need another sip....\",\n",
       "       \"Alter Ego is the fourth most expensive wine in Margaux, and it is understandable why Palmer don't refer to Alter Ego as their second wine.\",\n",
       "       \"The best ever. Nez de fra\\xc3\\xaecheur, r\\xc3\\xa9glisse noir et torr\\xc3\\xa9faction. Un 2e nez qui s'ouvre sur les m\\xc3\\xbbres. Saveur et ar\\xc3\\xb4me de chocolat. Le prix en vaut la chandelle. \",\n",
       "       'A wonderful blend of Grenache, Carignan, Syrah and Cabernet Sauvignon. According to the winery, this wine is made \"following in the \\'Grand Crus\\' traditional artisan methods.\" Dark core with a dense crimson rim. Powerful aromas! Rich and ripe dark fruits, licorice, tobacco and graphite on the nose. Big, rich and full bodied, medium plus acidity, and velvety tannins. Delicious lingering finish. This wine is not only made in the ways of the Grand Crus, it also has the terroir.  4.7 stars.',\n",
       "       'Who said France? When you can have a Priorat for half of the price!',\n",
       "       'Wrong image here. And I had the FEL Pinot. A nice respite from the relentless Napa Cans (we were tasting). ',\n",
       "       \"Light and full of fruit. An elegant expression of Rioja's best\",\n",
       "       'Big cab! Bursting with dark fruit and earthy leathery tannins. Big finale as well. Went very well with my fave veggie lasagna. Will go even better with my fave Arturo Fuente cigar!',\n",
       "       'Classic Bordeaux nose...bright rich fruit on the palate is more reminiscent of New World style than French, but may be a function of the age.  Needs more time in the bottle; will only get better.',\n",
       "       'I turned 40 today. So did this wine. Deep ruby, which was a pleasant surprise for a 40 year old wine. Huge nose of leather. Fruit is still slightly present with big cedar, tobacco, earth and some spice. This wine could be had on my 80th birthday... It can make it... Will I?',\n",
       "       'Juicy berries, oak and big tobacco. Very smooth. Nice contrast in flavors and each stood out at a different time for excellent contrast.',\n",
       "       'Bought this wonderful wine at a small shop in Montalcino for 24.00 euros. Enjoyable Sangiovese with smooth dry finish.',\n",
       "       'Very tannic upon opening. Requires a few hours to open up and blossom. Mushrooms and green espresso, undergrowth and mushroom. Blackberries are in abundance. This is still young and its drinking window is now - 2025.',\n",
       "       'Complex,  subtle,  clean and crisp.  Flavors of peach and vanilla.  Hints of gravel and mineral. Yum',\n",
       "       'Smooth, light delicious. One of my favorite reds to date.',\n",
       "       'Well rounded. Slightly spicy.',\n",
       "       \"Fruity, oaky, has a little alcoholic taste to it, he seems the rating I've given it.\",\n",
       "       'Drunk with other good wines with friends at an evening meal. No detailed comments; can only say it was the wine of the night and lived up to our expectations.',\n",
       "       'One of the best Cabernets I have every enjoyed. This one has it all...exceptional balance of fruit, acid and tannin with enough structure to last 15 years easy. Fantastic!',\n",
       "       'Wine of the Night at Vivino PH-SG dinner. ', 'Big, oh well',\n",
       "       'A good solid bottle of Napa Cab. Blackberry and clove on the nose. More berry flavors along with anise, sage, dark earth and oak. Medium-dry finish.',\n",
       "       'Dark purple color, rich nose, nice body... Great fruit taste and full tongue, lasting finish. Very nice!',\n",
       "       'Bordeaux style blend. 100% French oak for 23 months. Can age for up to 15-20 years. Lighter in color. Great legs in the glass. Fresh pepper on the nose. A tad bit sweeter (red apple) than I would like. Decent fruit but needs more time to age. Not my favorite Bordeaux style blend hat I have encountered in South Africa but it is a pleasant wine. 87',\n",
       "       'Very nice with stable complexity but tannins needed to be more reserved. Could she for a few years. Will likely be amazing in a few years.',\n",
       "       'Nice nose but underwhelming when tasting. High alcohol, plum, blackberry, wood,  vanilla, high tannins. Need food to go with it. 87 pts ',\n",
       "       'Devine',\n",
       "       'A big and brooding style of Merlot, from an area best known for its whites. Named for a juxtaposition between the femininity and brawn of the Estates style, and sourced from low yielding vines. This wine spends considerable time cold macerating at low temperatures to pull as much flavour from the skins, while retaining fresh acidity. On the nose there was quite an animal tone of horse saddle, with layers of mushroom, and wet bramble, followed by a dry and juicy, black fruited, spice, and plum palate. 14.5%.',\n",
       "       'Faboulous wine! Full body wine with notes on raspberries, cedar. Spectacular syrah. ',\n",
       "       'Nicely mature; fruit and 2ndary flavours in the palate,good balance soft tannins and good finish.',\n",
       "       'I liked immediately. Had with sushi',\n",
       "       'Lovely vino... Easy drinking and not heavy at all!!! ',\n",
       "       'Notes to follow... ',\n",
       "       'A classic Dominus. Flamboyant and extroverted. Bouquet of mocha, blackberries, currants, cherry liqueur and vanilla. An incredibly fresh bottle. The tannins were very robust and lively, and combined so well with the sexy dark fruit that dominated the palate. Not complex but it displayed excellent length. Sexilicious! At a perfect spot right now.',\n",
       "       'Big but not overpowering. Leather and black cherries. Will age for years.',\n",
       "       'A blend of Merlot, Cab. Franc, and Malbec. Not fantastic, but a good wine displaying cranberry, black currant and nicely layered. Med.-bodied with good acidity.',\n",
       "       \"Definitely the best wine I've drunk so far.\",\n",
       "       \"Earthy, balanced, better than many pure amarones (and that's saying something)\",\n",
       "       'Appears to be a \"generic\" Brunello? Maybe someone could enlighten me. A gift from a priest, an old family friend (true story).',\n",
       "       'But overall lacks complexity ', 'Fruity with a rich finish',\n",
       "       'Very soft with some heat at the finish. Fresh juice flavors of blackberry. Right out of the bottle it has spiced essences and soft tannins. ',\n",
       "       'Really nice wine. Deep dark fruit.  Smooth drinking.  A repeat no brained.  Andy',\n",
       "       'What a lovely evening with JJ Woods drinking some SLH Pinot.',\n",
       "       'Met the man what a tasting.',\n",
       "       'Thought it was corked at first but has opened up nicely since.  Now rather better with graphite, leather and prunes comming through.',\n",
       "       'This is a big fat wine. At 13.5% an a fuller body than Kim Kardashian! Wow it packs a punch of ripe cherries and plumbs and cassis with an earthy and wood super long chewy finish! Beautiful!!!!',\n",
       "       \"C'est ridiculement bon \",\n",
       "       'It took about 2 hours of breathing for the wine to show its potential.  It has lots of fruit but is closed right now.  After breathing it began to open and show the depth of flavors and balance.  I think it needs at least 1 to 2 more year but I will be buying a bit more as it will evolve into something terrific!',\n",
       "       'Definitely would be better with cellaring. Strongly toasty oak nose with sour cherries and coffee.  Palate of smooth oaky dark cherry, balsamic strawberries and chocolate/coffee.  Fine grippy tannins. Muy bueno',\n",
       "       'Beautiful balanced. Rich full fruit which edges out the 09 (just) one of my picks of the tasting. Pomerol on song',\n",
       "       'At first comes notes of blackberries, mullberries, musk and eucalyptus with floral undertones.',\n",
       "       'Full-bodied and extremely smooth and elegant , with medium acidity and nice legs.',\n",
       "       \"Really superb, the nose is fruity and a little nutty, the pallet is delicate and smooth with raspberries and strawberry dominating. It's light and fruity and then a little vanilla to finish off. It really was a treat.\",\n",
       "       'Slightly dry but smooth ', 'Highly recommended by Ian. Velvety!',\n",
       "       'This one is missing big time on the finish and is a bit too acidic',\n",
       "       'Not quite what I was hoping for but still a lovely wine. ',\n",
       "       'Med to med plus body', 'All I can say is \"Thank You!!!\"',\n",
       "       'Light raspberries, bold tannins leathery. ',\n",
       "       'Good qualities similar to Penfolds RWT, and much better priced than RWT.\\xf0\\x9f\\x91\\x8d',\n",
       "       \"Made in the traditional style, its nose smelled of perfume...plums, dark cherries, thyme, cedar & forest floor. The fruit was intense; the tannins velvety and sweet; and the acidity awesomely fresh. For such a young wine I found it seamless. Limpid and suave in texture. So well balanced and accessible that I wouldn't hesitate drinking this at an early age. A beautiful BdM.\",\n",
       "       'Bought this at Costco for $48. I have had the 04 in the past. I believe it was better back in 04. Good wine not great but for $48 makes it taste better :)',\n",
       "       'Nice Shiraz Viognier, lovely nose but needed around 2-3 hours to really open up. Good wine but maybe I over rated it a bit first time, still a strong 4.5/5',\n",
       "       'Dark opaque burgundy color, notes of white pepper, licorice, tobacco and paprika, still needs an hour to smooth out the tannin in the decanter, velvety tannin with tastes of pomegranate, dates and prune, complex and long finish, mild spicy kick. Paired wonderfully with a ribeye topped with Yakima salt.',\n",
       "       'Smooth',\n",
       "       'As with the 2014 flagship, this is a phenomenal wine. It is far too young still and the winemaker suggests letting it be until 2023! ',\n",
       "       'Very smooth, juicy and great finish.',\n",
       "       'Easy drinking pinotage with coffee and chocolate notes.',\n",
       "       'Great value - light and fruity',\n",
       "       \"Lots of leather and dirt. Had quite the tannic astringency. Did not have with food, which would have benefited both. Bottle was open for a few hours. Not sure it would have benefited from any more time, but decanting definitely wouldn't have hurt.\",\n",
       "       'On the nose cherries, currants, tobacco, chocolate and pencil shavings.',\n",
       "       'Perfect accompliament with roast lamb chops on Easter Sunday. Dark ruby color with wonderful aromas of dark berries and pepper. Smooth and silky mouth feel with a layered medium finish. A big mature wine. Excellent.',\n",
       "       \"A wonderfully elegant & restrained Rh\\xc3\\xb4ne styled blend from the Swartland. Expertly crafted by one of SA's best winemakers, Eben Sadie, this is an exceptional wine not to be missed if you can handle the hefty price tag.\",\n",
       "       'Plum and cherry. Simple. ',\n",
       "       'Black cherry, black liquorice, dried herbs, medicinal, eucalyptus on nose; balanced palate, ripe tannins, elegant acidity, flavours of blackcurrant leaf, blackberry, cherry and a long finish',\n",
       "       'Amazing',\n",
       "       'Dark, well said invented cork. Intense open take Ruby in the glass. Tanic and somewhat tart on first tasting. Allowing this to breathe. Marvelous oak notes. Allow to breathe 45-60 min. ',\n",
       "       'Black currant and musty hay. This is huge and unbelievably great!',\n",
       "       \"Smooth and so good it's not even funny!\",\n",
       "       'As promised, drinking my cellar this year; chose this because ... Why not?',\n",
       "       'Really strong alcohol profile, way hot.',\n",
       "       'A dead ringer for Bordeaux. ',\n",
       "       'Tasted this wine couple of years ago, it aged well. Earthy smell. Licorice, nice mix of minerals, fruit and herbs, pleasant tannins, bit of oak, very well balanced full bodied wine. Sadly it is my only bottle.',\n",
       "       'Shocked with the quality for the price. Wow.',\n",
       "       '85 and 86 are my favorite vintages of this wine!',\n",
       "       'Rose and licorice, chocolate and coffee. Good Shiraz',\n",
       "       \"Very crisp, going well with salty and sour Asian snacks.  Wouldn't celebrate with this but for a dinner party where you need a case of something with good value... this works. \",\n",
       "       'At first a bit on the alcoholic side. Not enough berries at the core. Full of terroir, lots of earthy tones mixed with alcohol and shoe polish. Nice but not quite there.',\n",
       "       'Tasted alongside a Trotanoy 2005. A lot finer but much less power. The nose is a little disappointing in the first hour but then opens a fair bit. The finish, albeit not quite as spectacular as the Trotanoy, is very exciting, deep and long. The mouth and palate are very sophisticated with layers of honey and spices. This is ready to drink now, but will no doubt age beautifully.',\n",
       "       'Mild but complex deep in colour. Fantastic with meat.',\n",
       "       \"Excellent, Harlan's know how to make outstanding wine! \",\n",
       "       'The 2005 Couspaude, my first of this label, is a fantastic, reasonably priced, right bank sleeper.  Deep red purple in color, it boasts Layers of pleasantly light oak, Grilled game, and black currants.  With a smooth texture and medium to full body, the Couspaude provides an unctuous mouthfeel and delicious drinking.   Now is a perfect time to drink this charmer.',\n",
       "       'Bit spicy with the currant coming thru.... But fun for sure',\n",
       "       'Very enjoyable. Drank to accompany a karaoke evening.',\n",
       "       'One of my favourites .... Deep, dark purple in colour with jam, Crimson and prunes. A fantastically balanced wine that gets the table talking',\n",
       "       'Big, big wine. Love it.',\n",
       "       'A deep garnet colour, light nose of cassis which faded quite rapidly; medium body and still moderate tannins but fruit very weak on the palate; none of the jamminess of its youth remaining. While a reasonable start, paled into insignificance beside what followed- when retasted felt v thin.',\n",
       "       'I gave it only 4-stars as for the price, i was expecting more.',\n",
       "       'Decanted. Arid and tannic up front but the fruit is integrated into that first impression, so you get kind of a fist of fruit that made me feel like the wine was ...um standoffish - like it\\'s holding out on me. Three hours later the \"in your face-ness\" softened a lot but seemed like it had more in reserve. Ultimately licorice and fennel emerged, and the vanilla at the very end. This ended up being the better of the two but the other was more fprthcpming. (Tasted this against the Cali I just posted.)',\n",
       "       'Strange at first, but is fantastic once it opens. Lots of smokey metallic smells, almost like a BBQ. Relatively light in color and texture. A bit tart. A spicy, long finish.',\n",
       "       'Mushroom and wet leaves, dried tobacco and dark red stewed fruit, fire roasted tomatoes. Fairly acidic. Better the second night open. Quite young, but should develop nicely over the next 5-10 years.',\n",
       "       'Fresh, crisp and clean.',\n",
       "       'The 2010 Malk CS is a massive tannic fruit forward Napa fantastic juice which needs another 5-10 years to approach drinking age. Full bodied and concentrated, it has great legs in photos now- will be a rock star hottie in the future',\n",
       "       'Light ruby/orange color, extremely transparent.',\n",
       "       'Simple delicious',\n",
       "       'Fruit\\xc3\\xa9, long en bouche, bonne texture, moyennement cors\\xc3\\xa9',\n",
       "       'Not displaying the depth, complexity & elegance that a great Pomerol can at this age. Several rungs below the great Pomerols.',\n",
       "       'Very drinkable, earthy ripe cherries , nice tannins and smooth, tart finish. ',\n",
       "       \"If I could rate it I'd give it a 4.8, damn near perfect. Best French Wine I've ever tasted. Not super knowledgable describing wines but what little I can say - Full and complete, nice smooth kick on it. Really enjoyed it and would buy more any chance I could. Happen to run across this wine in Amsterdam of all places.\",\n",
       "       'delicious leather, plum, tannins, smooth with a pleasent bite.  cherry.',\n",
       "       \"Yes I know it's a baby but I couldn't resist.\",\n",
       "       \"Ruby. Blackberries, plums, licorice and mocha. Some oak. Textbook young Pomerol, a blend of mostly merlot and some cab franc for structure. Solid tannins which needs some time to resolve. Some sediment. Mature Conseillantes (82, 85, 89 and 90) are among the best Bordeaux I've had. Give this wine another 5-7 years at least. Excellent.\",\n",
       "       'This was the final bottle of the evening and a fitting one. You could feel the controlled intensity and style of the iconic Barolo traditionalist. ',\n",
       "       'Dark garnet colour with some bricking.',\n",
       "       'Great compliment to thanksgiving',\n",
       "       \"Outstanding. One of the best reds I've had. Very smooth. Rich. Earthy. \",\n",
       "       'Liquorice, mature. Some heat in it!',\n",
       "       'Good match for the variety of courses from fish to duck. I enjoy Burgundy with food but have rarely found one that I like to drink without a matching meal.',\n",
       "       'Fruit forward surprise. Cherry, and mulberry followed by pepper and a hint of smoke. Wonderful from start to finish. Nice adult wine',\n",
       "       'my fav winery from walla walla continues to push for the frontier of walla walla wine. 90% cf 5 PV 5 malbec is a expressive blend for the cool 2011 vintage. harvested at early November and aged for 19 months in 40% new French oak. this wine has a beautiful weather driven nose of tart cherry, white pepper and herbs like bay leave. high acidity combined with the chewy affirmative tannin follow to a long finish on top of vanilla and clove wrapped oak with a medium body. 92 pts.  best cab franc in a long time',\n",
       "       'Dry, smokey with plum & wood notes',\n",
       "       \"Amazing nose, very complex. Every sniff uncover a new layer so it's not just spice. Very hard to describe. On the palate, the fruit is very present but I also got a hint of artichoke. All very well integrated. Definitely worth trying\",\n",
       "       'Nose: warm and smoky tree fruit and spices. ',\n",
       "       'Deep red with nice aroma, goes down smooth with vanilla and hints of raspberry and smooth finish',\n",
       "       'Inky black depths with a gigantic nose of spicy cedar, ripe plum with hints of Chambord liqueur. This is a huge Merlot (from a lighter vintage) with incredible depth and complexity. Opens up but never lightens up! Incredible mineral notes of graphite and a chewy density on the palate, finishes with hints of anise and Band Aid.',\n",
       "       \"2008 is the first Grange with the perfect 100 score. It's everything you can really ask for from top quality Syrah!\",\n",
       "       'Smooth, soft Pinot.', 'Perfect.',\n",
       "       '\\xf0\\x9f\\x8e\\xaf Long dirty fruit filled finish with slight dry ending',\n",
       "       'Outstanding',\n",
       "       \"Grape starts with a taste young raisin, blackberry and finishes very dry on the tongue. I don't enjoy this very much sipping on its own but would be tastefully complemented with fish. Would be great with hard, strong cheese. \",\n",
       "       'Awesome!', 'I really like Carmenere. 36.99 at BC Liquor stores',\n",
       "       'Very young needs time in  the bottle. After decanting opens up ',\n",
       "       'Sheer in color, lighter red. Med bodied, juicy acidity, smooth tannins, a medium length finish. ',\n",
       "       'Noble brunello, my favorite Italian wine',\n",
       "       'Bramble berries and lots of dried black fruit. Little bit of tar in the finish.',\n",
       "       'Aniseed from the middle of a gob stopper on the nose .',\n",
       "       'Black fruit, licorice, smoke, wet cedar box. I like the balance, not too \"oaky\". ',\n",
       "       'The nose displays strawberries, red cherries, wet leaves &  vanilla. Low tannins, medium body with flavours of smoke, mushroom, raspberries and a long finish.',\n",
       "       'OMG! Really nice and truely a loud counter argument to Bordeaux. Not sure if the avg price  for this vintage is too high...',\n",
       "       'Jean-Rene said there was extremely strict selection for this vintage. I am not a fan of the desiccated fruit with stewed bell pepper note I typically get from the 2003s. But this had no hint of those aromas or flavors. Delicious cassis fruit dominated with dusty earth and a decadent mouth coating finish that I have to admit gives instant gratification that I think all wine drinkers can appreciate.',\n",
       "       'Yum. B /A-',\n",
       "       'Big & Bold. So much flavor & spicey! Perfect with our Cuban food',\n",
       "       'Red to brick red on the edges. ',\n",
       "       'Rich blackberry, mocha, and gamey bacon aromas with rich meaty fruit and layers of complexity on the palate and very long finish.',\n",
       "       'Really nice. Relatively straightforward- nose is of the chais but did not get any specifics. Full bodied, well-structured, lip smacking tannins, clean finish. A great drink and pure fruit expression. ',\n",
       "       'The last wine tasted at the outragesly amazing tasting. Loads of juicy cherries. Hints of spice. Full of flavour. Gentle smooth yet big full finish.',\n",
       "       'Firm tannins that will mature very nicely. Has all the qualities of a good Bordeaux.',\n",
       "       'SIN-MEL-SYD #6 First of all very generous that Jacob A. brought this baby along it. A baby it sure was hardly out of its diapers even for a 9 year old! Long life ahead!',\n",
       "       'Excellent Pinot Noir. Sweet but complex with a long finish.',\n",
       "       'Prefer the  2006 bit this is nice too',\n",
       "       \"Clean clear with a ruby core and feint watery rim. Med+ viscosity. The nose is a combination of smokey tones and vegetal notes. It's a bit closed though. Some stewed red fruit but it needs time in the glass or decanter to open fully. On the palate the wine is dry, med acidity and med+ alcohol. It has med to med- tannins. Very smooth wine with a med+ finish. \",\n",
       "       'The fantastic 2012 Colgin IX Proprietary Red is a skillful and synergistic blend of 62% CS, 19% Merlot, 11% CF, and 8% PV.  The nose and palate are characterized by elegant and unctuous layers of florals, berries, dark fruits, lead pencil, coffee, and full bodied mystique. Will age well for at least another 10-20 years.  Great juice!!',\n",
       "       'Perfect 100 Point Syrah.  I believe only second one in American history.  Balanced bacon, coffee, black pepper and black berry fruit.  Cuttings from Chave and you can taste it confirming right away.',\n",
       "       'Rich, plenty of dried fruit. Mouth filling tannin. Dynamic balance between freshness and ripeness. Should be very age-worthy.',\n",
       "       'Palate: grape jam, root beer, medium-high  in tannins with a finish in violets',\n",
       "       'Good, straightforward Pinot Noir',\n",
       "       'Plummy, bright cherry aromas. Perfectly balanced tannins. High acidity and a mocha long finish. A bit over priced in my opinion ',\n",
       "       'Great nose on blacberry, cedar, vanilla.Well rounded. Great finale on cedar.',\n",
       "       'Excellent French wine.  Never disappoints',\n",
       "       'This is a great value wine and tastes like a much more expensive Italian wine. ',\n",
       "       \"An amazing QPR Napa Cab. The best 25 bucks I've spent on anything in a long time. It's 84% cab, 8% merlot, and 8% petite verdot. Full bodied with moderate dryness, and wonderful tannins that have a lush feel to the mouth. Easy to drink with mild acidic quality. The nose has a nice blend of French oak with some spice and vanilla. The palate is ripe dark fruit with the same oak and lingering, smoothly spiced, vanilla finish with a hint of pepper and smoke. I give it an extra half star for the amazing price!\",\n",
       "       'Fruity and tastes slightly like truffle',\n",
       "       'A very distinctive nose with some stewed plums and raisins, as well as flowers and minerals. A refreshing wine to have as it was full of personality and continuously evolved over the evening.',\n",
       "       'Yeah!! Miracle of Bandol.', 'Quite good!',\n",
       "       'The nose opened slowly but is pure elegance and sophistication. The palate was liquid silk with hints of gentle, highly polished fine tannin. Wonderful mouth feel, fruit led but with tobacco, earth, floral, spicy oak, complex and persistent. An enduring finish.',\n",
       "       'So much going on... Processing.  Hot at first then 2 hrs later it was vacant... No flavor left at alll. Bad bottle??',\n",
       "       'Deep, concentrated, peppery, but smooth, some cinnamon. ',\n",
       "       'Dark bright red. Florals and red/ black fruits. Smooth palate. Great balanced fruit ripeness. Spice, fine tannin and some acid. Elegant in a Barossa way.',\n",
       "       'Red fruit and a little alchohol on the nose. Nice smooth approach, the tannins show at the end. Enjoy!',\n",
       "       'Lemon, lime. Fresh fruits with a long acidity finish.',\n",
       "       'Very good needs more time in bottle',\n",
       "       \"I know this to be a quality Bordeaux right bank wine, despite its New World influences. Full-bodied, concentrated red fruity flavors and all that good stuff. But here's the thing...it did not inspire or move me. Maybe it was not decanted long enough, or maybe it was served a little too cold...or maybe it was just outshone by the other bottles last night. Or maybe it's just not my thing!\",\n",
       "       'Strong cherry, ripen tannins, medium + body. ',\n",
       "       'Very good creamy yet fresh on the approach, firm but fruity, lots of dark red fruits, some oak but very well integrated at this early stage. This is yummy and will last for a couple of decade.',\n",
       "       'Showing very well. Expressive fruit, with a rather feminine, violet infused nose.',\n",
       "       'A very nice wine but my palate may not be sophisticated enough to fully appreciate. Little nose even after extended decanting period. Fruit nice and rounded with a crisp',\n",
       "       \"I paid over $300 for this, and you know what? It's pretty damn good. No, it's not Bordeaux-like. It's classic Napa through & through. It's classy, it's elegant. Reserved & refined. Got a few in the cellar? Don't rush. \",\n",
       "       \"Wow! So much different than the 2000's Opus I've had. Very Bordeaux-esque.... Layered and complex, there is a barnyard quality to the nose, and there is an immediate herbaceousness to the palate. If I had been blinded on this I would have guessed pulliac or graves. Blown away.\",\n",
       "       'Dark colouring purple edge. ', 'Congratulations Burgnut!!!!',\n",
       "       \"Classic Napa Cabernet. That's all.\",\n",
       "       'An instant winner.  Full on dark fruit on the nose with a touch of earthiness and leather.  Robust tannins that demand attention and a long, soft finish. ',\n",
       "       'Just not that good.',\n",
       "       \"I like the 09 better than this, the difference is really slight, I like the 09 due to the warm feeling it brings to me. Since I drunk it in home, I taste 2010 in a busy place, and after 3-4 different wines, so the soul of 2010 didn't come out easily. But still a very elegant wine, better than some big names' weak year!\",\n",
       "       '2003 was a very hot year and it shows through big time. Big fruit in here, lovely earthy, velvety tannin and a seriously long lingering finish. This is a big quintessential Pauillac as you would expect.',\n",
       "       'A five star in the making for sure! Out of the bottle after a brief decant this wine explodes with nose and full on fruit from the get go. Given time this will be a beautiful wine but is good now (shame not to save) much better than 05. Today it shows as concentrated dark plummy rich fruit that punches you in the mouth with flavour. Nose not developed yet but showing good signs of lead pencil mushrooms. Merlot pushing through the Cab is evident. Best Duhart I have tried so far. Medium finish. 98 pts',\n",
       "       'Good value. Good with pasta and wild boar and porcini mushrooms and braised beef',\n",
       "       'Round and full of flavour. A very nice wine indeed.',\n",
       "       \"Justin's birthday. Superb drop. Smooth as silk. Lovely nose \",\n",
       "       'Aromatic. Marvellous ',\n",
       "       'Seamless cherry cola,jellied fruit,rose scented tea , what a nose! Nose carries to palate add raspberry 2% percent milk mouthfeel long sweet fruit finish Amazing.98pts',\n",
       "       '1999 Lafite Rothschild, a ruby-hued beauty with a translucent rim\\xe2\\x80\\x94this bottle was incredibly fresh and vibrant on opening. Initially, seemingly more red fruit-driven, the nose evolved into a darker expression with time in the glass. Nuanced aromas of loamy earth, rose petal, black currant, and pencil shavings led into a wine that, while restrained and elegant, boasted ample sweetness at its core. Ultra-fine, polished tannins gave way to a medium-plus finish that culminated in bay leaf, cigar box, and spice.',\n",
       "       'A (amazed by its still lively lush fruit)',\n",
       "       \"...just about perfect with a pork chop. Plenty complex if allowed to open up. Now I have to figure out how to describe these things. I would say it's as satisfying as a cabernet, but at a medium weight. Invites you to try it with other flavors on through desert...\",\n",
       "       'Nice flavor.. Smoth',\n",
       "       'Smells delicious. Eucalyptus on the nose. Black cherry. Intense tannins. Very astringent. 2006 is a vintage year. ',\n",
       "       'Smooth as silk.',\n",
       "       'Deep, dark burnished ruby. Balsamic on the nose with stewed fruits and star anise. The palate has lots of dark fruit with prune and tar. Long, satisfying finish.',\n",
       "       'Really dark and fruity. Took a bit to open up but was great. ',\n",
       "       'American Pinot at its best.',\n",
       "       'Paired with rosemary & garlic lamb chops with grilled portobellos, felt like Italian royalty. Cheers to all the dads out there!! ',\n",
       "       'Good not worth the price',\n",
       "       'A medium to full body blend that I found a bit too tight and constricted at this time. A bit underwhelming for the. Great reviews it has received. And a tad too savory  ',\n",
       "       'Well balanced buttery Cabernet with hints of leather and prune.  ',\n",
       "       \"My bottle at last night's blind tasting. Finished in a tie for 3rd place. Burgnut's 1996 Pahlmeyer was the Wine of the Night. \",\n",
       "       'Fruity, smooth.  Semi dry.   Nice.',\n",
       "       '1996 Chat Pape Clement Pessac-Leognan #Bordeaux. Intense dried cherry, dried plum, fig and leather intertwined with black olive, balsamic and dried spice. Great balance of acid and tannin. Velvety finish. #wine #sommelier #sommlife',\n",
       "       \"A reasonable purchase at about $25, but would'nt pay more than $30.\",\n",
       "       'Absolutely wonderful wine - luscious, gorgeous spices, the meatiness and leathery aromas of Le Chambertin. Remarkably dark and brooding.',\n",
       "       'The scouser',\n",
       "       'For an 04 this is drinking just stunning right now. ',\n",
       "       \"Scored an average of 7.0/10 in tonight's blind tasting\",\n",
       "       '\\xf0\\x9f\\x8d\\xb7 Deep lively ruby red - no browning yet!',\n",
       "       'Amazingly expressive nose, great raspberry and cherry fruit layered with dried herbs and truffle.  Full bodied with mild tannin and a long finish. Makes you smile as soon as your nose is in the glass.',\n",
       "       'Drinking really well. Finally broke open the magnum bottle.',\n",
       "       'Splendid bottle of black fruit with a keen lingering finish. Intense wine with a very decent structure. More please! Australian boldness bottled',\n",
       "       'Very nice. Great aroma with a long finish. Intense fruit including dark cherries and plum. Overall a great wine.',\n",
       "       'This star of Saint-Est\\xc3\\xa8phe is in its prime drinking window. Sant\\xc3\\xa9!',\n",
       "       'Dark fruit, plum, nice long finish',\n",
       "       'The best wine I have every drink!! Highly recommend.',\n",
       "       'Best wine in chile 3 thumbs up best feeling ever from a wine taste like a dream under a toscan sun!!',\n",
       "       \"A deep ruby colour, with a pronounced nose of cassis & liquorice; full of body, still good tannins and beautifully balanced; still reasonably fruity. Parker had rated it 89 in its youth, and good until 2015, but there's a few more years in this, although really excellent now...\",\n",
       "       'Big ballsy douro red.  just what you expect.',\n",
       "       'Wow. The \"second\" wine from Opus One. #Overture, #NapaValley. Blend of all 5 #Bordeaux red grapes. Purchased at winery around 2002, non-vintage. Intense aromas of ripe dried black cherry, cassis, pencil lead mingled with black olive, dried herbs, dried vanilla. Soft, silky and sexy. #wine #sommelier #sommlife',\n",
       "       'Under delivered. Good fruit but little complexity and short finish. A lot of acid even after 4 hours',\n",
       "       '87 points',\n",
       "       'Very nice fruit on the nose. Good bright color. Good balance, this is a nice blend. Nice tannins. Medium finish. ',\n",
       "       'Fruity, medium-bodied, easy drinking wine. Balanced tannins, some tart fruits and a fading finish. Can drink by itself although recommend better paired with some pizza or perhaps spicy pasta. ',\n",
       "       'Absolutely awesome ',\n",
       "       'Tasted the 2007 as well, probably one of the best pinots outside of burgundy.',\n",
       "       'Strawberry, a bit of smoke, smooth. Gentle acidity and Tannins . This is really good now, and I believe it has huge potential. ',\n",
       "       'Powerful and tannic. More Can Sav than Merlot.', 'Very peachy!',\n",
       "       'Deeply intense flavors of blackberries and Ted plums full bodied with rich powerful tannins',\n",
       "       'A sensory delight that pleased all senses. Oqaque in colour with violet edges. The nose says it all, tightly knit bouquet of rose petals, crushed granite, smoked meats and a touch of herbs. The palette a linear length of charcuterie, dark berries, plums, dark chocolate and ground coffee, pliant tannin and tightly coiled acid. It finishes very long, finishes as clean as water as good cabernet should with a rousing crescendo of tannin on the back palette, the length, lasting long after you take the next sip',\n",
       "       'This has a promising future!',\n",
       "       'BA lounge wine #52: another re-taste (last tasted in May). Still too harsh, nice vanilla and cherry flavour but overall poor QPR. ',\n",
       "       'Very soft tannins, nice acidity. Quite dry. Nice purity. Decent finish. ',\n",
       "       'The nose gushed out from the get-go but the big surprise was the palate which I found to be remarkably fresh. Fruit was intact, the tannins like fine silk. I have a few left from the same lot and I see no rush to uncork them. Lots of life left. Quintessential Margaux.',\n",
       "       'Truly excellent: utterly beguiling Barossa Shiraz. Complex, enchanting nose of stewed plums, compote and raisins with sweet spices and a hint of coffee. Palate is elegant, complex, superbly integrated. Sense of old vine intensity, earthy tones. What I find striking is the feather light temperament of what is really a frisky wine. Those deep Shiraz dark fruits dance on the palate and float away, leaving Earl Grey and chocolate on the finish. Eye wateringly expensive, but so, so good. Bucket list bottle!',\n",
       "       'This is a really pretty Pinot - fairly high acidity with cherry cola, milk chocolate, cinnamon, and cloves with a silky mouthfeel. ',\n",
       "       'Smells of cedar and cola...just a hint of jalapeno. This thing needed to sit a day to settle in. Tannins have mellowed. Good black raspberry flavors. Smooth with a little tart rhubarb',\n",
       "       'Great flavors in a class by itself!',\n",
       "       'Superb. From the 21 bottles consumed at the Vivino PH Christmas party, this was WOTN.',\n",
       "       'Petite Petit = Consistency! One of my favorites for day to day basis! Cheers',\n",
       "       'Just amazing as always',\n",
       "       'When at Chateux la Treyne.... Order the Cedre',\n",
       "       'Finish of tannins.',\n",
       "       'Very good drinking but needs to be \\xc2\\xa36',\n",
       "       'It was good with beef',\n",
       "       \"Smooth, silky, elegant pinot well balanced fruit, acid, and soft tannins. Give 45 minutes to open up and you'll be rewarded!\",\n",
       "       'I get wet leather and tobacco w age showing nicely. Full on bordeaux w refined characters but fades a little towards the end. ',\n",
       "       'bouquet of rose,berry and spice with mineral on the palate.elegant with firm tannins. needs some more time to develop. great wine',\n",
       "       'This higher-end Chianti Classico 100% Sangiovese from Gaiole Estate located 500m ASL was definitely \"A Joy.\" The wine, although young, was aged for 2 1/2 years. Has a beautiful red ruby color towards the lighter side. Refreshing, succulent medium body Sangiovese with an opening marked acidity and light on the tannins which after 1/2 hr. of breathing settled to a more ostentatious libation. On the nose, dried mushrooms, bark, & dry berry aroma. Better if allowed to cellar for 2 more years.',\n",
       "       'Beautiful wine. Very smooth and amazing flavors',\n",
       "       'I love the understated poise and grace of this class act.',\n",
       "       'Distinctive.',\n",
       "       'DARK color, bouquet is amazing, starts full in the mouth then carries on at the same level thru middle and finish the fades away slowly. Just a wonderful wine.',\n",
       "       'Warm tones - beautiful rich color. So delicious, very earthy smell, lots of structure and amazing taste.',\n",
       "       'Unquestionably one of the best wine Bordeaux has ever produced... Sweet and complex... Very deductive... Gosh I love this wine!',\n",
       "       \"Am a big fan of 1996 Bordeaux Left Bank. In fact I prefer '96 to '95, also an excellent vintage. This Pichon wasn't a good example. Color and nose seemed fine. Ruby w/ good clarity and classic Pauillac nose black currants, dried herbs &tobacco. In the mouth, the fruit was overwhelmed by distinct mushroom notes that I don't find in a Pauillac that's barely in its apogee. Tannins were fading which led to a dry, bitter finish. Perhaps not a well stored bottle. Too bad because I was eager to revisit this wine.\",\n",
       "       \"Obviously this is Silverado's flagship. The rich dark fruit is concentrated and present, but not overly showy. The secondaries are exactly where you want them to be: black olives, dried herb, earth, tobacco. It's rare to find single vineyard Napa Cab this approachable this early, but they don't use that much new oak. The tannins are extremely integrated and I think it could even benefit from even more new oak for structural/aging purposes. \",\n",
       "       'A deep dark red colour with flavours of ripe dark fruits and spices with some tobacco coming through really very nice, recommendable',\n",
       "       'Amazing! This is me!',\n",
       "       'Tasting in St Emilion- 55% cab franc and the 5% malbec give it a bit of a punch. Spice, dark berries its beautiful, its different... very different from the rest of the table. Lay it down give it some time.',\n",
       "       'Drank March, 2016 at the winery.  Strong tannins and long smooth finish.  Classic Cabernet notes.  Red stone fruit, green pepper, sage, bay leaf.  Good for decades to come.  ',\n",
       "       'Long day of flying wind-down.',\n",
       "       'Spice box with a dry earth finish.',\n",
       "       \"Sexy as ever. My 3rd review of this Dominus in the past year and a half. Always, always delivers. Superb quality dark fruits, graphite backed my svelte tannins and perfectly integrated acidity. Utterly harmonious. Smack at its apogee where it can stay for several years. This won't attain the greatness of the 94 or 91 but who cares if it gives this much pleasure?? \",\n",
       "       'Pretty good as my opinion of Aussie Cab Sav has not been great. Nice one',\n",
       "       'Perfectly balanced, has complexity thanks for the ageing, has structure to age more (5 years before fading), has great lenght and concentration...',\n",
       "       '\\xf0\\x9f\\x91\\x84 Super silky dark fruit berries in a medium+ body coated in creamy mocha',\n",
       "       '\\xf0\\x9f\\x93\\x9d Summary: average for LRA',\n",
       "       'Great bottle from good old Napa valley', 'Barolo 2009',\n",
       "       'Well balanced juicy wine. Manage to get a nice level of fruit and acidity in this great red. Length could be longer but the round ess compensate and makes it delightful. Great body ',\n",
       "       'Lighter bodied, soft fruits.',\n",
       "       'Have both 2011 and 2012. 2011 is better but just barely. Very excellent t CDP   Smooth complex. Great finish. Great nose. ',\n",
       "       'lots of fruit flavor, medium tannins. dewberryish.',\n",
       "       'Classic Cali cab, on the dry side, beautiful long finish. 2012, 92-93 pts',\n",
       "       'Dark garnet colour.', '2015 #viwf',\n",
       "       'Paired well with bruschetta pomodoro and spaghetti allo scoglio.',\n",
       "       'Loved it! Perfectly balanced.', 'Drank 09/15',\n",
       "       'Elegant though, with some fresh cut grass and some asparagus actually (bit weird maybe), along with the red fruits...',\n",
       "       'Cheers to Burgnut for cracking open this Rolland special. ',\n",
       "       '801 wines in and I still get humbled regularly. I called it a Syrah! It was dense and very powerful with mouth ripping tannins. This guy needs to sleep for years before its opened. ',\n",
       "       \"Yet again, I ended up spending much more than I had intended, which I'm sure happens to the best of us. Just another part of our wine journey. Happy Weekend!\",\n",
       "       \"You get pretty happy when your colleague brings out some beefy reds on Australia Day! This one was lighter than I thought it'd be, but amazing on the palate!\",\n",
       "       'The palate enjoys loads of ripe red berries, leather, chocolate and cassis; all wrapped in a nice oaky coat and firm tannins. Long finish. ',\n",
       "       \"This well-rated CdP was a tad disappointing. A spicy, peppery nose with a funky aromatic combination of tobacco, menthol and smelly socks. I'm a big sniffer so this didn't recover from this indifferent start.\",\n",
       "       'Perfect balance of complex dark red fruits, integrated tannins and brilliant minerality.',\n",
       "       '\\xf0\\x9f\\x98\\xac \\xc2\\xa320 aged 01 Rioja with an Identity Crisis!',\n",
       "       'Good depth; Expensive.', 'Smokey, earthy and delicious!',\n",
       "       'Was wonderful with our surf and turf', 'Lend me some money. ',\n",
       "       'I noticed a clean deep and dark purple color with aromas of fresh blue/red fruits with spicy notes.  The palate revealed rich ripe almost jammy fruits, plums, raspberries and blueberries with firm tannins and acidity to match.  I noted some cacao, toasty oak and black pepper on a lingering finish.  This wine needed some time after I opened it to approach it\\xe2\\x80\\x99s beauty, however sit this gem down for a while and you will be rewarded. Another very nice Shiraz from Two Hands!',\n",
       "       'Quite dark in colour. Light fruit and leather on the nose. Not a light and fruity style, big wine but refined with great flavours. Enjoyable wine. ',\n",
       "       'Medium body with bright acid and fresh fruit. Slight tannic taste.',\n",
       "       'Absolutely Phenomenal!  Though I enjoy the texture of La T\\xc3\\xa2che better.',\n",
       "       'Ah... Ch\\xc3\\xa2teauneuf du Pape! This one is great.',\n",
       "       'Medium body, rich flavor, celebration worthy.',\n",
       "       'Medium to pale blood red colour- quite light actually.',\n",
       "       'Very elegant burgundy, with flabors of strawberry and raspberry, medium long finish, very well balanced flavors!',\n",
       "       'Delicious Pinot with body and fruit.  ',\n",
       "       'One of my favorite Zinfandel',\n",
       "       'Had at a dinner. Decant was needed as the second glass was fantastic. Classic Bordeaux.',\n",
       "       'Beautiful color, plum and mushroom on the nose. Dark red cherry, earthy, and clean finish!  Beautiful wine!',\n",
       "       'Very nice acidity. Will need time.',\n",
       "       'This might be worth 5 stars. This is elegant and smooth and sensuous. Red fruit and spice. Gorgeous wine. ',\n",
       "       \"I really can't agree with the high ratings here.  I genuinely struggled with this.  A tawny colour in the glass with oily brown hues.  The nose has that cherry flavoured cough syrup feel.  The palate is immediately sour.  It's like a massive hit of alcohol and acid and then it drops away quite neatly.  It's badly intense and then quite smooth afterwards, but it's hard to taste anything.  Very poorly balanced is the only way to describe it.  Rated 3.1.  At around $60 this a fail.\",\n",
       "       'Elegant, very well rounded, notes of vanilla, velvet, soft tanins, really great',\n",
       "       'Excellent wine',\n",
       "       'Mulberry and boysenberry mixed with tobacco, mustard greens, leather, dried clay and black pepper.',\n",
       "       'Nice wine. Lots of fruit. A little lite for me but should go very well with our 11 course family style Italian dinner coming up!',\n",
       "       'Thicker fruits than expected from right bank, somewhat \"Parkerized\", but still an excellent effort from a progressive StEm producer. 2007 is good value (cheaper in LCBO than StEm due to Euro). Recently upgraded classification to 1er GC Class\\xc3\\xa9. Paired well with nut crusted duck. 95.',\n",
       "       'Medium-bodied with medium acidity and long legs. ',\n",
       "       'Nice wine that will still mellow over the next couple years and reach its groove. Nose of black licorice and toasted oak. Flavors of blackberry, plum and deep mineral tones.',\n",
       "       'Wow, great wine!  Nose of licorice, black fruit, great tannins, burnt sugar(?), dark brooding fruit, peppercorn, long finish...built to last!',\n",
       "       'Outstanding quality. Can drink now but will benefit from ageing of further 5 or so years.',\n",
       "       'Dry light spice chalky and excellent with food',\n",
       "       'Marvelous. A 2001 vintage. Bottled in 2005 with almost 4 years in the barrel. Unfiltered goodness evidenced by a sinfully dark sedimented cork and sediment staining on the bottle. Huge but balanced cedar notes. Dark fruits, earth, cedar, and vanilla notes. But and hold or drink now.',\n",
       "       'A very approachable Oregon PN. Aromas of red field berries and cherry, but missing the earthiness of some PN from the Willamette Valley. Very fresh tasting, some floral notes on the palate along with strong fruit, good depth and balance. Tasty! ',\n",
       "       'That being said, all three were excellent.',\n",
       "       'Excellent wine, 15% vol, great projection. ',\n",
       "       'Smooth, full, hot, mouthy finish, keeps opening to more complexity, raisins, figs, currants.',\n",
       "       '#wine #portugal Grape tar nose front rasberry late pepper and tobacco'], dtype=object)"
      ]
     },
     "execution_count": 216,
     "metadata": {},
     "output_type": "execute_result"
    }
   ],
   "source": [
    "docs_topics.values"
   ]
  },
  {
   "cell_type": "markdown",
   "metadata": {
    "collapsed": true
   },
   "source": [
    "# Trials:"
   ]
  },
  {
   "cell_type": "code",
   "execution_count": 174,
   "metadata": {
    "collapsed": true
   },
   "outputs": [],
   "source": [
    "import pandas as pd\n",
    "import numpy as np\n",
    "from sklearn.feature_extraction.text import TfidfVectorizer, CountVectorizer\n",
    "from sklearn.decomposition import NMF, LatentDirichletAllocation\n",
    "from sklearn.feature_extraction import text\n",
    "from gensim import corpora, models, matutils\n",
    "import nltk\n",
    "import seaborn as sns\n",
    "import matplotlib.pyplot as plt\n",
    "from nltk.corpus import stopwords\n",
    "import re\n",
    "\n",
    "%matplotlib inline\n",
    "plt.style.use('fivethirtyeight')"
   ]
  },
  {
   "cell_type": "code",
   "execution_count": 175,
   "metadata": {
    "collapsed": true
   },
   "outputs": [],
   "source": [
    "red_clean = pd.read_csv('/Users/divyasusarla/Desktop/DSI-SF-2-divyasusarla/Capstone/Clean_Data/red_reviews_clean.csv', encoding='utf-8')"
   ]
  },
  {
   "cell_type": "code",
   "execution_count": 176,
   "metadata": {
    "collapsed": true
   },
   "outputs": [],
   "source": [
    "del red_clean['Unnamed: 0']\n",
    "red_clean.dropna(inplace=True)"
   ]
  },
  {
   "cell_type": "code",
   "execution_count": 177,
   "metadata": {
    "collapsed": true
   },
   "outputs": [],
   "source": [
    "def identify_stop_words(data):\n",
    "    red_clean['word_check'] = red_clean.red_review.map(lambda x: re.findall(r'\\w*\\d\\w*', x) if len(re.findall(r'\\w*\\d\\w*', x))>0 else np.nan)\n",
    "    corpus_words = [word for sent in red_clean.word_check[~red_clean.word_check.isnull()] for word in sent]\n",
    "    corpus_words = list(set(corpus_words))\n",
    "    nltk_stop = list(stopwords.words('english'))\n",
    "    red_clean.drop('word_check',axis=1,inplace=True)\n",
    "    my_stop_words = nltk_stop + corpus_words\n",
    "    return my_stop_words"
   ]
  },
  {
   "cell_type": "code",
   "execution_count": 178,
   "metadata": {
    "collapsed": false,
    "scrolled": true
   },
   "outputs": [
    {
     "data": {
      "text/plain": [
       "[u'i',\n",
       " u'me',\n",
       " u'my',\n",
       " u'myself',\n",
       " u'we',\n",
       " u'our',\n",
       " u'ours',\n",
       " u'ourselves',\n",
       " u'you',\n",
       " u'your',\n",
       " u'yours',\n",
       " u'yourself',\n",
       " u'yourselves',\n",
       " u'he',\n",
       " u'him',\n",
       " u'his',\n",
       " u'himself',\n",
       " u'she',\n",
       " u'her',\n",
       " u'hers',\n",
       " u'herself',\n",
       " u'it',\n",
       " u'its',\n",
       " u'itself',\n",
       " u'they',\n",
       " u'them',\n",
       " u'their',\n",
       " u'theirs',\n",
       " u'themselves',\n",
       " u'what',\n",
       " u'which',\n",
       " u'who',\n",
       " u'whom',\n",
       " u'this',\n",
       " u'that',\n",
       " u'these',\n",
       " u'those',\n",
       " u'am',\n",
       " u'is',\n",
       " u'are',\n",
       " u'was',\n",
       " u'were',\n",
       " u'be',\n",
       " u'been',\n",
       " u'being',\n",
       " u'have',\n",
       " u'has',\n",
       " u'had',\n",
       " u'having',\n",
       " u'do',\n",
       " u'does',\n",
       " u'did',\n",
       " u'doing',\n",
       " u'a',\n",
       " u'an',\n",
       " u'the',\n",
       " u'and',\n",
       " u'but',\n",
       " u'if',\n",
       " u'or',\n",
       " u'because',\n",
       " u'as',\n",
       " u'until',\n",
       " u'while',\n",
       " u'of',\n",
       " u'at',\n",
       " u'by',\n",
       " u'for',\n",
       " u'with',\n",
       " u'about',\n",
       " u'against',\n",
       " u'between',\n",
       " u'into',\n",
       " u'through',\n",
       " u'during',\n",
       " u'before',\n",
       " u'after',\n",
       " u'above',\n",
       " u'below',\n",
       " u'to',\n",
       " u'from',\n",
       " u'up',\n",
       " u'down',\n",
       " u'in',\n",
       " u'out',\n",
       " u'on',\n",
       " u'off',\n",
       " u'over',\n",
       " u'under',\n",
       " u'again',\n",
       " u'further',\n",
       " u'then',\n",
       " u'once',\n",
       " u'here',\n",
       " u'there',\n",
       " u'when',\n",
       " u'where',\n",
       " u'why',\n",
       " u'how',\n",
       " u'all',\n",
       " u'any',\n",
       " u'both',\n",
       " u'each',\n",
       " u'few',\n",
       " u'more',\n",
       " u'most',\n",
       " u'other',\n",
       " u'some',\n",
       " u'such',\n",
       " u'no',\n",
       " u'nor',\n",
       " u'not',\n",
       " u'only',\n",
       " u'own',\n",
       " u'same',\n",
       " u'so',\n",
       " u'than',\n",
       " u'too',\n",
       " u'very',\n",
       " u's',\n",
       " u't',\n",
       " u'can',\n",
       " u'will',\n",
       " u'just',\n",
       " u'don',\n",
       " u'should',\n",
       " u'now',\n",
       " u'd',\n",
       " u'll',\n",
       " u'm',\n",
       " u'o',\n",
       " u're',\n",
       " u've',\n",
       " u'y',\n",
       " u'ain',\n",
       " u'aren',\n",
       " u'couldn',\n",
       " u'didn',\n",
       " u'doesn',\n",
       " u'hadn',\n",
       " u'hasn',\n",
       " u'haven',\n",
       " u'isn',\n",
       " u'ma',\n",
       " u'mightn',\n",
       " u'mustn',\n",
       " u'needn',\n",
       " u'shan',\n",
       " u'shouldn',\n",
       " u'wasn',\n",
       " u'weren',\n",
       " u'won',\n",
       " u'wouldn',\n",
       " u'50TH',\n",
       " u'100points',\n",
       " u'91pt',\n",
       " u'19years',\n",
       " u'850th',\n",
       " u'G17',\n",
       " u'22mths',\n",
       " u'014',\n",
       " u'90',\n",
       " u'6pm',\n",
       " u'18yr',\n",
       " u'kevinklee1',\n",
       " u'1959',\n",
       " u'lingeringnn18',\n",
       " u'21st',\n",
       " u'1949',\n",
       " u'9PV',\n",
       " u'45minutes',\n",
       " u'30min',\n",
       " u'1946',\n",
       " u'F1',\n",
       " u'0',\n",
       " u'1300th',\n",
       " u'18mos',\n",
       " u'500liters',\n",
       " u'05s',\n",
       " u'28hrs',\n",
       " u'816',\n",
       " u'v8',\n",
       " u'8hrs',\n",
       " u'50ml',\n",
       " u'1pc',\n",
       " u'712',\n",
       " u'90daysoulmate',\n",
       " u'17dec14',\n",
       " u'2bottles',\n",
       " u'2106',\n",
       " u'80th',\n",
       " u'1499',\n",
       " u'R179',\n",
       " u'100RP',\n",
       " u'1700',\n",
       " u'000th',\n",
       " u'vivinoholiday15',\n",
       " u'38th',\n",
       " u'17th',\n",
       " u'86FA',\n",
       " u'weak4',\n",
       " u't5',\n",
       " u'30yr',\n",
       " u'100pointers',\n",
       " u'88RP',\n",
       " u'96pts',\n",
       " u'20mnths',\n",
       " u'97pts',\n",
       " u'3X',\n",
       " u'BestofFrance15',\n",
       " u'29th',\n",
       " u'50ha',\n",
       " u'ST92',\n",
       " u'8yr',\n",
       " u'10e',\n",
       " u'10y',\n",
       " u'275',\n",
       " u'70yrs',\n",
       " u'3L',\n",
       " u'278',\n",
       " u'10s',\n",
       " u'87pts',\n",
       " u'2033',\n",
       " u'500m',\n",
       " u'500l',\n",
       " u'90s',\n",
       " u'JOP40',\n",
       " u'3x',\n",
       " u'3s',\n",
       " u'89ST',\n",
       " u'19th',\n",
       " u'90pts',\n",
       " u'16yr',\n",
       " u'1019',\n",
       " u'7years',\n",
       " u'115Ha',\n",
       " u'100pts',\n",
       " u'1400',\n",
       " u'3g',\n",
       " u'28day',\n",
       " u'3e',\n",
       " u'90m',\n",
       " u'1234',\n",
       " u'5000',\n",
       " u'23664',\n",
       " u'50th',\n",
       " u'2ndary',\n",
       " u'M25',\n",
       " u'9mnths',\n",
       " u'8g',\n",
       " u'1of',\n",
       " u'108',\n",
       " u'2kg',\n",
       " u'500th',\n",
       " u'100',\n",
       " u'101',\n",
       " u'106',\n",
       " u'4351',\n",
       " u'4352',\n",
       " u'500gram',\n",
       " u'39',\n",
       " u'38',\n",
       " u'R600',\n",
       " u'904',\n",
       " u'33',\n",
       " u'32',\n",
       " u'31',\n",
       " u'30',\n",
       " u'37',\n",
       " u'36',\n",
       " u'35',\n",
       " u'34',\n",
       " u'92WS90RP',\n",
       " u'8y',\n",
       " u'45mins',\n",
       " u'5to10',\n",
       " u'100yo',\n",
       " u'1940',\n",
       " u'8ha',\n",
       " u'11s',\n",
       " u'337',\n",
       " u'34ha',\n",
       " u'330',\n",
       " u'333',\n",
       " u'332',\n",
       " u'2000s',\n",
       " u'1st',\n",
       " u'WEC15',\n",
       " u'1907',\n",
       " u'1945',\n",
       " u'1900',\n",
       " u'1901',\n",
       " u'32978',\n",
       " u'2055',\n",
       " u'Apr11',\n",
       " u'10hrs',\n",
       " u'35year',\n",
       " u'95pts',\n",
       " u'55euros',\n",
       " u'4k',\n",
       " u'94pts',\n",
       " u'9X',\n",
       " u'22pc',\n",
       " u'6',\n",
       " u'13s',\n",
       " u'25th',\n",
       " u'93tanzer',\n",
       " u'SYR11',\n",
       " u'12years',\n",
       " u'wellcellared68',\n",
       " u'8ce',\n",
       " u'30years',\n",
       " u'1111',\n",
       " u'1730',\n",
       " u'ofv14',\n",
       " u'380m',\n",
       " u'98',\n",
       " u'17yo',\n",
       " u'20000',\n",
       " u'91',\n",
       " u'7000',\n",
       " u'93',\n",
       " u'92',\n",
       " u'95',\n",
       " u'94',\n",
       " u'97',\n",
       " u'96',\n",
       " u'1991',\n",
       " u'1990',\n",
       " u'1993',\n",
       " u'1992',\n",
       " u'1995',\n",
       " u'1994',\n",
       " u'1997',\n",
       " u'1996',\n",
       " u'1999',\n",
       " u'1998',\n",
       " u'2vineyards',\n",
       " u'2024ish',\n",
       " u'5years',\n",
       " u'70sgd',\n",
       " u'14yrs',\n",
       " u'9th',\n",
       " u'5abv',\n",
       " u'2yr',\n",
       " u'350th',\n",
       " u'13TH',\n",
       " u'550',\n",
       " u'1980s',\n",
       " u'7pm',\n",
       " u'4hours',\n",
       " u'1313',\n",
       " u'160yr',\n",
       " u'230',\n",
       " u'18mths',\n",
       " u'2years',\n",
       " u'40sec',\n",
       " u'05914',\n",
       " u'61f',\n",
       " u'9ha',\n",
       " u'6100',\n",
       " u'50ish',\n",
       " u'17ha',\n",
       " u'7yo',\n",
       " u'89WS',\n",
       " u'2024',\n",
       " u'38years',\n",
       " u'145',\n",
       " u'140',\n",
       " u'GR890',\n",
       " u'15day',\n",
       " u'4th',\n",
       " u'1889',\n",
       " u'number1',\n",
       " u'1887',\n",
       " u'4h',\n",
       " u'1885',\n",
       " u'1882',\n",
       " u'3Liter',\n",
       " u'8years',\n",
       " u'22nd',\n",
       " u'900th',\n",
       " u'6th',\n",
       " u'2hrs',\n",
       " u'9am',\n",
       " u'18th',\n",
       " u'1475',\n",
       " u'CF15',\n",
       " u'83FA',\n",
       " u'1305',\n",
       " u'blizzard2016',\n",
       " u'1wk',\n",
       " u'7yrs',\n",
       " u'KWN6',\n",
       " u'25years',\n",
       " u'The2012s',\n",
       " u'93me',\n",
       " u'130',\n",
       " u'135',\n",
       " u'134',\n",
       " u'92ST',\n",
       " u'139',\n",
       " u'138',\n",
       " u'24',\n",
       " u'1833',\n",
       " u'26',\n",
       " u'27',\n",
       " u'20',\n",
       " u'21',\n",
       " u'22',\n",
       " u'23',\n",
       " u'28',\n",
       " u'29',\n",
       " u'90Daysoulmate',\n",
       " u'2hours',\n",
       " u'18months',\n",
       " u'030716',\n",
       " u'2019',\n",
       " u'2018',\n",
       " u'11yo',\n",
       " u'400',\n",
       " u'2015',\n",
       " u'2014',\n",
       " u'2017',\n",
       " u'2016',\n",
       " u'2011',\n",
       " u'2010',\n",
       " u'2013',\n",
       " u'2012',\n",
       " u'R4',\n",
       " u'2yrs',\n",
       " u'09s',\n",
       " u'2X',\n",
       " u'30ish',\n",
       " u'1955',\n",
       " u'9',\n",
       " u'992',\n",
       " u'1956',\n",
       " u'1951',\n",
       " u'1950',\n",
       " u'1953',\n",
       " u'24months',\n",
       " u'3stars',\n",
       " u'11yrs',\n",
       " u'93W',\n",
       " u'1958',\n",
       " u'08offered',\n",
       " u'ac1994',\n",
       " u'2x',\n",
       " u'2y',\n",
       " u'2e',\n",
       " u'228',\n",
       " u'2g',\n",
       " u'2a',\n",
       " u'85FA',\n",
       " u'12th',\n",
       " u'825',\n",
       " u'1511',\n",
       " u'styl1e',\n",
       " u'R55',\n",
       " u'2h',\n",
       " u'1990th',\n",
       " u'1600',\n",
       " u'Mar11',\n",
       " u'or4',\n",
       " u'707',\n",
       " u'380',\n",
       " u'24h',\n",
       " u'177',\n",
       " u'88',\n",
       " u'89',\n",
       " u'396',\n",
       " u'30hrs',\n",
       " u'82',\n",
       " u'83',\n",
       " u'80',\n",
       " u'81',\n",
       " u'86',\n",
       " u'87',\n",
       " u'84',\n",
       " u'85',\n",
       " u'SH2',\n",
       " u'10yr',\n",
       " u'3rd',\n",
       " u'minerality4',\n",
       " u'50cs34pv16syr',\n",
       " u'6664',\n",
       " u'7',\n",
       " u'1hour',\n",
       " u'2335',\n",
       " u'16months',\n",
       " u'8h',\n",
       " u'60min',\n",
       " u'1of6',\n",
       " u'17years',\n",
       " u'1920s',\n",
       " u'vinitaly2015',\n",
       " u'3kinds',\n",
       " u'70s',\n",
       " u'245',\n",
       " u'15mins',\n",
       " u'3hrs',\n",
       " u'240',\n",
       " u'242',\n",
       " u'5star',\n",
       " u'1W5z2FR',\n",
       " u'6pack',\n",
       " u'8w',\n",
       " u'600th',\n",
       " u'RP100pt',\n",
       " u'61days',\n",
       " u'83rd',\n",
       " u'12000',\n",
       " u'2005s',\n",
       " u'3kg',\n",
       " u'20th',\n",
       " u'1970s',\n",
       " u'98FA',\n",
       " u'18139L',\n",
       " u'5th',\n",
       " u'1000',\n",
       " u'459',\n",
       " u'06s',\n",
       " u'92WS',\n",
       " u'3week',\n",
       " u'2012s',\n",
       " u'450',\n",
       " u'94pt',\n",
       " u'20yo',\n",
       " u'18y',\n",
       " u'48hrs',\n",
       " u'Deg4Dignity',\n",
       " u'1877',\n",
       " u'1868',\n",
       " u'92WE',\n",
       " u'1870',\n",
       " u'20yr',\n",
       " u'3100',\n",
       " u'175',\n",
       " u'170',\n",
       " u'203',\n",
       " u'50years',\n",
       " u'plp0ll',\n",
       " u'2052',\n",
       " u'Pv5',\n",
       " u'16800',\n",
       " u'180',\n",
       " u'40min',\n",
       " u'88pt',\n",
       " u'1500',\n",
       " u'2',\n",
       " u'187',\n",
       " u'650',\n",
       " u'185',\n",
       " u'1h',\n",
       " u'40th',\n",
       " u'93WS',\n",
       " u'061',\n",
       " u'18C',\n",
       " u'12yrs',\n",
       " u'99pts',\n",
       " u'94WE93WS92',\n",
       " u'41sy',\n",
       " u'94WS',\n",
       " u'2am',\n",
       " u'17c',\n",
       " u's30',\n",
       " u'190',\n",
       " u'1er',\n",
       " u'5hrs',\n",
       " u'36months',\n",
       " u'x2',\n",
       " u'1910',\n",
       " u'200metres',\n",
       " u'x5',\n",
       " u'11',\n",
       " u'10',\n",
       " u'13',\n",
       " u'12',\n",
       " u'15',\n",
       " u'14',\n",
       " u'17',\n",
       " u'16',\n",
       " u'19',\n",
       " u'18',\n",
       " u'220GBP',\n",
       " u'17C',\n",
       " u'150gbp',\n",
       " u'Mai15',\n",
       " u'2025',\n",
       " u'2026',\n",
       " u'2027',\n",
       " u'2020',\n",
       " u'2021',\n",
       " u'2022',\n",
       " u'2023',\n",
       " u'103',\n",
       " u'10th',\n",
       " u'2028',\n",
       " u'3years',\n",
       " u'20s',\n",
       " u'10min',\n",
       " u'88ST',\n",
       " u'Jun10',\n",
       " u'r100',\n",
       " u'277',\n",
       " u'20months',\n",
       " u'13th',\n",
       " u'7th',\n",
       " u'85pc',\n",
       " u'c60',\n",
       " u'375ml',\n",
       " u'20k',\n",
       " u'25yo',\n",
       " u'15pc',\n",
       " u'5490',\n",
       " u'1968',\n",
       " u'1969',\n",
       " u'10ha',\n",
       " u'4000',\n",
       " u'1965',\n",
       " u'60th',\n",
       " u'1967',\n",
       " u'RN74',\n",
       " u'1962',\n",
       " u'1963',\n",
       " u'40ish',\n",
       " u'260',\n",
       " u'83pts',\n",
       " u'30months',\n",
       " u'365daysofvino',\n",
       " u'201',\n",
       " u'45th',\n",
       " u'777',\n",
       " u'187ml',\n",
       " u'500TH',\n",
       " u'vintage2008',\n",
       " u'29yo',\n",
       " u'778',\n",
       " u'15yrs',\n",
       " u'77',\n",
       " u'76',\n",
       " u'75',\n",
       " u'74',\n",
       " u'73',\n",
       " u'72',\n",
       " u'71',\n",
       " u'70',\n",
       " u'100yrs',\n",
       " u'3type',\n",
       " u'79',\n",
       " u'78',\n",
       " u'2997',\n",
       " u'600cs',\n",
       " u'700th',\n",
       " u'1049',\n",
       " u'400s',\n",
       " u'1500th',\n",
       " u'10am',\n",
       " u'400l',\n",
       " u'400m',\n",
       " u'20CAD',\n",
       " u'36oz',\n",
       " u'D2',\n",
       " u'40mins',\n",
       " u'20day',\n",
       " u'216',\n",
       " u'1147',\n",
       " u'30pc',\n",
       " u'30pm',\n",
       " u'1148',\n",
       " u'96WS',\n",
       " u'CA27',\n",
       " u'4hr',\n",
       " u'RP95',\n",
       " u'45sec',\n",
       " u'12s',\n",
       " u'12daysofVINO',\n",
       " u'5500',\n",
       " u'5X',\n",
       " u'1912',\n",
       " u'6000',\n",
       " u'June14',\n",
       " u'3eme',\n",
       " u'5ha',\n",
       " u'5pc',\n",
       " u'105',\n",
       " u'for15',\n",
       " u'70hr',\n",
       " u'285th',\n",
       " u'8',\n",
       " u'Jul10',\n",
       " u'10km',\n",
       " u'994',\n",
       " u'53rd',\n",
       " u'550m',\n",
       " u'p6mUIq',\n",
       " u'2dry',\n",
       " u'68pc',\n",
       " u'R300',\n",
       " u'other15',\n",
       " u'999',\n",
       " u'NV9',\n",
       " u'120',\n",
       " u'121',\n",
       " u'122',\n",
       " u'90pt',\n",
       " u'125',\n",
       " u'127',\n",
       " u'600L',\n",
       " u'dXSat6_Knx8',\n",
       " u'520',\n",
       " u'750s',\n",
       " u'3hours',\n",
       " u'J4',\n",
       " u'1826',\n",
       " u'5to',\n",
       " u'40ha',\n",
       " u'W6',\n",
       " u'4ha',\n",
       " u'412',\n",
       " u'to3',\n",
       " u'1VIXxbO',\n",
       " u'66F',\n",
       " u'500L',\n",
       " u'125yrs',\n",
       " u'16th',\n",
       " u'24hrs',\n",
       " u'100pt',\n",
       " u'n10',\n",
       " u'02s',\n",
       " u'Top12',\n",
       " u'900m',\n",
       " u'317',\n",
       " u'mid90s',\n",
       " u'11years',\n",
       " u'1924',\n",
       " u'1925',\n",
       " u'1927',\n",
       " u'85Euro',\n",
       " u'1929',\n",
       " u'11th',\n",
       " u'5s',\n",
       " u'91WS',\n",
       " u'02',\n",
       " u'03',\n",
       " u'00',\n",
       " u'01',\n",
       " u'06',\n",
       " u'07',\n",
       " u'04',\n",
       " u'05',\n",
       " u'3444',\n",
       " u'08',\n",
       " u'09',\n",
       " u'GR904',\n",
       " u'80usd',\n",
       " u'3',\n",
       " u'85pts',\n",
       " u'15th',\n",
       " u'5mnths',\n",
       " u'2011n',\n",
       " u'119',\n",
       " u'25',\n",
       " u'231st',\n",
       " u'7connections',\n",
       " u'1oz',\n",
       " u'3malbec',\n",
       " u'2pc',\n",
       " u'385',\n",
       " u'brianb32814',\n",
       " u'Dec14',\n",
       " u'94suckling',\n",
       " u'2pm',\n",
       " u'2011s',\n",
       " u'after3',\n",
       " u'83s',\n",
       " u'45C',\n",
       " u'2hr',\n",
       " u'23yrs',\n",
       " u'30mins',\n",
       " u'45min',\n",
       " u'1880s',\n",
       " u'7865',\n",
       " u'95WS',\n",
       " u'109',\n",
       " u'15min',\n",
       " u'98pts',\n",
       " u'30th',\n",
       " u'468',\n",
       " u'2014s',\n",
       " u'ZO2YWTnfMC',\n",
       " u'570',\n",
       " u'2nd',\n",
       " u'60',\n",
       " u'61',\n",
       " u'62',\n",
       " u'63',\n",
       " u'64',\n",
       " u'65',\n",
       " u'66',\n",
       " u'67',\n",
       " u'68',\n",
       " u'69',\n",
       " u'250',\n",
       " u'3009',\n",
       " u'4CC',\n",
       " u'407',\n",
       " u'94RP',\n",
       " u'3360',\n",
       " u'at15',\n",
       " u'25day',\n",
       " u'16C',\n",
       " u'1000ft',\n",
       " u'1928',\n",
       " u'4353',\n",
       " u'90min',\n",
       " u'500',\n",
       " u'C4',\n",
       " u'3yrs',\n",
       " u'2400',\n",
       " u'1985s',\n",
       " u'50K',\n",
       " u'30000',\n",
       " u'1000th',\n",
       " u'300l',\n",
       " u'6k',\n",
       " u'10years',\n",
       " u'900',\n",
       " u'1200',\n",
       " u'1861',\n",
       " u'1860',\n",
       " u'33US',\n",
       " u'280',\n",
       " u'165',\n",
       " u'20yrs',\n",
       " u'160',\n",
       " u'161',\n",
       " u'6oz',\n",
       " u'163',\n",
       " u'Cf5',\n",
       " u'963',\n",
       " u'86pts',\n",
       " u'300L',\n",
       " u'6L',\n",
       " u'7699',\n",
       " u'1450',\n",
       " u'82s',\n",
       " u'1100',\n",
       " u'1842',\n",
       " u'1515',\n",
       " u'2102',\n",
       " u'35th',\n",
       " u'50s',\n",
       " u'2104',\n",
       " u'1840',\n",
       " u'000ft',\n",
       " u'a4',\n",
       " u'7hrs',\n",
       " u'18USD',\n",
       " u'LuSPp7Y9vbU',\n",
       " u'00s',\n",
       " u'Feb11',\n",
       " u'100Takes',\n",
       " u'Mid90s',\n",
       " u'9hr',\n",
       " u'Winer6',\n",
       " u'1844',\n",
       " u'1816',\n",
       " u'70yr',\n",
       " u'100score',\n",
       " u'15years',\n",
       " u'100year',\n",
       " u'10yrs',\n",
       " u'2035',\n",
       " u'00053',\n",
       " u'5yo',\n",
       " u'2031',\n",
       " u'2030',\n",
       " u'80s',\n",
       " u'800th',\n",
       " u'90ish',\n",
       " u'70pc',\n",
       " u'2038',\n",
       " u'890',\n",
       " u'800L',\n",
       " u'07s',\n",
       " u'1950s',\n",
       " u'2009s',\n",
       " u'130y',\n",
       " u'250th',\n",
       " u'4cl',\n",
       " u'000',\n",
       " u'400th',\n",
       " u'30minutes',\n",
       " u'4years',\n",
       " u'Nov2014Perfect',\n",
       " u'16years',\n",
       " u'88AG',\n",
       " u'130year',\n",
       " u'2006s',\n",
       " u'1979',\n",
       " u'1978',\n",
       " u'1976',\n",
       " u'1975',\n",
       " u'1974',\n",
       " u'1973',\n",
       " u'1972',\n",
       " u'1971',\n",
       " u'1970',\n",
       " u'14pc',\n",
       " u'1',\n",
       " u'7500',\n",
       " u'12DaysofVINO',\n",
       " u'351',\n",
       " u'350',\n",
       " u'1964',\n",
       " u'801',\n",
       " u'800',\n",
       " u'4hrs',\n",
       " u'359',\n",
       " u'358',\n",
       " u'1hr',\n",
       " u'215',\n",
       " u'37th',\n",
       " u'210',\n",
       " u'Nov09',\n",
       " u'5T',\n",
       " u'taste45',\n",
       " u'20mths',\n",
       " u'1961',\n",
       " u'5L',\n",
       " u'5hr',\n",
       " u'25plots',\n",
       " u'1W7j7Yi',\n",
       " u'O2',\n",
       " u'ps4',\n",
       " u'1800s',\n",
       " u'A1',\n",
       " u'93pts',\n",
       " u'225l',\n",
       " u'5y',\n",
       " u'5x',\n",
       " u'30am',\n",
       " u'27th',\n",
       " u'30yrs',\n",
       " u'750ml',\n",
       " u'5m',\n",
       " u'2ish',\n",
       " u'321',\n",
       " u'4',\n",
       " u'5k',\n",
       " u'KWN7',\n",
       " u'92pts',\n",
       " u'5g',\n",
       " u'6ha',\n",
       " u'284',\n",
       " u'93pt',\n",
       " u'2037',\n",
       " u'3o',\n",
       " u'677',\n",
       " u'95pt',\n",
       " u'1152',\n",
       " u'263',\n",
       " u'15CF',\n",
       " u'Y2K',\n",
       " u'AUD30',\n",
       " u'1916',\n",
       " u'3hr',\n",
       " u'D66',\n",
       " u'15pct',\n",
       " u'58',\n",
       " u'75th',\n",
       " u'2700th',\n",
       " u'59',\n",
       " u'2007s',\n",
       " u'1556',\n",
       " u'55',\n",
       " u'54',\n",
       " u'57',\n",
       " u'56',\n",
       " u'51',\n",
       " u'50',\n",
       " u'53',\n",
       " u'any1',\n",
       " u'28y',\n",
       " u'1300m',\n",
       " u'535',\n",
       " u'5plus',\n",
       " u'2490',\n",
       " u'81pts',\n",
       " u'ELs3',\n",
       " u'99ha',\n",
       " u'4000k',\n",
       " u'92RP',\n",
       " u'3000',\n",
       " u'WS95',\n",
       " u'89pts',\n",
       " u'WS97',\n",
       " u'20years',\n",
       " ...]"
      ]
     },
     "execution_count": 178,
     "metadata": {},
     "output_type": "execute_result"
    }
   ],
   "source": [
    "my_stop_words = identify_stop_words(red_clean.red_review) + ['pinot', 'noir', 'cabernet', 'sauvignon', 'great', \n",
    "                                                             'wine', 'nice', 'needs', 'time', 'cab', 'franc', 'red', \n",
    "                                                             'ruby', 'dark', 'good', 'nose', 'bottle', 'palate', \n",
    "                                                             'little', 'deep', 'purple', 'best', 'wines', 'years', \n",
    "                                                             'colour', 'color', 'excellent', 'black', 'price', \n",
    "                                                             'point', 'mouth', 'feel', 'value', 'lovely', 'another', \n",
    "                                                             'easy', 'drink', 'drinking', 'birthday', 'wife', 'day',\n",
    "                                                            'amongst', 'across', 'hours', 'hour', 'year', 'wonderfull',\n",
    "                                                            'amazing', 'well', 'one', 'second', 'new', 'dinner',\n",
    "                                                            'perfect', 'wow', 'buy', 'nicely', 'beautifully']\n",
    "\n",
    "my_stop_words"
   ]
  },
  {
   "cell_type": "code",
   "execution_count": 179,
   "metadata": {
    "collapsed": true
   },
   "outputs": [],
   "source": [
    "review = red_clean['red_review']"
   ]
  },
  {
   "cell_type": "code",
   "execution_count": null,
   "metadata": {
    "collapsed": true
   },
   "outputs": [],
   "source": []
  },
  {
   "cell_type": "code",
   "execution_count": 182,
   "metadata": {
    "collapsed": false
   },
   "outputs": [],
   "source": [
    "vectorizer = CountVectorizer(stop_words=my_stop_words, ngram_range=(2,2), max_features=2500)\n",
    "X = vectorizer.fit_transform(review).todense()\n",
    "# X.todense()\n",
    "words = pd.DataFrame(X, columns=vectorizer.get_feature_names())\n",
    "\n",
    "# vocab = {v: k for k, v in vectorizer.vocabulary_.iteritems()}\n",
    "# vocab\n",
    "\n",
    "# lda = models.LdaModel(\n",
    "#    matutils.Sparse2Corpus(X, documents_columns=False),\n",
    "#    num_topics  =  10,\n",
    "#    passes      =  2,\n",
    "#    id2word     =  vocab\n",
    "# )\n",
    "\n",
    "# lda.print_topics(num_topics=10, num_words=10)"
   ]
  },
  {
   "cell_type": "code",
   "execution_count": 195,
   "metadata": {
    "collapsed": false
   },
   "outputs": [
    {
     "data": {
      "text/plain": [
       "<matplotlib.axes._subplots.AxesSubplot at 0x11eaf0490>"
      ]
     },
     "execution_count": 195,
     "metadata": {},
     "output_type": "execute_result"
    },
    {
     "data": {
      "image/png": "[encoded data removed]",
      "text/plain": [
       "<matplotlib.figure.Figure at 0x11c5fff10>"
      ]
     },
     "metadata": {},
     "output_type": "display_data"
    }
   ],
   "source": [
    "word_count = words.sum(axis=0).reset_index()\n",
    "word_count.columns = ['words','counts']\n",
    "word_count.sort_values('counts', ascending=False, inplace=True)\n",
    "word_count.head(50).plot(x='words', y='counts', kind='bar', figsize=(18,7))\n"
   ]
  },
  {
   "cell_type": "code",
   "execution_count": 203,
   "metadata": {
    "collapsed": false
   },
   "outputs": [],
   "source": [
    "word_count_percentiles = pd.DataFrame({\n",
    "        'percentile':np.arange(1,100,1),\n",
    "        'word_count':np.percentile(word_count.counts, np.arange(1., 100., 1))\n",
    "    })"
   ]
  },
  {
   "cell_type": "code",
   "execution_count": 205,
   "metadata": {
    "collapsed": false
   },
   "outputs": [
    {
     "data": {
      "text/plain": [
       "<matplotlib.axes._subplots.AxesSubplot at 0x125c13ad0>"
      ]
     },
     "execution_count": 205,
     "metadata": {},
     "output_type": "execute_result"
    },
    {
     "data": {
      "image/png": "[encoded data removed]",
      "text/plain": [
       "<matplotlib.figure.Figure at 0x13f2b7890>"
      ]
     },
     "metadata": {},
     "output_type": "display_data"
    }
   ],
   "source": [
    "word_count_percentiles.plot(x='percentile', y='word_count', kind='bar', figsize=(18,7))"
   ]
  },
  {
   "cell_type": "code",
   "execution_count": 149,
   "metadata": {
    "collapsed": false
   },
   "outputs": [
    {
     "data": {
      "text/plain": [
       "[(0, 0.10000000000000002),\n",
       " (1, 0.10000000000000002),\n",
       " (2, 0.10000000000000002),\n",
       " (3, 0.10000000000000002),\n",
       " (4, 0.10000000000000002),\n",
       " (5, 0.10000000000000002),\n",
       " (6, 0.10000000000000002),\n",
       " (7, 0.10000000000000002),\n",
       " (8, 0.10000000000000002),\n",
       " (9, 0.10000000000000002)]"
      ]
     },
     "execution_count": 149,
     "metadata": {},
     "output_type": "execute_result"
    }
   ],
   "source": [
    "bow = []\n",
    "blank_documents = 0\n",
    "for document in X.toarray():\n",
    "    single_document = []\n",
    "    for token_id, token_count in enumerate(document):\n",
    "        \n",
    "        if token_count > 0:\n",
    "              single_document.append((token_id, token_count))\n",
    "            \n",
    "    if len(single_document)>0:\n",
    "        bow.append(single_document)\n",
    "    else:\n",
    "        blank_documents += 1\n",
    "        bow.append([])\n",
    "        \n",
    "lda.get_document_topics(bow[0])"
   ]
  },
  {
   "cell_type": "code",
   "execution_count": 150,
   "metadata": {
    "collapsed": false
   },
   "outputs": [
    {
     "data": {
      "text/html": [
       "<div>\n",
       "<table border=\"1\" class=\"dataframe\">\n",
       "  <thead>\n",
       "    <tr style=\"text-align: right;\">\n",
       "      <th></th>\n",
       "      <th>t1</th>\n",
       "      <th>t2</th>\n",
       "      <th>t3</th>\n",
       "      <th>t4</th>\n",
       "      <th>t5</th>\n",
       "      <th>t6</th>\n",
       "      <th>t7</th>\n",
       "      <th>t8</th>\n",
       "      <th>t9</th>\n",
       "      <th>t10</th>\n",
       "    </tr>\n",
       "  </thead>\n",
       "  <tbody>\n",
       "    <tr>\n",
       "      <th>0</th>\n",
       "      <td>0.100000</td>\n",
       "      <td>0.100000</td>\n",
       "      <td>0.100000</td>\n",
       "      <td>0.100000</td>\n",
       "      <td>0.100000</td>\n",
       "      <td>0.100000</td>\n",
       "      <td>0.100000</td>\n",
       "      <td>0.10000</td>\n",
       "      <td>0.100000</td>\n",
       "      <td>0.100000</td>\n",
       "    </tr>\n",
       "    <tr>\n",
       "      <th>1</th>\n",
       "      <td>0.100000</td>\n",
       "      <td>0.100000</td>\n",
       "      <td>0.100000</td>\n",
       "      <td>0.100000</td>\n",
       "      <td>0.100000</td>\n",
       "      <td>0.100000</td>\n",
       "      <td>0.100000</td>\n",
       "      <td>0.10000</td>\n",
       "      <td>0.100000</td>\n",
       "      <td>0.100000</td>\n",
       "    </tr>\n",
       "    <tr>\n",
       "      <th>2</th>\n",
       "      <td>0.033333</td>\n",
       "      <td>0.033333</td>\n",
       "      <td>0.033333</td>\n",
       "      <td>0.366094</td>\n",
       "      <td>0.033333</td>\n",
       "      <td>0.033333</td>\n",
       "      <td>0.033333</td>\n",
       "      <td>0.36724</td>\n",
       "      <td>0.033333</td>\n",
       "      <td>0.033333</td>\n",
       "    </tr>\n",
       "    <tr>\n",
       "      <th>3</th>\n",
       "      <td>0.100000</td>\n",
       "      <td>0.100000</td>\n",
       "      <td>0.100000</td>\n",
       "      <td>0.100000</td>\n",
       "      <td>0.100000</td>\n",
       "      <td>0.100000</td>\n",
       "      <td>0.100000</td>\n",
       "      <td>0.10000</td>\n",
       "      <td>0.100000</td>\n",
       "      <td>0.100000</td>\n",
       "    </tr>\n",
       "    <tr>\n",
       "      <th>4</th>\n",
       "      <td>0.100000</td>\n",
       "      <td>0.100000</td>\n",
       "      <td>0.100000</td>\n",
       "      <td>0.100000</td>\n",
       "      <td>0.100000</td>\n",
       "      <td>0.100000</td>\n",
       "      <td>0.100000</td>\n",
       "      <td>0.10000</td>\n",
       "      <td>0.100000</td>\n",
       "      <td>0.100000</td>\n",
       "    </tr>\n",
       "  </tbody>\n",
       "</table>\n",
       "</div>"
      ],
      "text/plain": [
       "         t1        t2        t3        t4        t5        t6        t7  \\\n",
       "0  0.100000  0.100000  0.100000  0.100000  0.100000  0.100000  0.100000   \n",
       "1  0.100000  0.100000  0.100000  0.100000  0.100000  0.100000  0.100000   \n",
       "2  0.033333  0.033333  0.033333  0.366094  0.033333  0.033333  0.033333   \n",
       "3  0.100000  0.100000  0.100000  0.100000  0.100000  0.100000  0.100000   \n",
       "4  0.100000  0.100000  0.100000  0.100000  0.100000  0.100000  0.100000   \n",
       "\n",
       "        t8        t9       t10  \n",
       "0  0.10000  0.100000  0.100000  \n",
       "1  0.10000  0.100000  0.100000  \n",
       "2  0.36724  0.033333  0.033333  \n",
       "3  0.10000  0.100000  0.100000  \n",
       "4  0.10000  0.100000  0.100000  "
      ]
     },
     "execution_count": 150,
     "metadata": {},
     "output_type": "execute_result"
    }
   ],
   "source": [
    "topic_proba =lda.get_document_topics(bow)\n",
    "\n",
    "simplelist =[]\n",
    "for x in topic_proba:\n",
    "    simplelist.append(x)\n",
    "\n",
    "# list of lists , inner list, each one should be only 10 (topic numbers) values (non-tuples)\n",
    "valuelist = [[y[1] for y in line] for line in simplelist]\n",
    "\n",
    "topics_1 = pd.DataFrame(valuelist, columns = ['t1','t2','t3','t4','t5','t6','t7','t8','t9','t10'])\n",
    "topics_1.head()"
   ]
  },
  {
   "cell_type": "code",
   "execution_count": 210,
   "metadata": {
    "collapsed": false
   },
   "outputs": [
    {
     "data": {
      "text/plain": [
       "<matplotlib.axes._subplots.AxesSubplot at 0x11b5c3990>"
      ]
     },
     "execution_count": 210,
     "metadata": {},
     "output_type": "execute_result"
    },
    {
     "data": {
      "image/png": "[encoded data removed]",
      "text/plain": [
       "<matplotlib.figure.Figure at 0x13c768cd0>"
      ]
     },
     "metadata": {},
     "output_type": "display_data"
    }
   ],
   "source": [
    "topics_1['t1'].plot(kind='hist')\n"
   ]
  },
  {
   "cell_type": "code",
   "execution_count": 211,
   "metadata": {
    "collapsed": false
   },
   "outputs": [
    {
     "data": {
      "text/plain": [
       "<matplotlib.axes._subplots.AxesSubplot at 0x12c7ee910>"
      ]
     },
     "execution_count": 211,
     "metadata": {},
     "output_type": "execute_result"
    },
    {
     "data": {
      "image/png": "[encoded data removed]",
      "text/plain": [
       "<matplotlib.figure.Figure at 0x1252852d0>"
      ]
     },
     "metadata": {},
     "output_type": "display_data"
    }
   ],
   "source": [
    "topics_1['t2'].plot(kind='hist')"
   ]
  },
  {
   "cell_type": "code",
   "execution_count": 151,
   "metadata": {
    "collapsed": false
   },
   "outputs": [],
   "source": [
    "def plot_topic_dist(feature = 't1', threashold = .3):\n",
    "    topics_1[feature][topics_1[feature] > threashold].sort_values(ascending=False).hist()\n",
    "    \n",
    "def get_documents_by_topic(topic='t1', threashold = .65):\n",
    "    orig_df = pd.read_csv(\"../Clean_Data/red_reviews_clean.csv\")\n",
    "    orig_df = orig_df.dropna()  \n",
    "    return orig_df[orig_df.index.isin(topics_1[topics_1[topic] > threashold].index)]['red_review']\n",
    "\n",
    "def get_top_feature_counts(df, limit = 10, vectorizer = vectorizer):\n",
    "\n",
    "#     vect = CountVectorizer()\n",
    "    X = vectorizer.fit_transform(df)\n",
    "\n",
    "    tokens = pd.DataFrame()\n",
    "    stats_df = pd.DataFrame(X.toarray(), columns=vectorizer.vocabulary_)\n",
    "    tokens['tokens'] = stats_df.columns \n",
    "    tokens['count'] = stats_df.T.sum()\n",
    "    tokens = tokens.set_index('tokens')\n",
    "    return tokens.sort('count', ascending=False).head(limit)"
   ]
  },
  {
   "cell_type": "code",
   "execution_count": 152,
   "metadata": {
    "collapsed": false,
    "scrolled": true
   },
   "outputs": [
    {
     "data": {
      "image/png": "[encoded data removed]",
      "text/plain": [
       "<matplotlib.figure.Figure at 0x11bbe51d0>"
      ]
     },
     "metadata": {},
     "output_type": "display_data"
    }
   ],
   "source": [
    "plot_topic_dist('t1', .3)"
   ]
  },
  {
   "cell_type": "code",
   "execution_count": 153,
   "metadata": {
    "collapsed": false
   },
   "outputs": [
    {
     "data": {
      "image/png": "[encoded data removed]",
      "text/plain": [
       "<matplotlib.figure.Figure at 0x13b81e590>"
      ]
     },
     "metadata": {},
     "output_type": "display_data"
    }
   ],
   "source": [
    "plot_topic_dist('t2', .3)"
   ]
  },
  {
   "cell_type": "code",
   "execution_count": 154,
   "metadata": {
    "collapsed": false
   },
   "outputs": [
    {
     "data": {
      "image/png": "[encoded data removed]",
      "text/plain": [
       "<matplotlib.figure.Figure at 0x13bd41b10>"
      ]
     },
     "metadata": {},
     "output_type": "display_data"
    }
   ],
   "source": [
    "plot_topic_dist('t3', .3)"
   ]
  },
  {
   "cell_type": "code",
   "execution_count": 155,
   "metadata": {
    "collapsed": false
   },
   "outputs": [
    {
     "data": {
      "image/png": "[encoded data removed]",
      "text/plain": [
       "<matplotlib.figure.Figure at 0x13ef8d5d0>"
      ]
     },
     "metadata": {},
     "output_type": "display_data"
    }
   ],
   "source": [
    "plot_topic_dist('t4', .3)"
   ]
  },
  {
   "cell_type": "code",
   "execution_count": 156,
   "metadata": {
    "collapsed": false
   },
   "outputs": [
    {
     "data": {
      "image/png": "[encoded data removed]",
      "text/plain": [
       "<matplotlib.figure.Figure at 0x11fa3d750>"
      ]
     },
     "metadata": {},
     "output_type": "display_data"
    }
   ],
   "source": [
    "plot_topic_dist('t5', .3)"
   ]
  },
  {
   "cell_type": "code",
   "execution_count": 157,
   "metadata": {
    "collapsed": false
   },
   "outputs": [
    {
     "data": {
      "image/png": "[encoded data removed]",
      "text/plain": [
       "<matplotlib.figure.Figure at 0x1252e5a50>"
      ]
     },
     "metadata": {},
     "output_type": "display_data"
    }
   ],
   "source": [
    "plot_topic_dist('t6', .3)"
   ]
  },
  {
   "cell_type": "code",
   "execution_count": 158,
   "metadata": {
    "collapsed": false
   },
   "outputs": [
    {
     "data": {
      "image/png": "[encoded data removed]",
      "text/plain": [
       "<matplotlib.figure.Figure at 0x1252e5210>"
      ]
     },
     "metadata": {},
     "output_type": "display_data"
    }
   ],
   "source": [
    "plot_topic_dist('t7', .3)"
   ]
  },
  {
   "cell_type": "code",
   "execution_count": 159,
   "metadata": {
    "collapsed": false
   },
   "outputs": [
    {
     "data": {
      "image/png": "[encoded data removed]",
      "text/plain": [
       "<matplotlib.figure.Figure at 0x12433c490>"
      ]
     },
     "metadata": {},
     "output_type": "display_data"
    }
   ],
   "source": [
    "plot_topic_dist('t8', .3)"
   ]
  },
  {
   "cell_type": "code",
   "execution_count": 160,
   "metadata": {
    "collapsed": false
   },
   "outputs": [
    {
     "data": {
      "image/png": "[encoded data removed]",
      "text/plain": [
       "<matplotlib.figure.Figure at 0x1254ead50>"
      ]
     },
     "metadata": {},
     "output_type": "display_data"
    }
   ],
   "source": [
    "plot_topic_dist('t9', .3)"
   ]
  },
  {
   "cell_type": "code",
   "execution_count": 161,
   "metadata": {
    "collapsed": false
   },
   "outputs": [
    {
     "data": {
      "image/png": "[encoded data removed]",
      "text/plain": [
       "<matplotlib.figure.Figure at 0x12433ce50>"
      ]
     },
     "metadata": {},
     "output_type": "display_data"
    }
   ],
   "source": [
    "plot_topic_dist('t10', .3)"
   ]
  },
  {
   "cell_type": "code",
   "execution_count": 173,
   "metadata": {
    "collapsed": false
   },
   "outputs": [
    {
     "name": "stderr",
     "output_type": "stream",
     "text": [
      "/anaconda/envs/dsi/lib/python2.7/site-packages/ipykernel/__main__.py:19: FutureWarning: sort(columns=....) is deprecated, use sort_values(by=.....)\n"
     ]
    },
    {
     "data": {
      "text/html": [
       "<div>\n",
       "<table border=\"1\" class=\"dataframe\">\n",
       "  <thead>\n",
       "    <tr style=\"text-align: right;\">\n",
       "      <th></th>\n",
       "      <th>count</th>\n",
       "    </tr>\n",
       "    <tr>\n",
       "      <th>tokens</th>\n",
       "      <th></th>\n",
       "    </tr>\n",
       "  </thead>\n",
       "  <tbody>\n",
       "    <tr>\n",
       "      <th>america enticing</th>\n",
       "      <td>47.0</td>\n",
       "    </tr>\n",
       "    <tr>\n",
       "      <th>power demonstrated</th>\n",
       "      <td>43.0</td>\n",
       "    </tr>\n",
       "    <tr>\n",
       "      <th>meal glad</th>\n",
       "      <td>40.0</td>\n",
       "    </tr>\n",
       "    <tr>\n",
       "      <th>strong love</th>\n",
       "      <td>39.0</td>\n",
       "    </tr>\n",
       "    <tr>\n",
       "      <th>away smooth</th>\n",
       "      <td>39.0</td>\n",
       "    </tr>\n",
       "    <tr>\n",
       "      <th>shiraz richness</th>\n",
       "      <td>36.0</td>\n",
       "    </tr>\n",
       "    <tr>\n",
       "      <th>ripeness depth</th>\n",
       "      <td>36.0</td>\n",
       "    </tr>\n",
       "    <tr>\n",
       "      <th>bodied wonderful</th>\n",
       "      <td>35.0</td>\n",
       "    </tr>\n",
       "    <tr>\n",
       "      <th>round finish</th>\n",
       "      <td>33.0</td>\n",
       "    </tr>\n",
       "    <tr>\n",
       "      <th>tobacco leather</th>\n",
       "      <td>33.0</td>\n",
       "    </tr>\n",
       "  </tbody>\n",
       "</table>\n",
       "</div>"
      ],
      "text/plain": [
       "                    count\n",
       "tokens                   \n",
       "america enticing     47.0\n",
       "power demonstrated   43.0\n",
       "meal glad            40.0\n",
       "strong love          39.0\n",
       "away smooth          39.0\n",
       "shiraz richness      36.0\n",
       "ripeness depth       36.0\n",
       "bodied wonderful     35.0\n",
       "round finish         33.0\n",
       "tobacco leather      33.0"
      ]
     },
     "execution_count": 173,
     "metadata": {},
     "output_type": "execute_result"
    }
   ],
   "source": [
    "# docs topics are the documents in the topic paramter\n",
    "docs_topics = get_documents_by_topic('t3', .65)\n",
    "\n",
    "# get df of top word counts by df\n",
    "get_top_feature_counts(docs_topics, limit = 10)"
   ]
  },
  {
   "cell_type": "code",
   "execution_count": null,
   "metadata": {
    "collapsed": true
   },
   "outputs": [],
   "source": []
  }
 ],
 "metadata": {
  "anaconda-cloud": {},
  "kernelspec": {
   "display_name": "Python [dsi]",
   "language": "python",
   "name": "Python [dsi]"
  },
  "language_info": {
   "codemirror_mode": {
    "name": "ipython",
    "version": 2
   },
   "file_extension": ".py",
   "mimetype": "text/x-python",
   "name": "python",
   "nbconvert_exporter": "python",
   "pygments_lexer": "ipython2",
   "version": "2.7.12"
  }
 },
 "nbformat": 4,
 "nbformat_minor": 0
}
