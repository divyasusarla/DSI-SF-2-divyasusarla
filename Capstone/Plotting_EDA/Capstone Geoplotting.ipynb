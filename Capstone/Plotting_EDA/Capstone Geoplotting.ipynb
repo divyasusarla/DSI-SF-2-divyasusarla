{
 "cells": [
  {
   "cell_type": "code",
   "execution_count": 8,
   "metadata": {
    "collapsed": true
   },
   "outputs": [],
   "source": [
    "import pandas as pd\n",
    "import numpy as np\n",
    "import matplotlib.pyplot as plt\n",
    "import seaborn as sns\n",
    "%matplotlib inline\n",
    "%config InlineBackend.figure_formats = ['svg']\n",
    "sns.set_style(\"white\")"
   ]
  },
  {
   "cell_type": "code",
   "execution_count": 9,
   "metadata": {
    "collapsed": true
   },
   "outputs": [],
   "source": [
    "red_clean = pd.read_csv('/Users/divyasusarla/Desktop/DSI-SF-2-divyasusarla/Capstone/Clean_Data/red_wine_details_clean.csv', encoding='utf-8')"
   ]
  },
  {
   "cell_type": "code",
   "execution_count": 10,
   "metadata": {
    "collapsed": false
   },
   "outputs": [
    {
     "data": {
      "text/plain": [
       "array([u'France', u'United States', u'Australia', u'Italy', u'Spain',\n",
       "       u'Argentina', u'Chile', u'Portugal', u'Hungary', u'Lebanon',\n",
       "       u'South Africa', nan, u'Israel', u'Austria', u'New Zealand',\n",
       "       u'Uruguay', u'United Kingdom', u'Switzerland', u'Greece',\n",
       "       u'Republic of Serbia', u'Canada', u'Georgia', u'Romania', u'Brazil',\n",
       "       u'Macedonia', u'Germany', u'Albania', u'Mexico', u'Bulgaria'], dtype=object)"
      ]
     },
     "execution_count": 10,
     "metadata": {},
     "output_type": "execute_result"
    }
   ],
   "source": [
    "red_clean.red_countries.unique()"
   ]
  },
  {
   "cell_type": "code",
   "execution_count": 11,
   "metadata": {
    "collapsed": false
   },
   "outputs": [
    {
     "name": "stdout",
     "output_type": "stream",
     "text": [
      "Requirement already satisfied (use --upgrade to upgrade): geopy in /anaconda/envs/dsi/lib/python2.7/site-packages\r\n"
     ]
    }
   ],
   "source": [
    "!pip install geopy"
   ]
  },
  {
   "cell_type": "code",
   "execution_count": 12,
   "metadata": {
    "collapsed": false
   },
   "outputs": [
    {
     "name": "stdout",
     "output_type": "stream",
     "text": [
      "France\n",
      "United States\n",
      "Australia\n",
      "Italy\n",
      "Spain\n",
      "Argentina\n",
      "Chile\n",
      "Portugal\n",
      "Hungary\n",
      "Lebanon\n",
      "South Africa\n",
      "Israel\n",
      "Austria\n",
      "New Zealand\n",
      "Uruguay\n",
      "United Kingdom\n",
      "Switzerland\n",
      "Greece\n",
      "Republic of Serbia\n",
      "Canada\n",
      "Georgia\n",
      "Romania\n",
      "Brazil\n",
      "Macedonia\n",
      "Germany\n",
      "Albania\n",
      "Mexico\n",
      "Bulgaria\n"
     ]
    }
   ],
   "source": [
    "from geopy.geocoders import Bing\n",
    "\n",
    "countries = ['France', 'United States', 'Australia', 'Italy', 'Spain', 'Argentina', 'Chile', 'Portugal', \n",
    "             'Hungary', 'Lebanon', 'South Africa', 'Israel', 'Austria', 'New Zealand', 'Uruguay', \n",
    "             'United Kingdom', 'Switzerland', 'Greece', 'Republic of Serbia', 'Canada', 'Georgia', \n",
    "             'Romania', 'Brazil', 'Macedonia', 'Germany', 'Albania', 'Mexico', 'Bulgaria']\n",
    "\n",
    "red_locations = []\n",
    "\n",
    "geolocator  = Bing(\"AqbMqgChvhrcKHPnavY2dmbyTP9L7XQG1iKCnZ61KXFOwcZbMABDNlyNnFnYGJvY\")\n",
    "for i in countries:\n",
    "    print i\n",
    "    geocode = geolocator.geocode(i)\n",
    "    red_locations.append([i, geocode[1][0], geocode[1][1]])"
   ]
  },
  {
   "cell_type": "code",
   "execution_count": 13,
   "metadata": {
    "collapsed": false
   },
   "outputs": [
    {
     "name": "stdout",
     "output_type": "stream",
     "text": [
      "<class 'pandas.core.frame.DataFrame'>\n",
      "RangeIndex: 28 entries, 0 to 27\n",
      "Data columns (total 3 columns):\n",
      "country      28 non-null object\n",
      "latitude     28 non-null object\n",
      "longitude    28 non-null object\n",
      "dtypes: object(3)\n",
      "memory usage: 744.0+ bytes\n",
      "None\n",
      "\n",
      "=======\n",
      "         country        latitude       longitude\n",
      "0         France   46.6372795105   2.33826231956\n",
      "1  United States   39.4432563782  -98.9573364258\n",
      "2      Australia  -25.5852413177   134.504119873\n",
      "3          Italy   42.7669792175   12.4938230515\n",
      "4          Spain   40.3960266113  -3.55069255829\n",
      "5      Argentina  -37.0719642639  -64.8545074463\n",
      "6          Chile  -35.7862281799  -71.6746749878\n",
      "7       Portugal   39.6420097351  -8.00942230225\n",
      "8        Hungary   47.1657333374   19.4165744781\n",
      "\n",
      "=======\n",
      "      country        latitude       longitude\n",
      "19     Canada   62.8329086304  -95.9133224487\n",
      "20    Georgia   32.6483230591  -83.4445343018\n",
      "21    Romania   45.8377418518   25.0059356689\n",
      "22     Brazil  -10.8104515076  -52.9731178284\n",
      "23  Macedonia   41.6004562378   21.7008953094\n",
      "24    Germany   51.2024650574   10.3822031021\n",
      "25    Albania   41.1111335754   20.0274524689\n",
      "26     Mexico   23.9090938568  -102.633399963\n",
      "27   Bulgaria   42.7661018372   25.2837333679\n"
     ]
    }
   ],
   "source": [
    "red_locations = np.array(red_locations)\n",
    "red_locations = pd.DataFrame(red_locations, columns=['country','latitude','longitude'])\n",
    "print red_locations.info()\n",
    "print '\\n======='\n",
    "print red_locations.head(9)\n",
    "print '\\n======='\n",
    "print red_locations.tail(9)"
   ]
  },
  {
   "cell_type": "code",
   "execution_count": 14,
   "metadata": {
    "collapsed": false
   },
   "outputs": [
    {
     "data": {
      "text/html": [
       "<div>\n",
       "<table border=\"1\" class=\"dataframe\">\n",
       "  <thead>\n",
       "    <tr style=\"text-align: right;\">\n",
       "      <th></th>\n",
       "      <th>country</th>\n",
       "      <th>latitude</th>\n",
       "      <th>longitude</th>\n",
       "    </tr>\n",
       "  </thead>\n",
       "  <tbody>\n",
       "    <tr>\n",
       "      <th>0</th>\n",
       "      <td>France</td>\n",
       "      <td>46.6372795105</td>\n",
       "      <td>2.33826231956</td>\n",
       "    </tr>\n",
       "    <tr>\n",
       "      <th>1</th>\n",
       "      <td>United States</td>\n",
       "      <td>39.4432563782</td>\n",
       "      <td>-98.9573364258</td>\n",
       "    </tr>\n",
       "    <tr>\n",
       "      <th>2</th>\n",
       "      <td>Australia</td>\n",
       "      <td>-25.5852413177</td>\n",
       "      <td>134.504119873</td>\n",
       "    </tr>\n",
       "    <tr>\n",
       "      <th>3</th>\n",
       "      <td>Italy</td>\n",
       "      <td>42.7669792175</td>\n",
       "      <td>12.4938230515</td>\n",
       "    </tr>\n",
       "    <tr>\n",
       "      <th>4</th>\n",
       "      <td>Spain</td>\n",
       "      <td>40.3960266113</td>\n",
       "      <td>-3.55069255829</td>\n",
       "    </tr>\n",
       "  </tbody>\n",
       "</table>\n",
       "</div>"
      ],
      "text/plain": [
       "         country        latitude       longitude\n",
       "0         France   46.6372795105   2.33826231956\n",
       "1  United States   39.4432563782  -98.9573364258\n",
       "2      Australia  -25.5852413177   134.504119873\n",
       "3          Italy   42.7669792175   12.4938230515\n",
       "4          Spain   40.3960266113  -3.55069255829"
      ]
     },
     "execution_count": 14,
     "metadata": {},
     "output_type": "execute_result"
    }
   ],
   "source": [
    "red_locations.head()"
   ]
  },
  {
   "cell_type": "code",
   "execution_count": 22,
   "metadata": {
    "collapsed": true
   },
   "outputs": [],
   "source": [
    "red_locations.to_csv(path_or_buf='/Users/divyasusarla/Desktop/DSI-SF-2-divyasusarla/Capstone/redlocations.csv')"
   ]
  },
  {
   "cell_type": "code",
   "execution_count": 16,
   "metadata": {
    "collapsed": false
   },
   "outputs": [],
   "source": [
    "white_clean = pd.read_csv('/Users/divyasusarla/Desktop/DSI-SF-2-divyasusarla/Capstone/Clean_Data/white_wine_details_clean.csv', encoding='utf-8')"
   ]
  },
  {
   "cell_type": "code",
   "execution_count": 17,
   "metadata": {
    "collapsed": false
   },
   "outputs": [
    {
     "data": {
      "text/plain": [
       "array([u'United States', u'France', u'Italy', u'Argentina',\n",
       "       u'South Africa', u'Spain', u'Germany', u'Austria', u'Chile',\n",
       "       u'Israel', u'Greece', u'Brazil', u'Portugal', u'Australia',\n",
       "       u'Lebanon', u'Canada', u'New Zealand', nan, u'Switzerland',\n",
       "       u'Hungary', u'Moldova', u'Croatia (Hrvatska)', u'Cyprus',\n",
       "       u'Slovenia', u'India', u'United Kingdom', u'Mexico', u'Uruguay',\n",
       "       u'Thailand', u'Macedonia', u'Republic of Serbia', u'Georgia',\n",
       "       u'Romania', u'Turkey', u'Czech Republic', u'Luxembourg'], dtype=object)"
      ]
     },
     "execution_count": 17,
     "metadata": {},
     "output_type": "execute_result"
    }
   ],
   "source": [
    "white_clean.white_countries.unique()"
   ]
  },
  {
   "cell_type": "code",
   "execution_count": 18,
   "metadata": {
    "collapsed": false
   },
   "outputs": [
    {
     "name": "stdout",
     "output_type": "stream",
     "text": [
      "United States\n",
      "France\n",
      "Italy\n",
      "Argentina\n",
      "South Africa\n",
      "Spain\n",
      "Germany\n",
      "Austria\n",
      "Chile\n",
      "Israel\n",
      "Greece\n",
      "Brazil\n",
      "Portugal\n",
      "Australia\n",
      "Lebanon\n",
      "Canada\n",
      "New Zealand\n",
      "Switzerland\n",
      "Hungary\n",
      "Moldova\n",
      "Croatia (Hrvatska)\n",
      "Cyprus\n",
      "Slovenia\n",
      "India\n",
      "United Kingdom\n",
      "Mexico\n",
      "Uruguay\n",
      "Thailand\n",
      "Macedonia\n",
      "Republic of Serbia\n",
      "Georgia\n",
      "Romania\n",
      "Turkey\n",
      "Czech Republic\n",
      "Luxembourg\n"
     ]
    }
   ],
   "source": [
    "from geopy.geocoders import Bing\n",
    "\n",
    "countries = ['United States', 'France', 'Italy', 'Argentina', 'South Africa', 'Spain', 'Germany', 'Austria', \n",
    "             'Chile', 'Israel', 'Greece', 'Brazil', 'Portugal', 'Australia', 'Lebanon', 'Canada', 'New Zealand', \n",
    "             'Switzerland', 'Hungary', 'Moldova', 'Croatia (Hrvatska)', 'Cyprus', 'Slovenia', 'India',\n",
    "             'United Kingdom', 'Mexico', 'Uruguay', 'Thailand', 'Macedonia', 'Republic of Serbia', 'Georgia', \n",
    "             'Romania', 'Turkey', 'Czech Republic', 'Luxembourg']\n",
    "\n",
    "white_locations = []\n",
    "\n",
    "geolocator  = Bing(\"AqbMqgChvhrcKHPnavY2dmbyTP9L7XQG1iKCnZ61KXFOwcZbMABDNlyNnFnYGJvY\")\n",
    "for i in countries:\n",
    "    print i\n",
    "    geocode = geolocator.geocode(i)\n",
    "    white_locations.append([i, geocode[1][0], geocode[1][1]])"
   ]
  },
  {
   "cell_type": "code",
   "execution_count": 19,
   "metadata": {
    "collapsed": false
   },
   "outputs": [
    {
     "name": "stdout",
     "output_type": "stream",
     "text": [
      "<class 'pandas.core.frame.DataFrame'>\n",
      "RangeIndex: 35 entries, 0 to 34\n",
      "Data columns (total 3 columns):\n",
      "country      35 non-null object\n",
      "latitude     35 non-null object\n",
      "longitude    35 non-null object\n",
      "dtypes: object(3)\n",
      "memory usage: 912.0+ bytes\n",
      "None\n",
      "\n",
      "=======\n",
      "         country        latitude       longitude\n",
      "0  United States   39.4432563782  -98.9573364258\n",
      "1         France   46.6372795105   2.33826231956\n",
      "2          Italy   42.7669792175   12.4938230515\n",
      "3      Argentina  -37.0719642639  -64.8545074463\n",
      "4   South Africa  -29.0461845398   25.0628795624\n",
      "5          Spain   40.3960266113  -3.55069255829\n",
      "6        Germany   51.2024650574   10.3822031021\n",
      "7        Austria   47.5884399414   14.1402111053\n",
      "8          Chile  -35.7862281799  -71.6746749878\n",
      "\n",
      "=======\n",
      "               country        latitude       longitude\n",
      "26             Uruguay  -32.9696540833  -56.0559082031\n",
      "27            Thailand   14.4845819473   100.851913452\n",
      "28           Macedonia   41.6004562378   21.7008953094\n",
      "29  Republic of Serbia   44.2329711914    20.797958374\n",
      "30             Georgia   32.6483230591  -83.4445343018\n",
      "31             Romania   45.8377418518   25.0059356689\n",
      "32              Turkey   39.0510101318   34.9303398132\n",
      "33      Czech Republic   49.7391052246   15.3315010071\n",
      "34          Luxembourg   49.7778816223   6.09474611282\n"
     ]
    }
   ],
   "source": [
    "white_locations = np.array(white_locations)\n",
    "white_locations = pd.DataFrame(white_locations, columns=['country','latitude','longitude'])\n",
    "print white_locations.info()\n",
    "print '\\n======='\n",
    "print white_locations.head(9)\n",
    "print '\\n======='\n",
    "print white_locations.tail(9)"
   ]
  },
  {
   "cell_type": "code",
   "execution_count": 23,
   "metadata": {
    "collapsed": true
   },
   "outputs": [],
   "source": [
    "white_locations.to_csv(path_or_buf='/Users/divyasusarla/Desktop/DSI-SF-2-divyasusarla/Capstone/whitelocations.csv')"
   ]
  },
  {
   "cell_type": "code",
   "execution_count": 20,
   "metadata": {
    "collapsed": false
   },
   "outputs": [
    {
     "data": {
      "text/html": [
       "<div>\n",
       "<table border=\"1\" class=\"dataframe\">\n",
       "  <thead>\n",
       "    <tr style=\"text-align: right;\">\n",
       "      <th></th>\n",
       "      <th>country</th>\n",
       "      <th>latitude</th>\n",
       "      <th>longitude</th>\n",
       "    </tr>\n",
       "  </thead>\n",
       "  <tbody>\n",
       "    <tr>\n",
       "      <th>0</th>\n",
       "      <td>France</td>\n",
       "      <td>46.6372795105</td>\n",
       "      <td>2.33826231956</td>\n",
       "    </tr>\n",
       "    <tr>\n",
       "      <th>1</th>\n",
       "      <td>United States</td>\n",
       "      <td>39.4432563782</td>\n",
       "      <td>-98.9573364258</td>\n",
       "    </tr>\n",
       "    <tr>\n",
       "      <th>2</th>\n",
       "      <td>Australia</td>\n",
       "      <td>-25.5852413177</td>\n",
       "      <td>134.504119873</td>\n",
       "    </tr>\n",
       "    <tr>\n",
       "      <th>3</th>\n",
       "      <td>Italy</td>\n",
       "      <td>42.7669792175</td>\n",
       "      <td>12.4938230515</td>\n",
       "    </tr>\n",
       "    <tr>\n",
       "      <th>4</th>\n",
       "      <td>Spain</td>\n",
       "      <td>40.3960266113</td>\n",
       "      <td>-3.55069255829</td>\n",
       "    </tr>\n",
       "  </tbody>\n",
       "</table>\n",
       "</div>"
      ],
      "text/plain": [
       "         country        latitude       longitude\n",
       "0         France   46.6372795105   2.33826231956\n",
       "1  United States   39.4432563782  -98.9573364258\n",
       "2      Australia  -25.5852413177   134.504119873\n",
       "3          Italy   42.7669792175   12.4938230515\n",
       "4          Spain   40.3960266113  -3.55069255829"
      ]
     },
     "execution_count": 20,
     "metadata": {},
     "output_type": "execute_result"
    }
   ],
   "source": [
    "red_locations.head()"
   ]
  },
  {
   "cell_type": "code",
   "execution_count": 21,
   "metadata": {
    "collapsed": false
   },
   "outputs": [
    {
     "data": {
      "text/html": [
       "<div>\n",
       "<table border=\"1\" class=\"dataframe\">\n",
       "  <thead>\n",
       "    <tr style=\"text-align: right;\">\n",
       "      <th></th>\n",
       "      <th>country</th>\n",
       "      <th>latitude</th>\n",
       "      <th>longitude</th>\n",
       "    </tr>\n",
       "  </thead>\n",
       "  <tbody>\n",
       "    <tr>\n",
       "      <th>0</th>\n",
       "      <td>United States</td>\n",
       "      <td>39.4432563782</td>\n",
       "      <td>-98.9573364258</td>\n",
       "    </tr>\n",
       "    <tr>\n",
       "      <th>1</th>\n",
       "      <td>France</td>\n",
       "      <td>46.6372795105</td>\n",
       "      <td>2.33826231956</td>\n",
       "    </tr>\n",
       "    <tr>\n",
       "      <th>2</th>\n",
       "      <td>Italy</td>\n",
       "      <td>42.7669792175</td>\n",
       "      <td>12.4938230515</td>\n",
       "    </tr>\n",
       "    <tr>\n",
       "      <th>3</th>\n",
       "      <td>Argentina</td>\n",
       "      <td>-37.0719642639</td>\n",
       "      <td>-64.8545074463</td>\n",
       "    </tr>\n",
       "    <tr>\n",
       "      <th>4</th>\n",
       "      <td>South Africa</td>\n",
       "      <td>-29.0461845398</td>\n",
       "      <td>25.0628795624</td>\n",
       "    </tr>\n",
       "  </tbody>\n",
       "</table>\n",
       "</div>"
      ],
      "text/plain": [
       "         country        latitude       longitude\n",
       "0  United States   39.4432563782  -98.9573364258\n",
       "1         France   46.6372795105   2.33826231956\n",
       "2          Italy   42.7669792175   12.4938230515\n",
       "3      Argentina  -37.0719642639  -64.8545074463\n",
       "4   South Africa  -29.0461845398   25.0628795624"
      ]
     },
     "execution_count": 21,
     "metadata": {},
     "output_type": "execute_result"
    }
   ],
   "source": [
    "white_locations.head()"
   ]
  },
  {
   "cell_type": "markdown",
   "metadata": {},
   "source": [
    "# Use plotly to create satellite map with location file above."
   ]
  }
 ],
 "metadata": {
  "anaconda-cloud": {},
  "kernelspec": {
   "display_name": "Python [dsi]",
   "language": "python",
   "name": "Python [dsi]"
  },
  "language_info": {
   "codemirror_mode": {
    "name": "ipython",
    "version": 2
   },
   "file_extension": ".py",
   "mimetype": "text/x-python",
   "name": "python",
   "nbconvert_exporter": "python",
   "pygments_lexer": "ipython2",
   "version": "2.7.12"
  }
 },
 "nbformat": 4,
 "nbformat_minor": 0
}
