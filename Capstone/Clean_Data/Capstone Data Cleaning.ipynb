{
 "cells": [
  {
   "cell_type": "markdown",
   "metadata": {},
   "source": [
    "## Clean the raw wine data files"
   ]
  },
  {
   "cell_type": "code",
   "execution_count": 606,
   "metadata": {
    "collapsed": true
   },
   "outputs": [],
   "source": [
    "# Import packages:\n",
    "\n",
    "import pandas as pd\n",
    "import numpy as np"
   ]
  },
  {
   "cell_type": "code",
   "execution_count": 607,
   "metadata": {
    "collapsed": false
   },
   "outputs": [],
   "source": [
    "# Load datasets:\n",
    "\n",
    "red_wine_details = pd.read_csv('/Users/divyasusarla/Desktop/DSI-SF-2-divyasusarla/Capstone/Raw_Data/redwinerawdata.csv', encoding='utf-8')\n",
    "red_wine_reviews = pd.read_csv('/Users/divyasusarla/Desktop/DSI-SF-2-divyasusarla/Capstone/Raw_Data/redreviewsrawdata.csv', encoding='utf-8')\n",
    "white_wine_details = pd.read_csv('/Users/divyasusarla/Desktop/DSI-SF-2-divyasusarla/Capstone/Raw_Data/whitewinerawdata.csv', encoding='utf-8')\n",
    "white_wine_reviews = pd.read_csv('/Users/divyasusarla/Desktop/DSI-SF-2-divyasusarla/Capstone/Raw_Data/whitereviewsrawdata.csv', encoding='utf-8')"
   ]
  },
  {
   "cell_type": "markdown",
   "metadata": {},
   "source": [
    "Work with red wine details file first."
   ]
  },
  {
   "cell_type": "code",
   "execution_count": 608,
   "metadata": {
    "collapsed": true
   },
   "outputs": [],
   "source": [
    "del red_wine_details['index']\n",
    "del red_wine_details['Unnamed: 0.1']\n",
    "\n",
    "red_wine_details.rename(columns={'Unnamed: 0': 'wine_index', \n",
    "                                 '0': 'redwine', \n",
    "                                 '1': 'red_wineries', \n",
    "                                 '2': 'red_regions', \n",
    "                                 '3': 'red_countries', \n",
    "                                 '4': 'red_avg_wine_ratings', \n",
    "                                 '5': 'red_avg_price'}, inplace=True)\n",
    "\n",
    "red_wine_details['red_avg_price'] = red_wine_details['red_avg_price'].map(lambda value: value.split(\n",
    "        \"[u'\\\\nAvg. Price: $\")[1].split(\"\\\\\")[0])\n",
    "red_wine_details['red_avg_wine_ratings'] = red_wine_details['red_avg_wine_ratings'].map(\n",
    "    lambda value: value.split(\"[u'\\\\nAvg. Rating: \")[1].split(\"\\\\\")[0])"
   ]
  },
  {
   "cell_type": "code",
   "execution_count": 609,
   "metadata": {
    "collapsed": true
   },
   "outputs": [],
   "source": [
    "def no_c(value):\n",
    "    return value.replace(',','')\n",
    "\n",
    "def convert_to_float(value):\n",
    "    return float(value)\n",
    "\n",
    "red_wine_details['red_avg_price'] = red_wine_details['red_avg_price'].map(no_c)\n",
    "red_wine_details['red_avg_price'] = red_wine_details['red_avg_price'].map(convert_to_float)\n",
    "red_wine_details['red_avg_wine_ratings'] = red_wine_details['red_avg_wine_ratings'].map(convert_to_float)"
   ]
  },
  {
   "cell_type": "code",
   "execution_count": 610,
   "metadata": {
    "collapsed": false
   },
   "outputs": [
    {
     "name": "stdout",
     "output_type": "stream",
     "text": [
      "<class 'pandas.core.frame.DataFrame'>\n",
      "RangeIndex: 11510 entries, 0 to 11509\n",
      "Data columns (total 7 columns):\n",
      "wine_index              11510 non-null int64\n",
      "redwine                 11510 non-null object\n",
      "red_wineries            11510 non-null object\n",
      "red_regions             11510 non-null object\n",
      "red_countries           11510 non-null object\n",
      "red_avg_wine_ratings    11510 non-null float64\n",
      "red_avg_price           11510 non-null float64\n",
      "dtypes: float64(2), int64(1), object(4)\n",
      "memory usage: 629.5+ KB\n"
     ]
    }
   ],
   "source": [
    "red_wine_details.info()"
   ]
  },
  {
   "cell_type": "markdown",
   "metadata": {},
   "source": [
    " "
   ]
  },
  {
   "cell_type": "markdown",
   "metadata": {},
   "source": [
    "Do the same cleaning for the white wine details:"
   ]
  },
  {
   "cell_type": "code",
   "execution_count": 611,
   "metadata": {
    "collapsed": false,
    "scrolled": true
   },
   "outputs": [
    {
     "data": {
      "text/plain": [
       "375     []\n",
       "1153    []\n",
       "1373    []\n",
       "2705    []\n",
       "3095    []\n",
       "3304    []\n",
       "3907    []\n",
       "4335    []\n",
       "4464    []\n",
       "4533    []\n",
       "4892    []\n",
       "4993    []\n",
       "5523    []\n",
       "6082    []\n",
       "6654    []\n",
       "6687    []\n",
       "6766    []\n",
       "6910    []\n",
       "7530    []\n",
       "7923    []\n",
       "7999    []\n",
       "8672    []\n",
       "8766    []\n",
       "9147    []\n",
       "9276    []\n",
       "9348    []\n",
       "9736    []\n",
       "9887    []\n",
       "Name: white_avg_price, dtype: object"
      ]
     },
     "execution_count": 611,
     "metadata": {},
     "output_type": "execute_result"
    }
   ],
   "source": [
    "del white_wine_details['index']\n",
    "del white_wine_details['Unnamed: 0.1']\n",
    "\n",
    "white_wine_details.rename(columns={'Unnamed: 0': 'wine_index', \n",
    "                                 '0': 'white_wine', \n",
    "                                 '1': 'white_wineries', \n",
    "                                 '2': 'white_regions', \n",
    "                                 '3': 'white_countries', \n",
    "                                 '4': 'white_avg_wine_ratings', \n",
    "                                 '5': 'white_avg_price'}, inplace=True)\n",
    "\n",
    "white_wine_details['white_avg_price'][white_wine_details['white_avg_price'] == '[]']"
   ]
  },
  {
   "cell_type": "code",
   "execution_count": 612,
   "metadata": {
    "collapsed": false
   },
   "outputs": [
    {
     "data": {
      "text/plain": [
       "6687    []\n",
       "Name: white_avg_wine_ratings, dtype: object"
      ]
     },
     "execution_count": 612,
     "metadata": {},
     "output_type": "execute_result"
    }
   ],
   "source": [
    "white_wine_details['white_avg_wine_ratings'][white_wine_details['white_avg_wine_ratings'] == '[]']"
   ]
  },
  {
   "cell_type": "code",
   "execution_count": 613,
   "metadata": {
    "collapsed": true
   },
   "outputs": [],
   "source": [
    "# It looks as thought there are a few missing prices and one missing avg wine rating. I will convert these values to\n",
    "# Nan and convert them to floats. \n",
    "\n",
    "def trysplit(value):\n",
    "    try:\n",
    "        return value.split(\"[u'\\\\nAvg. Price: $\")[1].split(\"\\\\\")[0]\n",
    "    except:\n",
    "        return np.nan\n",
    "    \n",
    "def trysplit2(value):\n",
    "    try:\n",
    "        return value.split(\"[u'\\\\nAvg. Rating: \")[1].split(\"\\\\\")[0]\n",
    "    except:\n",
    "        return np.nan\n",
    "\n",
    "def no_c2(value):\n",
    "    try:\n",
    "        return value.replace(',','')\n",
    "    except:\n",
    "        return value\n",
    "        \n",
    "white_wine_details['white_avg_price'] = white_wine_details['white_avg_price'].map(trysplit)\n",
    "white_wine_details['white_avg_wine_ratings'] = white_wine_details['white_avg_wine_ratings'].map(trysplit2)\n",
    "white_wine_details['white_avg_price'] = white_wine_details['white_avg_price'].map(no_c2)\n",
    "white_wine_details['white_avg_price'] = white_wine_details['white_avg_price'].map(convert_to_float)\n",
    "white_wine_details['white_avg_wine_ratings'] = white_wine_details['white_avg_wine_ratings'].map(convert_to_float)"
   ]
  },
  {
   "cell_type": "code",
   "execution_count": 614,
   "metadata": {
    "collapsed": false
   },
   "outputs": [
    {
     "name": "stdout",
     "output_type": "stream",
     "text": [
      "<class 'pandas.core.frame.DataFrame'>\n",
      "RangeIndex: 9899 entries, 0 to 9898\n",
      "Data columns (total 7 columns):\n",
      "wine_index                9899 non-null int64\n",
      "white_wine                9899 non-null object\n",
      "white_wineries            9899 non-null object\n",
      "white_regions             9899 non-null object\n",
      "white_countries           9899 non-null object\n",
      "white_avg_wine_ratings    9898 non-null float64\n",
      "white_avg_price           9871 non-null float64\n",
      "dtypes: float64(2), int64(1), object(4)\n",
      "memory usage: 541.4+ KB\n"
     ]
    }
   ],
   "source": [
    "white_wine_details.info()"
   ]
  },
  {
   "cell_type": "markdown",
   "metadata": {},
   "source": [
    " \n",
    "    "
   ]
  },
  {
   "cell_type": "markdown",
   "metadata": {},
   "source": [
    "Clean up reviews data:"
   ]
  },
  {
   "cell_type": "code",
   "execution_count": 615,
   "metadata": {
    "collapsed": true
   },
   "outputs": [],
   "source": [
    "del red_wine_reviews['Unnamed: 0.1']\n",
    "del red_wine_reviews['Unnamed: 0']\n",
    "\n",
    "red_wine_reviews.rename(columns={'index': 'review_index', \n",
    "                                 '0': 'red_wine', \n",
    "                                 '1': 'red_user', \n",
    "                                 '2': 'red_review'}, inplace=True)"
   ]
  },
  {
   "cell_type": "code",
   "execution_count": 616,
   "metadata": {
    "collapsed": false
   },
   "outputs": [
    {
     "data": {
      "text/html": [
       "<div>\n",
       "<table border=\"1\" class=\"dataframe\">\n",
       "  <thead>\n",
       "    <tr style=\"text-align: right;\">\n",
       "      <th></th>\n",
       "      <th>review_index</th>\n",
       "      <th>red_wine</th>\n",
       "      <th>red_user</th>\n",
       "      <th>red_review</th>\n",
       "    </tr>\n",
       "  </thead>\n",
       "  <tbody>\n",
       "    <tr>\n",
       "      <th>0</th>\n",
       "      <td>0</td>\n",
       "      <td>La Sangre de Jonata 2006</td>\n",
       "      <td>Eric Mansell</td>\n",
       "      <td>Great Syrah. Inky purple. I prefer a bit dryer...</td>\n",
       "    </tr>\n",
       "    <tr>\n",
       "      <th>1</th>\n",
       "      <td>1</td>\n",
       "      <td>La Sangre de Jonata 2006</td>\n",
       "      <td>\"Levora\"</td>\n",
       "      <td>Jonata is referred to as\"blood Syrah\" for its ...</td>\n",
       "    </tr>\n",
       "    <tr>\n",
       "      <th>2</th>\n",
       "      <td>2</td>\n",
       "      <td>La Sangre de Jonata 2006</td>\n",
       "      <td>Eric Mansell</td>\n",
       "      <td>I wasn't searching for THE Syrah, but boom, I ...</td>\n",
       "    </tr>\n",
       "    <tr>\n",
       "      <th>3</th>\n",
       "      <td>3</td>\n",
       "      <td>La Sangre de Jonata 2006</td>\n",
       "      <td>Dan Bodeker</td>\n",
       "      <td>Paired with filet mignon. Incredible.</td>\n",
       "    </tr>\n",
       "    <tr>\n",
       "      <th>4</th>\n",
       "      <td>4</td>\n",
       "      <td>La Sangre de Jonata 2006</td>\n",
       "      <td>Chado H</td>\n",
       "      <td>Very smooth and mellow.</td>\n",
       "    </tr>\n",
       "  </tbody>\n",
       "</table>\n",
       "</div>"
      ],
      "text/plain": [
       "   review_index                  red_wine      red_user  \\\n",
       "0             0  La Sangre de Jonata 2006  Eric Mansell   \n",
       "1             1  La Sangre de Jonata 2006      \"Levora\"   \n",
       "2             2  La Sangre de Jonata 2006  Eric Mansell   \n",
       "3             3  La Sangre de Jonata 2006   Dan Bodeker   \n",
       "4             4  La Sangre de Jonata 2006       Chado H   \n",
       "\n",
       "                                          red_review  \n",
       "0  Great Syrah. Inky purple. I prefer a bit dryer...  \n",
       "1  Jonata is referred to as\"blood Syrah\" for its ...  \n",
       "2  I wasn't searching for THE Syrah, but boom, I ...  \n",
       "3              Paired with filet mignon. Incredible.  \n",
       "4                            Very smooth and mellow.  "
      ]
     },
     "execution_count": 616,
     "metadata": {},
     "output_type": "execute_result"
    }
   ],
   "source": [
    "def no_n(value):\n",
    "    try:\n",
    "        return value.replace('\\n','')\n",
    "    except:\n",
    "        return value\n",
    "\n",
    "red_wine_reviews['red_review'] = red_wine_reviews['red_review'].map(no_n)\n",
    "red_wine_reviews.head()"
   ]
  },
  {
   "cell_type": "code",
   "execution_count": 617,
   "metadata": {
    "collapsed": true
   },
   "outputs": [],
   "source": [
    "del white_wine_reviews['Unnamed: 0.1']\n",
    "del white_wine_reviews['Unnamed: 0']\n",
    "\n",
    "white_wine_reviews.rename(columns={'index': 'review_index', \n",
    "                                 '0': 'white_wine', \n",
    "                                 '1': 'white_user', \n",
    "                                 '2': 'white_review'}, inplace=True)\n",
    "\n",
    "white_wine_reviews['white_review'] = white_wine_reviews['white_review'].map(no_n)"
   ]
  },
  {
   "cell_type": "code",
   "execution_count": 618,
   "metadata": {
    "collapsed": false
   },
   "outputs": [
    {
     "data": {
      "text/plain": [
       "u\"$63. Glazer's distributes. Very high end site. More spendy, but excellent. Lengthy... Nice yeasty finish. Small amounts.\""
      ]
     },
     "execution_count": 618,
     "metadata": {},
     "output_type": "execute_result"
    }
   ],
   "source": [
    "white_wine_reviews.iloc[1,3]"
   ]
  },
  {
   "cell_type": "markdown",
   "metadata": {},
   "source": [
    "\n",
    "\n",
    "\n"
   ]
  },
  {
   "cell_type": "markdown",
   "metadata": {},
   "source": [
    "Save cleaned data sets to csv to work on the next piece of EDA:"
   ]
  },
  {
   "cell_type": "code",
   "execution_count": 621,
   "metadata": {
    "collapsed": false
   },
   "outputs": [],
   "source": [
    "white_wine_details.to_csv(path_or_buf='/Users/divyasusarla/Desktop/DSI-SF-2-divyasusarla/Capstone/Clean_Data/white_wine_details_clean.csv', encoding='utf8')\n",
    "white_wine_reviews.to_csv(path_or_buf='/Users/divyasusarla/Desktop/DSI-SF-2-divyasusarla/Capstone/Clean_Data/white_reviews_clean.csv', encoding='utf8')"
   ]
  },
  {
   "cell_type": "code",
   "execution_count": 622,
   "metadata": {
    "collapsed": true
   },
   "outputs": [],
   "source": [
    "red_wine_details.to_csv(path_or_buf='/Users/divyasusarla/Desktop/DSI-SF-2-divyasusarla/Capstone/Clean_Data/red_wine_details_clean.csv', encoding='utf-8')\n",
    "red_wine_reviews.to_csv(path_or_buf='/Users/divyasusarla/Desktop/DSI-SF-2-divyasusarla/Capstone/Clean_Data/red_reviews_clean.csv', encoding='utf-8')"
   ]
  }
 ],
 "metadata": {
  "kernelspec": {
   "display_name": "Python [dsi]",
   "language": "python",
   "name": "Python [dsi]"
  },
  "language_info": {
   "codemirror_mode": {
    "name": "ipython",
    "version": 2
   },
   "file_extension": ".py",
   "mimetype": "text/x-python",
   "name": "python",
   "nbconvert_exporter": "python",
   "pygments_lexer": "ipython2",
   "version": "2.7.12"
  }
 },
 "nbformat": 4,
 "nbformat_minor": 0
}
