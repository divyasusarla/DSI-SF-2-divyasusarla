{
 "cells": [
  {
   "cell_type": "markdown",
   "metadata": {},
   "source": [
    "## Clean the raw wine data files"
   ]
  },
  {
   "cell_type": "code",
   "execution_count": 1,
   "metadata": {
    "collapsed": true
   },
   "outputs": [],
   "source": [
    "# Import packages:\n",
    "\n",
    "import pandas as pd\n",
    "import numpy as np"
   ]
  },
  {
   "cell_type": "code",
   "execution_count": 2,
   "metadata": {
    "collapsed": false
   },
   "outputs": [],
   "source": [
    "# Load datasets:\n",
    "\n",
    "red_wine_details = pd.read_csv('/Users/divyasusarla/Desktop/DSI-SF-2-divyasusarla/Capstone/Raw_Data/redwinerawdata.csv', encoding='utf-8')\n",
    "red_wine_reviews = pd.read_csv('/Users/divyasusarla/Desktop/DSI-SF-2-divyasusarla/Capstone/Raw_Data/redreviewsrawdata.csv', encoding='utf-8')\n",
    "white_wine_details = pd.read_csv('/Users/divyasusarla/Desktop/DSI-SF-2-divyasusarla/Capstone/Raw_Data/whitewinerawdata.csv', encoding='utf-8')\n",
    "white_wine_reviews = pd.read_csv('/Users/divyasusarla/Desktop/DSI-SF-2-divyasusarla/Capstone/Raw_Data/whitereviewsrawdata.csv', encoding='utf-8')"
   ]
  },
  {
   "cell_type": "code",
   "execution_count": 3,
   "metadata": {
    "collapsed": false
   },
   "outputs": [
    {
     "name": "stdout",
     "output_type": "stream",
     "text": [
      "<class 'pandas.core.frame.DataFrame'>\n",
      "RangeIndex: 11510 entries, 0 to 11509\n",
      "Data columns (total 9 columns):\n",
      "Unnamed: 0      11510 non-null int64\n",
      "index           11510 non-null int64\n",
      "Unnamed: 0.1    11510 non-null int64\n",
      "0               11510 non-null object\n",
      "1               11510 non-null object\n",
      "2               11510 non-null object\n",
      "3               11510 non-null object\n",
      "4               11510 non-null object\n",
      "5               11510 non-null object\n",
      "dtypes: int64(3), object(6)\n",
      "memory usage: 809.4+ KB\n"
     ]
    }
   ],
   "source": [
    "red_wine_details.info()"
   ]
  },
  {
   "cell_type": "markdown",
   "metadata": {},
   "source": [
    "# Work with red wine details file first."
   ]
  },
  {
   "cell_type": "code",
   "execution_count": 3,
   "metadata": {
    "collapsed": true
   },
   "outputs": [],
   "source": [
    "del red_wine_details['index']\n",
    "del red_wine_details['Unnamed: 0.1']\n",
    "\n",
    "red_wine_details.rename(columns={'Unnamed: 0': 'wine_index', \n",
    "                                 '0': 'redwine', \n",
    "                                 '1': 'red_wineries', \n",
    "                                 '2': 'red_regions', \n",
    "                                 '3': 'red_countries', \n",
    "                                 '4': 'red_avg_wine_ratings', \n",
    "                                 '5': 'red_avg_price'}, inplace=True)\n",
    "\n",
    "# clean up the price and ratings columns\n",
    "red_wine_details['red_avg_price'] = red_wine_details['red_avg_price'].map(lambda value: value.split(\n",
    "        \"[u'\\\\nAvg. Price: $\")[1].split(\"\\\\\")[0])\n",
    "red_wine_details['red_avg_wine_ratings'] = red_wine_details['red_avg_wine_ratings'].map(\n",
    "    lambda value: value.split(\"[u'\\\\nAvg. Rating: \")[1].split(\"\\\\\")[0])"
   ]
  },
  {
   "cell_type": "code",
   "execution_count": 4,
   "metadata": {
    "collapsed": false,
    "scrolled": true
   },
   "outputs": [
    {
     "name": "stdout",
     "output_type": "stream",
     "text": [
      "2141    []\n",
      "2165    []\n",
      "3047    []\n",
      "9208    []\n",
      "9232    []\n",
      "9492    []\n",
      "9918    []\n",
      "Name: red_wineries, dtype: object\n",
      "1210     []\n",
      "2141     []\n",
      "2165     []\n",
      "2186     []\n",
      "2928     []\n",
      "4297     []\n",
      "6141     []\n",
      "10549    []\n",
      "10631    []\n",
      "Name: red_regions, dtype: object\n",
      "1210     []\n",
      "2141     []\n",
      "2165     []\n",
      "2186     []\n",
      "2928     []\n",
      "4297     []\n",
      "6141     []\n",
      "10549    []\n",
      "10631    []\n",
      "Name: red_countries, dtype: object\n"
     ]
    }
   ],
   "source": [
    "print red_wine_details['red_wineries'][red_wine_details['red_wineries'] == '[]']\n",
    "print red_wine_details['red_regions'][red_wine_details['red_regions'] == '[]']\n",
    "print red_wine_details['red_countries'][red_wine_details['red_countries'] == '[]']"
   ]
  },
  {
   "cell_type": "code",
   "execution_count": 5,
   "metadata": {
    "collapsed": false
   },
   "outputs": [],
   "source": [
    "# There are some missing wineries, regions and countries. I will convert them to NaN values.\n",
    "\n",
    "def null_values(value):\n",
    "    if '[]' in value:\n",
    "            return np.nan\n",
    "    else:\n",
    "        try:\n",
    "            return str(value).replace(\"[u'\",'').replace(\"']\",'')\n",
    "        except:\n",
    "            return value\n",
    "\n",
    "red_wine_details['red_wineries'] = red_wine_details['red_wineries'].map(null_values)\n",
    "red_wine_details['red_regions'] = red_wine_details['red_regions'].map(null_values)\n",
    "red_wine_details['red_countries'] = red_wine_details['red_countries'].map(null_values)"
   ]
  },
  {
   "cell_type": "code",
   "execution_count": 6,
   "metadata": {
    "collapsed": true
   },
   "outputs": [],
   "source": [
    "def no_c(value):\n",
    "    return value.replace(',','')\n",
    "\n",
    "def convert_to_float(value):\n",
    "    return float(value)\n",
    "\n",
    "red_wine_details['red_avg_price'] = red_wine_details['red_avg_price'].map(no_c)\n",
    "red_wine_details['red_avg_price'] = red_wine_details['red_avg_price'].map(convert_to_float)\n",
    "red_wine_details['red_avg_wine_ratings'] = red_wine_details['red_avg_wine_ratings'].map(convert_to_float)"
   ]
  },
  {
   "cell_type": "code",
   "execution_count": 7,
   "metadata": {
    "collapsed": false
   },
   "outputs": [
    {
     "data": {
      "text/plain": [
       "[1999,\n",
       " 2006,\n",
       " 1961,\n",
       " 2011,\n",
       " 1999,\n",
       " 2011,\n",
       " 1990,\n",
       " 2010,\n",
       " 2007,\n",
       " 2010,\n",
       " 1999,\n",
       " 2006,\n",
       " 1961,\n",
       " 2011,\n",
       " 1999,\n",
       " 2011,\n",
       " 1990,\n",
       " 2010,\n",
       " 2007,\n",
       " 2010]"
      ]
     },
     "execution_count": 7,
     "metadata": {},
     "output_type": "execute_result"
    }
   ],
   "source": [
    "# split out the year from the wine name where available\n",
    "redwine = red_wine_details.redwine.map(lambda x: eval(x)[0]).values\n",
    "redwine = map(lambda x: ''.join([ch for ch in x if ch in ' 0123456789']), redwine)\n",
    "redwine = map(lambda x: x.split(' '), redwine)\n",
    "redwine = map(lambda x: [s for s in x if len(s) == 4], redwine)\n",
    "redwine = map(lambda x: int(x[-1]) if len(x) > 0 else np.NaN, redwine)\n",
    "redwine[0:20]"
   ]
  },
  {
   "cell_type": "code",
   "execution_count": 8,
   "metadata": {
    "collapsed": true
   },
   "outputs": [],
   "source": [
    "red_wine_details['vintage_year'] = redwine"
   ]
  },
  {
   "cell_type": "code",
   "execution_count": 9,
   "metadata": {
    "collapsed": true
   },
   "outputs": [],
   "source": [
    "# clean up the wine names as well\n",
    "red_wine_details['redwine'] = red_wine_details['redwine'].map(null_values)"
   ]
  },
  {
   "cell_type": "code",
   "execution_count": 10,
   "metadata": {
    "collapsed": false,
    "scrolled": false
   },
   "outputs": [
    {
     "name": "stdout",
     "output_type": "stream",
     "text": [
      "<class 'pandas.core.frame.DataFrame'>\n",
      "RangeIndex: 11510 entries, 0 to 11509\n",
      "Data columns (total 8 columns):\n",
      "wine_index              11510 non-null int64\n",
      "redwine                 11510 non-null object\n",
      "red_wineries            11503 non-null object\n",
      "red_regions             11501 non-null object\n",
      "red_countries           11501 non-null object\n",
      "red_avg_wine_ratings    11510 non-null float64\n",
      "red_avg_price           11510 non-null float64\n",
      "vintage_year            9852 non-null float64\n",
      "dtypes: float64(3), int64(1), object(4)\n",
      "memory usage: 719.4+ KB\n"
     ]
    }
   ],
   "source": [
    "red_wine_details.info()"
   ]
  },
  {
   "cell_type": "code",
   "execution_count": 11,
   "metadata": {
    "collapsed": false
   },
   "outputs": [
    {
     "data": {
      "text/html": [
       "<div>\n",
       "<table border=\"1\" class=\"dataframe\">\n",
       "  <thead>\n",
       "    <tr style=\"text-align: right;\">\n",
       "      <th></th>\n",
       "      <th>wine_index</th>\n",
       "      <th>redwine</th>\n",
       "      <th>red_wineries</th>\n",
       "      <th>red_regions</th>\n",
       "      <th>red_countries</th>\n",
       "      <th>red_avg_wine_ratings</th>\n",
       "      <th>red_avg_price</th>\n",
       "      <th>vintage_year</th>\n",
       "    </tr>\n",
       "  </thead>\n",
       "  <tbody>\n",
       "    <tr>\n",
       "      <th>0</th>\n",
       "      <td>0</td>\n",
       "      <td>La T\\xe2che 1999</td>\n",
       "      <td>Domaine de la Roman\\xe9e-Conti</td>\n",
       "      <td>C\\xf4te de Nuits</td>\n",
       "      <td>France</td>\n",
       "      <td>4.9</td>\n",
       "      <td>4894.99</td>\n",
       "      <td>1999.0</td>\n",
       "    </tr>\n",
       "    <tr>\n",
       "      <th>1</th>\n",
       "      <td>1</td>\n",
       "      <td>Richebourg 2006</td>\n",
       "      <td>Domaine de la Roman\\xe9e-Conti</td>\n",
       "      <td>C\\xf4te de Nuits</td>\n",
       "      <td>France</td>\n",
       "      <td>4.9</td>\n",
       "      <td>1699.98</td>\n",
       "      <td>2006.0</td>\n",
       "    </tr>\n",
       "    <tr>\n",
       "      <th>2</th>\n",
       "      <td>2</td>\n",
       "      <td>Pessac-Leognan Premier Grand Cru Class\\xe9 1961</td>\n",
       "      <td>Ch\\xe2teau Haut-Brion</td>\n",
       "      <td>Pessac-Leognan</td>\n",
       "      <td>France</td>\n",
       "      <td>4.9</td>\n",
       "      <td>4146.94</td>\n",
       "      <td>1961.0</td>\n",
       "    </tr>\n",
       "    <tr>\n",
       "      <th>3</th>\n",
       "      <td>3</td>\n",
       "      <td>Roman\\xe9e-Conti 2011</td>\n",
       "      <td>Domaine de la Roman\\xe9e-Conti</td>\n",
       "      <td>C\\xf4te de Nuits</td>\n",
       "      <td>France</td>\n",
       "      <td>4.8</td>\n",
       "      <td>11850.00</td>\n",
       "      <td>2011.0</td>\n",
       "    </tr>\n",
       "    <tr>\n",
       "      <th>4</th>\n",
       "      <td>4</td>\n",
       "      <td>C\\xf4te-R\\xf4tie La Mouline  1999</td>\n",
       "      <td>E. Guigal</td>\n",
       "      <td>Northern Rh\\xf4ne</td>\n",
       "      <td>France</td>\n",
       "      <td>4.8</td>\n",
       "      <td>698.99</td>\n",
       "      <td>1999.0</td>\n",
       "    </tr>\n",
       "  </tbody>\n",
       "</table>\n",
       "</div>"
      ],
      "text/plain": [
       "   wine_index                                          redwine  \\\n",
       "0           0                                 La T\\xe2che 1999   \n",
       "1           1                                  Richebourg 2006   \n",
       "2           2  Pessac-Leognan Premier Grand Cru Class\\xe9 1961   \n",
       "3           3                            Roman\\xe9e-Conti 2011   \n",
       "4           4                C\\xf4te-R\\xf4tie La Mouline  1999   \n",
       "\n",
       "                     red_wineries        red_regions red_countries  \\\n",
       "0  Domaine de la Roman\\xe9e-Conti   C\\xf4te de Nuits        France   \n",
       "1  Domaine de la Roman\\xe9e-Conti   C\\xf4te de Nuits        France   \n",
       "2           Ch\\xe2teau Haut-Brion     Pessac-Leognan        France   \n",
       "3  Domaine de la Roman\\xe9e-Conti   C\\xf4te de Nuits        France   \n",
       "4                       E. Guigal  Northern Rh\\xf4ne        France   \n",
       "\n",
       "   red_avg_wine_ratings  red_avg_price  vintage_year  \n",
       "0                   4.9        4894.99        1999.0  \n",
       "1                   4.9        1699.98        2006.0  \n",
       "2                   4.9        4146.94        1961.0  \n",
       "3                   4.8       11850.00        2011.0  \n",
       "4                   4.8         698.99        1999.0  "
      ]
     },
     "execution_count": 11,
     "metadata": {},
     "output_type": "execute_result"
    }
   ],
   "source": [
    "red_wine_details.head()"
   ]
  },
  {
   "cell_type": "markdown",
   "metadata": {},
   "source": [
    " "
   ]
  },
  {
   "cell_type": "markdown",
   "metadata": {},
   "source": [
    "# Do the same cleaning for the white wine details:"
   ]
  },
  {
   "cell_type": "code",
   "execution_count": 12,
   "metadata": {
    "collapsed": false,
    "scrolled": true
   },
   "outputs": [],
   "source": [
    "del white_wine_details['index']\n",
    "del white_wine_details['Unnamed: 0.1']\n",
    "\n",
    "white_wine_details.rename(columns={'Unnamed: 0': 'wine_index', \n",
    "                                 '0': 'white_wine', \n",
    "                                 '1': 'white_wineries', \n",
    "                                 '2': 'white_regions', \n",
    "                                 '3': 'white_countries', \n",
    "                                 '4': 'white_avg_wine_ratings', \n",
    "                                 '5': 'white_avg_price'}, inplace=True)"
   ]
  },
  {
   "cell_type": "code",
   "execution_count": 13,
   "metadata": {
    "collapsed": false,
    "scrolled": true
   },
   "outputs": [
    {
     "name": "stdout",
     "output_type": "stream",
     "text": [
      "6687    []\n",
      "Name: white_wine, dtype: object\n",
      "638     []\n",
      "2054    []\n",
      "2861    []\n",
      "2889    []\n",
      "3109    []\n",
      "3279    []\n",
      "4671    []\n",
      "5235    []\n",
      "5287    []\n",
      "5855    []\n",
      "6687    []\n",
      "6961    []\n",
      "7057    []\n",
      "7420    []\n",
      "7576    []\n",
      "7825    []\n",
      "8117    []\n",
      "8445    []\n",
      "8596    []\n",
      "9187    []\n",
      "9291    []\n",
      "9502    []\n",
      "Name: white_wineries, dtype: object\n",
      "211     []\n",
      "219     []\n",
      "511     []\n",
      "546     []\n",
      "606     []\n",
      "638     []\n",
      "905     []\n",
      "1446    []\n",
      "1579    []\n",
      "2054    []\n",
      "2113    []\n",
      "2705    []\n",
      "2861    []\n",
      "2940    []\n",
      "3078    []\n",
      "3109    []\n",
      "3279    []\n",
      "3530    []\n",
      "3761    []\n",
      "4671    []\n",
      "5287    []\n",
      "5593    []\n",
      "5666    []\n",
      "5696    []\n",
      "5732    []\n",
      "5846    []\n",
      "5855    []\n",
      "6410    []\n",
      "6529    []\n",
      "6687    []\n",
      "6929    []\n",
      "6961    []\n",
      "7079    []\n",
      "7266    []\n",
      "7547    []\n",
      "7576    []\n",
      "7797    []\n",
      "7825    []\n",
      "8029    []\n",
      "8091    []\n",
      "8142    []\n",
      "8275    []\n",
      "8445    []\n",
      "8596    []\n",
      "8609    []\n",
      "8644    []\n",
      "9187    []\n",
      "9291    []\n",
      "9413    []\n",
      "9437    []\n",
      "9502    []\n",
      "Name: white_regions, dtype: object\n",
      "211     []\n",
      "219     []\n",
      "511     []\n",
      "546     []\n",
      "606     []\n",
      "638     []\n",
      "905     []\n",
      "1446    []\n",
      "1579    []\n",
      "2054    []\n",
      "2113    []\n",
      "2705    []\n",
      "2861    []\n",
      "2940    []\n",
      "3078    []\n",
      "3109    []\n",
      "3279    []\n",
      "3530    []\n",
      "3761    []\n",
      "4671    []\n",
      "5287    []\n",
      "5593    []\n",
      "5666    []\n",
      "5696    []\n",
      "5732    []\n",
      "5846    []\n",
      "5855    []\n",
      "6410    []\n",
      "6529    []\n",
      "6687    []\n",
      "6929    []\n",
      "6961    []\n",
      "7079    []\n",
      "7266    []\n",
      "7547    []\n",
      "7576    []\n",
      "7797    []\n",
      "7825    []\n",
      "8029    []\n",
      "8091    []\n",
      "8142    []\n",
      "8275    []\n",
      "8445    []\n",
      "8596    []\n",
      "8609    []\n",
      "8644    []\n",
      "9187    []\n",
      "9291    []\n",
      "9413    []\n",
      "9437    []\n",
      "9502    []\n",
      "Name: white_countries, dtype: object\n",
      "6687    []\n",
      "Name: white_avg_wine_ratings, dtype: object\n",
      "375     []\n",
      "1153    []\n",
      "1373    []\n",
      "2705    []\n",
      "3095    []\n",
      "3304    []\n",
      "3907    []\n",
      "4335    []\n",
      "4464    []\n",
      "4533    []\n",
      "4892    []\n",
      "4993    []\n",
      "5523    []\n",
      "6082    []\n",
      "6654    []\n",
      "6687    []\n",
      "6766    []\n",
      "6910    []\n",
      "7530    []\n",
      "7923    []\n",
      "7999    []\n",
      "8672    []\n",
      "8766    []\n",
      "9147    []\n",
      "9276    []\n",
      "9348    []\n",
      "9736    []\n",
      "9887    []\n",
      "Name: white_avg_price, dtype: object\n"
     ]
    }
   ],
   "source": [
    "print white_wine_details['white_wine'][white_wine_details['white_wine'] == '[]']\n",
    "print white_wine_details['white_wineries'][white_wine_details['white_wineries'] == '[]']\n",
    "print white_wine_details['white_regions'][white_wine_details['white_regions'] == '[]']\n",
    "print white_wine_details['white_countries'][white_wine_details['white_countries'] == '[]']\n",
    "print white_wine_details['white_avg_wine_ratings'][white_wine_details['white_avg_wine_ratings'] == '[]']\n",
    "print white_wine_details['white_avg_price'][white_wine_details['white_avg_price'] == '[]']"
   ]
  },
  {
   "cell_type": "code",
   "execution_count": 14,
   "metadata": {
    "collapsed": true
   },
   "outputs": [],
   "source": [
    "# There are missing values in all of the white wine columns. I will clean them up and convert to NaN values. \n",
    "def null_values(value):\n",
    "    if '[]' in value:\n",
    "            return np.nan\n",
    "    else:\n",
    "        try:\n",
    "            return str(value).replace(\"[u'\",'').replace(\"']\",'')\n",
    "        except:\n",
    "            return value\n",
    "\n",
    "        \n",
    "white_wine_details['white_wineries'] = white_wine_details['white_wineries'].map(null_values)\n",
    "white_wine_details['white_regions'] = white_wine_details['white_regions'].map(null_values)\n",
    "white_wine_details['white_countries'] = white_wine_details['white_countries'].map(null_values)"
   ]
  },
  {
   "cell_type": "code",
   "execution_count": 15,
   "metadata": {
    "collapsed": true
   },
   "outputs": [],
   "source": [
    "def trysplit(value):\n",
    "    try:\n",
    "        return value.split(\"[u'\\\\nAvg. Price: $\")[1].split(\"\\\\\")[0]\n",
    "    except:\n",
    "        return np.nan\n",
    "    \n",
    "def trysplit2(value):\n",
    "    try:\n",
    "        return value.split(\"[u'\\\\nAvg. Rating: \")[1].split(\"\\\\\")[0]\n",
    "    except:\n",
    "        return np.nan\n",
    "\n",
    "def no_c2(value):\n",
    "    try:\n",
    "        return value.replace(',','')\n",
    "    except:\n",
    "        return value\n",
    "        \n",
    "white_wine_details['white_avg_price'] = white_wine_details['white_avg_price'].map(trysplit)\n",
    "white_wine_details['white_avg_wine_ratings'] = white_wine_details['white_avg_wine_ratings'].map(trysplit2)\n",
    "white_wine_details['white_avg_price'] = white_wine_details['white_avg_price'].map(no_c2)\n",
    "white_wine_details['white_avg_price'] = white_wine_details['white_avg_price'].map(convert_to_float)\n",
    "white_wine_details['white_avg_wine_ratings'] = white_wine_details['white_avg_wine_ratings'].map(convert_to_float)"
   ]
  },
  {
   "cell_type": "code",
   "execution_count": 16,
   "metadata": {
    "collapsed": false,
    "scrolled": true
   },
   "outputs": [
    {
     "data": {
      "text/plain": [
       "[nan,\n",
       " nan,\n",
       " 2013,\n",
       " 2014,\n",
       " 2013,\n",
       " nan,\n",
       " 2011,\n",
       " 2013,\n",
       " 2014,\n",
       " nan,\n",
       " 2005,\n",
       " nan,\n",
       " 2014,\n",
       " 2015,\n",
       " 2006,\n",
       " 2015,\n",
       " 2014,\n",
       " 2005,\n",
       " nan,\n",
       " nan]"
      ]
     },
     "execution_count": 16,
     "metadata": {},
     "output_type": "execute_result"
    }
   ],
   "source": [
    "# split out year from the wine name where available\n",
    "def try_extract_name(x):\n",
    "    try:\n",
    "        return eval(x)[0]\n",
    "    except:\n",
    "        return ''\n",
    "\n",
    "white_wine = white_wine_details.white_wine.map(try_extract_name).values\n",
    "white_wine = map(lambda x: ''.join([ch for ch in x if ch in ' 0123456789']), white_wine)\n",
    "white_wine = map(lambda x: x.split(' '), white_wine)\n",
    "white_wine = map(lambda x: [s for s in x if len(s) == 4], white_wine)\n",
    "white_wine = map(lambda x: int(x[-1]) if len(x) > 0 else np.NaN, white_wine)\n",
    "white_wine[0:20]"
   ]
  },
  {
   "cell_type": "code",
   "execution_count": 17,
   "metadata": {
    "collapsed": true
   },
   "outputs": [],
   "source": [
    "white_wine_details['vintage_year'] = white_wine"
   ]
  },
  {
   "cell_type": "code",
   "execution_count": 18,
   "metadata": {
    "collapsed": true
   },
   "outputs": [],
   "source": [
    "# clean up the wine name\n",
    "white_wine_details['white_wine'] = white_wine_details['white_wine'].map(null_values)"
   ]
  },
  {
   "cell_type": "code",
   "execution_count": 19,
   "metadata": {
    "collapsed": false,
    "scrolled": true
   },
   "outputs": [
    {
     "name": "stdout",
     "output_type": "stream",
     "text": [
      "<class 'pandas.core.frame.DataFrame'>\n",
      "RangeIndex: 9899 entries, 0 to 9898\n",
      "Data columns (total 8 columns):\n",
      "wine_index                9899 non-null int64\n",
      "white_wine                9898 non-null object\n",
      "white_wineries            9877 non-null object\n",
      "white_regions             9848 non-null object\n",
      "white_countries           9848 non-null object\n",
      "white_avg_wine_ratings    9898 non-null float64\n",
      "white_avg_price           9871 non-null float64\n",
      "vintage_year              6290 non-null float64\n",
      "dtypes: float64(3), int64(1), object(4)\n",
      "memory usage: 618.8+ KB\n"
     ]
    }
   ],
   "source": [
    "white_wine_details.info()"
   ]
  },
  {
   "cell_type": "markdown",
   "metadata": {},
   "source": [
    " \n",
    "    "
   ]
  },
  {
   "cell_type": "markdown",
   "metadata": {},
   "source": [
    "# Clean up reviews data:"
   ]
  },
  {
   "cell_type": "code",
   "execution_count": 20,
   "metadata": {
    "collapsed": true
   },
   "outputs": [],
   "source": [
    "del red_wine_reviews['Unnamed: 0.1']\n",
    "del red_wine_reviews['Unnamed: 0']\n",
    "\n",
    "red_wine_reviews.rename(columns={'index': 'review_index', \n",
    "                                 '0': 'red_wine', \n",
    "                                 '1': 'red_user', \n",
    "                                 '2': 'red_review'}, inplace=True)"
   ]
  },
  {
   "cell_type": "code",
   "execution_count": 21,
   "metadata": {
    "collapsed": false
   },
   "outputs": [
    {
     "data": {
      "text/html": [
       "<div>\n",
       "<table border=\"1\" class=\"dataframe\">\n",
       "  <thead>\n",
       "    <tr style=\"text-align: right;\">\n",
       "      <th></th>\n",
       "      <th>review_index</th>\n",
       "      <th>red_wine</th>\n",
       "      <th>red_user</th>\n",
       "      <th>red_review</th>\n",
       "    </tr>\n",
       "  </thead>\n",
       "  <tbody>\n",
       "    <tr>\n",
       "      <th>0</th>\n",
       "      <td>0</td>\n",
       "      <td>La Sangre de Jonata 2006</td>\n",
       "      <td>Eric Mansell</td>\n",
       "      <td>Great Syrah. Inky purple. I prefer a bit dryer...</td>\n",
       "    </tr>\n",
       "    <tr>\n",
       "      <th>1</th>\n",
       "      <td>1</td>\n",
       "      <td>La Sangre de Jonata 2006</td>\n",
       "      <td>\"Levora\"</td>\n",
       "      <td>Jonata is referred to as\"blood Syrah\" for its ...</td>\n",
       "    </tr>\n",
       "    <tr>\n",
       "      <th>2</th>\n",
       "      <td>2</td>\n",
       "      <td>La Sangre de Jonata 2006</td>\n",
       "      <td>Eric Mansell</td>\n",
       "      <td>I wasn't searching for THE Syrah, but boom, I ...</td>\n",
       "    </tr>\n",
       "    <tr>\n",
       "      <th>3</th>\n",
       "      <td>3</td>\n",
       "      <td>La Sangre de Jonata 2006</td>\n",
       "      <td>Dan Bodeker</td>\n",
       "      <td>Paired with filet mignon. Incredible.</td>\n",
       "    </tr>\n",
       "    <tr>\n",
       "      <th>4</th>\n",
       "      <td>4</td>\n",
       "      <td>La Sangre de Jonata 2006</td>\n",
       "      <td>Chado H</td>\n",
       "      <td>Very smooth and mellow.</td>\n",
       "    </tr>\n",
       "  </tbody>\n",
       "</table>\n",
       "</div>"
      ],
      "text/plain": [
       "   review_index                  red_wine      red_user  \\\n",
       "0             0  La Sangre de Jonata 2006  Eric Mansell   \n",
       "1             1  La Sangre de Jonata 2006      \"Levora\"   \n",
       "2             2  La Sangre de Jonata 2006  Eric Mansell   \n",
       "3             3  La Sangre de Jonata 2006   Dan Bodeker   \n",
       "4             4  La Sangre de Jonata 2006       Chado H   \n",
       "\n",
       "                                          red_review  \n",
       "0  Great Syrah. Inky purple. I prefer a bit dryer...  \n",
       "1  Jonata is referred to as\"blood Syrah\" for its ...  \n",
       "2  I wasn't searching for THE Syrah, but boom, I ...  \n",
       "3              Paired with filet mignon. Incredible.  \n",
       "4                            Very smooth and mellow.  "
      ]
     },
     "execution_count": 21,
     "metadata": {},
     "output_type": "execute_result"
    }
   ],
   "source": [
    "def no_n(value):\n",
    "    try:\n",
    "        return value.replace('\\n','')\n",
    "    except:\n",
    "        return value\n",
    "\n",
    "red_wine_reviews['red_review'] = red_wine_reviews['red_review'].map(no_n)\n",
    "red_wine_reviews.head()"
   ]
  },
  {
   "cell_type": "code",
   "execution_count": 22,
   "metadata": {
    "collapsed": true
   },
   "outputs": [],
   "source": [
    "del white_wine_reviews['Unnamed: 0.1']\n",
    "del white_wine_reviews['Unnamed: 0']\n",
    "\n",
    "white_wine_reviews.rename(columns={'index': 'review_index', \n",
    "                                 '0': 'white_wine', \n",
    "                                 '1': 'white_user', \n",
    "                                 '2': 'white_review'}, inplace=True)\n",
    "\n",
    "white_wine_reviews['white_review'] = white_wine_reviews['white_review'].map(no_n)"
   ]
  },
  {
   "cell_type": "code",
   "execution_count": 23,
   "metadata": {
    "collapsed": false
   },
   "outputs": [
    {
     "data": {
      "text/plain": [
       "0    Excellently balanced chard-meyer lemon and nec...\n",
       "1    $63. Glazer's distributes. Very high end site....\n",
       "2    High acid, drank pre-release.  Will wait a yea...\n",
       "3    Has a extract texture. Slightly nutty almost l...\n",
       "4    Very acidic. Had June 2013. Malolactic. Nothin...\n",
       "Name: white_review, dtype: object"
      ]
     },
     "execution_count": 23,
     "metadata": {},
     "output_type": "execute_result"
    }
   ],
   "source": [
    "white_wine_reviews.iloc[:,3].head()"
   ]
  },
  {
   "cell_type": "markdown",
   "metadata": {},
   "source": [
    "\n",
    "\n",
    "\n"
   ]
  },
  {
   "cell_type": "markdown",
   "metadata": {},
   "source": [
    "# Save cleaned data sets to csv to work on EDA:"
   ]
  },
  {
   "cell_type": "code",
   "execution_count": 24,
   "metadata": {
    "collapsed": false
   },
   "outputs": [],
   "source": [
    "white_wine_details.to_csv(path_or_buf='/Users/divyasusarla/Desktop/DSI-SF-2-divyasusarla/Capstone/Clean_Data/white_wine_details_clean.csv', encoding='utf8')\n",
    "white_wine_reviews.to_csv(path_or_buf='/Users/divyasusarla/Desktop/DSI-SF-2-divyasusarla/Capstone/Clean_Data/white_reviews_clean.csv', encoding='utf8')"
   ]
  },
  {
   "cell_type": "code",
   "execution_count": 25,
   "metadata": {
    "collapsed": true
   },
   "outputs": [],
   "source": [
    "red_wine_details.to_csv(path_or_buf='/Users/divyasusarla/Desktop/DSI-SF-2-divyasusarla/Capstone/Clean_Data/red_wine_details_clean.csv', encoding='utf-8')\n",
    "red_wine_reviews.to_csv(path_or_buf='/Users/divyasusarla/Desktop/DSI-SF-2-divyasusarla/Capstone/Clean_Data/red_reviews_clean.csv', encoding='utf-8')"
   ]
  }
 ],
 "metadata": {
  "anaconda-cloud": {},
  "kernelspec": {
   "display_name": "Python [dsi]",
   "language": "python",
   "name": "Python [dsi]"
  },
  "language_info": {
   "codemirror_mode": {
    "name": "ipython",
    "version": 2
   },
   "file_extension": ".py",
   "mimetype": "text/x-python",
   "name": "python",
   "nbconvert_exporter": "python",
   "pygments_lexer": "ipython2",
   "version": "2.7.12"
  }
 },
 "nbformat": 4,
 "nbformat_minor": 0
}
