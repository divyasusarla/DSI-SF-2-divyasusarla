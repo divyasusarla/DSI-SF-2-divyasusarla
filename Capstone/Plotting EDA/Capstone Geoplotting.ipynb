{
 "cells": [
  {
   "cell_type": "code",
   "execution_count": 89,
   "metadata": {
    "collapsed": true
   },
   "outputs": [],
   "source": [
    "import pandas as pd\n",
    "import numpy as np\n",
    "import matplotlib.pyplot as plt\n",
    "import seaborn as sns\n",
    "%matplotlib inline\n",
    "%config InlineBackend.figure_formats = ['svg']\n",
    "sns.set_style(\"white\")"
   ]
  },
  {
   "cell_type": "code",
   "execution_count": 90,
   "metadata": {
    "collapsed": true
   },
   "outputs": [],
   "source": [
    "red_clean = pd.read_csv('/Users/divyasusarla/Desktop/DSI-SF-2-divyasusarla/Capstone/Clean_Data/red_wine_details_clean.csv', encoding='utf-8')"
   ]
  },
  {
   "cell_type": "code",
   "execution_count": 91,
   "metadata": {
    "collapsed": false
   },
   "outputs": [
    {
     "data": {
      "text/plain": [
       "array([u\"[u'France']\", u\"[u'United States']\", u\"[u'Australia']\",\n",
       "       u\"[u'Italy']\", u\"[u'Spain']\", u\"[u'Argentina']\", u\"[u'Chile']\",\n",
       "       u\"[u'Portugal']\", u\"[u'Hungary']\", u\"[u'Lebanon']\",\n",
       "       u\"[u'South Africa']\", u'[]', u\"[u'Israel']\", u\"[u'Austria']\",\n",
       "       u\"[u'New Zealand']\", u\"[u'Uruguay']\", u\"[u'United Kingdom']\",\n",
       "       u\"[u'Switzerland']\", u\"[u'Greece']\", u\"[u'Republic of Serbia']\",\n",
       "       u\"[u'Canada']\", u\"[u'Georgia']\", u\"[u'Romania']\", u\"[u'Brazil']\",\n",
       "       u\"[u'Macedonia']\", u\"[u'Germany']\", u\"[u'Albania']\", u\"[u'Mexico']\",\n",
       "       u\"[u'Bulgaria']\"], dtype=object)"
      ]
     },
     "execution_count": 91,
     "metadata": {},
     "output_type": "execute_result"
    }
   ],
   "source": [
    "red_clean.red_countries.unique()"
   ]
  },
  {
   "cell_type": "code",
   "execution_count": 95,
   "metadata": {
    "collapsed": false
   },
   "outputs": [
    {
     "name": "stdout",
     "output_type": "stream",
     "text": [
      "Collecting geopy\n",
      "  Downloading geopy-1.11.0-py2.py3-none-any.whl (66kB)\n",
      "\u001b[K    100% |████████████████████████████████| 71kB 815kB/s \n",
      "\u001b[?25hInstalling collected packages: geopy\n",
      "Successfully installed geopy-1.11.0\n"
     ]
    }
   ],
   "source": [
    "!pip install geopy"
   ]
  },
  {
   "cell_type": "code",
   "execution_count": 97,
   "metadata": {
    "collapsed": false
   },
   "outputs": [
    {
     "name": "stdout",
     "output_type": "stream",
     "text": [
      "France\n",
      "United States\n",
      "Australia\n",
      "Italy\n",
      "Spain\n",
      "Argentina\n",
      "Chile\n",
      "Portugal\n",
      "Hungary\n",
      "Lebanon\n",
      "South Africa\n",
      "Israel\n",
      "Austria\n",
      "New Zealand\n",
      "Uruguay\n",
      "United Kingdom\n",
      "Switzerland\n",
      "Greece\n",
      "Republic of Serbia\n",
      "Canada\n",
      "Georgia\n",
      "Romania\n",
      "Brazil\n",
      "Macedonia\n",
      "Germany\n",
      "Albania\n",
      "Mexico\n",
      "Bulgaria\n"
     ]
    }
   ],
   "source": [
    "from geopy.geocoders import Bing\n",
    "\n",
    "countries = ['France', 'United States', 'Australia', 'Italy', 'Spain', 'Argentina', 'Chile', 'Portugal', \n",
    "             'Hungary', 'Lebanon', 'South Africa', 'Israel', 'Austria', 'New Zealand', 'Uruguay', \n",
    "             'United Kingdom', 'Switzerland', 'Greece', 'Republic of Serbia', 'Canada', 'Georgia', \n",
    "             'Romania', 'Brazil', 'Macedonia', 'Germany', 'Albania', 'Mexico', 'Bulgaria']\n",
    "\n",
    "locations = []\n",
    "\n",
    "geolocator  = Bing(\"AqbMqgChvhrcKHPnavY2dmbyTP9L7XQG1iKCnZ61KXFOwcZbMABDNlyNnFnYGJvY\")\n",
    "for i in countries:\n",
    "    print i\n",
    "    geocode = geolocator.geocode(i)\n",
    "    locations.append([i, geocode[1][0], geocode[1][1]])"
   ]
  },
  {
   "cell_type": "code",
   "execution_count": 98,
   "metadata": {
    "collapsed": false
   },
   "outputs": [
    {
     "name": "stdout",
     "output_type": "stream",
     "text": [
      "<class 'pandas.core.frame.DataFrame'>\n",
      "RangeIndex: 28 entries, 0 to 27\n",
      "Data columns (total 3 columns):\n",
      "country      28 non-null object\n",
      "latitude     28 non-null object\n",
      "longitude    28 non-null object\n",
      "dtypes: object(3)\n",
      "memory usage: 744.0+ bytes\n",
      "None\n",
      "\n",
      "=======\n",
      "         country        latitude       longitude\n",
      "0         France   46.6372795105   2.33826231956\n",
      "1  United States   39.4432563782  -98.9573364258\n",
      "2      Australia  -25.5852413177   134.504119873\n",
      "3          Italy   42.7669792175   12.4938230515\n",
      "4          Spain   40.3960266113  -3.55069255829\n",
      "5      Argentina  -37.0719642639  -64.8545074463\n",
      "6          Chile  -35.7862281799  -71.6746749878\n",
      "7       Portugal   39.6420097351  -8.00942230225\n",
      "8        Hungary   47.1657333374   19.4165744781\n",
      "\n",
      "=======\n",
      "      country        latitude       longitude\n",
      "19     Canada   62.8329086304  -95.9133224487\n",
      "20    Georgia   32.6483230591  -83.4445343018\n",
      "21    Romania   45.8377418518   25.0059356689\n",
      "22     Brazil  -10.8104515076  -52.9731178284\n",
      "23  Macedonia   41.6004562378   21.7008953094\n",
      "24    Germany   51.2024650574   10.3822031021\n",
      "25    Albania   41.1111335754   20.0274524689\n",
      "26     Mexico   23.9090938568  -102.633399963\n",
      "27   Bulgaria   42.7661018372   25.2837333679\n"
     ]
    }
   ],
   "source": [
    "locations = np.array(locations)\n",
    "locations = pd.DataFrame(locations, columns=['country','latitude','longitude'])\n",
    "print locations.info()\n",
    "print '\\n======='\n",
    "print locations.head(9)\n",
    "print '\\n======='\n",
    "print locations.tail(9)"
   ]
  },
  {
   "cell_type": "code",
   "execution_count": 99,
   "metadata": {
    "collapsed": false
   },
   "outputs": [
    {
     "data": {
      "text/html": [
       "<div>\n",
       "<table border=\"1\" class=\"dataframe\">\n",
       "  <thead>\n",
       "    <tr style=\"text-align: right;\">\n",
       "      <th></th>\n",
       "      <th>country</th>\n",
       "      <th>latitude</th>\n",
       "      <th>longitude</th>\n",
       "    </tr>\n",
       "  </thead>\n",
       "  <tbody>\n",
       "    <tr>\n",
       "      <th>0</th>\n",
       "      <td>France</td>\n",
       "      <td>46.6372795105</td>\n",
       "      <td>2.33826231956</td>\n",
       "    </tr>\n",
       "    <tr>\n",
       "      <th>1</th>\n",
       "      <td>United States</td>\n",
       "      <td>39.4432563782</td>\n",
       "      <td>-98.9573364258</td>\n",
       "    </tr>\n",
       "    <tr>\n",
       "      <th>2</th>\n",
       "      <td>Australia</td>\n",
       "      <td>-25.5852413177</td>\n",
       "      <td>134.504119873</td>\n",
       "    </tr>\n",
       "    <tr>\n",
       "      <th>3</th>\n",
       "      <td>Italy</td>\n",
       "      <td>42.7669792175</td>\n",
       "      <td>12.4938230515</td>\n",
       "    </tr>\n",
       "    <tr>\n",
       "      <th>4</th>\n",
       "      <td>Spain</td>\n",
       "      <td>40.3960266113</td>\n",
       "      <td>-3.55069255829</td>\n",
       "    </tr>\n",
       "  </tbody>\n",
       "</table>\n",
       "</div>"
      ],
      "text/plain": [
       "         country        latitude       longitude\n",
       "0         France   46.6372795105   2.33826231956\n",
       "1  United States   39.4432563782  -98.9573364258\n",
       "2      Australia  -25.5852413177   134.504119873\n",
       "3          Italy   42.7669792175   12.4938230515\n",
       "4          Spain   40.3960266113  -3.55069255829"
      ]
     },
     "execution_count": 99,
     "metadata": {},
     "output_type": "execute_result"
    }
   ],
   "source": [
    "locations.head()"
   ]
  },
  {
   "cell_type": "code",
   "execution_count": 100,
   "metadata": {
    "collapsed": true
   },
   "outputs": [],
   "source": [
    "locations.to_csv(path_or_buf='/Users/divyasusarla/Desktop/DSI-SF-2-divyasusarla/Capstone/locations.csv')"
   ]
  },
  {
   "cell_type": "markdown",
   "metadata": {},
   "source": [
    "# Use plotly to create satellite map with location file above."
   ]
  }
 ],
 "metadata": {
  "kernelspec": {
   "display_name": "Python [dsi]",
   "language": "python",
   "name": "Python [dsi]"
  },
  "language_info": {
   "codemirror_mode": {
    "name": "ipython",
    "version": 2
   },
   "file_extension": ".py",
   "mimetype": "text/x-python",
   "name": "python",
   "nbconvert_exporter": "python",
   "pygments_lexer": "ipython2",
   "version": "2.7.12"
  }
 },
 "nbformat": 4,
 "nbformat_minor": 0
}
