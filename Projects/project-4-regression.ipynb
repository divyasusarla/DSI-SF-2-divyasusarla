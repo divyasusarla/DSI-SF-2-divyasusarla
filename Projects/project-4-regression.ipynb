{
 "cells": [
  {
   "cell_type": "markdown",
   "metadata": {},
   "source": [
    "<img src=\"http://imgur.com/1ZcRyrc.png\" style=\"float: left; margin: 15px; height: 80px\">\n",
    "\n",
    "# Project 4\n",
    "\n",
    "## San Francisco Data\n",
    "\n",
    "---\n",
    "\n",
    "[San Francisco provides a wealth of data on the city to the public.](https://data.sfgov.org/) Project 4 is all about exploring this data and modeling interesting relationships with regression.\n",
    "\n",
    "Project 4 is also much more open-ended than the previous projects. You are more responsible for finding things about the data that interest you, coming up with your own hypothesis about it, and reporting on the analysis you carry out. That being said, there are still specific requirements and restrictions on the type of models you will be constructing.\n",
    "\n",
    "---\n",
    "\n",
    "## Notes on the data\n",
    "\n",
    "We have gone through the above website and pulled out a variety of different datasets that we think are particularly interesting. Some of the datasets are from external sources as well, but all are related to San Francisco. A high level overview of data folders is provided after the project requirements section.\n",
    "\n",
    "**There is a lot of different data. You are _NOT_ expected to explore all of it or include all of it in analyses.** The point of the project is to focus on aspects of San Francisco that are particularly interesting to you from a modeling point of view. \n",
    "\n",
    "**The uncompressed data is a large filesize.** Even the compressed data is pretty large. The data is compressed into a .7z format which has one of the smallest filesizes available. You will likely need a 3rd party app to extract it. \n",
    "\n",
    "### Recommended Utilities for .7z\n",
    "- For OSX [Keka](http://www.kekaosx.com/en/) or [The Unarchiver](http://wakaba.c3.cx/s/apps/unarchiver.html). \n",
    "- For Windows [7-zip](http://www.7-zip.org/) is the standard. \n",
    "- For Linux try the `p7zip` utility.  `sudo apt-get install p7zip`.\n",
    "\n",
    "---\n",
    "\n",
    "## Project requirements\n",
    "\n",
    "**You will be performing 4 different sections of analysis on the San Francisco data.**\n",
    "\n",
    "**Models must be regression. This means that your target variable needs to be numeric/continuous**\n",
    "\n",
    "Do not perform classification models – this will be the topic of week 4.\n"
   ]
  },
  {
   "cell_type": "markdown",
   "metadata": {},
   "source": [
    "<img src=\"http://imgur.com/l5NasQj.png\" style=\"float: left; margin: 25px 15px 0px 0px; height: 25px\">\n",
    "\n",
    "### 1. Choose a dataset or datasets of interest to you and perform EDA\n",
    "\n",
    "---\n",
    "\n",
    "1. Explain what the data is. This may include multiple csv files. Some of this data has hard to understand codes representing the variables. Nearly all data is pulled from https://data.sfgov.org/ so this is a very good resource for determining what the data is.\n",
    "- Clean the data.\n",
    "- Develop and state clearly a hypothesis about the data that you would want to test.\n",
    "- Create some initial visualizations on the portions of the data relevant to your hypothesis."
   ]
  },
  {
   "cell_type": "code",
   "execution_count": 1,
   "metadata": {
    "collapsed": false
   },
   "outputs": [],
   "source": [
    "# Import packages\n",
    "\n",
    "import pandas as pd\n",
    "import numpy as np\n",
    "import matplotlib\n",
    "import matplotlib.pyplot as plt\n",
    "import seaborn as sns\n",
    "import patsy\n",
    "import datetime\n",
    "\n",
    "from sklearn.cross_validation import train_test_split\n",
    "from sklearn.linear_model import LinearRegression\n",
    "from sklearn.metrics import mean_squared_error\n",
    "\n",
    "plt.style.use('fivethirtyeight')\n",
    "%config InlineBackend.figure_format = 'retina'\n",
    "%matplotlib inline"
   ]
  },
  {
   "cell_type": "code",
   "execution_count": 2,
   "metadata": {
    "collapsed": false,
    "scrolled": true
   },
   "outputs": [
    {
     "name": "stderr",
     "output_type": "stream",
     "text": [
      "//anaconda/envs/dsi/lib/python2.7/site-packages/IPython/core/interactiveshell.py:2723: DtypeWarning: Columns (11,12,19,44,58) have mixed types. Specify dtype option on import or set low_memory=False.\n",
      "  interactivity=interactivity, compiler=compiler, result=result)\n"
     ]
    }
   ],
   "source": [
    "# Load dataset\n",
    "\n",
    "sf_fire = '/Users/Divya/desktop/DSI-SF-2/datasets/san_francisco/san_francisco/fire_data/fire_incidents.csv'\n",
    "sf_fire = pd.read_csv(sf_fire)"
   ]
  },
  {
   "cell_type": "code",
   "execution_count": 3,
   "metadata": {
    "collapsed": false,
    "scrolled": true
   },
   "outputs": [
    {
     "name": "stdout",
     "output_type": "stream",
     "text": [
      "<class 'pandas.core.frame.DataFrame'>\n",
      "RangeIndex: 406736 entries, 0 to 406735\n",
      "Data columns (total 63 columns):\n",
      "Incident Number                                 406736 non-null int64\n",
      "Exposure Number                                 406736 non-null int64\n",
      "Address                                         406633 non-null object\n",
      "Incident Date                                   406736 non-null object\n",
      "Call Number                                     406736 non-null int64\n",
      "Alarm DtTm                                      406736 non-null object\n",
      "Arrival DtTm                                    406718 non-null object\n",
      "Close DtTm                                      406736 non-null object\n",
      "City                                            405509 non-null object\n",
      "Zipcode                                         334349 non-null float64\n",
      "Battalion                                       406736 non-null object\n",
      "Station Area                                    406207 non-null object\n",
      "Box                                             108915 non-null object\n",
      "Suppression Units                               406736 non-null int64\n",
      "Suppression Personnel                           406736 non-null int64\n",
      "EMS Units                                       406736 non-null int64\n",
      "EMS Personnel                                   406736 non-null int64\n",
      "Other Units                                     406736 non-null int64\n",
      "Other Personnel                                 406736 non-null int64\n",
      "First Unit On Scene                             329809 non-null object\n",
      "Estimated Property Loss                         125775 non-null float64\n",
      "Estimated Contents Loss                         132853 non-null float64\n",
      "Fire Fatalities                                 406736 non-null int64\n",
      "Fire Injuries                                   406736 non-null int64\n",
      "Civilian Fatalities                             406736 non-null int64\n",
      "Civilian Injuries                               406736 non-null int64\n",
      "Number of Alarms                                0 non-null float64\n",
      "Primary Situation                               406736 non-null object\n",
      "Mutual Aid                                      406736 non-null object\n",
      "Action Taken Primary                            406736 non-null object\n",
      "Action Taken Secondary                          342032 non-null object\n",
      "Action Taken Other                              336724 non-null object\n",
      "Detector Alerted Occupants                      338693 non-null object\n",
      "Property Use                                    406404 non-null object\n",
      "Area of Fire Origin                             26791 non-null object\n",
      "Ignition Cause                                  26790 non-null object\n",
      "Ignition Factor Primary                         26789 non-null object\n",
      "Ignition Factor Secondary                       24143 non-null object\n",
      "Heat Source                                     26791 non-null object\n",
      "Item First Ignited                              26791 non-null object\n",
      "Human Factors Associated with Ignition          26788 non-null object\n",
      "Structure Type                                  10405 non-null object\n",
      "Structure Status                                10337 non-null object\n",
      "Floor of Fire Origin                            7324 non-null float64\n",
      "Fire Spread                                     9586 non-null object\n",
      "No Flame Spead                                  75936 non-null object\n",
      "Number of floors with minimum damage            6586 non-null float64\n",
      "Number of floors with significant damage        6584 non-null float64\n",
      "Number of floors with heavy damage              6586 non-null float64\n",
      "Number of floors with extreme damage            6587 non-null float64\n",
      "Detectors Present                               10338 non-null object\n",
      "Detector Type                                   9991 non-null object\n",
      "Detector Operation                              9991 non-null object\n",
      "Detector Effectiveness                          9862 non-null object\n",
      "Detector Failure Reason                         9604 non-null object\n",
      "Automatic Extinguishing System Present          10337 non-null object\n",
      "Automatic Extinguishing Sytem Type              9776 non-null object\n",
      "Automatic Extinguishing Sytem Perfomance        9776 non-null object\n",
      "Automatic Extinguishing Sytem Failure Reason    9592 non-null object\n",
      "Number of Sprinkler Heads Operating             6640 non-null float64\n",
      "Supervisor District                             334334 non-null float64\n",
      "Neighborhood  District                          334230 non-null object\n",
      "Location                                        343046 non-null object\n",
      "dtypes: float64(11), int64(13), object(39)\n",
      "memory usage: 195.5+ MB\n"
     ]
    }
   ],
   "source": [
    "# Take a look at dataset\n",
    "\n",
    "sf_fire.info()"
   ]
  },
  {
   "cell_type": "code",
   "execution_count": 4,
   "metadata": {
    "collapsed": false
   },
   "outputs": [
    {
     "data": {
      "text/html": [
       "<div>\n",
       "<table border=\"1\" class=\"dataframe\">\n",
       "  <thead>\n",
       "    <tr style=\"text-align: right;\">\n",
       "      <th></th>\n",
       "      <th>Incident Number</th>\n",
       "      <th>Exposure Number</th>\n",
       "      <th>Call Number</th>\n",
       "      <th>Alarm DtTm</th>\n",
       "      <th>Arrival DtTm</th>\n",
       "      <th>Suppression Units</th>\n",
       "      <th>Suppression Personnel</th>\n",
       "      <th>EMS Units</th>\n",
       "      <th>EMS Personnel</th>\n",
       "      <th>Other Units</th>\n",
       "      <th>Other Personnel</th>\n",
       "      <th>Fire Fatalities</th>\n",
       "      <th>Fire Injuries</th>\n",
       "      <th>Civilian Fatalities</th>\n",
       "      <th>Civilian Injuries</th>\n",
       "    </tr>\n",
       "  </thead>\n",
       "  <tbody>\n",
       "    <tr>\n",
       "      <th>0</th>\n",
       "      <td>9030109</td>\n",
       "      <td>0</td>\n",
       "      <td>91020273</td>\n",
       "      <td>04/12/2009 06:09:13 PM</td>\n",
       "      <td>04/12/2009 06:13:45 PM</td>\n",
       "      <td>1</td>\n",
       "      <td>5</td>\n",
       "      <td>0</td>\n",
       "      <td>0</td>\n",
       "      <td>0</td>\n",
       "      <td>0</td>\n",
       "      <td>0</td>\n",
       "      <td>0</td>\n",
       "      <td>0</td>\n",
       "      <td>0</td>\n",
       "    </tr>\n",
       "    <tr>\n",
       "      <th>1</th>\n",
       "      <td>13067402</td>\n",
       "      <td>0</td>\n",
       "      <td>131990117</td>\n",
       "      <td>07/18/2013 10:32:03 AM</td>\n",
       "      <td>07/18/2013 10:37:15 AM</td>\n",
       "      <td>3</td>\n",
       "      <td>11</td>\n",
       "      <td>0</td>\n",
       "      <td>0</td>\n",
       "      <td>0</td>\n",
       "      <td>0</td>\n",
       "      <td>0</td>\n",
       "      <td>0</td>\n",
       "      <td>0</td>\n",
       "      <td>0</td>\n",
       "    </tr>\n",
       "    <tr>\n",
       "      <th>2</th>\n",
       "      <td>12044490</td>\n",
       "      <td>0</td>\n",
       "      <td>121340051</td>\n",
       "      <td>05/13/2012 03:55:37 AM</td>\n",
       "      <td>05/13/2012 04:01:57 AM</td>\n",
       "      <td>3</td>\n",
       "      <td>10</td>\n",
       "      <td>0</td>\n",
       "      <td>0</td>\n",
       "      <td>0</td>\n",
       "      <td>0</td>\n",
       "      <td>0</td>\n",
       "      <td>0</td>\n",
       "      <td>0</td>\n",
       "      <td>0</td>\n",
       "    </tr>\n",
       "    <tr>\n",
       "      <th>3</th>\n",
       "      <td>13033326</td>\n",
       "      <td>0</td>\n",
       "      <td>130990286</td>\n",
       "      <td>04/09/2013 04:34:07 PM</td>\n",
       "      <td>04/09/2013 04:39:31 PM</td>\n",
       "      <td>3</td>\n",
       "      <td>10</td>\n",
       "      <td>0</td>\n",
       "      <td>0</td>\n",
       "      <td>0</td>\n",
       "      <td>0</td>\n",
       "      <td>0</td>\n",
       "      <td>0</td>\n",
       "      <td>0</td>\n",
       "      <td>0</td>\n",
       "    </tr>\n",
       "    <tr>\n",
       "      <th>4</th>\n",
       "      <td>11101416</td>\n",
       "      <td>0</td>\n",
       "      <td>113050357</td>\n",
       "      <td>11/01/2011 06:07:45 PM</td>\n",
       "      <td>11/01/2011 06:10:17 PM</td>\n",
       "      <td>2</td>\n",
       "      <td>9</td>\n",
       "      <td>0</td>\n",
       "      <td>0</td>\n",
       "      <td>0</td>\n",
       "      <td>0</td>\n",
       "      <td>0</td>\n",
       "      <td>0</td>\n",
       "      <td>0</td>\n",
       "      <td>0</td>\n",
       "    </tr>\n",
       "  </tbody>\n",
       "</table>\n",
       "</div>"
      ],
      "text/plain": [
       "   Incident Number  Exposure Number  Call Number              Alarm DtTm  \\\n",
       "0          9030109                0     91020273  04/12/2009 06:09:13 PM   \n",
       "1         13067402                0    131990117  07/18/2013 10:32:03 AM   \n",
       "2         12044490                0    121340051  05/13/2012 03:55:37 AM   \n",
       "3         13033326                0    130990286  04/09/2013 04:34:07 PM   \n",
       "4         11101416                0    113050357  11/01/2011 06:07:45 PM   \n",
       "\n",
       "             Arrival DtTm  Suppression Units  Suppression Personnel  \\\n",
       "0  04/12/2009 06:13:45 PM                  1                      5   \n",
       "1  07/18/2013 10:37:15 AM                  3                     11   \n",
       "2  05/13/2012 04:01:57 AM                  3                     10   \n",
       "3  04/09/2013 04:39:31 PM                  3                     10   \n",
       "4  11/01/2011 06:10:17 PM                  2                      9   \n",
       "\n",
       "   EMS Units  EMS Personnel  Other Units  Other Personnel  Fire Fatalities  \\\n",
       "0          0              0            0                0                0   \n",
       "1          0              0            0                0                0   \n",
       "2          0              0            0                0                0   \n",
       "3          0              0            0                0                0   \n",
       "4          0              0            0                0                0   \n",
       "\n",
       "   Fire Injuries  Civilian Fatalities  Civilian Injuries  \n",
       "0              0                    0                  0  \n",
       "1              0                    0                  0  \n",
       "2              0                    0                  0  \n",
       "3              0                    0                  0  \n",
       "4              0                    0                  0  "
      ]
     },
     "execution_count": 4,
     "metadata": {},
     "output_type": "execute_result"
    }
   ],
   "source": [
    "# Since there are many columns that are objects and I need continuous data, I am going to subset my data.\n",
    "# I am choosing my columns that are mostly int or float and I am not going to include columns that are missing alot of data\n",
    "\n",
    "sf_fire_sub = sf_fire[['Incident Number', \n",
    "                       'Exposure Number',\n",
    "                       'Call Number',\n",
    "                       'Alarm DtTm',\n",
    "                       'Arrival DtTm',\n",
    "                       'Suppression Units',\n",
    "                       'Suppression Personnel',\n",
    "                       'EMS Units',\n",
    "                       'EMS Personnel',\n",
    "                       'Other Units',\n",
    "                       'Other Personnel',\n",
    "                       'Fire Fatalities',\n",
    "                       'Fire Injuries',\n",
    "                       'Civilian Fatalities',\n",
    "                       'Civilian Injuries']]\n",
    "sf_fire_sub.head()"
   ]
  },
  {
   "cell_type": "code",
   "execution_count": 5,
   "metadata": {
    "collapsed": false
   },
   "outputs": [
    {
     "data": {
      "text/plain": [
       "Incident Number           0\n",
       "Exposure Number           0\n",
       "Call Number               0\n",
       "Alarm DtTm                0\n",
       "Arrival DtTm             18\n",
       "Suppression Units         0\n",
       "Suppression Personnel     0\n",
       "EMS Units                 0\n",
       "EMS Personnel             0\n",
       "Other Units               0\n",
       "Other Personnel           0\n",
       "Fire Fatalities           0\n",
       "Fire Injuries             0\n",
       "Civilian Fatalities       0\n",
       "Civilian Injuries         0\n",
       "dtype: int64"
      ]
     },
     "execution_count": 5,
     "metadata": {},
     "output_type": "execute_result"
    }
   ],
   "source": [
    "sf_fire_sub.isnull().sum()"
   ]
  },
  {
   "cell_type": "code",
   "execution_count": 6,
   "metadata": {
    "collapsed": false
   },
   "outputs": [
    {
     "name": "stderr",
     "output_type": "stream",
     "text": [
      "/anaconda/envs/dsi/lib/python2.7/site-packages/ipykernel/__main__.py:1: SettingWithCopyWarning: \n",
      "A value is trying to be set on a copy of a slice from a DataFrame\n",
      "\n",
      "See the caveats in the documentation: http://pandas.pydata.org/pandas-docs/stable/indexing.html#indexing-view-versus-copy\n",
      "  if __name__ == '__main__':\n"
     ]
    }
   ],
   "source": [
    "sf_fire_sub.dropna(inplace = True)"
   ]
  },
  {
   "cell_type": "code",
   "execution_count": 7,
   "metadata": {
    "collapsed": false
   },
   "outputs": [
    {
     "name": "stderr",
     "output_type": "stream",
     "text": [
      "/anaconda/envs/dsi/lib/python2.7/site-packages/ipykernel/__main__.py:4: SettingWithCopyWarning: \n",
      "A value is trying to be set on a copy of a slice from a DataFrame.\n",
      "Try using .loc[row_indexer,col_indexer] = value instead\n",
      "\n",
      "See the caveats in the documentation: http://pandas.pydata.org/pandas-docs/stable/indexing.html#indexing-view-versus-copy\n",
      "/anaconda/envs/dsi/lib/python2.7/site-packages/ipykernel/__main__.py:5: SettingWithCopyWarning: \n",
      "A value is trying to be set on a copy of a slice from a DataFrame.\n",
      "Try using .loc[row_indexer,col_indexer] = value instead\n",
      "\n",
      "See the caveats in the documentation: http://pandas.pydata.org/pandas-docs/stable/indexing.html#indexing-view-versus-copy\n"
     ]
    }
   ],
   "source": [
    "# I would like to convert the DtTm columns and subtract the Arrival column and the Alarm column\n",
    "# This would give me the response time and I would like to use this as my target. \n",
    "\n",
    "sf_fire_sub['Alarm DtTm'] = pd.to_datetime(sf_fire_sub['Alarm DtTm'])\n",
    "sf_fire_sub['Arrival DtTm'] = pd.to_datetime(sf_fire_sub['Arrival DtTm'])"
   ]
  },
  {
   "cell_type": "code",
   "execution_count": 9,
   "metadata": {
    "collapsed": false
   },
   "outputs": [
    {
     "name": "stderr",
     "output_type": "stream",
     "text": [
      "/anaconda/envs/dsi/lib/python2.7/site-packages/ipykernel/__main__.py:1: SettingWithCopyWarning: \n",
      "A value is trying to be set on a copy of a slice from a DataFrame.\n",
      "Try using .loc[row_indexer,col_indexer] = value instead\n",
      "\n",
      "See the caveats in the documentation: http://pandas.pydata.org/pandas-docs/stable/indexing.html#indexing-view-versus-copy\n",
      "  if __name__ == '__main__':\n"
     ]
    }
   ],
   "source": [
    "sf_fire_sub['Response_Time'] = sf_fire_sub['Arrival DtTm'] - sf_fire_sub['Alarm DtTm']"
   ]
  },
  {
   "cell_type": "code",
   "execution_count": 10,
   "metadata": {
    "collapsed": false
   },
   "outputs": [
    {
     "data": {
      "text/html": [
       "<div>\n",
       "<table border=\"1\" class=\"dataframe\">\n",
       "  <thead>\n",
       "    <tr style=\"text-align: right;\">\n",
       "      <th></th>\n",
       "      <th>Incident Number</th>\n",
       "      <th>Exposure Number</th>\n",
       "      <th>Call Number</th>\n",
       "      <th>Alarm DtTm</th>\n",
       "      <th>Arrival DtTm</th>\n",
       "      <th>Suppression Units</th>\n",
       "      <th>Suppression Personnel</th>\n",
       "      <th>EMS Units</th>\n",
       "      <th>EMS Personnel</th>\n",
       "      <th>Other Units</th>\n",
       "      <th>Other Personnel</th>\n",
       "      <th>Fire Fatalities</th>\n",
       "      <th>Fire Injuries</th>\n",
       "      <th>Civilian Fatalities</th>\n",
       "      <th>Civilian Injuries</th>\n",
       "      <th>Response_Time</th>\n",
       "    </tr>\n",
       "  </thead>\n",
       "  <tbody>\n",
       "    <tr>\n",
       "      <th>0</th>\n",
       "      <td>9030109</td>\n",
       "      <td>0</td>\n",
       "      <td>91020273</td>\n",
       "      <td>2009-04-12 18:09:13</td>\n",
       "      <td>2009-04-12 18:13:45</td>\n",
       "      <td>1</td>\n",
       "      <td>5</td>\n",
       "      <td>0</td>\n",
       "      <td>0</td>\n",
       "      <td>0</td>\n",
       "      <td>0</td>\n",
       "      <td>0</td>\n",
       "      <td>0</td>\n",
       "      <td>0</td>\n",
       "      <td>0</td>\n",
       "      <td>00:04:32</td>\n",
       "    </tr>\n",
       "    <tr>\n",
       "      <th>1</th>\n",
       "      <td>13067402</td>\n",
       "      <td>0</td>\n",
       "      <td>131990117</td>\n",
       "      <td>2013-07-18 10:32:03</td>\n",
       "      <td>2013-07-18 10:37:15</td>\n",
       "      <td>3</td>\n",
       "      <td>11</td>\n",
       "      <td>0</td>\n",
       "      <td>0</td>\n",
       "      <td>0</td>\n",
       "      <td>0</td>\n",
       "      <td>0</td>\n",
       "      <td>0</td>\n",
       "      <td>0</td>\n",
       "      <td>0</td>\n",
       "      <td>00:05:12</td>\n",
       "    </tr>\n",
       "    <tr>\n",
       "      <th>2</th>\n",
       "      <td>12044490</td>\n",
       "      <td>0</td>\n",
       "      <td>121340051</td>\n",
       "      <td>2012-05-13 03:55:37</td>\n",
       "      <td>2012-05-13 04:01:57</td>\n",
       "      <td>3</td>\n",
       "      <td>10</td>\n",
       "      <td>0</td>\n",
       "      <td>0</td>\n",
       "      <td>0</td>\n",
       "      <td>0</td>\n",
       "      <td>0</td>\n",
       "      <td>0</td>\n",
       "      <td>0</td>\n",
       "      <td>0</td>\n",
       "      <td>00:06:20</td>\n",
       "    </tr>\n",
       "    <tr>\n",
       "      <th>3</th>\n",
       "      <td>13033326</td>\n",
       "      <td>0</td>\n",
       "      <td>130990286</td>\n",
       "      <td>2013-04-09 16:34:07</td>\n",
       "      <td>2013-04-09 16:39:31</td>\n",
       "      <td>3</td>\n",
       "      <td>10</td>\n",
       "      <td>0</td>\n",
       "      <td>0</td>\n",
       "      <td>0</td>\n",
       "      <td>0</td>\n",
       "      <td>0</td>\n",
       "      <td>0</td>\n",
       "      <td>0</td>\n",
       "      <td>0</td>\n",
       "      <td>00:05:24</td>\n",
       "    </tr>\n",
       "    <tr>\n",
       "      <th>4</th>\n",
       "      <td>11101416</td>\n",
       "      <td>0</td>\n",
       "      <td>113050357</td>\n",
       "      <td>2011-11-01 18:07:45</td>\n",
       "      <td>2011-11-01 18:10:17</td>\n",
       "      <td>2</td>\n",
       "      <td>9</td>\n",
       "      <td>0</td>\n",
       "      <td>0</td>\n",
       "      <td>0</td>\n",
       "      <td>0</td>\n",
       "      <td>0</td>\n",
       "      <td>0</td>\n",
       "      <td>0</td>\n",
       "      <td>0</td>\n",
       "      <td>00:02:32</td>\n",
       "    </tr>\n",
       "  </tbody>\n",
       "</table>\n",
       "</div>"
      ],
      "text/plain": [
       "   Incident Number  Exposure Number  Call Number          Alarm DtTm  \\\n",
       "0          9030109                0     91020273 2009-04-12 18:09:13   \n",
       "1         13067402                0    131990117 2013-07-18 10:32:03   \n",
       "2         12044490                0    121340051 2012-05-13 03:55:37   \n",
       "3         13033326                0    130990286 2013-04-09 16:34:07   \n",
       "4         11101416                0    113050357 2011-11-01 18:07:45   \n",
       "\n",
       "         Arrival DtTm  Suppression Units  Suppression Personnel  EMS Units  \\\n",
       "0 2009-04-12 18:13:45                  1                      5          0   \n",
       "1 2013-07-18 10:37:15                  3                     11          0   \n",
       "2 2012-05-13 04:01:57                  3                     10          0   \n",
       "3 2013-04-09 16:39:31                  3                     10          0   \n",
       "4 2011-11-01 18:10:17                  2                      9          0   \n",
       "\n",
       "   EMS Personnel  Other Units  Other Personnel  Fire Fatalities  \\\n",
       "0              0            0                0                0   \n",
       "1              0            0                0                0   \n",
       "2              0            0                0                0   \n",
       "3              0            0                0                0   \n",
       "4              0            0                0                0   \n",
       "\n",
       "   Fire Injuries  Civilian Fatalities  Civilian Injuries  Response_Time  \n",
       "0              0                    0                  0       00:04:32  \n",
       "1              0                    0                  0       00:05:12  \n",
       "2              0                    0                  0       00:06:20  \n",
       "3              0                    0                  0       00:05:24  \n",
       "4              0                    0                  0       00:02:32  "
      ]
     },
     "execution_count": 10,
     "metadata": {},
     "output_type": "execute_result"
    }
   ],
   "source": [
    "sf_fire_sub.head()"
   ]
  },
  {
   "cell_type": "code",
   "execution_count": 11,
   "metadata": {
    "collapsed": false
   },
   "outputs": [
    {
     "data": {
      "text/plain": [
       "Incident Number          0\n",
       "Exposure Number          0\n",
       "Call Number              0\n",
       "Alarm DtTm               0\n",
       "Arrival DtTm             0\n",
       "Suppression Units        0\n",
       "Suppression Personnel    0\n",
       "EMS Units                0\n",
       "EMS Personnel            0\n",
       "Other Units              0\n",
       "Other Personnel          0\n",
       "Fire Fatalities          0\n",
       "Fire Injuries            0\n",
       "Civilian Fatalities      0\n",
       "Civilian Injuries        0\n",
       "Response_Time            0\n",
       "dtype: int64"
      ]
     },
     "execution_count": 11,
     "metadata": {},
     "output_type": "execute_result"
    }
   ],
   "source": [
    "sf_fire_sub.isnull().sum()"
   ]
  },
  {
   "cell_type": "code",
   "execution_count": 12,
   "metadata": {
    "collapsed": false,
    "scrolled": true
   },
   "outputs": [
    {
     "data": {
      "text/html": [
       "<div>\n",
       "<table border=\"1\" class=\"dataframe\">\n",
       "  <thead>\n",
       "    <tr style=\"text-align: right;\">\n",
       "      <th></th>\n",
       "      <th>Incident_Number</th>\n",
       "      <th>Exposure_Number</th>\n",
       "      <th>Call_Number</th>\n",
       "      <th>Alarm_DtTm</th>\n",
       "      <th>Arrival_DtTm</th>\n",
       "      <th>Suppression_Units</th>\n",
       "      <th>Suppression_Personnel</th>\n",
       "      <th>EMS_Units</th>\n",
       "      <th>EMS_Personnel</th>\n",
       "      <th>Other_Units</th>\n",
       "      <th>Other_Personnel</th>\n",
       "      <th>Fire_Fatalities</th>\n",
       "      <th>Fire_Injuries</th>\n",
       "      <th>Civilian_Fatalities</th>\n",
       "      <th>Civilian_Injuries</th>\n",
       "      <th>Response_Time</th>\n",
       "    </tr>\n",
       "  </thead>\n",
       "  <tbody>\n",
       "    <tr>\n",
       "      <th>0</th>\n",
       "      <td>9030109</td>\n",
       "      <td>0</td>\n",
       "      <td>91020273</td>\n",
       "      <td>2009-04-12 18:09:13</td>\n",
       "      <td>2009-04-12 18:13:45</td>\n",
       "      <td>1</td>\n",
       "      <td>5</td>\n",
       "      <td>0</td>\n",
       "      <td>0</td>\n",
       "      <td>0</td>\n",
       "      <td>0</td>\n",
       "      <td>0</td>\n",
       "      <td>0</td>\n",
       "      <td>0</td>\n",
       "      <td>0</td>\n",
       "      <td>00:04:32</td>\n",
       "    </tr>\n",
       "    <tr>\n",
       "      <th>1</th>\n",
       "      <td>13067402</td>\n",
       "      <td>0</td>\n",
       "      <td>131990117</td>\n",
       "      <td>2013-07-18 10:32:03</td>\n",
       "      <td>2013-07-18 10:37:15</td>\n",
       "      <td>3</td>\n",
       "      <td>11</td>\n",
       "      <td>0</td>\n",
       "      <td>0</td>\n",
       "      <td>0</td>\n",
       "      <td>0</td>\n",
       "      <td>0</td>\n",
       "      <td>0</td>\n",
       "      <td>0</td>\n",
       "      <td>0</td>\n",
       "      <td>00:05:12</td>\n",
       "    </tr>\n",
       "    <tr>\n",
       "      <th>2</th>\n",
       "      <td>12044490</td>\n",
       "      <td>0</td>\n",
       "      <td>121340051</td>\n",
       "      <td>2012-05-13 03:55:37</td>\n",
       "      <td>2012-05-13 04:01:57</td>\n",
       "      <td>3</td>\n",
       "      <td>10</td>\n",
       "      <td>0</td>\n",
       "      <td>0</td>\n",
       "      <td>0</td>\n",
       "      <td>0</td>\n",
       "      <td>0</td>\n",
       "      <td>0</td>\n",
       "      <td>0</td>\n",
       "      <td>0</td>\n",
       "      <td>00:06:20</td>\n",
       "    </tr>\n",
       "    <tr>\n",
       "      <th>3</th>\n",
       "      <td>13033326</td>\n",
       "      <td>0</td>\n",
       "      <td>130990286</td>\n",
       "      <td>2013-04-09 16:34:07</td>\n",
       "      <td>2013-04-09 16:39:31</td>\n",
       "      <td>3</td>\n",
       "      <td>10</td>\n",
       "      <td>0</td>\n",
       "      <td>0</td>\n",
       "      <td>0</td>\n",
       "      <td>0</td>\n",
       "      <td>0</td>\n",
       "      <td>0</td>\n",
       "      <td>0</td>\n",
       "      <td>0</td>\n",
       "      <td>00:05:24</td>\n",
       "    </tr>\n",
       "    <tr>\n",
       "      <th>4</th>\n",
       "      <td>11101416</td>\n",
       "      <td>0</td>\n",
       "      <td>113050357</td>\n",
       "      <td>2011-11-01 18:07:45</td>\n",
       "      <td>2011-11-01 18:10:17</td>\n",
       "      <td>2</td>\n",
       "      <td>9</td>\n",
       "      <td>0</td>\n",
       "      <td>0</td>\n",
       "      <td>0</td>\n",
       "      <td>0</td>\n",
       "      <td>0</td>\n",
       "      <td>0</td>\n",
       "      <td>0</td>\n",
       "      <td>0</td>\n",
       "      <td>00:02:32</td>\n",
       "    </tr>\n",
       "  </tbody>\n",
       "</table>\n",
       "</div>"
      ],
      "text/plain": [
       "   Incident_Number  Exposure_Number  Call_Number          Alarm_DtTm  \\\n",
       "0          9030109                0     91020273 2009-04-12 18:09:13   \n",
       "1         13067402                0    131990117 2013-07-18 10:32:03   \n",
       "2         12044490                0    121340051 2012-05-13 03:55:37   \n",
       "3         13033326                0    130990286 2013-04-09 16:34:07   \n",
       "4         11101416                0    113050357 2011-11-01 18:07:45   \n",
       "\n",
       "         Arrival_DtTm  Suppression_Units  Suppression_Personnel  EMS_Units  \\\n",
       "0 2009-04-12 18:13:45                  1                      5          0   \n",
       "1 2013-07-18 10:37:15                  3                     11          0   \n",
       "2 2012-05-13 04:01:57                  3                     10          0   \n",
       "3 2013-04-09 16:39:31                  3                     10          0   \n",
       "4 2011-11-01 18:10:17                  2                      9          0   \n",
       "\n",
       "   EMS_Personnel  Other_Units  Other_Personnel  Fire_Fatalities  \\\n",
       "0              0            0                0                0   \n",
       "1              0            0                0                0   \n",
       "2              0            0                0                0   \n",
       "3              0            0                0                0   \n",
       "4              0            0                0                0   \n",
       "\n",
       "   Fire_Injuries  Civilian_Fatalities  Civilian_Injuries  Response_Time  \n",
       "0              0                    0                  0       00:04:32  \n",
       "1              0                    0                  0       00:05:12  \n",
       "2              0                    0                  0       00:06:20  \n",
       "3              0                    0                  0       00:05:24  \n",
       "4              0                    0                  0       00:02:32  "
      ]
     },
     "execution_count": 12,
     "metadata": {},
     "output_type": "execute_result"
    }
   ],
   "source": [
    "sf_fire_sub = sf_fire_sub.rename(columns = {'Incident Number': 'Incident_Number',\n",
    "                   'Exposure Number': 'Exposure_Number',\n",
    "                   'Call Number': 'Call_Number',\n",
    "                   'Alarm DtTm': 'Alarm_DtTm',\n",
    "                   'Arrival DtTm': 'Arrival_DtTm',\n",
    "                   'Suppression Units': 'Suppression_Units',\n",
    "                   'Suppression Personnel': 'Suppression_Personnel',\n",
    "                   'EMS Units': 'EMS_Units',\n",
    "                   'EMS Personnel': 'EMS_Personnel',\n",
    "                   'Other Units': 'Other_Units',\n",
    "                   'Other Personnel': 'Other_Personnel',\n",
    "                   'Fire Fatalities': 'Fire_Fatalities',\n",
    "                   'Fire Injuries': 'Fire_Injuries',\n",
    "                   'Civilian Fatalities': 'Civilian_Fatalities',\n",
    "                   'Civilian Injuries': 'Civilian_Injuries',\n",
    "                   'Response_Time': 'Response_Time'})\n",
    "\n",
    "sf_fire_sub.head()"
   ]
  },
  {
   "cell_type": "code",
   "execution_count": 13,
   "metadata": {
    "collapsed": true
   },
   "outputs": [],
   "source": [
    "# need to convert my response times to seconds and then integers\n",
    "\n",
    "def get_sec(time_str):\n",
    "    h, m, s = time_str.split(':')\n",
    "    return int(h) * 3600 + int(m) * 60 + int(s)\n",
    "\n",
    "sf_fire_sub['total_sec'] = sf_fire_sub['Response_Time'].apply(str).apply(lambda x: x[7:]).apply(get_sec)"
   ]
  },
  {
   "cell_type": "code",
   "execution_count": 14,
   "metadata": {
    "collapsed": false
   },
   "outputs": [],
   "source": [
    "# Hypothesis: Response time (in total seconds) impacts civilian and fire fatalities. "
   ]
  },
  {
   "cell_type": "code",
   "execution_count": 15,
   "metadata": {
    "collapsed": false,
    "scrolled": false
   },
   "outputs": [
    {
     "data": {
      "text/plain": [
       "<matplotlib.axes._subplots.AxesSubplot at 0x116290ad0>"
      ]
     },
     "execution_count": 15,
     "metadata": {},
     "output_type": "execute_result"
    },
    {
     "data": {
      "image/png": "[encoded data removed]",
      "text/plain": [
       "<matplotlib.figure.Figure at 0x116296390>"
      ]
     },
     "metadata": {
      "image/png": {
       "height": 350,
       "width": 484
      }
     },
     "output_type": "display_data"
    }
   ],
   "source": [
    "sf_fire_corr = sf_fire_sub.corr()\n",
    "sns.heatmap(sf_fire_corr)"
   ]
  },
  {
   "cell_type": "code",
   "execution_count": 16,
   "metadata": {
    "collapsed": false
   },
   "outputs": [],
   "source": [
    "sf_fire_sub.to_csv(path_or_buf='~/sf_fire_sub.csv')"
   ]
  },
  {
   "cell_type": "markdown",
   "metadata": {},
   "source": [
    "<img src=\"http://imgur.com/l5NasQj.png\" style=\"float: left; margin: 25px 15px 0px 0px; height: 25px\">\n",
    "\n",
    "### 2. Construct and evaluate a linear regression model on the data\n",
    "\n",
    "---\n",
    "\n",
    "1. State the variables that are predictors in your linear regression and the target variable.\n",
    "- Investigate and remove any outliers or other problems in your data. _This is a subjective process._\n",
    "- Construct a linear regression model.\n",
    "- Evaluate the model. How does the $R^2$ of the overall model compare to cross-validated $R^2$. What do the differences in $R^2$ mean?\n",
    "  - Use test / train split\n",
    "  - Use K-Folds\n",
    "  - Compare and explain your results with both\n",
    "- Visualize the evaluation metrics of your analysis in clear charts.\n",
    "- Summarize your results in the context of your hypothesis. Frame this as if you are presenting to non-technical readers.\n"
   ]
  },
  {
   "cell_type": "code",
   "execution_count": 17,
   "metadata": {
    "collapsed": false,
    "scrolled": true
   },
   "outputs": [],
   "source": [
    "formula = 'total_sec ~ Fire_Fatalities + Civilian_Fatalities'\n",
    "y, X = patsy.dmatrices(formula, data=sf_fire_sub, return_type='dataframe')"
   ]
  },
  {
   "cell_type": "code",
   "execution_count": 18,
   "metadata": {
    "collapsed": true
   },
   "outputs": [],
   "source": [
    "X_train, X_test, y_train, y_test = train_test_split(X,y,test_size=.33)"
   ]
  },
  {
   "cell_type": "code",
   "execution_count": 19,
   "metadata": {
    "collapsed": false
   },
   "outputs": [],
   "source": [
    "lr = LinearRegression()"
   ]
  },
  {
   "cell_type": "code",
   "execution_count": 20,
   "metadata": {
    "collapsed": true
   },
   "outputs": [],
   "source": [
    "model= lr.fit(X_train,y_train)"
   ]
  },
  {
   "cell_type": "code",
   "execution_count": 21,
   "metadata": {
    "collapsed": false
   },
   "outputs": [
    {
     "data": {
      "text/plain": [
       "array([[ 316.48476554],\n",
       "       [ 316.48476554],\n",
       "       [ 316.48476554],\n",
       "       ..., \n",
       "       [ 316.48476554],\n",
       "       [ 316.48476554],\n",
       "       [ 316.48476554]])"
      ]
     },
     "execution_count": 21,
     "metadata": {},
     "output_type": "execute_result"
    }
   ],
   "source": [
    "predictions = model.predict(X_test)\n",
    "predictions"
   ]
  },
  {
   "cell_type": "code",
   "execution_count": 22,
   "metadata": {
    "collapsed": false
   },
   "outputs": [
    {
     "data": {
      "text/plain": [
       "407013.0720822484"
      ]
     },
     "execution_count": 22,
     "metadata": {},
     "output_type": "execute_result"
    }
   ],
   "source": [
    "mean_squared_error(y_test, predictions)"
   ]
  },
  {
   "cell_type": "code",
   "execution_count": 25,
   "metadata": {
    "collapsed": false,
    "scrolled": true
   },
   "outputs": [
    {
     "data": {
      "text/plain": [
       "-1.2537831870496063e-05"
      ]
     },
     "execution_count": 25,
     "metadata": {},
     "output_type": "execute_result"
    }
   ],
   "source": [
    "score = model.score(X_test,y_test)\n",
    "score\n",
    "\n",
    "# This means that there is no correlation among our target and variables"
   ]
  },
  {
   "cell_type": "code",
   "execution_count": 24,
   "metadata": {
    "collapsed": false,
    "scrolled": true
   },
   "outputs": [
    {
     "data": {
      "text/plain": [
       "array([ -2.67847540e-04,  -4.35058568e-04,  -2.67846932e-04,\n",
       "        -5.99942212e-05,  -8.56877363e-03])"
      ]
     },
     "execution_count": 24,
     "metadata": {},
     "output_type": "execute_result"
    }
   ],
   "source": [
    "from sklearn.cross_validation import cross_val_score, cross_val_predict\n",
    "from sklearn import metrics\n",
    "\n",
    "scores = cross_val_score(lr, X, y, cv = 5)\n",
    "scores\n",
    "\n",
    "# The cross val r2 are also showing us that there is no correlation among our target and variables\n",
    "# Both results show us the same information"
   ]
  },
  {
   "cell_type": "code",
   "execution_count": null,
   "metadata": {
    "collapsed": true
   },
   "outputs": [],
   "source": [
    "# Civilian and Fire Fatalities do not have an impact on Response Times."
   ]
  },
  {
   "cell_type": "markdown",
   "metadata": {},
   "source": [
    "<img src=\"http://imgur.com/xDpSobf.png\" style=\"float: left; margin: 25px 15px 0px 0px; height: 25px\">\n",
    "\n",
    "### 2.2 Explain $R^2$ vs. mean squared error (MSE)\n",
    "\n",
    "---\n",
    "\n",
    "1. If you have negative $R^2$ values in cross-validation, what does this mean? \n",
    "2. Why can $R^2$ be negative when the model is tested on new data?"
   ]
  },
  {
   "cell_type": "code",
   "execution_count": 26,
   "metadata": {
    "collapsed": true
   },
   "outputs": [],
   "source": [
    "# 1. If you have negative R2 values, it means that your model performed worse than the mean\n",
    "# 2. R2 can be negative on new data because it is scoring on data the model has not seen before. "
   ]
  },
  {
   "cell_type": "markdown",
   "metadata": {},
   "source": [
    "<img src=\"http://imgur.com/l5NasQj.png\" style=\"float: left; margin: 25px 15px 0px 0px; height: 25px\">\n",
    "\n",
    "### 3. Combine multiple sources of data and evaluate a model with regularized regression\n",
    "\n",
    "---\n",
    "\n",
    "**I recommend having many predictors to see benefits from regularization methods, but it's up to you.**\n",
    "\n",
    "1. Use _NEW_ sources of data for this section. It should not be related to your analysis/hypothesis from section 1.\n",
    "- Like in part 1, you should state a hypothesis and perform data cleaning and EDA _only_ on the relevant portions of your data. Don't waste time!\n",
    "- Construct and evaluate different models with cross-validated $R^2$. Compare LinearRegression, Lasso, Ridge, and ElasticNet. Find the optimal hyperparameters (alpha, l1_ratio) using gridsearch.\n",
    "- Report on which model is best, and why that might be the case (hint: does your data have multicollinearity? Irrelevant variables? Both?)\n",
    "- Plot visuals that compare the performance of the four models.\n"
   ]
  },
  {
   "cell_type": "code",
   "execution_count": 2,
   "metadata": {
    "collapsed": false
   },
   "outputs": [
    {
     "name": "stderr",
     "output_type": "stream",
     "text": [
      "//anaconda/envs/dsi/lib/python2.7/site-packages/IPython/core/interactiveshell.py:2723: DtypeWarning: Columns (26) have mixed types. Specify dtype option on import or set low_memory=False.\n",
      "  interactivity=interactivity, compiler=compiler, result=result)\n"
     ]
    },
    {
     "data": {
      "text/html": [
       "<div>\n",
       "<table border=\"1\" class=\"dataframe\">\n",
       "  <thead>\n",
       "    <tr style=\"text-align: right;\">\n",
       "      <th></th>\n",
       "      <th>PROPLOC</th>\n",
       "      <th>RP1NBRCDE</th>\n",
       "      <th>RP1PRCLID</th>\n",
       "      <th>RP1VOLUME</th>\n",
       "      <th>RP1CLACDE</th>\n",
       "      <th>YRBLT</th>\n",
       "      <th>BATHS</th>\n",
       "      <th>BEDS</th>\n",
       "      <th>ROOMS</th>\n",
       "      <th>STOREYNO</th>\n",
       "      <th>...</th>\n",
       "      <th>EXEMPTYPE</th>\n",
       "      <th>RP1STACDE</th>\n",
       "      <th>RP1EXMVL2</th>\n",
       "      <th>RP1EXMVL1</th>\n",
       "      <th>ROLLYEAR</th>\n",
       "      <th>RECURRSALD</th>\n",
       "      <th>RP1FXTVAL</th>\n",
       "      <th>RP1IMPVAL</th>\n",
       "      <th>RP1LNDVAL</th>\n",
       "      <th>RP1PPTVAL</th>\n",
       "    </tr>\n",
       "  </thead>\n",
       "  <tbody>\n",
       "    <tr>\n",
       "      <th>0</th>\n",
       "      <td>0000 0000                       0000</td>\n",
       "      <td>08H</td>\n",
       "      <td>0001 001</td>\n",
       "      <td>1</td>\n",
       "      <td>G</td>\n",
       "      <td>1900</td>\n",
       "      <td>0</td>\n",
       "      <td>0</td>\n",
       "      <td>0</td>\n",
       "      <td>0</td>\n",
       "      <td>...</td>\n",
       "      <td>NaN</td>\n",
       "      <td>N</td>\n",
       "      <td>0</td>\n",
       "      <td>0</td>\n",
       "      <td>7</td>\n",
       "      <td>0</td>\n",
       "      <td>0</td>\n",
       "      <td>0</td>\n",
       "      <td>0</td>\n",
       "      <td>0</td>\n",
       "    </tr>\n",
       "    <tr>\n",
       "      <th>1</th>\n",
       "      <td>0000 0000                       0000</td>\n",
       "      <td>08H</td>\n",
       "      <td>0002 001</td>\n",
       "      <td>1</td>\n",
       "      <td>G</td>\n",
       "      <td>1900</td>\n",
       "      <td>0</td>\n",
       "      <td>0</td>\n",
       "      <td>0</td>\n",
       "      <td>0</td>\n",
       "      <td>...</td>\n",
       "      <td>NaN</td>\n",
       "      <td>N</td>\n",
       "      <td>0</td>\n",
       "      <td>0</td>\n",
       "      <td>7</td>\n",
       "      <td>0</td>\n",
       "      <td>0</td>\n",
       "      <td>0</td>\n",
       "      <td>0</td>\n",
       "      <td>0</td>\n",
       "    </tr>\n",
       "    <tr>\n",
       "      <th>2</th>\n",
       "      <td>0000 0000                       0000</td>\n",
       "      <td>08H</td>\n",
       "      <td>0004 002</td>\n",
       "      <td>1</td>\n",
       "      <td>V</td>\n",
       "      <td>0</td>\n",
       "      <td>0</td>\n",
       "      <td>0</td>\n",
       "      <td>0</td>\n",
       "      <td>0</td>\n",
       "      <td>...</td>\n",
       "      <td>NaN</td>\n",
       "      <td>N</td>\n",
       "      <td>0</td>\n",
       "      <td>0</td>\n",
       "      <td>7</td>\n",
       "      <td>0</td>\n",
       "      <td>0</td>\n",
       "      <td>0</td>\n",
       "      <td>0</td>\n",
       "      <td>0</td>\n",
       "    </tr>\n",
       "  </tbody>\n",
       "</table>\n",
       "<p>3 rows × 36 columns</p>\n",
       "</div>"
      ],
      "text/plain": [
       "                                PROPLOC RP1NBRCDE RP1PRCLID  RP1VOLUME  \\\n",
       "0  0000 0000                       0000       08H  0001 001          1   \n",
       "1  0000 0000                       0000       08H  0002 001          1   \n",
       "2  0000 0000                       0000       08H  0004 002          1   \n",
       "\n",
       "  RP1CLACDE  YRBLT  BATHS  BEDS  ROOMS  STOREYNO    ...     EXEMPTYPE  \\\n",
       "0         G   1900      0     0      0         0    ...           NaN   \n",
       "1         G   1900      0     0      0         0    ...           NaN   \n",
       "2         V      0      0     0      0         0    ...           NaN   \n",
       "\n",
       "   RP1STACDE RP1EXMVL2 RP1EXMVL1  ROLLYEAR  RECURRSALD  RP1FXTVAL  RP1IMPVAL  \\\n",
       "0          N         0         0         7           0          0          0   \n",
       "1          N         0         0         7           0          0          0   \n",
       "2          N         0         0         7           0          0          0   \n",
       "\n",
       "   RP1LNDVAL RP1PPTVAL  \n",
       "0          0         0  \n",
       "1          0         0  \n",
       "2          0         0  \n",
       "\n",
       "[3 rows x 36 columns]"
      ]
     },
     "execution_count": 2,
     "metadata": {},
     "output_type": "execute_result"
    }
   ],
   "source": [
    "sf_assessor = pd.read_csv('/Users/Divya/Desktop/DSI-SF-2/datasets/san_francisco/san_francisco/assessor_office/assessor_data_2007_2008.csv')\n",
    "sf_assessor.head(3)"
   ]
  },
  {
   "cell_type": "code",
   "execution_count": 3,
   "metadata": {
    "collapsed": false,
    "scrolled": true
   },
   "outputs": [
    {
     "name": "stdout",
     "output_type": "stream",
     "text": [
      "<class 'pandas.core.frame.DataFrame'>\n",
      "RangeIndex: 197778 entries, 0 to 197777\n",
      "Data columns (total 36 columns):\n",
      "PROPLOC       197778 non-null object\n",
      "RP1NBRCDE     197667 non-null object\n",
      "RP1PRCLID     197778 non-null object\n",
      "RP1VOLUME     197778 non-null int64\n",
      "RP1CLACDE     197702 non-null object\n",
      "YRBLT         197778 non-null int64\n",
      "BATHS         197778 non-null int64\n",
      "BEDS          197778 non-null int64\n",
      "ROOMS         197778 non-null int64\n",
      "STOREYNO      197778 non-null int64\n",
      "UNITS         197778 non-null int64\n",
      "CHGDATE       197778 non-null int64\n",
      "ZONE          175850 non-null object\n",
      "CONSTTYPE     171526 non-null object\n",
      "DEPTH         197778 non-null float64\n",
      "FRONT         197778 non-null float64\n",
      "SQFT          197778 non-null int64\n",
      "FBA           197778 non-null int64\n",
      "LAREA         197778 non-null float64\n",
      "LOTCODE       71546 non-null object\n",
      "REPRISDATE    0 non-null float64\n",
      "RP1RECDAT1    197778 non-null int64\n",
      "RP1DOCNO1     65912 non-null object\n",
      "RP1DOCNO2     197778 non-null int64\n",
      "RP1TRACDE     197412 non-null float64\n",
      "OWNRPRCNT     197778 non-null float64\n",
      "EXEMPTYPE     91941 non-null object\n",
      "RP1STACDE     3573 non-null object\n",
      "RP1EXMVL2     197778 non-null int64\n",
      "RP1EXMVL1     197778 non-null int64\n",
      "ROLLYEAR      197778 non-null int64\n",
      "RECURRSALD    197778 non-null int64\n",
      "RP1FXTVAL     197778 non-null int64\n",
      "RP1IMPVAL     197778 non-null int64\n",
      "RP1LNDVAL     197778 non-null int64\n",
      "RP1PPTVAL     197778 non-null int64\n",
      "dtypes: float64(6), int64(20), object(10)\n",
      "memory usage: 54.3+ MB\n"
     ]
    }
   ],
   "source": [
    "sf_assessor.info()"
   ]
  },
  {
   "cell_type": "code",
   "execution_count": 4,
   "metadata": {
    "collapsed": false
   },
   "outputs": [],
   "source": [
    "# Creating a new dataset of a subgroup of variables\n",
    "\n",
    "sf_assessor_1 = sf_assessor[['YRBLT','BATHS','BEDS','ROOMS','STOREYNO','UNITS','DEPTH', 'FRONT',\n",
    "                             'SQFT', 'FBA', 'LAREA','OWNRPRCNT', 'RP1FXTVAL', 'RP1IMPVAL','RP1LNDVAL', 'RP1PPTVAL']]"
   ]
  },
  {
   "cell_type": "code",
   "execution_count": 5,
   "metadata": {
    "collapsed": true
   },
   "outputs": [],
   "source": [
    "sf_assessor_1.columns = ['yr_blt','baths','beds','rooms','storeis','units','depth','front','sqft','sqft_basement',\n",
    "                         'sqft_lot','owner_prec','fixt_val','improv_val','land_val', 'personal_val']"
   ]
  },
  {
   "cell_type": "code",
   "execution_count": 6,
   "metadata": {
    "collapsed": false
   },
   "outputs": [
    {
     "data": {
      "text/html": [
       "<div>\n",
       "<table border=\"1\" class=\"dataframe\">\n",
       "  <thead>\n",
       "    <tr style=\"text-align: right;\">\n",
       "      <th></th>\n",
       "      <th>yr_blt</th>\n",
       "      <th>baths</th>\n",
       "      <th>beds</th>\n",
       "      <th>rooms</th>\n",
       "      <th>storeis</th>\n",
       "      <th>units</th>\n",
       "      <th>depth</th>\n",
       "      <th>front</th>\n",
       "      <th>sqft</th>\n",
       "      <th>sqft_basement</th>\n",
       "      <th>sqft_lot</th>\n",
       "      <th>owner_prec</th>\n",
       "      <th>fixt_val</th>\n",
       "      <th>improv_val</th>\n",
       "      <th>land_val</th>\n",
       "      <th>personal_val</th>\n",
       "    </tr>\n",
       "  </thead>\n",
       "  <tbody>\n",
       "    <tr>\n",
       "      <th>0</th>\n",
       "      <td>1900</td>\n",
       "      <td>0</td>\n",
       "      <td>0</td>\n",
       "      <td>0</td>\n",
       "      <td>0</td>\n",
       "      <td>0</td>\n",
       "      <td>0.0</td>\n",
       "      <td>0.0</td>\n",
       "      <td>0</td>\n",
       "      <td>0</td>\n",
       "      <td>27965.0</td>\n",
       "      <td>1.0</td>\n",
       "      <td>0</td>\n",
       "      <td>0</td>\n",
       "      <td>0</td>\n",
       "      <td>0</td>\n",
       "    </tr>\n",
       "    <tr>\n",
       "      <th>1</th>\n",
       "      <td>1900</td>\n",
       "      <td>0</td>\n",
       "      <td>0</td>\n",
       "      <td>0</td>\n",
       "      <td>0</td>\n",
       "      <td>0</td>\n",
       "      <td>0.0</td>\n",
       "      <td>0.0</td>\n",
       "      <td>0</td>\n",
       "      <td>0</td>\n",
       "      <td>8359.0</td>\n",
       "      <td>1.0</td>\n",
       "      <td>0</td>\n",
       "      <td>0</td>\n",
       "      <td>0</td>\n",
       "      <td>0</td>\n",
       "    </tr>\n",
       "    <tr>\n",
       "      <th>2</th>\n",
       "      <td>0</td>\n",
       "      <td>0</td>\n",
       "      <td>0</td>\n",
       "      <td>0</td>\n",
       "      <td>0</td>\n",
       "      <td>0</td>\n",
       "      <td>0.0</td>\n",
       "      <td>0.0</td>\n",
       "      <td>0</td>\n",
       "      <td>0</td>\n",
       "      <td>0.0</td>\n",
       "      <td>1.0</td>\n",
       "      <td>0</td>\n",
       "      <td>0</td>\n",
       "      <td>0</td>\n",
       "      <td>0</td>\n",
       "    </tr>\n",
       "    <tr>\n",
       "      <th>3</th>\n",
       "      <td>1900</td>\n",
       "      <td>0</td>\n",
       "      <td>0</td>\n",
       "      <td>0</td>\n",
       "      <td>0</td>\n",
       "      <td>0</td>\n",
       "      <td>0.0</td>\n",
       "      <td>0.0</td>\n",
       "      <td>0</td>\n",
       "      <td>0</td>\n",
       "      <td>68153.0</td>\n",
       "      <td>1.0</td>\n",
       "      <td>0</td>\n",
       "      <td>0</td>\n",
       "      <td>0</td>\n",
       "      <td>0</td>\n",
       "    </tr>\n",
       "    <tr>\n",
       "      <th>4</th>\n",
       "      <td>1900</td>\n",
       "      <td>0</td>\n",
       "      <td>0</td>\n",
       "      <td>0</td>\n",
       "      <td>0</td>\n",
       "      <td>0</td>\n",
       "      <td>0.0</td>\n",
       "      <td>0.0</td>\n",
       "      <td>0</td>\n",
       "      <td>0</td>\n",
       "      <td>108015.0</td>\n",
       "      <td>1.0</td>\n",
       "      <td>0</td>\n",
       "      <td>0</td>\n",
       "      <td>0</td>\n",
       "      <td>0</td>\n",
       "    </tr>\n",
       "  </tbody>\n",
       "</table>\n",
       "</div>"
      ],
      "text/plain": [
       "   yr_blt  baths  beds  rooms  storeis  units  depth  front  sqft  \\\n",
       "0    1900      0     0      0        0      0    0.0    0.0     0   \n",
       "1    1900      0     0      0        0      0    0.0    0.0     0   \n",
       "2       0      0     0      0        0      0    0.0    0.0     0   \n",
       "3    1900      0     0      0        0      0    0.0    0.0     0   \n",
       "4    1900      0     0      0        0      0    0.0    0.0     0   \n",
       "\n",
       "   sqft_basement  sqft_lot  owner_prec  fixt_val  improv_val  land_val  \\\n",
       "0              0   27965.0         1.0         0           0         0   \n",
       "1              0    8359.0         1.0         0           0         0   \n",
       "2              0       0.0         1.0         0           0         0   \n",
       "3              0   68153.0         1.0         0           0         0   \n",
       "4              0  108015.0         1.0         0           0         0   \n",
       "\n",
       "   personal_val  \n",
       "0             0  \n",
       "1             0  \n",
       "2             0  \n",
       "3             0  \n",
       "4             0  "
      ]
     },
     "execution_count": 6,
     "metadata": {},
     "output_type": "execute_result"
    }
   ],
   "source": [
    "sf_assessor_1.head()"
   ]
  },
  {
   "cell_type": "code",
   "execution_count": 7,
   "metadata": {
    "collapsed": false
   },
   "outputs": [
    {
     "data": {
      "text/plain": [
       "<matplotlib.axes._subplots.AxesSubplot at 0x116acf390>"
      ]
     },
     "execution_count": 7,
     "metadata": {},
     "output_type": "execute_result"
    },
    {
     "data": {
      "image/png": "[encoded data removed]",
      "text/plain": [
       "<matplotlib.figure.Figure at 0x11cfca3d0>"
      ]
     },
     "metadata": {
      "image/png": {
       "height": 310,
       "width": 444
      }
     },
     "output_type": "display_data"
    }
   ],
   "source": [
    "sf_assessor_corr = sf_assessor_1.corr()\n",
    "sns.heatmap(sf_assessor_corr)"
   ]
  },
  {
   "cell_type": "code",
   "execution_count": 8,
   "metadata": {
    "collapsed": false,
    "scrolled": true
   },
   "outputs": [
    {
     "name": "stderr",
     "output_type": "stream",
     "text": [
      "/anaconda/envs/dsi/lib/python2.7/site-packages/ipykernel/__main__.py:1: SettingWithCopyWarning: \n",
      "A value is trying to be set on a copy of a slice from a DataFrame.\n",
      "Try using .loc[row_indexer,col_indexer] = value instead\n",
      "\n",
      "See the caveats in the documentation: http://pandas.pydata.org/pandas-docs/stable/indexing.html#indexing-view-versus-copy\n",
      "  if __name__ == '__main__':\n"
     ]
    }
   ],
   "source": [
    "sf_assessor_1['value']=sf_assessor_1.fixt_val + sf_assessor_1.improv_val + sf_assessor_1.land_val"
   ]
  },
  {
   "cell_type": "code",
   "execution_count": 9,
   "metadata": {
    "collapsed": false,
    "scrolled": true
   },
   "outputs": [
    {
     "data": {
      "text/html": [
       "<div>\n",
       "<table border=\"1\" class=\"dataframe\">\n",
       "  <thead>\n",
       "    <tr style=\"text-align: right;\">\n",
       "      <th></th>\n",
       "      <th>yr_blt</th>\n",
       "      <th>baths</th>\n",
       "      <th>beds</th>\n",
       "      <th>rooms</th>\n",
       "      <th>storeis</th>\n",
       "      <th>units</th>\n",
       "      <th>depth</th>\n",
       "      <th>front</th>\n",
       "      <th>sqft</th>\n",
       "      <th>sqft_basement</th>\n",
       "      <th>sqft_lot</th>\n",
       "      <th>owner_prec</th>\n",
       "      <th>fixt_val</th>\n",
       "      <th>improv_val</th>\n",
       "      <th>land_val</th>\n",
       "      <th>personal_val</th>\n",
       "      <th>value</th>\n",
       "    </tr>\n",
       "  </thead>\n",
       "  <tbody>\n",
       "    <tr>\n",
       "      <th>0</th>\n",
       "      <td>1900</td>\n",
       "      <td>0</td>\n",
       "      <td>0</td>\n",
       "      <td>0</td>\n",
       "      <td>0</td>\n",
       "      <td>0</td>\n",
       "      <td>0.0</td>\n",
       "      <td>0.0</td>\n",
       "      <td>0</td>\n",
       "      <td>0</td>\n",
       "      <td>27965.0</td>\n",
       "      <td>1.0</td>\n",
       "      <td>0</td>\n",
       "      <td>0</td>\n",
       "      <td>0</td>\n",
       "      <td>0</td>\n",
       "      <td>0</td>\n",
       "    </tr>\n",
       "    <tr>\n",
       "      <th>1</th>\n",
       "      <td>1900</td>\n",
       "      <td>0</td>\n",
       "      <td>0</td>\n",
       "      <td>0</td>\n",
       "      <td>0</td>\n",
       "      <td>0</td>\n",
       "      <td>0.0</td>\n",
       "      <td>0.0</td>\n",
       "      <td>0</td>\n",
       "      <td>0</td>\n",
       "      <td>8359.0</td>\n",
       "      <td>1.0</td>\n",
       "      <td>0</td>\n",
       "      <td>0</td>\n",
       "      <td>0</td>\n",
       "      <td>0</td>\n",
       "      <td>0</td>\n",
       "    </tr>\n",
       "    <tr>\n",
       "      <th>2</th>\n",
       "      <td>0</td>\n",
       "      <td>0</td>\n",
       "      <td>0</td>\n",
       "      <td>0</td>\n",
       "      <td>0</td>\n",
       "      <td>0</td>\n",
       "      <td>0.0</td>\n",
       "      <td>0.0</td>\n",
       "      <td>0</td>\n",
       "      <td>0</td>\n",
       "      <td>0.0</td>\n",
       "      <td>1.0</td>\n",
       "      <td>0</td>\n",
       "      <td>0</td>\n",
       "      <td>0</td>\n",
       "      <td>0</td>\n",
       "      <td>0</td>\n",
       "    </tr>\n",
       "    <tr>\n",
       "      <th>3</th>\n",
       "      <td>1900</td>\n",
       "      <td>0</td>\n",
       "      <td>0</td>\n",
       "      <td>0</td>\n",
       "      <td>0</td>\n",
       "      <td>0</td>\n",
       "      <td>0.0</td>\n",
       "      <td>0.0</td>\n",
       "      <td>0</td>\n",
       "      <td>0</td>\n",
       "      <td>68153.0</td>\n",
       "      <td>1.0</td>\n",
       "      <td>0</td>\n",
       "      <td>0</td>\n",
       "      <td>0</td>\n",
       "      <td>0</td>\n",
       "      <td>0</td>\n",
       "    </tr>\n",
       "    <tr>\n",
       "      <th>4</th>\n",
       "      <td>1900</td>\n",
       "      <td>0</td>\n",
       "      <td>0</td>\n",
       "      <td>0</td>\n",
       "      <td>0</td>\n",
       "      <td>0</td>\n",
       "      <td>0.0</td>\n",
       "      <td>0.0</td>\n",
       "      <td>0</td>\n",
       "      <td>0</td>\n",
       "      <td>108015.0</td>\n",
       "      <td>1.0</td>\n",
       "      <td>0</td>\n",
       "      <td>0</td>\n",
       "      <td>0</td>\n",
       "      <td>0</td>\n",
       "      <td>0</td>\n",
       "    </tr>\n",
       "  </tbody>\n",
       "</table>\n",
       "</div>"
      ],
      "text/plain": [
       "   yr_blt  baths  beds  rooms  storeis  units  depth  front  sqft  \\\n",
       "0    1900      0     0      0        0      0    0.0    0.0     0   \n",
       "1    1900      0     0      0        0      0    0.0    0.0     0   \n",
       "2       0      0     0      0        0      0    0.0    0.0     0   \n",
       "3    1900      0     0      0        0      0    0.0    0.0     0   \n",
       "4    1900      0     0      0        0      0    0.0    0.0     0   \n",
       "\n",
       "   sqft_basement  sqft_lot  owner_prec  fixt_val  improv_val  land_val  \\\n",
       "0              0   27965.0         1.0         0           0         0   \n",
       "1              0    8359.0         1.0         0           0         0   \n",
       "2              0       0.0         1.0         0           0         0   \n",
       "3              0   68153.0         1.0         0           0         0   \n",
       "4              0  108015.0         1.0         0           0         0   \n",
       "\n",
       "   personal_val  value  \n",
       "0             0      0  \n",
       "1             0      0  \n",
       "2             0      0  \n",
       "3             0      0  \n",
       "4             0      0  "
      ]
     },
     "execution_count": 9,
     "metadata": {},
     "output_type": "execute_result"
    }
   ],
   "source": [
    "sf_assessor_1.head()"
   ]
  },
  {
   "cell_type": "code",
   "execution_count": 10,
   "metadata": {
    "collapsed": false
   },
   "outputs": [
    {
     "data": {
      "text/plain": [
       "<matplotlib.collections.PathCollection at 0x117e0d890>"
      ]
     },
     "execution_count": 10,
     "metadata": {},
     "output_type": "execute_result"
    },
    {
     "data": {
      "image/png": "[encoded data removed]",
      "text/plain": [
       "<matplotlib.figure.Figure at 0x116ff7ed0>"
      ]
     },
     "metadata": {
      "image/png": {
       "height": 264,
       "width": 436
      }
     },
     "output_type": "display_data"
    }
   ],
   "source": [
    "plt.scatter(sf_assessor_1['sqft'].values, sf_assessor_1['value'].values)"
   ]
  },
  {
   "cell_type": "code",
   "execution_count": 11,
   "metadata": {
    "collapsed": false
   },
   "outputs": [],
   "source": [
    "# Remove outliers\n",
    "sf_assessor_1['value'].max()\n",
    "sf_assessor_2 = sf_assessor_1[sf_assessor_1['value'] < 868020000]"
   ]
  },
  {
   "cell_type": "code",
   "execution_count": 12,
   "metadata": {
    "collapsed": false
   },
   "outputs": [],
   "source": [
    "sf_assessor_2 = sf_assessor_2[sf_assessor_2['sqft'] < 3000000]"
   ]
  },
  {
   "cell_type": "code",
   "execution_count": 13,
   "metadata": {
    "collapsed": false
   },
   "outputs": [
    {
     "name": "stdout",
     "output_type": "stream",
     "text": [
      "433498561\n",
      "0\n",
      "626067.563916\n",
      "1534312\n",
      "0\n",
      "2862.19412056\n"
     ]
    }
   ],
   "source": [
    "print sf_assessor_2.value.max()\n",
    "print sf_assessor_2.value.min()\n",
    "print sf_assessor_2.value.mean()\n",
    "\n",
    "\n",
    "print sf_assessor_2.sqft.max()\n",
    "print sf_assessor_2.sqft.min()\n",
    "print sf_assessor_2.sqft.mean()"
   ]
  },
  {
   "cell_type": "code",
   "execution_count": 14,
   "metadata": {
    "collapsed": true
   },
   "outputs": [],
   "source": [
    "# Hypothesis: Total Value of a property is impacted by number of baths, bedrooms, rooms and sqft."
   ]
  },
  {
   "cell_type": "code",
   "execution_count": 15,
   "metadata": {
    "collapsed": true
   },
   "outputs": [],
   "source": [
    "from sklearn.cross_validation import cross_val_score"
   ]
  },
  {
   "cell_type": "code",
   "execution_count": 16,
   "metadata": {
    "collapsed": false
   },
   "outputs": [
    {
     "name": "stdout",
     "output_type": "stream",
     "text": [
      "[ 0.58502063  0.0984489  -0.12020228  0.39482008  0.3805189   0.41102706]\n",
      "0.291605549404\n"
     ]
    }
   ],
   "source": [
    "formula = 'value ~ baths + beds + rooms + sqft'\n",
    "y, X = patsy.dmatrices(formula, data=sf_assessor_2, return_type='dataframe')\n",
    "\n",
    "lr = LinearRegression()\n",
    "model= lr.fit(X,y)\n",
    "predictions = model.predict(X)\n",
    "\n",
    "scores = cross_val_score(lr, X, y, cv = 6)\n",
    "print scores\n",
    "print np.mean(scores)"
   ]
  },
  {
   "cell_type": "code",
   "execution_count": 17,
   "metadata": {
    "collapsed": true
   },
   "outputs": [],
   "source": [
    "from sklearn.preprocessing import StandardScaler\n",
    "\n",
    "ss = StandardScaler()\n",
    "Xn = ss.fit_transform(X)"
   ]
  },
  {
   "cell_type": "code",
   "execution_count": 18,
   "metadata": {
    "collapsed": false
   },
   "outputs": [
    {
     "name": "stdout",
     "output_type": "stream",
     "text": [
      "43939.7056076\n"
     ]
    }
   ],
   "source": [
    "from sklearn.linear_model import Ridge, Lasso, ElasticNet, RidgeCV, LassoCV, ElasticNetCV\n",
    "\n",
    "ridge_alphas = np.logspace(0, 5, 15)\n",
    "\n",
    "optimal_ridge = RidgeCV(alphas=ridge_alphas, cv=6)\n",
    "optimal_ridge.fit(Xn, y)\n",
    "\n",
    "print optimal_ridge.alpha_"
   ]
  },
  {
   "cell_type": "code",
   "execution_count": 19,
   "metadata": {
    "collapsed": false
   },
   "outputs": [
    {
     "name": "stdout",
     "output_type": "stream",
     "text": [
      "[ 0.48332826  0.19648422  0.22521849  0.42799292  0.42693498  0.37755129]\n",
      "0.356251693856\n"
     ]
    }
   ],
   "source": [
    "ridge = Ridge(alpha=optimal_ridge.alpha_)\n",
    "\n",
    "ridge_scores = cross_val_score(ridge, Xn, y, cv=6)\n",
    "\n",
    "print ridge_scores\n",
    "print np.mean(ridge_scores)"
   ]
  },
  {
   "cell_type": "code",
   "execution_count": 20,
   "metadata": {
    "collapsed": false
   },
   "outputs": [
    {
     "name": "stderr",
     "output_type": "stream",
     "text": [
      "..........................................................................................[Parallel(n_jobs=1)]: Done   6 out of   6 | elapsed:    0.8s finished\n"
     ]
    },
    {
     "name": "stdout",
     "output_type": "stream",
     "text": [
      "57895.7892809\n"
     ]
    }
   ],
   "source": [
    "optimal_lasso = LassoCV(n_alphas=15, cv=6, verbose=1)\n",
    "optimal_lasso.fit(Xn, np.ravel(y))\n",
    "\n",
    "print optimal_lasso.alpha_"
   ]
  },
  {
   "cell_type": "code",
   "execution_count": 21,
   "metadata": {
    "collapsed": false
   },
   "outputs": [
    {
     "name": "stdout",
     "output_type": "stream",
     "text": [
      "[ 0.57623033  0.12200865  0.25896582  0.40723855  0.39256869  0.41352883]\n",
      "0.361756812104\n"
     ]
    }
   ],
   "source": [
    "lasso = Lasso(alpha=optimal_lasso.alpha_)\n",
    "\n",
    "lasso_scores = cross_val_score(lasso, Xn, y, cv=6)\n",
    "\n",
    "print lasso_scores\n",
    "print np.mean(lasso_scores)"
   ]
  },
  {
   "cell_type": "code",
   "execution_count": 22,
   "metadata": {
    "collapsed": false
   },
   "outputs": [
    {
     "name": "stderr",
     "output_type": "stream",
     "text": [
      "...............................................................................................................................................................................................................................................................................................................................................................................................................................................................................................................................................................................................................................................................................................................................................................[Parallel(n_jobs=1)]: Done  49 tasks       | elapsed:    7.6s\n",
      "..........................................................................................................................................................................................................................................................................................................................................................................................................................................................................................................................................................................................................................................................................................................................................................................................................................................................................................................................................................................................................................................................................................................................................................................................................................................................................................................................................................................................................................................................................................................................................................................................................................................................................................................................................................................................................................................................................................................................................................................................................................................................................................................................................................................................................................................................................................................................................[Parallel(n_jobs=1)]: Done 199 tasks       | elapsed:   26.9s\n",
      "..........................................................................................................................................................................................................................................................................................................................................................................................................................................................................................................................................................................................................................................................................................................................................................................................................................................................................................................................................................................................................................................................................................................................................................................................................................................................................................................................................................................................................................................................................................................................................................................."
     ]
    },
    {
     "name": "stdout",
     "output_type": "stream",
     "text": [
      "57895.7892809\n",
      "1.0\n"
     ]
    },
    {
     "name": "stderr",
     "output_type": "stream",
     "text": [
      "[Parallel(n_jobs=1)]: Done 300 out of 300 | elapsed:   38.9s finished\n"
     ]
    }
   ],
   "source": [
    "l1_ratios = np.linspace(0.01, 1.0, 50)\n",
    "\n",
    "optimal_enet = ElasticNetCV(l1_ratio=l1_ratios, n_alphas=15, cv=6,\n",
    "                            verbose=1)\n",
    "optimal_enet.fit(Xn, np.ravel(y))\n",
    "\n",
    "print optimal_enet.alpha_\n",
    "print optimal_enet.l1_ratio_\n"
   ]
  },
  {
   "cell_type": "code",
   "execution_count": 23,
   "metadata": {
    "collapsed": false
   },
   "outputs": [
    {
     "name": "stdout",
     "output_type": "stream",
     "text": [
      "[ 0.57623033  0.12200865  0.25896582  0.40723855  0.39256869  0.41352883]\n",
      "0.361756812104\n"
     ]
    }
   ],
   "source": [
    "enet = ElasticNet(alpha=optimal_enet.alpha_, l1_ratio=optimal_enet.l1_ratio_)\n",
    "\n",
    "enet_scores = cross_val_score(enet, Xn, y, cv=6)\n",
    "\n",
    "print enet_scores\n",
    "print np.mean(enet_scores)"
   ]
  },
  {
   "cell_type": "code",
   "execution_count": null,
   "metadata": {
    "collapsed": true
   },
   "outputs": [],
   "source": [
    "# There is a correlation between my target and variables. Bedrooms, sqft, bathroooms and rooms are good predictors to \n",
    "# asses the value of a property. "
   ]
  },
  {
   "cell_type": "code",
   "execution_count": 24,
   "metadata": {
    "collapsed": false
   },
   "outputs": [
    {
     "data": {
      "text/plain": [
       "Lasso(alpha=57895.789280929399, copy_X=True, fit_intercept=True,\n",
       "   max_iter=1000, normalize=False, positive=False, precompute=False,\n",
       "   random_state=None, selection='cyclic', tol=0.0001, warm_start=False)"
      ]
     },
     "execution_count": 24,
     "metadata": {},
     "output_type": "execute_result"
    }
   ],
   "source": [
    "# To plot\n",
    "\n",
    "lr.fit(Xn,y)\n",
    "ridge.fit(Xn, y)\n",
    "enet.fit(Xn, y)\n",
    "lasso.fit(Xn, y)"
   ]
  },
  {
   "cell_type": "code",
   "execution_count": 35,
   "metadata": {
    "collapsed": false
   },
   "outputs": [
    {
     "data": {
      "text/plain": [
       "(197774,)"
      ]
     },
     "execution_count": 35,
     "metadata": {},
     "output_type": "execute_result"
    }
   ],
   "source": [
    "y_conv = np.array(y).ravel()\n",
    "y_conv.shape"
   ]
  },
  {
   "cell_type": "code",
   "execution_count": 36,
   "metadata": {
    "collapsed": true
   },
   "outputs": [],
   "source": [
    "lin_pred = model.predict(Xn).ravel()"
   ]
  },
  {
   "cell_type": "code",
   "execution_count": 38,
   "metadata": {
    "collapsed": true
   },
   "outputs": [],
   "source": [
    "ridge_pred = ridge.predict(Xn).ravel()"
   ]
  },
  {
   "cell_type": "code",
   "execution_count": 40,
   "metadata": {
    "collapsed": true
   },
   "outputs": [],
   "source": [
    "lasso_pred = lasso.predict(Xn).ravel()"
   ]
  },
  {
   "cell_type": "code",
   "execution_count": 46,
   "metadata": {
    "collapsed": true
   },
   "outputs": [],
   "source": [
    "enet_pred = enet.predict(Xn).ravel()"
   ]
  },
  {
   "cell_type": "code",
   "execution_count": 48,
   "metadata": {
    "collapsed": false
   },
   "outputs": [],
   "source": [
    "linear_resid = y_conv - lin_pred\n",
    "ridge_resid = y_conv - ridge_pred\n",
    "lasso_resid = y_conv - lasso_pred\n",
    "enet_resid = y_conv - enet_pred\n"
   ]
  },
  {
   "cell_type": "code",
   "execution_count": 82,
   "metadata": {
    "collapsed": false,
    "scrolled": true
   },
   "outputs": [
    {
     "data": {
      "image/png": "[encoded data removed]",
      "text/plain": [
       "<matplotlib.figure.Figure at 0x119ab1910>"
      ]
     },
     "metadata": {
      "image/png": {
       "height": 327,
       "width": 997
      }
     },
     "output_type": "display_data"
    }
   ],
   "source": [
    "fig, axarr = plt.subplots(2, 2, figsize=(15, 5))\n",
    "\n",
    "sns.distplot(linear_resid, bins=20, hist=True, kde=False, \n",
    "             color='steelblue', ax=axarr[0,0], label='Linear residuals')\n",
    "\n",
    "sns.distplot(ridge_resid, bins=20, hist=True, kde=False, \n",
    "             color='steelblue', ax=axarr[0,1], label='Ridge residuals')\n",
    "\n",
    "sns.distplot(lasso_resid, bins=20, hist=True, kde=False, \n",
    "             color='darkred', ax=axarr[1,0], label='Lasso residuals')\n",
    "\n",
    "sns.distplot(enet_resid, bins=20, hist=True, kde=False, \n",
    "             color='darkgoldenrod', ax=axarr[1,1], label='ElasticNet residuals')\n",
    "\n",
    "plt.show()"
   ]
  },
  {
   "cell_type": "code",
   "execution_count": 83,
   "metadata": {
    "collapsed": true
   },
   "outputs": [],
   "source": [
    "# Tried to plot my residuals. Graph does not look optimal - need more time to play around with it. \n",
    "\n",
    "# Lasso appears to be the best model based on the score results, and the enet also returned the Lasso because it \n",
    "# determined it was the best model. "
   ]
  },
  {
   "cell_type": "markdown",
   "metadata": {},
   "source": [
    "<img src=\"http://imgur.com/l5NasQj.png\" style=\"float: left; margin: 25px 15px 0px 0px; height: 25px\">\n",
    "\n",
    "### 4. Conduct another, different analysis and report on it\n",
    "\n",
    "---\n",
    "\n",
    "1. Combining multiple sources of data (csv files) is required.\n",
    "- Perform EDA and cleaning on relevant data.\n",
    "- Construct and compare different regression models with cross-validation.\n",
    "- Plot descriptive visuals you think are useful for understanding the data.\n",
    "- Report on your findings.\n",
    "\n",
    "This section is just another analysis like the first sections, but is more open-ended in what models you decide to build and why. Don't feel obligated to try every out every regularized regression model (though it doesn't hurt). \n"
   ]
  },
  {
   "cell_type": "code",
   "execution_count": 54,
   "metadata": {
    "collapsed": true
   },
   "outputs": [],
   "source": [
    "park_info = pd.read_csv('/Users/Divya/Desktop/DSI-SF-2/datasets/san_francisco/san_francisco/parks/park_info.csv')\n",
    "park_scores = pd.read_csv('/Users/Divya/Desktop/DSI-SF-2/datasets/san_francisco/san_francisco/parks/park_scores.csv')"
   ]
  },
  {
   "cell_type": "code",
   "execution_count": 81,
   "metadata": {
    "collapsed": false
   },
   "outputs": [
    {
     "name": "stdout",
     "output_type": "stream",
     "text": [
      "<class 'pandas.core.frame.DataFrame'>\n",
      "RangeIndex: 230 entries, 0 to 229\n",
      "Data columns (total 12 columns):\n",
      "ParkName           230 non-null object\n",
      "ParkType           230 non-null object\n",
      "ParkServiceArea    230 non-null object\n",
      "PSAManager         230 non-null object\n",
      "email              230 non-null object\n",
      "Number             230 non-null object\n",
      "Zipcode            223 non-null float64\n",
      "Acreage            229 non-null float64\n",
      "SupDist            227 non-null float64\n",
      "ParkID             229 non-null float64\n",
      "Location 1         202 non-null object\n",
      "Lat                0 non-null float64\n",
      "dtypes: float64(5), object(7)\n",
      "memory usage: 21.6+ KB\n"
     ]
    }
   ],
   "source": [
    "park_info.info()"
   ]
  },
  {
   "cell_type": "code",
   "execution_count": 56,
   "metadata": {
    "collapsed": false
   },
   "outputs": [
    {
     "data": {
      "text/html": [
       "<div>\n",
       "<table border=\"1\" class=\"dataframe\">\n",
       "  <thead>\n",
       "    <tr style=\"text-align: right;\">\n",
       "      <th></th>\n",
       "      <th>ParkID</th>\n",
       "      <th>PSA</th>\n",
       "      <th>Park</th>\n",
       "      <th>FQ</th>\n",
       "      <th>Score</th>\n",
       "    </tr>\n",
       "  </thead>\n",
       "  <tbody>\n",
       "    <tr>\n",
       "      <th>0</th>\n",
       "      <td>86</td>\n",
       "      <td>PSA4</td>\n",
       "      <td>Carl Larsen Park</td>\n",
       "      <td>FY05Q3</td>\n",
       "      <td>0.795</td>\n",
       "    </tr>\n",
       "    <tr>\n",
       "      <th>1</th>\n",
       "      <td>13</td>\n",
       "      <td>PSA4</td>\n",
       "      <td>Junipero Serra Playground</td>\n",
       "      <td>FY05Q3</td>\n",
       "      <td>0.957</td>\n",
       "    </tr>\n",
       "    <tr>\n",
       "      <th>2</th>\n",
       "      <td>9</td>\n",
       "      <td>PSA4</td>\n",
       "      <td>Rolph Nicol Playground</td>\n",
       "      <td>FY05Q3</td>\n",
       "      <td>0.864</td>\n",
       "    </tr>\n",
       "  </tbody>\n",
       "</table>\n",
       "</div>"
      ],
      "text/plain": [
       "   ParkID   PSA                       Park      FQ  Score\n",
       "0      86  PSA4           Carl Larsen Park  FY05Q3  0.795\n",
       "1      13  PSA4  Junipero Serra Playground  FY05Q3  0.957\n",
       "2       9  PSA4     Rolph Nicol Playground  FY05Q3  0.864"
      ]
     },
     "execution_count": 56,
     "metadata": {},
     "output_type": "execute_result"
    }
   ],
   "source": [
    "park_scores.head(3)"
   ]
  },
  {
   "cell_type": "code",
   "execution_count": 57,
   "metadata": {
    "collapsed": true
   },
   "outputs": [],
   "source": [
    "parks = park_info.merge(park_scores, how='left', on='ParkID')"
   ]
  },
  {
   "cell_type": "code",
   "execution_count": 58,
   "metadata": {
    "collapsed": false
   },
   "outputs": [
    {
     "data": {
      "text/html": [
       "<div>\n",
       "<table border=\"1\" class=\"dataframe\">\n",
       "  <thead>\n",
       "    <tr style=\"text-align: right;\">\n",
       "      <th></th>\n",
       "      <th>ParkName</th>\n",
       "      <th>ParkType</th>\n",
       "      <th>ParkServiceArea</th>\n",
       "      <th>PSAManager</th>\n",
       "      <th>email</th>\n",
       "      <th>Number</th>\n",
       "      <th>Zipcode</th>\n",
       "      <th>Acreage</th>\n",
       "      <th>SupDist</th>\n",
       "      <th>ParkID</th>\n",
       "      <th>Location 1</th>\n",
       "      <th>Lat</th>\n",
       "      <th>PSA</th>\n",
       "      <th>Park</th>\n",
       "      <th>FQ</th>\n",
       "      <th>Score</th>\n",
       "    </tr>\n",
       "  </thead>\n",
       "  <tbody>\n",
       "    <tr>\n",
       "      <th>0</th>\n",
       "      <td>ParkName</td>\n",
       "      <td>ParkType</td>\n",
       "      <td>ParkServiceArea</td>\n",
       "      <td>PSAManager</td>\n",
       "      <td>email</td>\n",
       "      <td>Number</td>\n",
       "      <td>NaN</td>\n",
       "      <td>NaN</td>\n",
       "      <td>NaN</td>\n",
       "      <td>NaN</td>\n",
       "      <td>NaN</td>\n",
       "      <td>NaN</td>\n",
       "      <td>NaN</td>\n",
       "      <td>NaN</td>\n",
       "      <td>NaN</td>\n",
       "      <td>NaN</td>\n",
       "    </tr>\n",
       "    <tr>\n",
       "      <th>1</th>\n",
       "      <td>10TH AVE/CLEMENT MINI PARK</td>\n",
       "      <td>Mini Park</td>\n",
       "      <td>PSA 1</td>\n",
       "      <td>Elder, Steve</td>\n",
       "      <td>steven.elder@sfgov.org</td>\n",
       "      <td>(415) 601-6501</td>\n",
       "      <td>94118.0</td>\n",
       "      <td>0.66</td>\n",
       "      <td>1.0</td>\n",
       "      <td>156.0</td>\n",
       "      <td>351 9th Ave\\nSan Francisco, CA\\n(37.78184397, ...</td>\n",
       "      <td>NaN</td>\n",
       "      <td>PSA1</td>\n",
       "      <td>10th Avenue-Clement Mini Park</td>\n",
       "      <td>FY05Q4</td>\n",
       "      <td>0.655</td>\n",
       "    </tr>\n",
       "    <tr>\n",
       "      <th>2</th>\n",
       "      <td>10TH AVE/CLEMENT MINI PARK</td>\n",
       "      <td>Mini Park</td>\n",
       "      <td>PSA 1</td>\n",
       "      <td>Elder, Steve</td>\n",
       "      <td>steven.elder@sfgov.org</td>\n",
       "      <td>(415) 601-6501</td>\n",
       "      <td>94118.0</td>\n",
       "      <td>0.66</td>\n",
       "      <td>1.0</td>\n",
       "      <td>156.0</td>\n",
       "      <td>351 9th Ave\\nSan Francisco, CA\\n(37.78184397, ...</td>\n",
       "      <td>NaN</td>\n",
       "      <td>PSA1</td>\n",
       "      <td>10th Avenue-Clement Mini Park</td>\n",
       "      <td>FY06Q2</td>\n",
       "      <td>0.854</td>\n",
       "    </tr>\n",
       "  </tbody>\n",
       "</table>\n",
       "</div>"
      ],
      "text/plain": [
       "                     ParkName   ParkType  ParkServiceArea    PSAManager  \\\n",
       "0                    ParkName   ParkType  ParkServiceArea    PSAManager   \n",
       "1  10TH AVE/CLEMENT MINI PARK  Mini Park            PSA 1  Elder, Steve   \n",
       "2  10TH AVE/CLEMENT MINI PARK  Mini Park            PSA 1  Elder, Steve   \n",
       "\n",
       "                    email          Number  Zipcode  Acreage  SupDist  ParkID  \\\n",
       "0                   email          Number      NaN      NaN      NaN     NaN   \n",
       "1  steven.elder@sfgov.org  (415) 601-6501  94118.0     0.66      1.0   156.0   \n",
       "2  steven.elder@sfgov.org  (415) 601-6501  94118.0     0.66      1.0   156.0   \n",
       "\n",
       "                                          Location 1  Lat   PSA  \\\n",
       "0                                                NaN  NaN   NaN   \n",
       "1  351 9th Ave\\nSan Francisco, CA\\n(37.78184397, ...  NaN  PSA1   \n",
       "2  351 9th Ave\\nSan Francisco, CA\\n(37.78184397, ...  NaN  PSA1   \n",
       "\n",
       "                            Park      FQ  Score  \n",
       "0                            NaN     NaN    NaN  \n",
       "1  10th Avenue-Clement Mini Park  FY05Q4  0.655  \n",
       "2  10th Avenue-Clement Mini Park  FY06Q2  0.854  "
      ]
     },
     "execution_count": 58,
     "metadata": {},
     "output_type": "execute_result"
    }
   ],
   "source": [
    "parks.head(3)"
   ]
  },
  {
   "cell_type": "code",
   "execution_count": 59,
   "metadata": {
    "collapsed": false
   },
   "outputs": [],
   "source": [
    "park_average = parks.groupby('ParkName',as_index=False).mean()\n",
    "park_av = park_average.drop(['Lat'], axis=1)"
   ]
  },
  {
   "cell_type": "code",
   "execution_count": 60,
   "metadata": {
    "collapsed": false,
    "scrolled": true
   },
   "outputs": [
    {
     "data": {
      "text/html": [
       "<div>\n",
       "<table border=\"1\" class=\"dataframe\">\n",
       "  <thead>\n",
       "    <tr style=\"text-align: right;\">\n",
       "      <th></th>\n",
       "      <th>ParkName</th>\n",
       "    </tr>\n",
       "  </thead>\n",
       "  <tbody>\n",
       "    <tr>\n",
       "      <th>0</th>\n",
       "      <td>10TH AVE/CLEMENT MINI PARK</td>\n",
       "    </tr>\n",
       "    <tr>\n",
       "      <th>1</th>\n",
       "      <td>15TH AVENUE STEPS</td>\n",
       "    </tr>\n",
       "    <tr>\n",
       "      <th>2</th>\n",
       "      <td>24TH/YORK MINI PARK</td>\n",
       "    </tr>\n",
       "    <tr>\n",
       "      <th>3</th>\n",
       "      <td>29TH/DIAMOND OPEN SPACE</td>\n",
       "    </tr>\n",
       "    <tr>\n",
       "      <th>4</th>\n",
       "      <td>ADAM ROGERS PARK</td>\n",
       "    </tr>\n",
       "    <tr>\n",
       "      <th>5</th>\n",
       "      <td>ALAMO SQUARE</td>\n",
       "    </tr>\n",
       "    <tr>\n",
       "      <th>6</th>\n",
       "      <td>ALICE CHALMERS PLAYGROUND</td>\n",
       "    </tr>\n",
       "    <tr>\n",
       "      <th>7</th>\n",
       "      <td>ALICE MARBLE TENNIS COURTS</td>\n",
       "    </tr>\n",
       "    <tr>\n",
       "      <th>8</th>\n",
       "      <td>ALIOTO MINI PARK</td>\n",
       "    </tr>\n",
       "    <tr>\n",
       "      <th>9</th>\n",
       "      <td>ALLYNE PARK</td>\n",
       "    </tr>\n",
       "    <tr>\n",
       "      <th>10</th>\n",
       "      <td>ALTA PLAZA</td>\n",
       "    </tr>\n",
       "    <tr>\n",
       "      <th>11</th>\n",
       "      <td>ANGELO J. ROSSI PLAYGROUND</td>\n",
       "    </tr>\n",
       "    <tr>\n",
       "      <th>12</th>\n",
       "      <td>APTOS PLAYGROUND</td>\n",
       "    </tr>\n",
       "    <tr>\n",
       "      <th>13</th>\n",
       "      <td>ARGONNE PLAYGROUND</td>\n",
       "    </tr>\n",
       "    <tr>\n",
       "      <th>14</th>\n",
       "      <td>Arkansas Friendship Garden</td>\n",
       "    </tr>\n",
       "    <tr>\n",
       "      <th>15</th>\n",
       "      <td>Arlington Community Garden</td>\n",
       "    </tr>\n",
       "    <tr>\n",
       "      <th>16</th>\n",
       "      <td>BALBOA NATURAL AREA</td>\n",
       "    </tr>\n",
       "    <tr>\n",
       "      <th>17</th>\n",
       "      <td>BALBOA PARK</td>\n",
       "    </tr>\n",
       "    <tr>\n",
       "      <th>18</th>\n",
       "      <td>BAY VIEW PARK</td>\n",
       "    </tr>\n",
       "    <tr>\n",
       "      <th>19</th>\n",
       "      <td>BAY VIEW PLAYGROUND</td>\n",
       "    </tr>\n",
       "    <tr>\n",
       "      <th>20</th>\n",
       "      <td>BEIDEMAN/O'FARRELL MINI PARK</td>\n",
       "    </tr>\n",
       "    <tr>\n",
       "      <th>21</th>\n",
       "      <td>BERKELEY WAY OPEN SPACE</td>\n",
       "    </tr>\n",
       "    <tr>\n",
       "      <th>22</th>\n",
       "      <td>BERNAL HEIGHTS PARK</td>\n",
       "    </tr>\n",
       "    <tr>\n",
       "      <th>23</th>\n",
       "      <td>BERNAL HEIGHTS RECREATION CENTER</td>\n",
       "    </tr>\n",
       "    <tr>\n",
       "      <th>24</th>\n",
       "      <td>BILLY GOAT HILL</td>\n",
       "    </tr>\n",
       "    <tr>\n",
       "      <th>25</th>\n",
       "      <td>BROADWAY TUNNEL EAST MINI PARK</td>\n",
       "    </tr>\n",
       "    <tr>\n",
       "      <th>26</th>\n",
       "      <td>BROADWAY TUNNEL WEST MINI PARK</td>\n",
       "    </tr>\n",
       "    <tr>\n",
       "      <th>27</th>\n",
       "      <td>BROOKS PARK</td>\n",
       "    </tr>\n",
       "    <tr>\n",
       "      <th>28</th>\n",
       "      <td>BROTHERHOOD/CHESTER MINI PARK</td>\n",
       "    </tr>\n",
       "    <tr>\n",
       "      <th>29</th>\n",
       "      <td>BUCHANAN STREET MALL</td>\n",
       "    </tr>\n",
       "    <tr>\n",
       "      <th>...</th>\n",
       "      <td>...</td>\n",
       "    </tr>\n",
       "    <tr>\n",
       "      <th>200</th>\n",
       "      <td>ST MARY'S REC CENTER</td>\n",
       "    </tr>\n",
       "    <tr>\n",
       "      <th>201</th>\n",
       "      <td>ST MARY'S SQUARE</td>\n",
       "    </tr>\n",
       "    <tr>\n",
       "      <th>202</th>\n",
       "      <td>STATES STREET PLAYGROUND</td>\n",
       "    </tr>\n",
       "    <tr>\n",
       "      <th>203</th>\n",
       "      <td>SUE BIERMAN PARK</td>\n",
       "    </tr>\n",
       "    <tr>\n",
       "      <th>204</th>\n",
       "      <td>SUNNYSIDE CONSERVATORY</td>\n",
       "    </tr>\n",
       "    <tr>\n",
       "      <th>205</th>\n",
       "      <td>SUNNYSIDE PLAYGROUND</td>\n",
       "    </tr>\n",
       "    <tr>\n",
       "      <th>206</th>\n",
       "      <td>SUNSET PLAYGROUND</td>\n",
       "    </tr>\n",
       "    <tr>\n",
       "      <th>207</th>\n",
       "      <td>TANK HILL</td>\n",
       "    </tr>\n",
       "    <tr>\n",
       "      <th>208</th>\n",
       "      <td>TELEGRAPH HILL/PIONEER PARK</td>\n",
       "    </tr>\n",
       "    <tr>\n",
       "      <th>209</th>\n",
       "      <td>TENDERLOIN CHILDREN'S REC CENTER</td>\n",
       "    </tr>\n",
       "    <tr>\n",
       "      <th>210</th>\n",
       "      <td>TOPAZ OPEN SPACE</td>\n",
       "    </tr>\n",
       "    <tr>\n",
       "      <th>211</th>\n",
       "      <td>TURK/HYDE MINI PARK</td>\n",
       "    </tr>\n",
       "    <tr>\n",
       "      <th>212</th>\n",
       "      <td>TWIN PEAKS</td>\n",
       "    </tr>\n",
       "    <tr>\n",
       "      <th>213</th>\n",
       "      <td>UNION SQUARE</td>\n",
       "    </tr>\n",
       "    <tr>\n",
       "      <th>214</th>\n",
       "      <td>UPPER NOE RECREATION CENTER</td>\n",
       "    </tr>\n",
       "    <tr>\n",
       "      <th>215</th>\n",
       "      <td>UTAH/18TH MINI PARK</td>\n",
       "    </tr>\n",
       "    <tr>\n",
       "      <th>216</th>\n",
       "      <td>VICTORIA MANALO DRAVES PARK</td>\n",
       "    </tr>\n",
       "    <tr>\n",
       "      <th>217</th>\n",
       "      <td>VISITACION VALLEY GREENWAY</td>\n",
       "    </tr>\n",
       "    <tr>\n",
       "      <th>218</th>\n",
       "      <td>VISITACION VALLEY PLAYGROUND</td>\n",
       "    </tr>\n",
       "    <tr>\n",
       "      <th>219</th>\n",
       "      <td>WALTER HAAS PLAYGROUND</td>\n",
       "    </tr>\n",
       "    <tr>\n",
       "      <th>220</th>\n",
       "      <td>WASHINGTON SQUARE</td>\n",
       "    </tr>\n",
       "    <tr>\n",
       "      <th>221</th>\n",
       "      <td>WASHINGTON/HYDE MINI PARK</td>\n",
       "    </tr>\n",
       "    <tr>\n",
       "      <th>222</th>\n",
       "      <td>WEST PORTAL PLAYGROUND</td>\n",
       "    </tr>\n",
       "    <tr>\n",
       "      <th>223</th>\n",
       "      <td>WEST SUNSET PLAYGROUND</td>\n",
       "    </tr>\n",
       "    <tr>\n",
       "      <th>224</th>\n",
       "      <td>WILLIE WOO WOO WONG PLAYGROUND</td>\n",
       "    </tr>\n",
       "    <tr>\n",
       "      <th>225</th>\n",
       "      <td>WOH HEI YUEN PARK</td>\n",
       "    </tr>\n",
       "    <tr>\n",
       "      <th>226</th>\n",
       "      <td>White Crane Springs Community Garden</td>\n",
       "    </tr>\n",
       "    <tr>\n",
       "      <th>227</th>\n",
       "      <td>Wolfe Lane Community Garden</td>\n",
       "    </tr>\n",
       "    <tr>\n",
       "      <th>228</th>\n",
       "      <td>YACHT HARBOR AND MARINA GREEN</td>\n",
       "    </tr>\n",
       "    <tr>\n",
       "      <th>229</th>\n",
       "      <td>YOUNGBLOOD COLEMAN PLAYGROUND</td>\n",
       "    </tr>\n",
       "  </tbody>\n",
       "</table>\n",
       "<p>230 rows × 1 columns</p>\n",
       "</div>"
      ],
      "text/plain": [
       "                                 ParkName\n",
       "0              10TH AVE/CLEMENT MINI PARK\n",
       "1                       15TH AVENUE STEPS\n",
       "2                     24TH/YORK MINI PARK\n",
       "3                 29TH/DIAMOND OPEN SPACE\n",
       "4                        ADAM ROGERS PARK\n",
       "5                            ALAMO SQUARE\n",
       "6               ALICE CHALMERS PLAYGROUND\n",
       "7              ALICE MARBLE TENNIS COURTS\n",
       "8                        ALIOTO MINI PARK\n",
       "9                             ALLYNE PARK\n",
       "10                             ALTA PLAZA\n",
       "11             ANGELO J. ROSSI PLAYGROUND\n",
       "12                       APTOS PLAYGROUND\n",
       "13                     ARGONNE PLAYGROUND\n",
       "14             Arkansas Friendship Garden\n",
       "15             Arlington Community Garden\n",
       "16                    BALBOA NATURAL AREA\n",
       "17                            BALBOA PARK\n",
       "18                          BAY VIEW PARK\n",
       "19                    BAY VIEW PLAYGROUND\n",
       "20           BEIDEMAN/O'FARRELL MINI PARK\n",
       "21                BERKELEY WAY OPEN SPACE\n",
       "22                    BERNAL HEIGHTS PARK\n",
       "23       BERNAL HEIGHTS RECREATION CENTER\n",
       "24                        BILLY GOAT HILL\n",
       "25         BROADWAY TUNNEL EAST MINI PARK\n",
       "26         BROADWAY TUNNEL WEST MINI PARK\n",
       "27                            BROOKS PARK\n",
       "28          BROTHERHOOD/CHESTER MINI PARK\n",
       "29                   BUCHANAN STREET MALL\n",
       "..                                    ...\n",
       "200                  ST MARY'S REC CENTER\n",
       "201                      ST MARY'S SQUARE\n",
       "202              STATES STREET PLAYGROUND\n",
       "203                      SUE BIERMAN PARK\n",
       "204                SUNNYSIDE CONSERVATORY\n",
       "205                  SUNNYSIDE PLAYGROUND\n",
       "206                     SUNSET PLAYGROUND\n",
       "207                             TANK HILL\n",
       "208           TELEGRAPH HILL/PIONEER PARK\n",
       "209      TENDERLOIN CHILDREN'S REC CENTER\n",
       "210                      TOPAZ OPEN SPACE\n",
       "211                   TURK/HYDE MINI PARK\n",
       "212                            TWIN PEAKS\n",
       "213                          UNION SQUARE\n",
       "214           UPPER NOE RECREATION CENTER\n",
       "215                   UTAH/18TH MINI PARK\n",
       "216           VICTORIA MANALO DRAVES PARK\n",
       "217            VISITACION VALLEY GREENWAY\n",
       "218          VISITACION VALLEY PLAYGROUND\n",
       "219                WALTER HAAS PLAYGROUND\n",
       "220                     WASHINGTON SQUARE\n",
       "221             WASHINGTON/HYDE MINI PARK\n",
       "222                WEST PORTAL PLAYGROUND\n",
       "223                WEST SUNSET PLAYGROUND\n",
       "224        WILLIE WOO WOO WONG PLAYGROUND\n",
       "225                     WOH HEI YUEN PARK\n",
       "226  White Crane Springs Community Garden\n",
       "227           Wolfe Lane Community Garden\n",
       "228         YACHT HARBOR AND MARINA GREEN\n",
       "229         YOUNGBLOOD COLEMAN PLAYGROUND\n",
       "\n",
       "[230 rows x 1 columns]"
      ]
     },
     "execution_count": 60,
     "metadata": {},
     "output_type": "execute_result"
    }
   ],
   "source": [
    "park_av.dropna(axis=1)"
   ]
  },
  {
   "cell_type": "code",
   "execution_count": 61,
   "metadata": {
    "collapsed": false
   },
   "outputs": [],
   "source": [
    "park_av = park_av.dropna(subset=['Acreage', 'Score'])"
   ]
  },
  {
   "cell_type": "code",
   "execution_count": 63,
   "metadata": {
    "collapsed": false
   },
   "outputs": [
    {
     "name": "stdout",
     "output_type": "stream",
     "text": [
      "1031.98\n",
      "0.0\n",
      "16.4068852459\n",
      "(183,)\n"
     ]
    }
   ],
   "source": [
    "print park_av.Acreage.max()\n",
    "print park_av.Acreage.min()\n",
    "print park_av.Acreage.mean()\n",
    "print park_av.Acreage.shape"
   ]
  },
  {
   "cell_type": "code",
   "execution_count": 65,
   "metadata": {
    "collapsed": false
   },
   "outputs": [
    {
     "name": "stdout",
     "output_type": "stream",
     "text": [
      "36.08\n",
      "0.0\n",
      "3.64125\n",
      "(176,)\n"
     ]
    }
   ],
   "source": [
    "# Looking at our max, min and mean we can see that we should get rid of some outliers\n",
    "\n",
    "park_sub = park_av[park_av['Acreage'] < 50]\n",
    "print park_sub.Acreage.max()\n",
    "print park_sub.Acreage.min()\n",
    "print park_sub.Acreage.mean()\n",
    "print park_sub.Acreage.shape"
   ]
  },
  {
   "cell_type": "code",
   "execution_count": null,
   "metadata": {
    "collapsed": true
   },
   "outputs": [],
   "source": [
    "# Hypothesis: Acerage impacts the park Score. "
   ]
  },
  {
   "cell_type": "code",
   "execution_count": 71,
   "metadata": {
    "collapsed": false
   },
   "outputs": [],
   "source": [
    "from sklearn.cross_validation import cross_val_score, cross_val_predict\n",
    "from sklearn import metrics"
   ]
  },
  {
   "cell_type": "code",
   "execution_count": 72,
   "metadata": {
    "collapsed": false,
    "scrolled": true
   },
   "outputs": [
    {
     "name": "stdout",
     "output_type": "stream",
     "text": [
      "Cross-validated scores: [-0.0029249   0.00022769 -0.05986724 -0.02356209 -0.16646877 -0.03013974]\n",
      "Cross-Predicted Accuracy: -0.0128429436511\n"
     ]
    },
    {
     "data": {
      "text/plain": [
       "<matplotlib.collections.PathCollection at 0x11c600850>"
      ]
     },
     "execution_count": 72,
     "metadata": {},
     "output_type": "execute_result"
    },
    {
     "data": {
      "image/png": "[encoded data removed]",
      "text/plain": [
       "<matplotlib.figure.Figure at 0x11d3afdd0>"
      ]
     },
     "metadata": {
      "image/png": {
       "height": 258,
       "width": 423
      }
     },
     "output_type": "display_data"
    }
   ],
   "source": [
    "formula = \"Score ~ Acreage\"\n",
    "y, X = patsy.dmatrices(formula, data=park_sub, return_type=\"dataframe\")\n",
    "\n",
    "lm = LinearRegression()\n",
    "scores = cross_val_score(lm, X, y, cv=6)\n",
    "predictions = cross_val_predict(lm, X, y, cv=6)\n",
    "\n",
    "print \"Cross-validated scores:\", scores\n",
    "accuracy = metrics.r2_score(y, predictions)\n",
    "print \"Cross-Predicted Accuracy:\", accuracy\n",
    "\n",
    "plt.scatter(y, predictions)"
   ]
  },
  {
   "cell_type": "code",
   "execution_count": 76,
   "metadata": {
    "collapsed": true
   },
   "outputs": [],
   "source": [
    "ss = StandardScaler()\n",
    "Xn = ss.fit_transform(X)"
   ]
  },
  {
   "cell_type": "code",
   "execution_count": 77,
   "metadata": {
    "collapsed": false
   },
   "outputs": [
    {
     "name": "stderr",
     "output_type": "stream",
     "text": [
      "...............................................................................................................................................................................................................................................................................................................................................................................................................................................................................................................................................................................................................................................................................................................................................................[Parallel(n_jobs=1)]: Done  49 tasks       | elapsed:    0.2s\n",
      "..........................................................................................................................................................................................................................................................................................................................................................................................................................................................................................................................................................................................................................................................................................................................................................................................................................................................................................................................................................................................................................................................................................................................................................................................................................................................................................................................................................................................................................................................................................................................................................................................................................................................................................................................................................................................................................................................................................................................................................................................................................................................................................................................................................................................................................................................................................................................................[Parallel(n_jobs=1)]: Done 199 tasks       | elapsed:    0.8s\n",
      "...................................................................................................................................................................................................................................................................................................................................................................................................................................................................................................................................................................................................................................................................................................................................................................................................................................................................................................................................................................................................................................................................................................................................................................................................................................................................................................................................................................................................................................."
     ]
    },
    {
     "name": "stdout",
     "output_type": "stream",
     "text": [
      "0.0504983320103\n",
      "0.01\n"
     ]
    },
    {
     "name": "stderr",
     "output_type": "stream",
     "text": [
      ".......................................................................................................................................[Parallel(n_jobs=1)]: Done 300 out of 300 | elapsed:    1.2s finished\n"
     ]
    }
   ],
   "source": [
    "l1_ratios = np.linspace(0.01, 1.0, 50)\n",
    "\n",
    "optimal_enet = ElasticNetCV(l1_ratio=l1_ratios, n_alphas=15, cv=6,\n",
    "                            verbose=1)\n",
    "optimal_enet.fit(Xn, np.ravel(y))\n",
    "\n",
    "print optimal_enet.alpha_\n",
    "print optimal_enet.l1_ratio_"
   ]
  },
  {
   "cell_type": "code",
   "execution_count": 78,
   "metadata": {
    "collapsed": false
   },
   "outputs": [
    {
     "name": "stdout",
     "output_type": "stream",
     "text": [
      "[ -2.42652680e-03  -9.76965731e-06  -5.99588363e-02  -2.89555394e-02\n",
      "  -1.67761279e-01  -2.76941728e-02]\n",
      "-0.0478010207277\n"
     ]
    }
   ],
   "source": [
    "enet = ElasticNet(alpha=optimal_enet.alpha_, l1_ratio=optimal_enet.l1_ratio_)\n",
    "\n",
    "enet_scores = cross_val_score(enet, Xn, y, cv=6)\n",
    "\n",
    "print enet_scores\n",
    "print np.mean(enet_scores)"
   ]
  },
  {
   "cell_type": "code",
   "execution_count": null,
   "metadata": {
    "collapsed": true
   },
   "outputs": [],
   "source": [
    "# There is no correlation between Acerage and Score. Based on our negative r2, the mean is a better predictor than \n",
    "# our model. "
   ]
  },
  {
   "cell_type": "markdown",
   "metadata": {},
   "source": [
    "<img src=\"http://imgur.com/xDpSobf.png\" style=\"float: left; margin: 25px 15px 0px 0px; height: 25px\">\n",
    "\n",
    "### 4.2 Ploting GridSearch with Lasso, Ridge, or Elasticnet\n",
    "---\n",
    "1. Using the gridsearch results, plot your score in relation to your parameters.\n",
    "1. Plot the effect on your coefficients given alpha.\n",
    "1. Plot any other parameter change to visualize the impact of any other hyperparameter.\n",
    "\n",
    "It's helpful to understand the impact of parameters used in Gridsearch, and that you are comfortable working with the data that is generated for reporting to explore the results visually."
   ]
  },
  {
   "cell_type": "code",
   "execution_count": null,
   "metadata": {
    "collapsed": true
   },
   "outputs": [],
   "source": []
  },
  {
   "cell_type": "markdown",
   "metadata": {},
   "source": [
    "<img src=\"http://imgur.com/GCAf1UX.png\" style=\"float: left; margin: 25px 15px 0px 0px; height: 25px\">\n",
    "\n",
    "## 5. Bias-variance tradeoff\n",
    "\n",
    "---\n",
    "\n",
    "1. Select San Francisco data of your choice and construct a regularized regression model (this can be data from an earlier analysis if you like). Ideally the model should actually improve across regularization strengths...\n",
    "- Gridsearch the regularization parameters to find the optimal.\n",
    "- Plot the regularization parameter against the cross-validated $R^2$.\n",
    "- Explain how regularization and regularization strength is related to the bias-variance tradeoff.\n"
   ]
  },
  {
   "cell_type": "code",
   "execution_count": null,
   "metadata": {
    "collapsed": true
   },
   "outputs": [],
   "source": []
  },
  {
   "cell_type": "markdown",
   "metadata": {},
   "source": [
    "<img src=\"http://imgur.com/xDpSobf.png\" style=\"float: left; margin: 25px 15px 0px 0px; height: 25px\">\n",
    "\n",
    "### 5.1 Calculate the approximated $\\text{bias}^2$ and variance across regularization strengths.\n",
    "\n",
    "---\n",
    "\n",
    "You can obviously use my code from the bias-variance lab to do this. \n",
    "\n",
    "Plot the bias and variance change _with_ the cross-validated $R^2$. \n",
    "\n",
    "You'll need to scale these values somehow to put them on the same chart (I recommend (MinMaxScaler)[http://scikit-learn.org/stable/modules/generated/sklearn.preprocessing.MinMaxScaler.html] to put $\\text{bias}^2$ and variance on the same scale as cross-validated $R^2$."
   ]
  },
  {
   "cell_type": "code",
   "execution_count": null,
   "metadata": {
    "collapsed": true
   },
   "outputs": [],
   "source": []
  },
  {
   "cell_type": "markdown",
   "metadata": {},
   "source": [
    "<img src=\"http://imgur.com/HNPKfE8.png\" style=\"float: left; margin: 25px 15px 0px 0px; height: 25px\">\n",
    "\n",
    "## 6. Custom regularized regression penalties\n",
    "\n",
    "---\n",
    "\n",
    "The $\\lambda1$ and $\\lambda2$ norm regularization penalties (Lasso and Ridge) are the most commonly used regularization penalties. They have a solid foundation in statistics and evidence of effectiveness. However, these are not the only possible penalties for regression – sometimes new, customized penalties give additional performance and predictive power to models depending on the context.\n",
    "\n",
    "For example, when I worked in neuroscience [we created an effective penalized regression dubbed \"GraphNet\"](http://arxiv.org/abs/1110.4139) that combined the Lasso and Ridge penalties like in Elastic net with a third penalty that rewarded clustering of coefficients according to physical distance in FMRI brain activation data.\n",
    "\n",
    "**Devise of and implement a penalized regression for San Francisco data.** What is your rationale – why would this be useful? How does it perform compared to the standard Ridge, Lasso, and Elastic Net penalties?"
   ]
  },
  {
   "cell_type": "code",
   "execution_count": null,
   "metadata": {
    "collapsed": true
   },
   "outputs": [],
   "source": []
  }
 ],
 "metadata": {
  "anaconda-cloud": {},
  "kernelspec": {
   "display_name": "Python [dsi]",
   "language": "python",
   "name": "Python [dsi]"
  },
  "language_info": {
   "codemirror_mode": {
    "name": "ipython",
    "version": 2
   },
   "file_extension": ".py",
   "mimetype": "text/x-python",
   "name": "python",
   "nbconvert_exporter": "python",
   "pygments_lexer": "ipython2",
   "version": "2.7.12"
  }
 },
 "nbformat": 4,
 "nbformat_minor": 0
}
