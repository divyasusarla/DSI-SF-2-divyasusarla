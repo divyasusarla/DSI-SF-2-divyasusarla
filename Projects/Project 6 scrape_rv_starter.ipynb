{
 "cells": [
  {
   "cell_type": "markdown",
   "metadata": {},
   "source": [
    "<img src=\"http://imgur.com/1ZcRyrc.png\" style=\"float: left; margin: 15px; height: 80px\">\n",
    "\n",
    "# Project 6:  Web Scraping\n",
    "### Finding Underpriced RVs on Craigslist\n",
    "\n",
    "![](https://snag.gy/WrdUMx.jpg)"
   ]
  },
  {
   "cell_type": "markdown",
   "metadata": {},
   "source": [
    "In this project we will be practicing our web scraping skills.  You can use Scrapy or Python requests in order to complete this project.  It may be helpful to write some prototype code in this notebook to test your assumptions, then move it into a Python file that can be run from the command line.\n",
    "\n",
    "> In order to run code from the command line, instead of the notebook, you just need to save your code to a file (with a .py extension), and run it using the Python interpreter:<br><br>\n",
    "> `python my_file.py`\n",
    "\n",
    "You will be building a process to scrape a single category of search results on Craigslist, that can easily be applied to other categories by changing the search terms.  The main goal is to be able to target and scrape a single page given a set of parameters.\n",
    "\n",
    "**If you use Scrapy, provide your code in a folder.**"
   ]
  },
  {
   "cell_type": "markdown",
   "metadata": {},
   "source": [
    "## Import your libraries for scrapy / requests / pandas / numpy / etc\n",
    "Setup whichever libraries you need. Review past material for reference."
   ]
  },
  {
   "cell_type": "code",
   "execution_count": 63,
   "metadata": {
    "collapsed": false
   },
   "outputs": [],
   "source": [
    "# PREPARE REQUIRED LIBRARIES\n",
    "import pandas as pd\n",
    "import numpy as np\n",
    "from scrapy.selector import Selector\n",
    "from scrapy.http import HtmlResponse\n",
    "import requests\n",
    "\n",
    "import matplotlib.pyplot as plt\n",
    "%matplotlib inline\n",
    "plt.style.use('fivethirtyeight')"
   ]
  },
  {
   "cell_type": "markdown",
   "metadata": {},
   "source": [
    "<img src=\"http://imgur.com/l5NasQj.png\" style=\"float: left; margin: 25px 15px 0px 0px; height: 25px\">\n",
    "\n",
    "## 1.  Scrape for the largest US cities (non-exhaustive list)\n",
    "Search, research, and scrape Wikipedia for a list of the largest US cities.  There are a few sources but find one that is in a nice table.  We don't want all cities, just signifficant cities.  Examine your source.  Look for what can be differentiable.\n",
    "\n",
    "- Use requests\n",
    "- Build XPath query(ies)\n",
    "- Extract to a list\n",
    "- Clean your list"
   ]
  },
  {
   "cell_type": "code",
   "execution_count": 9,
   "metadata": {
    "collapsed": false
   },
   "outputs": [],
   "source": [
    "# SCRAPE WIKIPEDIA FOR LARGEST US CITIES (NON-EXHAUSTIVE LIST)\n",
    "\n",
    "url = \"https://simple.wikipedia.org/wiki/List_of_United_States_cities_by_population\"\n",
    "response = requests.get(url)\n",
    "HTML = response.text"
   ]
  },
  {
   "cell_type": "code",
   "execution_count": 10,
   "metadata": {
    "collapsed": true
   },
   "outputs": [],
   "source": [
    "cities_path = Selector(text=HTML).xpath('//tr/td[2]/a/text()').extract()"
   ]
  },
  {
   "cell_type": "code",
   "execution_count": 11,
   "metadata": {
    "collapsed": false
   },
   "outputs": [],
   "source": [
    "cities = pd.DataFrame(cities_path)"
   ]
  },
  {
   "cell_type": "code",
   "execution_count": 18,
   "metadata": {
    "collapsed": false
   },
   "outputs": [
    {
     "data": {
      "text/html": [
       "<div>\n",
       "<table border=\"1\" class=\"dataframe\">\n",
       "  <thead>\n",
       "    <tr style=\"text-align: right;\">\n",
       "      <th></th>\n",
       "      <th>0</th>\n",
       "    </tr>\n",
       "  </thead>\n",
       "  <tbody>\n",
       "    <tr>\n",
       "      <th>0</th>\n",
       "      <td>New York</td>\n",
       "    </tr>\n",
       "    <tr>\n",
       "      <th>1</th>\n",
       "      <td>Los Angeles</td>\n",
       "    </tr>\n",
       "    <tr>\n",
       "      <th>2</th>\n",
       "      <td>Chicago</td>\n",
       "    </tr>\n",
       "    <tr>\n",
       "      <th>3</th>\n",
       "      <td>Houston</td>\n",
       "    </tr>\n",
       "    <tr>\n",
       "      <th>4</th>\n",
       "      <td>Philadelphia</td>\n",
       "    </tr>\n",
       "    <tr>\n",
       "      <th>5</th>\n",
       "      <td>Phoenix</td>\n",
       "    </tr>\n",
       "    <tr>\n",
       "      <th>6</th>\n",
       "      <td>San Antonio</td>\n",
       "    </tr>\n",
       "    <tr>\n",
       "      <th>7</th>\n",
       "      <td>San Diego</td>\n",
       "    </tr>\n",
       "    <tr>\n",
       "      <th>8</th>\n",
       "      <td>Dallas</td>\n",
       "    </tr>\n",
       "    <tr>\n",
       "      <th>9</th>\n",
       "      <td>San Jose</td>\n",
       "    </tr>\n",
       "    <tr>\n",
       "      <th>10</th>\n",
       "      <td>Austin</td>\n",
       "    </tr>\n",
       "    <tr>\n",
       "      <th>11</th>\n",
       "      <td>Jacksonville</td>\n",
       "    </tr>\n",
       "    <tr>\n",
       "      <th>12</th>\n",
       "      <td>San Francisco</td>\n",
       "    </tr>\n",
       "    <tr>\n",
       "      <th>13</th>\n",
       "      <td>Indianapolis</td>\n",
       "    </tr>\n",
       "    <tr>\n",
       "      <th>14</th>\n",
       "      <td>Columbus</td>\n",
       "    </tr>\n",
       "    <tr>\n",
       "      <th>15</th>\n",
       "      <td>Fort Worth</td>\n",
       "    </tr>\n",
       "    <tr>\n",
       "      <th>16</th>\n",
       "      <td>Charlotte</td>\n",
       "    </tr>\n",
       "    <tr>\n",
       "      <th>17</th>\n",
       "      <td>Detroit</td>\n",
       "    </tr>\n",
       "    <tr>\n",
       "      <th>18</th>\n",
       "      <td>El Paso</td>\n",
       "    </tr>\n",
       "    <tr>\n",
       "      <th>19</th>\n",
       "      <td>Seattle</td>\n",
       "    </tr>\n",
       "  </tbody>\n",
       "</table>\n",
       "</div>"
      ],
      "text/plain": [
       "                0\n",
       "0        New York\n",
       "1     Los Angeles\n",
       "2         Chicago\n",
       "3         Houston\n",
       "4    Philadelphia\n",
       "5         Phoenix\n",
       "6     San Antonio\n",
       "7       San Diego\n",
       "8          Dallas\n",
       "9        San Jose\n",
       "10         Austin\n",
       "11   Jacksonville\n",
       "12  San Francisco\n",
       "13   Indianapolis\n",
       "14       Columbus\n",
       "15     Fort Worth\n",
       "16      Charlotte\n",
       "17        Detroit\n",
       "18        El Paso\n",
       "19        Seattle"
      ]
     },
     "execution_count": 18,
     "metadata": {},
     "output_type": "execute_result"
    }
   ],
   "source": [
    "cities.head(20)"
   ]
  },
  {
   "cell_type": "markdown",
   "metadata": {},
   "source": [
    "<img src=\"http://imgur.com/xDpSobf.png\" style=\"float: left; margin: 25px 15px 0px 0px; height: 25px\">\n",
    "\n",
    "## 1.2 Only retain cities with properly formed ASCII\n",
    "\n",
    "Optionally, filter out any cities with impropper ASCII characters.  A smaller list will be easier to look at.  However you may not need to filter these if you spend more time scraping a more concise city list.  This list should help you narrow down the list of regional Craigslist sites."
   ]
  },
  {
   "cell_type": "code",
   "execution_count": 2,
   "metadata": {
    "collapsed": true
   },
   "outputs": [],
   "source": [
    "# ONLY RETAIN PROPERLY FORMED CITIES WITH FILTERING FUNCTION\n"
   ]
  },
  {
   "cell_type": "markdown",
   "metadata": {},
   "source": [
    "<img src=\"http://imgur.com/l5NasQj.png\" style=\"float: left; margin: 25px 15px 0px 0px; height: 25px\">\n",
    "\n",
    "## 2.  Write a function to capture current pricing information via Craigslist in one city.\n",
    "Choose a city from your scraped data, then go to the cooresponding city section on Craigslist, searching for \"rv\" in the auto section.  Write a method that pulls out the prices."
   ]
  },
  {
   "cell_type": "code",
   "execution_count": 16,
   "metadata": {
    "collapsed": false
   },
   "outputs": [],
   "source": [
    "# Choosing San Francisco\n",
    "response = requests.get('https://sfbay.craigslist.org/search/sss?sort=rel&query=rv')\n",
    "HTML = response.text\n",
    "\n",
    "sf_price_path = Selector(text=HTML).xpath(\"//span[@class='l2']/span[@class='price']/text()\").extract()\n",
    "sf_price = pd.DataFrame(sf_price_path)"
   ]
  },
  {
   "cell_type": "code",
   "execution_count": 17,
   "metadata": {
    "collapsed": false
   },
   "outputs": [
    {
     "data": {
      "text/html": [
       "<div>\n",
       "<table border=\"1\" class=\"dataframe\">\n",
       "  <thead>\n",
       "    <tr style=\"text-align: right;\">\n",
       "      <th></th>\n",
       "      <th>0</th>\n",
       "    </tr>\n",
       "  </thead>\n",
       "  <tbody>\n",
       "    <tr>\n",
       "      <th>0</th>\n",
       "      <td>$10500</td>\n",
       "    </tr>\n",
       "    <tr>\n",
       "      <th>1</th>\n",
       "      <td>$2275</td>\n",
       "    </tr>\n",
       "    <tr>\n",
       "      <th>2</th>\n",
       "      <td>$9999</td>\n",
       "    </tr>\n",
       "    <tr>\n",
       "      <th>3</th>\n",
       "      <td>$27922</td>\n",
       "    </tr>\n",
       "    <tr>\n",
       "      <th>4</th>\n",
       "      <td>$58</td>\n",
       "    </tr>\n",
       "  </tbody>\n",
       "</table>\n",
       "</div>"
      ],
      "text/plain": [
       "        0\n",
       "0  $10500\n",
       "1   $2275\n",
       "2   $9999\n",
       "3  $27922\n",
       "4     $58"
      ]
     },
     "execution_count": 17,
     "metadata": {},
     "output_type": "execute_result"
    }
   ],
   "source": [
    "sf_price.head()"
   ]
  },
  {
   "cell_type": "markdown",
   "metadata": {},
   "source": [
    "<img src=\"http://imgur.com/l5NasQj.png\" style=\"float: left; margin: 25px 15px 0px 0px; height: 25px\">\n",
    "\n",
    "## 2.1 Create a mapping of cities to cooresponding regional Craigslist URLs\n",
    "\n",
    "Major US cities on Craigslist typically have their own cooresponding section (ie: SFBay Area, NYC, Boston, Miami, Seattle, etc).  Later, you will use these to query search results for various metropolitian regions listed on Craigslist.  Between the major metropolitan Craigslist sites, the only thing that will differ is the URL's that correspond to them.\n",
    "\n",
    "The point of the \"mapping\":  Create a data structure that allows you to iterate with both the name of the city from Wikipedia, with the cooresponding variable that that will allow you to construct each craigslist URL for each region.\n",
    "\n",
    "> For San Francsico (the Bay Area metropolitan area), the url for the RV search result is:\n",
    "> http://sfbay.craigslist.org/search/sss?query=rv\n",
    ">\n",
    "> The convention is http://[region].craigslist.org/search/sss?query=rf\n",
    "> Replacing [region] with the cooresponding city name will allow you to quickly iterate through each regional Craigslist site, and scrape the prices from the search results.  Keep this in mind while you build this \"mapping\".\n"
   ]
  },
  {
   "cell_type": "code",
   "execution_count": 46,
   "metadata": {
    "collapsed": false
   },
   "outputs": [
    {
     "name": "stdout",
     "output_type": "stream",
     "text": [
      "http://newyork.craigslist.org/search/sss?query=rv\n",
      "http://losangeles.craigslist.org/search/sss?query=rv\n",
      "http://chicago.craigslist.org/search/sss?query=rv\n",
      "http://houston.craigslist.org/search/sss?query=rv\n",
      "http://philadelphia.craigslist.org/search/sss?query=rv\n",
      "http://phoenix.craigslist.org/search/sss?query=rv\n",
      "http://sanantonio.craigslist.org/search/sss?query=rv\n",
      "http://sandiego.craigslist.org/search/sss?query=rv\n",
      "http://dallas.craigslist.org/search/sss?query=rv\n",
      "http://sfbay.craigslist.org/search/sss?query=rv\n"
     ]
    }
   ],
   "source": [
    "target_cities = ['newyork', 'losangeles', 'chicago', 'houston', 'philadelphia', 'phoenix', 'sanantonio', 'sandiego',\n",
    "                'dallas', 'sfbay']\n",
    "\n",
    "for city in target_cities:\n",
    "    print 'http://%s.craigslist.org/search/sss?query=rv' %(city)\n",
    "    path = 'http://%s.craigslist.org/search/sss?query=rv' %(city)\n",
    "    response = requests.get(path)\n",
    "    HTML = response.text"
   ]
  },
  {
   "cell_type": "markdown",
   "metadata": {},
   "source": [
    "<img src=\"http://imgur.com/l5NasQj.png\" style=\"float: left; margin: 25px 15px 0px 0px; height: 25px\">\n",
    "\n",
    "## 3. Define a function to caculate mean and median price per city.\n",
    "\n",
    "Now that you've created a list of cities you want to scrape, adapt your solution for grabbing data in one region site, to grab data for all regional sites that you collected, then calculate the mean and median price of RV results from each city.\n",
    "\n",
    "> Look at the URLs from a few different regions (ie: portland, phoenix, sfbay), and find what they have in common.  Determine the area in the URL string that needs to change the least, and figure out how to replace only that portion of the URL in order to iterate through each city."
   ]
  },
  {
   "cell_type": "code",
   "execution_count": 47,
   "metadata": {
    "collapsed": false,
    "scrolled": true
   },
   "outputs": [
    {
     "name": "stdout",
     "output_type": "stream",
     "text": [
      "{'city': ['newyork', 'losangeles', 'chicago', 'houston', 'philadelphia', 'phoenix', 'sanantonio', 'sandiego', 'dallas', 'sfbay'], 'median': [1500.0, 9750.0, 300.0, 25643.0, 3000.0, 26465.0, 25489.0, 532.5, 18994.5, 19999.0], 'mean': [11336.10843373494, 46630.844444444447, 9108.3934426229516, 31111.066666666666, 19727.244444444445, 30103.032608695652, 34634.625, 19446.657894736843, 23342.56818181818, 27024.052631578947]}\n"
     ]
    }
   ],
   "source": [
    "city_dict = {}\n",
    "city_dict['city'] = []\n",
    "city_dict['mean'] = []\n",
    "city_dict['median'] = []\n",
    "\n",
    "for city in target_cities:\n",
    "#     print 'http://%s.craigslist.org/search/sss?query=rv' %(city)\n",
    "    path = 'http://%s.craigslist.org/search/sss?query=rv' %(city)\n",
    "    response = requests.get(path)\n",
    "    HTML = response.text\n",
    "    rv_price = Selector(text=HTML).xpath('//span[@class=\"l2\"]/span[@class=\"price\"]/text()').extract()\n",
    "    \n",
    "    rv_price_clean = []\n",
    "    for price in rv_price:\n",
    "        clean_price = int(price.replace('$', ''))\n",
    "        rv_price_clean.append(clean_price)\n",
    "#     print rv_price_clean\n",
    "    city_dict['city'].append(city)\n",
    "    city_dict['mean'].append(np.mean(rv_price_clean))\n",
    "    city_dict['median'].append(np.median(rv_price_clean))\n",
    "print city_dict"
   ]
  },
  {
   "cell_type": "code",
   "execution_count": 49,
   "metadata": {
    "collapsed": false,
    "scrolled": true
   },
   "outputs": [
    {
     "data": {
      "text/html": [
       "<div>\n",
       "<table border=\"1\" class=\"dataframe\">\n",
       "  <thead>\n",
       "    <tr style=\"text-align: right;\">\n",
       "      <th></th>\n",
       "      <th>city</th>\n",
       "      <th>mean</th>\n",
       "      <th>median</th>\n",
       "    </tr>\n",
       "  </thead>\n",
       "  <tbody>\n",
       "    <tr>\n",
       "      <th>0</th>\n",
       "      <td>newyork</td>\n",
       "      <td>11336.108434</td>\n",
       "      <td>1500.0</td>\n",
       "    </tr>\n",
       "    <tr>\n",
       "      <th>1</th>\n",
       "      <td>losangeles</td>\n",
       "      <td>46630.844444</td>\n",
       "      <td>9750.0</td>\n",
       "    </tr>\n",
       "    <tr>\n",
       "      <th>2</th>\n",
       "      <td>chicago</td>\n",
       "      <td>9108.393443</td>\n",
       "      <td>300.0</td>\n",
       "    </tr>\n",
       "    <tr>\n",
       "      <th>3</th>\n",
       "      <td>houston</td>\n",
       "      <td>31111.066667</td>\n",
       "      <td>25643.0</td>\n",
       "    </tr>\n",
       "    <tr>\n",
       "      <th>4</th>\n",
       "      <td>philadelphia</td>\n",
       "      <td>19727.244444</td>\n",
       "      <td>3000.0</td>\n",
       "    </tr>\n",
       "    <tr>\n",
       "      <th>5</th>\n",
       "      <td>phoenix</td>\n",
       "      <td>30103.032609</td>\n",
       "      <td>26465.0</td>\n",
       "    </tr>\n",
       "    <tr>\n",
       "      <th>6</th>\n",
       "      <td>sanantonio</td>\n",
       "      <td>34634.625000</td>\n",
       "      <td>25489.0</td>\n",
       "    </tr>\n",
       "    <tr>\n",
       "      <th>7</th>\n",
       "      <td>sandiego</td>\n",
       "      <td>19446.657895</td>\n",
       "      <td>532.5</td>\n",
       "    </tr>\n",
       "    <tr>\n",
       "      <th>8</th>\n",
       "      <td>dallas</td>\n",
       "      <td>23342.568182</td>\n",
       "      <td>18994.5</td>\n",
       "    </tr>\n",
       "    <tr>\n",
       "      <th>9</th>\n",
       "      <td>sfbay</td>\n",
       "      <td>27024.052632</td>\n",
       "      <td>19999.0</td>\n",
       "    </tr>\n",
       "  </tbody>\n",
       "</table>\n",
       "</div>"
      ],
      "text/plain": [
       "           city          mean   median\n",
       "0       newyork  11336.108434   1500.0\n",
       "1    losangeles  46630.844444   9750.0\n",
       "2       chicago   9108.393443    300.0\n",
       "3       houston  31111.066667  25643.0\n",
       "4  philadelphia  19727.244444   3000.0\n",
       "5       phoenix  30103.032609  26465.0\n",
       "6    sanantonio  34634.625000  25489.0\n",
       "7      sandiego  19446.657895    532.5\n",
       "8        dallas  23342.568182  18994.5\n",
       "9         sfbay  27024.052632  19999.0"
      ]
     },
     "execution_count": 49,
     "metadata": {},
     "output_type": "execute_result"
    }
   ],
   "source": [
    "rv_data = pd.DataFrame(city_dict)\n",
    "rv_data"
   ]
  },
  {
   "cell_type": "code",
   "execution_count": 50,
   "metadata": {
    "collapsed": false,
    "scrolled": true
   },
   "outputs": [
    {
     "name": "stdout",
     "output_type": "stream",
     "text": [
      "{'city': ['newyork', 'newyork', 'newyork', 'newyork', 'newyork', 'newyork', 'newyork', 'newyork', 'newyork', 'newyork', 'newyork', 'newyork', 'newyork', 'newyork', 'newyork', 'newyork', 'newyork', 'newyork', 'newyork', 'newyork', 'newyork', 'newyork', 'newyork', 'newyork', 'newyork', 'newyork', 'newyork', 'newyork', 'newyork', 'newyork', 'newyork', 'newyork', 'newyork', 'newyork', 'newyork', 'newyork', 'newyork', 'newyork', 'newyork', 'newyork', 'newyork', 'newyork', 'newyork', 'newyork', 'newyork', 'newyork', 'newyork', 'newyork', 'newyork', 'newyork', 'newyork', 'newyork', 'newyork', 'newyork', 'newyork', 'newyork', 'newyork', 'newyork', 'newyork', 'newyork', 'newyork', 'newyork', 'newyork', 'newyork', 'newyork', 'newyork', 'newyork', 'newyork', 'newyork', 'newyork', 'newyork', 'newyork', 'newyork', 'newyork', 'newyork', 'newyork', 'newyork', 'newyork', 'newyork', 'newyork', 'newyork', 'newyork', 'newyork', 'losangeles', 'losangeles', 'losangeles', 'losangeles', 'losangeles', 'losangeles', 'losangeles', 'losangeles', 'losangeles', 'losangeles', 'losangeles', 'losangeles', 'losangeles', 'losangeles', 'losangeles', 'losangeles', 'losangeles', 'losangeles', 'losangeles', 'losangeles', 'losangeles', 'losangeles', 'losangeles', 'losangeles', 'losangeles', 'losangeles', 'losangeles', 'losangeles', 'losangeles', 'losangeles', 'losangeles', 'losangeles', 'losangeles', 'losangeles', 'losangeles', 'losangeles', 'losangeles', 'losangeles', 'losangeles', 'losangeles', 'losangeles', 'losangeles', 'losangeles', 'losangeles', 'losangeles', 'losangeles', 'losangeles', 'losangeles', 'losangeles', 'losangeles', 'losangeles', 'losangeles', 'losangeles', 'losangeles', 'losangeles', 'losangeles', 'losangeles', 'losangeles', 'losangeles', 'losangeles', 'losangeles', 'losangeles', 'losangeles', 'losangeles', 'losangeles', 'losangeles', 'losangeles', 'losangeles', 'losangeles', 'losangeles', 'losangeles', 'losangeles', 'losangeles', 'losangeles', 'losangeles', 'losangeles', 'losangeles', 'losangeles', 'losangeles', 'losangeles', 'losangeles', 'losangeles', 'losangeles', 'losangeles', 'losangeles', 'losangeles', 'losangeles', 'losangeles', 'losangeles', 'losangeles', 'chicago', 'chicago', 'chicago', 'chicago', 'chicago', 'chicago', 'chicago', 'chicago', 'chicago', 'chicago', 'chicago', 'chicago', 'chicago', 'chicago', 'chicago', 'chicago', 'chicago', 'chicago', 'chicago', 'chicago', 'chicago', 'chicago', 'chicago', 'chicago', 'chicago', 'chicago', 'chicago', 'chicago', 'chicago', 'chicago', 'chicago', 'chicago', 'chicago', 'chicago', 'chicago', 'chicago', 'chicago', 'chicago', 'chicago', 'chicago', 'chicago', 'chicago', 'chicago', 'chicago', 'chicago', 'chicago', 'chicago', 'chicago', 'chicago', 'chicago', 'chicago', 'chicago', 'chicago', 'chicago', 'chicago', 'chicago', 'chicago', 'chicago', 'chicago', 'chicago', 'chicago', 'houston', 'houston', 'houston', 'houston', 'houston', 'houston', 'houston', 'houston', 'houston', 'houston', 'houston', 'houston', 'houston', 'houston', 'houston', 'philadelphia', 'philadelphia', 'philadelphia', 'philadelphia', 'philadelphia', 'philadelphia', 'philadelphia', 'philadelphia', 'philadelphia', 'philadelphia', 'philadelphia', 'philadelphia', 'philadelphia', 'philadelphia', 'philadelphia', 'philadelphia', 'philadelphia', 'philadelphia', 'philadelphia', 'philadelphia', 'philadelphia', 'philadelphia', 'philadelphia', 'philadelphia', 'philadelphia', 'philadelphia', 'philadelphia', 'philadelphia', 'philadelphia', 'philadelphia', 'philadelphia', 'philadelphia', 'philadelphia', 'philadelphia', 'philadelphia', 'philadelphia', 'philadelphia', 'philadelphia', 'philadelphia', 'philadelphia', 'philadelphia', 'philadelphia', 'philadelphia', 'philadelphia', 'philadelphia', 'philadelphia', 'philadelphia', 'philadelphia', 'philadelphia', 'philadelphia', 'philadelphia', 'philadelphia', 'philadelphia', 'philadelphia', 'philadelphia', 'philadelphia', 'philadelphia', 'philadelphia', 'philadelphia', 'philadelphia', 'philadelphia', 'philadelphia', 'philadelphia', 'philadelphia', 'philadelphia', 'philadelphia', 'philadelphia', 'philadelphia', 'philadelphia', 'philadelphia', 'philadelphia', 'philadelphia', 'philadelphia', 'philadelphia', 'philadelphia', 'philadelphia', 'philadelphia', 'philadelphia', 'philadelphia', 'philadelphia', 'philadelphia', 'philadelphia', 'philadelphia', 'philadelphia', 'philadelphia', 'philadelphia', 'philadelphia', 'philadelphia', 'philadelphia', 'philadelphia', 'phoenix', 'phoenix', 'phoenix', 'phoenix', 'phoenix', 'phoenix', 'phoenix', 'phoenix', 'phoenix', 'phoenix', 'phoenix', 'phoenix', 'phoenix', 'phoenix', 'phoenix', 'phoenix', 'phoenix', 'phoenix', 'phoenix', 'phoenix', 'phoenix', 'phoenix', 'phoenix', 'phoenix', 'phoenix', 'phoenix', 'phoenix', 'phoenix', 'phoenix', 'phoenix', 'phoenix', 'phoenix', 'phoenix', 'phoenix', 'phoenix', 'phoenix', 'phoenix', 'phoenix', 'phoenix', 'phoenix', 'phoenix', 'phoenix', 'phoenix', 'phoenix', 'phoenix', 'phoenix', 'phoenix', 'phoenix', 'phoenix', 'phoenix', 'phoenix', 'phoenix', 'phoenix', 'phoenix', 'phoenix', 'phoenix', 'phoenix', 'phoenix', 'phoenix', 'phoenix', 'phoenix', 'phoenix', 'phoenix', 'phoenix', 'phoenix', 'phoenix', 'phoenix', 'phoenix', 'phoenix', 'phoenix', 'phoenix', 'phoenix', 'phoenix', 'phoenix', 'phoenix', 'phoenix', 'phoenix', 'phoenix', 'phoenix', 'phoenix', 'phoenix', 'phoenix', 'phoenix', 'phoenix', 'phoenix', 'phoenix', 'phoenix', 'phoenix', 'phoenix', 'phoenix', 'phoenix', 'phoenix', 'sanantonio', 'sanantonio', 'sanantonio', 'sanantonio', 'sanantonio', 'sanantonio', 'sanantonio', 'sanantonio', 'sanantonio', 'sanantonio', 'sanantonio', 'sanantonio', 'sanantonio', 'sanantonio', 'sanantonio', 'sanantonio', 'sandiego', 'sandiego', 'sandiego', 'sandiego', 'sandiego', 'sandiego', 'sandiego', 'sandiego', 'sandiego', 'sandiego', 'sandiego', 'sandiego', 'sandiego', 'sandiego', 'sandiego', 'sandiego', 'sandiego', 'sandiego', 'sandiego', 'sandiego', 'sandiego', 'sandiego', 'sandiego', 'sandiego', 'sandiego', 'sandiego', 'sandiego', 'sandiego', 'sandiego', 'sandiego', 'sandiego', 'sandiego', 'sandiego', 'sandiego', 'sandiego', 'sandiego', 'sandiego', 'sandiego', 'sandiego', 'sandiego', 'sandiego', 'sandiego', 'sandiego', 'sandiego', 'sandiego', 'sandiego', 'sandiego', 'sandiego', 'sandiego', 'sandiego', 'sandiego', 'sandiego', 'sandiego', 'sandiego', 'sandiego', 'sandiego', 'sandiego', 'sandiego', 'sandiego', 'sandiego', 'sandiego', 'sandiego', 'sandiego', 'sandiego', 'sandiego', 'sandiego', 'sandiego', 'sandiego', 'sandiego', 'sandiego', 'sandiego', 'sandiego', 'sandiego', 'sandiego', 'sandiego', 'sandiego', 'dallas', 'dallas', 'dallas', 'dallas', 'dallas', 'dallas', 'dallas', 'dallas', 'dallas', 'dallas', 'dallas', 'dallas', 'dallas', 'dallas', 'dallas', 'dallas', 'dallas', 'dallas', 'dallas', 'dallas', 'dallas', 'dallas', 'dallas', 'dallas', 'dallas', 'dallas', 'dallas', 'dallas', 'dallas', 'dallas', 'dallas', 'dallas', 'dallas', 'dallas', 'dallas', 'dallas', 'dallas', 'dallas', 'dallas', 'dallas', 'dallas', 'dallas', 'dallas', 'dallas', 'sfbay', 'sfbay', 'sfbay', 'sfbay', 'sfbay', 'sfbay', 'sfbay', 'sfbay', 'sfbay', 'sfbay', 'sfbay', 'sfbay', 'sfbay', 'sfbay', 'sfbay', 'sfbay', 'sfbay', 'sfbay', 'sfbay', 'sfbay', 'sfbay', 'sfbay', 'sfbay', 'sfbay', 'sfbay', 'sfbay', 'sfbay', 'sfbay', 'sfbay', 'sfbay', 'sfbay', 'sfbay', 'sfbay', 'sfbay', 'sfbay', 'sfbay', 'sfbay', 'sfbay', 'sfbay', 'sfbay', 'sfbay', 'sfbay', 'sfbay', 'sfbay', 'sfbay', 'sfbay', 'sfbay', 'sfbay', 'sfbay', 'sfbay', 'sfbay', 'sfbay', 'sfbay', 'sfbay', 'sfbay', 'sfbay', 'sfbay'], 'price': [3000, 38500, 5800, 115, 55000, 310, 310, 1095, 15500, 1700, 60, 24306, 5500, 14000, 14000, 1, 7500, 2000, 85, 8900, 1050, 1700, 200, 325, 10, 1500, 1500, 1500, 1500, 1500, 11400, 425, 425, 2500, 20, 1500, 30350, 1500, 1500, 1500, 135000, 10, 4995, 425, 2300, 1500, 1, 1, 1, 1500, 2000, 950, 1, 9995, 8700, 2005, 4000, 30000, 425000, 125, 2000, 17500, 2000, 15, 325, 50, 10700, 6750, 4000, 2000, 2314, 2300, 100, 2000, 2, 1, 150, 99, 99, 99, 99, 99, 99, 9500, 19899, 2900, 375, 44995, 16000, 61999, 145, 145, 63999, 39999, 20999, 24999, 47999, 21999, 19999, 15999, 24999, 750, 750, 84995, 94995, 3400, 20999, 24999, 66999, 69999, 19999, 63999, 84995, 94995, 84995, 94995, 4500, 74990, 15995, 94995, 84995, 84995, 94995, 315, 272, 36900, 42500, 32900, 205, 245, 31900, 205, 397, 84995, 94995, 100, 600, 600, 395, 600, 395, 200, 75, 75, 75, 75, 4800, 10000, 120, 12750, 1000000, 1495, 3800, 3800, 75, 80, 8995, 85, 1, 4000, 1000000, 450, 400, 375, 320, 3289, 70, 29900, 29900, 29900, 3289, 15500, 85, 50, 265, 35, 175, 55, 7000, 700, 14500, 135, 100, 2860, 375, 1, 11900, 22000, 76999, 3000, 15, 300, 450, 2000, 20, 400, 110, 8600, 19995, 47, 73, 50, 80, 95000, 49900, 50, 12450, 60, 1, 12450, 12450, 12450, 400, 24, 49900, 124, 66600, 14850, 14850, 25, 1, 1, 1, 200, 1000, 6500, 11500, 275, 90, 19500, 10, 60, 2500, 100, 26235, 89824, 24897, 25643, 87348, 36653, 25871, 18987, 29935, 34995, 17995, 12988, 16900, 400, 17995, 303900, 3000, 29999, 11000, 304900, 50, 19999, 23014, 7500, 3000, 21800, 2500, 30, 1, 29995, 25, 1, 16800, 14800, 200, 8500, 250, 5500, 79950, 5995, 12600, 100, 3500, 49999, 25, 1, 1, 1, 2000, 24500, 3500, 2000, 69800, 28800, 90, 2300, 18000, 1, 2500, 45, 45, 497, 5995, 15000, 1999, 3000, 497, 28900, 28900, 19800, 6895, 49800, 19800, 950, 900, 3000, 15, 15500, 997, 150, 2000, 175, 5995, 67500, 497, 70, 75, 150, 305, 20, 997, 100, 3835, 497, 304900, 7500, 7500, 950, 5549, 10500, 25000, 10000, 250, 475, 5500, 18995, 26465, 25000, 14995, 18995, 15995, 14995, 37445, 56900, 32543, 55195, 35869, 35519, 39282, 6500, 13500, 15995, 84995, 45365, 80, 19500, 33995, 64910, 27589, 26465, 100, 16900, 37445, 25500, 25995, 24500, 26465, 37445, 49956, 39995, 15000, 37445, 18995, 26465, 89950, 49956, 37445, 15995, 37445, 45000, 48995, 37445, 18995, 37445, 15995, 49956, 49956, 599, 599, 33188, 23888, 26465, 23900, 18995, 26465, 26995, 5700, 21900, 24888, 23900, 15995, 24930, 49956, 37445, 64910, 26465, 64910, 37445, 49956, 64000, 15995, 18995, 37445, 27900, 18995, 64910, 41900, 26465, 31900, 36500, 272, 272, 245, 205, 315, 32900, 36900, 21988, 12995, 26235, 89824, 24983, 87348, 22898, 84995, 12988, 16900, 25995, 19995, 34995, 14125, 25995, 31895, 17500, 17500, 17500, 17500, 17500, 14500, 29500, 29500, 25, 25, 25, 25, 125, 84995, 94995, 84995, 94995, 94995, 84995, 84995, 94995, 50, 84995, 12, 1400, 50, 700, 200, 600, 94995, 600, 75, 75, 75, 465, 17500, 5000, 5000, 180, 1, 160, 8500, 8500, 30000, 315, 6500, 130, 245, 245, 20, 20, 20, 45, 50, 50, 50, 74580, 21500, 19995, 129, 89, 145, 229, 160, 180, 115, 94995, 84995, 250, 8500, 2808, 2808, 160, 18000, 150, 150, 25987, 24500, 15500, 16900, 8, 10, 19440, 10500, 28500, 23995, 18995, 15995, 46995, 19995, 14995, 19995, 15995, 46995, 19995, 46995, 14995, 15995, 46995, 39900, 12988, 14995, 27988, 8, 18994, 9995, 19995, 15995, 46995, 46995, 15995, 46995, 14995, 46995, 19995, 15995, 9995, 14995, 59995, 15995, 99, 8995, 9999, 10500, 2275, 9999, 27922, 58, 32400, 112, 25950, 14900, 275, 11500, 10500, 11500, 61999, 49999, 49999, 48999, 19999, 45, 63999, 20999, 48999, 15999, 24999, 94995, 84995, 36999, 17999, 36999, 17999, 36999, 94995, 44995, 23995, 238, 205, 27900, 32900, 36500, 42500, 36900, 205, 31900, 205, 84995, 94995, 11500, 12000, 400, 30000, 14900, 189, 50, 7900]}\n"
     ]
    }
   ],
   "source": [
    "#\n",
    "\n",
    "city_dict2 = {}\n",
    "city_dict2['city'] = []\n",
    "city_dict2['price'] = []\n",
    "\n",
    "\n",
    "for city in target_cities:\n",
    "#     print 'http://%s.craigslist.org/search/sss?query=rv' %(city)\n",
    "    path = 'http://%s.craigslist.org/search/sss?query=rv' %(city)\n",
    "    response = requests.get(path)\n",
    "    HTML = response.text\n",
    "    rv_price = Selector(text=HTML).xpath('//span[@class=\"l2\"]/span[@class=\"price\"]/text()').extract()\n",
    "    \n",
    "    rv_price_clean = []\n",
    "    for price in rv_price:\n",
    "        clean_price = int(price.replace('$', ''))\n",
    "        rv_price_clean.append(clean_price)\n",
    "        city_dict2['city'].append(city)\n",
    "        city_dict2['price'].append(clean_price)\n",
    "#     print rv_price_clean\n",
    "   \n",
    "print city_dict2"
   ]
  },
  {
   "cell_type": "code",
   "execution_count": 51,
   "metadata": {
    "collapsed": false
   },
   "outputs": [
    {
     "data": {
      "text/html": [
       "<div>\n",
       "<table border=\"1\" class=\"dataframe\">\n",
       "  <thead>\n",
       "    <tr style=\"text-align: right;\">\n",
       "      <th></th>\n",
       "      <th>city</th>\n",
       "      <th>price</th>\n",
       "    </tr>\n",
       "  </thead>\n",
       "  <tbody>\n",
       "    <tr>\n",
       "      <th>0</th>\n",
       "      <td>newyork</td>\n",
       "      <td>3000</td>\n",
       "    </tr>\n",
       "    <tr>\n",
       "      <th>1</th>\n",
       "      <td>newyork</td>\n",
       "      <td>38500</td>\n",
       "    </tr>\n",
       "    <tr>\n",
       "      <th>2</th>\n",
       "      <td>newyork</td>\n",
       "      <td>5800</td>\n",
       "    </tr>\n",
       "    <tr>\n",
       "      <th>3</th>\n",
       "      <td>newyork</td>\n",
       "      <td>115</td>\n",
       "    </tr>\n",
       "    <tr>\n",
       "      <th>4</th>\n",
       "      <td>newyork</td>\n",
       "      <td>55000</td>\n",
       "    </tr>\n",
       "    <tr>\n",
       "      <th>5</th>\n",
       "      <td>newyork</td>\n",
       "      <td>310</td>\n",
       "    </tr>\n",
       "    <tr>\n",
       "      <th>6</th>\n",
       "      <td>newyork</td>\n",
       "      <td>310</td>\n",
       "    </tr>\n",
       "    <tr>\n",
       "      <th>7</th>\n",
       "      <td>newyork</td>\n",
       "      <td>1095</td>\n",
       "    </tr>\n",
       "    <tr>\n",
       "      <th>8</th>\n",
       "      <td>newyork</td>\n",
       "      <td>15500</td>\n",
       "    </tr>\n",
       "    <tr>\n",
       "      <th>9</th>\n",
       "      <td>newyork</td>\n",
       "      <td>1700</td>\n",
       "    </tr>\n",
       "    <tr>\n",
       "      <th>10</th>\n",
       "      <td>newyork</td>\n",
       "      <td>60</td>\n",
       "    </tr>\n",
       "    <tr>\n",
       "      <th>11</th>\n",
       "      <td>newyork</td>\n",
       "      <td>24306</td>\n",
       "    </tr>\n",
       "    <tr>\n",
       "      <th>12</th>\n",
       "      <td>newyork</td>\n",
       "      <td>5500</td>\n",
       "    </tr>\n",
       "    <tr>\n",
       "      <th>13</th>\n",
       "      <td>newyork</td>\n",
       "      <td>14000</td>\n",
       "    </tr>\n",
       "    <tr>\n",
       "      <th>14</th>\n",
       "      <td>newyork</td>\n",
       "      <td>14000</td>\n",
       "    </tr>\n",
       "    <tr>\n",
       "      <th>15</th>\n",
       "      <td>newyork</td>\n",
       "      <td>1</td>\n",
       "    </tr>\n",
       "    <tr>\n",
       "      <th>16</th>\n",
       "      <td>newyork</td>\n",
       "      <td>7500</td>\n",
       "    </tr>\n",
       "    <tr>\n",
       "      <th>17</th>\n",
       "      <td>newyork</td>\n",
       "      <td>2000</td>\n",
       "    </tr>\n",
       "    <tr>\n",
       "      <th>18</th>\n",
       "      <td>newyork</td>\n",
       "      <td>85</td>\n",
       "    </tr>\n",
       "    <tr>\n",
       "      <th>19</th>\n",
       "      <td>newyork</td>\n",
       "      <td>8900</td>\n",
       "    </tr>\n",
       "  </tbody>\n",
       "</table>\n",
       "</div>"
      ],
      "text/plain": [
       "       city  price\n",
       "0   newyork   3000\n",
       "1   newyork  38500\n",
       "2   newyork   5800\n",
       "3   newyork    115\n",
       "4   newyork  55000\n",
       "5   newyork    310\n",
       "6   newyork    310\n",
       "7   newyork   1095\n",
       "8   newyork  15500\n",
       "9   newyork   1700\n",
       "10  newyork     60\n",
       "11  newyork  24306\n",
       "12  newyork   5500\n",
       "13  newyork  14000\n",
       "14  newyork  14000\n",
       "15  newyork      1\n",
       "16  newyork   7500\n",
       "17  newyork   2000\n",
       "18  newyork     85\n",
       "19  newyork   8900"
      ]
     },
     "execution_count": 51,
     "metadata": {},
     "output_type": "execute_result"
    }
   ],
   "source": [
    "rv_data2 = pd.DataFrame(city_dict2)\n",
    "rv_data2.head(20)"
   ]
  },
  {
   "cell_type": "markdown",
   "metadata": {},
   "source": [
    "<img src=\"http://imgur.com/l5NasQj.png\" style=\"float: left; margin: 25px 15px 0px 0px; height: 25px\">\n",
    "\n",
    "## 4. Run your scraping process, and save your results to a CSV file."
   ]
  },
  {
   "cell_type": "code",
   "execution_count": 52,
   "metadata": {
    "collapsed": false,
    "scrolled": true
   },
   "outputs": [],
   "source": [
    "rv_data.to_csv(path_or_buf='/Users/Divya/Desktop/DSI-SF-2-divyasusarla/Projects/rv_data.csv')"
   ]
  },
  {
   "cell_type": "code",
   "execution_count": 53,
   "metadata": {
    "collapsed": true
   },
   "outputs": [],
   "source": [
    "rv_data2.to_csv(path_or_buf='/Users/Divya/Desktop/DSI-SF-2-divyasusarla/Projects/rv_data2.csv')"
   ]
  },
  {
   "cell_type": "markdown",
   "metadata": {},
   "source": [
    "<img src=\"http://imgur.com/l5NasQj.png\" style=\"float: left; margin: 25px 15px 0px 0px; height: 25px\">\n",
    "\n",
    "## 5. Do an analysis of the RV market.\n",
    "\n",
    "Go head we'll wait.  Anything notable about the data?"
   ]
  },
  {
   "cell_type": "code",
   "execution_count": 58,
   "metadata": {
    "collapsed": false
   },
   "outputs": [
    {
     "data": {
      "text/html": [
       "<div>\n",
       "<table border=\"1\" class=\"dataframe\">\n",
       "  <thead>\n",
       "    <tr style=\"text-align: right;\">\n",
       "      <th></th>\n",
       "      <th>count</th>\n",
       "      <th>mean</th>\n",
       "      <th>std</th>\n",
       "      <th>min</th>\n",
       "      <th>25%</th>\n",
       "      <th>50%</th>\n",
       "      <th>75%</th>\n",
       "      <th>max</th>\n",
       "    </tr>\n",
       "  </thead>\n",
       "  <tbody>\n",
       "    <tr>\n",
       "      <th>price</th>\n",
       "      <td>624.0</td>\n",
       "      <td>24526.323718</td>\n",
       "      <td>65883.537947</td>\n",
       "      <td>1.0</td>\n",
       "      <td>303.75</td>\n",
       "      <td>11200.0</td>\n",
       "      <td>27905.5</td>\n",
       "      <td>1000000.0</td>\n",
       "    </tr>\n",
       "  </tbody>\n",
       "</table>\n",
       "</div>"
      ],
      "text/plain": [
       "       count          mean           std  min     25%      50%      75%  \\\n",
       "price  624.0  24526.323718  65883.537947  1.0  303.75  11200.0  27905.5   \n",
       "\n",
       "             max  \n",
       "price  1000000.0  "
      ]
     },
     "execution_count": 58,
     "metadata": {},
     "output_type": "execute_result"
    }
   ],
   "source": [
    "rv_data2.describe().T"
   ]
  },
  {
   "cell_type": "code",
   "execution_count": 71,
   "metadata": {
    "collapsed": false
   },
   "outputs": [
    {
     "data": {
      "text/plain": [
       "<matplotlib.axes._subplots.AxesSubplot at 0x116d9cbd0>"
      ]
     },
     "execution_count": 71,
     "metadata": {},
     "output_type": "execute_result"
    },
    {
     "data": {
      "image/png": "[encoded data removed]",
      "text/plain": [
       "<matplotlib.figure.Figure at 0x116d9cc10>"
      ]
     },
     "metadata": {},
     "output_type": "display_data"
    }
   ],
   "source": [
    "fig = plt.figure(figsize=(15,5))\n",
    "ax = fig.gca()\n",
    "\n",
    "rv_data2.groupby('city')[['price']].sum().sort_values('price', ascending=False).plot.bar(stacked=False, ax=ax)"
   ]
  },
  {
   "cell_type": "code",
   "execution_count": 68,
   "metadata": {
    "collapsed": false
   },
   "outputs": [
    {
     "data": {
      "text/plain": [
       "[<matplotlib.text.Text at 0x1168cad10>,\n",
       " <matplotlib.text.Text at 0x1168d5890>,\n",
       " <matplotlib.text.Text at 0x1169b9bd0>,\n",
       " <matplotlib.text.Text at 0x1169c4390>,\n",
       " <matplotlib.text.Text at 0x1169c4b10>,\n",
       " <matplotlib.text.Text at 0x1169ce2d0>,\n",
       " <matplotlib.text.Text at 0x1169cea50>,\n",
       " <matplotlib.text.Text at 0x1169dd3d0>,\n",
       " <matplotlib.text.Text at 0x1169dd9d0>,\n",
       " <matplotlib.text.Text at 0x1169e7190>]"
      ]
     },
     "execution_count": 68,
     "metadata": {},
     "output_type": "execute_result"
    },
    {
     "data": {
      "image/png": "[encoded data removed]",
      "text/plain": [
       "<matplotlib.figure.Figure at 0x116620110>"
      ]
     },
     "metadata": {},
     "output_type": "display_data"
    }
   ],
   "source": [
    "fig = plt.figure(figsize=(15,5))\n",
    "ax = fig.gca()\n",
    "\n",
    "\n",
    "rv_data[['mean', 'median']].sort_values('mean', ascending=False).plot.bar(stacked=False, ax=ax)\n",
    "ax.set_xticklabels(rv_data['city'])"
   ]
  },
  {
   "cell_type": "code",
   "execution_count": 76,
   "metadata": {
    "collapsed": true
   },
   "outputs": [],
   "source": [
    "# Los Angeles appears to be the most expensive market for rv's.\n",
    "# Houston and San Antonio appear to be the least expensive."
   ]
  },
  {
   "cell_type": "markdown",
   "metadata": {
    "collapsed": true
   },
   "source": [
    "<img src=\"http://imgur.com/l5NasQj.png\" style=\"float: left; margin: 25px 15px 0px 0px; height: 25px\">\n",
    "\n",
    "### 5.1 Does it makes sense to buy RVs in one region and sell them in another?\n",
    "\n",
    "Assuming the cost of shipping or driving from one regional market to another."
   ]
  },
  {
   "cell_type": "code",
   "execution_count": null,
   "metadata": {
    "collapsed": true
   },
   "outputs": [],
   "source": [
    "# Since LA and Phoenix sell RV's at higher prices, and the mean price of rv's seems to be highest in NY,\n",
    "# it may be worth buying in the lower price markets(Dallas, San Diego) and selling in La/Phoenix/NY.\n",
    "\n",
    "# Need buyers market data, and may be worth looking at geographical data. "
   ]
  },
  {
   "cell_type": "markdown",
   "metadata": {},
   "source": [
    "<img src=\"http://imgur.com/xDpSobf.png\" style=\"float: left; margin: 25px 15px 0px 0px; height: 25px\">\n",
    "\n",
    "### 5.2 Can you pull out the \"make\" from the markup and include that in your analyis?\n",
    "How reliable is this data and does it make sense?"
   ]
  },
  {
   "cell_type": "code",
   "execution_count": null,
   "metadata": {
    "collapsed": true
   },
   "outputs": [],
   "source": []
  },
  {
   "cell_type": "markdown",
   "metadata": {},
   "source": [
    "<img src=\"http://imgur.com/xDpSobf.png\" style=\"float: left; margin: 25px 15px 0px 0px; height: 25px\">\n",
    "\n",
    "### 5.3 Are there any other variables you could pull out of the markup to help describe your dataset?"
   ]
  },
  {
   "cell_type": "code",
   "execution_count": null,
   "metadata": {
    "collapsed": true
   },
   "outputs": [],
   "source": []
  },
  {
   "cell_type": "markdown",
   "metadata": {},
   "source": [
    "<img src=\"http://imgur.com/xDpSobf.png\" style=\"float: left; margin: 25px 15px 0px 0px; height: 25px\">\n",
    "\n",
    "## 6. Move your project into scrapy (if you haven't used Scrapy yet)\n",
    "\n",
    ">Start a project by using the command `scrapy startproject [projectname]`\n",
    "> - Update your settings.py (review our past example)\n",
    "> - Update your items.py\n",
    "> - Create a spiders file in your `[project_name]/[project_name]/spiders` directory\n",
    "\n",
    "You can update your spider class with the complete list of craigslist \"start urls\" to effectively scrape all of the regions.  Start with one to test.\n",
    "\n",
    "Updating your parse method with the method you chose should require minimal changes.  It will require you to update your parse method to use the response parameter, and an item model (defined in items.py)."
   ]
  },
  {
   "cell_type": "code",
   "execution_count": null,
   "metadata": {
    "collapsed": true
   },
   "outputs": [],
   "source": []
  },
  {
   "cell_type": "markdown",
   "metadata": {},
   "source": [
    "<img src=\"http://imgur.com/GCAf1UX.png\" style=\"float: left; margin: 25px 15px 0px 0px; height: 25px\">\n",
    "\n",
    "## 7.  Chose another area of Craigslist to scrape.\n",
    "\n",
    "**Choose an area having more than a single page of results, then scrape multiple regions, multiple pages of search results and or details pages.**\n",
    "\n",
    "This is the true exercise of being able to understand how to succesffuly plan, develop, and employ a broader scraping strategy.  Even though this seems like a challenging task, a few tweeks of your current code can make this very managable if you've pieced together all the touch points.  If you are still confused as to some of the milestones within this process, this is an excellent opportunity to round out your understanding, or help you build a list of questions to fill in your gaps.\n",
    "\n",
    "_Use Scrapy!  Provide your code in this project directory when you submit this project._"
   ]
  },
  {
   "cell_type": "code",
   "execution_count": null,
   "metadata": {
    "collapsed": true
   },
   "outputs": [],
   "source": []
  }
 ],
 "metadata": {
  "anaconda-cloud": {},
  "kernelspec": {
   "display_name": "Python [dsi]",
   "language": "python",
   "name": "Python [dsi]"
  },
  "language_info": {
   "codemirror_mode": {
    "name": "ipython",
    "version": 2
   },
   "file_extension": ".py",
   "mimetype": "text/x-python",
   "name": "python",
   "nbconvert_exporter": "python",
   "pygments_lexer": "ipython2",
   "version": "2.7.12"
  }
 },
 "nbformat": 4,
 "nbformat_minor": 0
}
